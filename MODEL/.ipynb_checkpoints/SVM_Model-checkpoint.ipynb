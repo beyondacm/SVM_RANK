{
 "cells": [
  {
   "cell_type": "code",
   "execution_count": 1,
   "metadata": {
    "collapsed": false
   },
   "outputs": [],
   "source": [
    "import graphlab\n",
    "import pandas as pd\n",
    "# import matplotlib.pyplot as plt\n",
    "# %matplotlib inline"
   ]
  },
  {
   "cell_type": "code",
   "execution_count": 2,
   "metadata": {
    "collapsed": false
   },
   "outputs": [],
   "source": [
    "match_best = pd.read_csv('./SVM_Data/match_best.csv')\n",
    "match_second = pd.read_csv('./SVM_Data/match_second.csv')\n",
    "match_third = pd.read_csv('./SVM_Data/match_third.csv')\n",
    "\n",
    "non_match_best = pd.read_csv('./SVM_Data/non_match_best.csv')\n",
    "non_match_second = pd.read_csv('./SVM_Data/non_match_second.csv')\n",
    "non_match_third = pd.read_csv('./SVM_Data/non_match_third.csv')"
   ]
  },
  {
   "cell_type": "code",
   "execution_count": 3,
   "metadata": {
    "collapsed": true
   },
   "outputs": [],
   "source": [
    "# match_best > match_third \n",
    "positive01 = match_best.sub(match_third)\n",
    "# match_second < match_best\n",
    "negative01 = match_second.sub(match_best)\n",
    "\n",
    "# match_second > non_match_best\n",
    "positive02 = match_second.sub(non_match_best)\n",
    "# non_match_best < match_thrid\n",
    "negative02 = non_match_best.sub(match_third)\n",
    "\n",
    "# match_best > non_match_best\n",
    "positive03 = match_best.sub(non_match_best)\n",
    "# non_match_third < match_best\n",
    "negative03 = non_match_third.sub(match_best)\n",
    "\n",
    "# match_best > non_match_second\n",
    "positive04 = match_best.sub(non_match_second)\n",
    "# non_match_second < match_second\n",
    "negative04 = non_match_second.sub(match_second)\n",
    "\n",
    "# match_third > non_match_second\n",
    "positive05 = match_third.sub(non_match_second)\n",
    "# non_match_third < match_second\n",
    "negative05 = non_match_third.sub(match_second)"
   ]
  },
  {
   "cell_type": "code",
   "execution_count": 4,
   "metadata": {
    "collapsed": true
   },
   "outputs": [],
   "source": [
    "positive01['flag'] = 1\n",
    "positive02['flag'] = 1\n",
    "positive03['flag'] = 1\n",
    "positive04['flag'] = 1\n",
    "positive05['flag'] = 1\n",
    "\n",
    "negative01['flag'] = -1\n",
    "negative02['flag'] = -1\n",
    "negative03['flag'] = -1\n",
    "negative04['flag'] = -1\n",
    "negative05['flag'] = -1"
   ]
  },
  {
   "cell_type": "code",
   "execution_count": 5,
   "metadata": {
    "collapsed": false
   },
   "outputs": [],
   "source": [
    "dataset = pd.concat([positive01, negative01, \n",
    "                     positive02, negative02,\n",
    "                     positive03, negative03, \n",
    "                     positive04, negative04,\n",
    "                     positive05, negative05\n",
    "                    ], ignore_index=True)"
   ]
  },
  {
   "cell_type": "code",
   "execution_count": 6,
   "metadata": {
    "collapsed": false
   },
   "outputs": [],
   "source": [
    "# dataset"
   ]
  },
  {
   "cell_type": "code",
   "execution_count": 7,
   "metadata": {
    "collapsed": true
   },
   "outputs": [],
   "source": [
    "# dataset = dataset.dropna()\n",
    "dataset = dataset.fillna(0)"
   ]
  },
  {
   "cell_type": "code",
   "execution_count": 8,
   "metadata": {
    "collapsed": true
   },
   "outputs": [],
   "source": [
    "# dataset"
   ]
  },
  {
   "cell_type": "code",
   "execution_count": 9,
   "metadata": {
    "collapsed": false
   },
   "outputs": [],
   "source": [
    "dataset.to_csv('./SVM_Data/raw_data.csv', encoding='utf-8', index = False)"
   ]
  },
  {
   "cell_type": "code",
   "execution_count": 10,
   "metadata": {
    "collapsed": false
   },
   "outputs": [
    {
     "name": "stderr",
     "output_type": "stream",
     "text": [
      "2016-04-13 22:39:00,655 [INFO] graphlab.cython.cy_server, 176: GraphLab Create v1.8.5 started. Logging: /tmp/graphlab_server_1460558337.log\n"
     ]
    },
    {
     "data": {
      "text/html": [
       "<pre>Finished parsing file /Users/gaozhipeng/ML/SVM_RANK/MODEL/SVM_Data/raw_data.csv</pre>"
      ],
      "text/plain": [
       "Finished parsing file /Users/gaozhipeng/ML/SVM_RANK/MODEL/SVM_Data/raw_data.csv"
      ]
     },
     "metadata": {},
     "output_type": "display_data"
    },
    {
     "data": {
      "text/html": [
       "<pre>Parsing completed. Parsed 100 lines in 0.706397 secs.</pre>"
      ],
      "text/plain": [
       "Parsing completed. Parsed 100 lines in 0.706397 secs."
      ]
     },
     "metadata": {},
     "output_type": "display_data"
    },
    {
     "name": "stdout",
     "output_type": "stream",
     "text": [
      "This non-commercial license of GraphLab Create is assigned to beyond_acm@163.com and will expire on January 04, 2017. For commercial licensing options, visit https://dato.com/buy/.\n",
      "------------------------------------------------------"
     ]
    },
    {
     "data": {
      "text/html": [
       "<pre>Read 29244 lines. Lines per second: 27646.4</pre>"
      ],
      "text/plain": [
       "Read 29244 lines. Lines per second: 27646.4"
      ]
     },
     "metadata": {},
     "output_type": "display_data"
    },
    {
     "data": {
      "text/html": [
       "<pre>Finished parsing file /Users/gaozhipeng/ML/SVM_RANK/MODEL/SVM_Data/raw_data.csv</pre>"
      ],
      "text/plain": [
       "Finished parsing file /Users/gaozhipeng/ML/SVM_RANK/MODEL/SVM_Data/raw_data.csv"
      ]
     },
     "metadata": {},
     "output_type": "display_data"
    },
    {
     "data": {
      "text/html": [
       "<pre>Parsing completed. Parsed 33400 lines in 1.17083 secs.</pre>"
      ],
      "text/plain": [
       "Parsing completed. Parsed 33400 lines in 1.17083 secs."
      ]
     },
     "metadata": {},
     "output_type": "display_data"
    },
    {
     "name": "stdout",
     "output_type": "stream",
     "text": [
      "\n",
      "Inferred types from first line of file as \n",
      "column_type_hints=[float,float,float,float,float,float,float,float,float,float,float,float,float,float,float,float,float,float,float,float,float,float,float,float,float,float,float,float,float,float,float,float,float,float,float,float,float,float,float,float,float,float,float,float,float,float,float,float,float,float,float,float,float,float,float,float,float,float,float,float,float,float,float,float,float,float,float,float,float,float,float,float,float,float,float,float,float,float,float,float,float,float,float,float,float,float,float,float,float,float,float,float,float,float,float,float,float,float,float,float,float,float,float,float,float,float,float,float,float,float,float,float,float,float,float,float,int]\n",
      "If parsing fails due to incorrect types, you can correct\n",
      "the inferred type list above and pass it to read_csv in\n",
      "the column_type_hints argument\n",
      "------------------------------------------------------\n"
     ]
    }
   ],
   "source": [
    "raw_data = graphlab.SFrame.read_csv('./SVM_Data/raw_data.csv')"
   ]
  },
  {
   "cell_type": "code",
   "execution_count": 11,
   "metadata": {
    "collapsed": false
   },
   "outputs": [],
   "source": [
    "train_valid, test = raw_data.random_split(0.9, seed=0.3)\n",
    "train_valid_shuffled = graphlab.toolkits.cross_validation.shuffle(train_valid, random_seed=0.3)\n",
    "\n",
    "train_valid.save('./SVM_Data/Train_valid.csv', format='csv')\n",
    "test.save('./SVM_Data/Test.csv', format='csv')"
   ]
  },
  {
   "cell_type": "code",
   "execution_count": 12,
   "metadata": {
    "collapsed": false
   },
   "outputs": [],
   "source": [
    "# train_valid"
   ]
  },
  {
   "cell_type": "code",
   "execution_count": 13,
   "metadata": {
    "collapsed": false
   },
   "outputs": [
    {
     "name": "stdout",
     "output_type": "stream",
     "text": [
      "['len_answer_content', 'len_user_intro', 'len_question_content', 'user_exp', 'len_user_edu', 'num_user_interst', 'num_user_followed', 'num_question_tags', 'num_user_saved', 'num_user_thanks', 'num_user_agrees', 'num_user_helped', 'num_user_recommend', 'answer_question_overlap', 'question_uinterest_overlap', 'uinterest_answer_overlap', 's2v_0', 's2v_1', 's2v_2', 's2v_3', 's2v_4', 's2v_5', 's2v_6', 's2v_7', 's2v_8', 's2v_9', 's2v_10', 's2v_11', 's2v_12', 's2v_13', 's2v_14', 's2v_15', 's2v_16', 's2v_17', 's2v_18', 's2v_19', 's2v_20', 's2v_21', 's2v_22', 's2v_23', 's2v_24', 's2v_25', 's2v_26', 's2v_27', 's2v_28', 's2v_29', 's2v_30', 's2v_31', 's2v_32', 's2v_33', 's2v_34', 's2v_35', 's2v_36', 's2v_37', 's2v_38', 's2v_39', 's2v_40', 's2v_41', 's2v_42', 's2v_43', 's2v_44', 's2v_45', 's2v_46', 's2v_47', 's2v_48', 's2v_49', 'topic_0', 'topic_1', 'topic_2', 'topic_3', 'topic_4', 'topic_5', 'topic_6', 'topic_7', 'topic_8', 'topic_9', 'topic_10', 'topic_11', 'topic_12', 'topic_13', 'topic_14', 'topic_15', 'topic_16', 'topic_17', 'topic_18', 'topic_19', 'topic_20', 'topic_21', 'topic_22', 'topic_23', 'topic_24', 'topic_25', 'topic_26', 'topic_27', 'topic_28', 'topic_29', 'topic_30', 'topic_31', 'topic_32', 'topic_33', 'topic_34', 'topic_35', 'topic_36', 'topic_37', 'topic_38', 'topic_39', 'topic_40', 'topic_41', 'topic_42', 'topic_43', 'topic_44', 'topic_45', 'topic_46', 'topic_47', 'topic_48', 'topic_49', 'flag']\n",
      "['len_answer_content', 'len_user_intro', 'len_question_content', 'user_exp', 'len_user_edu', 'num_user_interst', 'num_user_followed', 'num_question_tags', 'num_user_saved', 'num_user_thanks', 'num_user_agrees', 'num_user_helped', 'num_user_recommend', 'answer_question_overlap', 'question_uinterest_overlap', 'uinterest_answer_overlap', 's2v_0', 's2v_1', 's2v_2', 's2v_3', 's2v_4', 's2v_5', 's2v_6', 's2v_7', 's2v_8', 's2v_9', 's2v_10', 's2v_11', 's2v_12', 's2v_13', 's2v_14', 's2v_15', 's2v_16', 's2v_17', 's2v_18', 's2v_19', 's2v_20', 's2v_21', 's2v_22', 's2v_23', 's2v_24', 's2v_25', 's2v_26', 's2v_27', 's2v_28', 's2v_29', 's2v_30', 's2v_31', 's2v_32', 's2v_33', 's2v_34', 's2v_35', 's2v_36', 's2v_37', 's2v_38', 's2v_39', 's2v_40', 's2v_41', 's2v_42', 's2v_43', 's2v_44', 's2v_45', 's2v_46', 's2v_47', 's2v_48', 's2v_49', 'topic_0', 'topic_1', 'topic_2', 'topic_3', 'topic_4', 'topic_5', 'topic_6', 'topic_7', 'topic_8', 'topic_9', 'topic_10', 'topic_11', 'topic_12', 'topic_13', 'topic_14', 'topic_15', 'topic_16', 'topic_17', 'topic_18', 'topic_19', 'topic_20', 'topic_21', 'topic_22', 'topic_23', 'topic_24', 'topic_25', 'topic_26', 'topic_27', 'topic_28', 'topic_29', 'topic_30', 'topic_31', 'topic_32', 'topic_33', 'topic_34', 'topic_35', 'topic_36', 'topic_37', 'topic_38', 'topic_39', 'topic_40', 'topic_41', 'topic_42', 'topic_43', 'topic_44', 'topic_45', 'topic_46', 'topic_47', 'topic_48', 'topic_49']\n",
      "116\n"
     ]
    }
   ],
   "source": [
    "# get all the features\n",
    "all_features = train_valid_shuffled.column_names()\n",
    "# need to pop and 'flag' \n",
    "print all_features\n",
    "all_features.pop(-1)\n",
    "print all_features\n",
    "all_features\n",
    "print len(all_features)"
   ]
  },
  {
   "cell_type": "markdown",
   "metadata": {},
   "source": [
    "# Selecting L1 penalty via the k cross validation "
   ]
  },
  {
   "cell_type": "code",
   "execution_count": 12,
   "metadata": {
    "collapsed": false
   },
   "outputs": [
    {
     "name": "stdout",
     "output_type": "stream",
     "text": [
      "0 (0, 3000)\n",
      "1 (3001, 6001)\n",
      "2 (6002, 9003)\n",
      "3 (9004, 12004)\n",
      "4 (12005, 15006)\n",
      "5 (15007, 18007)\n",
      "6 (18008, 21008)\n",
      "7 (21009, 24010)\n",
      "8 (24011, 27011)\n",
      "9 (27012, 30013)\n"
     ]
    }
   ],
   "source": [
    "n = len(train_valid_shuffled)\n",
    "k = 10 \n",
    "\n",
    "for i in xrange(k):\n",
    "    start = (n*i)/k\n",
    "    end = (n*(i+1))/k-1\n",
    "    print i, (start, end)"
   ]
  },
  {
   "cell_type": "markdown",
   "metadata": {},
   "source": [
    "After designating one of the k segments as the validation set, we train a model using the rest of the data. To choose the reaminder, we slice (0:start) && (end+1:n) of the data and paste them together. SFrame append() method can pastes together tow disjoint sets of rows originating from a common dataset."
   ]
  },
  {
   "cell_type": "code",
   "execution_count": 13,
   "metadata": {
    "collapsed": true
   },
   "outputs": [],
   "source": [
    "# implement the k-fold-cross-validation \n",
    "def k_fold_cross_validation(k, penalty, data, target, features_list):\n",
    "    sum_validation_accuracy = 0\n",
    "    n = len(data)\n",
    "    for i in xrange(k):\n",
    "        start = (n*i) / k\n",
    "        end = ( n*(i+1) ) / k\n",
    "        validation_set = data[start:end+1]\n",
    "        training_set = data[0:start].append( data[end+1:n] )\n",
    "        svm_model = graphlab.svm_classifier.create( training_set, \n",
    "                                                    target = target, \n",
    "                                                    features = features_list,\n",
    "                                                    penalty = penalty,\n",
    "                                                    validation_set = None, \n",
    "                                                    max_iterations = 20,\n",
    "                                                    verbose = False)\n",
    "        results = svm_model.evaluate(validation_set)\n",
    "        validation_acc = results['accuracy']\n",
    "        \n",
    "        sum_validation_accuracy = sum_validation_accuracy + validation_acc\n",
    "        \n",
    "    average_validation_accuracy = (sum_validation_accuracy) / k\n",
    "    return average_validation_accuracy"
   ]
  },
  {
   "cell_type": "markdown",
   "metadata": {},
   "source": [
    "We can write a loop to find the model that maximizes the average_validation_accuracy\n",
    "- For penalty in [10^1, 10^1.5, 10^2, 10^2.5, ..., 10^7]\n",
    "- Run the 10-fold corss-validation with the penalty"
   ]
  },
  {
   "cell_type": "code",
   "execution_count": 16,
   "metadata": {
    "collapsed": false
   },
   "outputs": [
    {
     "name": "stdout",
     "output_type": "stream",
     "text": [
      "penalty :0.1 accuracy:0.955500894841\n",
      "\n",
      "penalty :0.3 accuracy:0.955301050271\n",
      "\n",
      "penalty :1.0 accuracy:0.955534183782\n",
      "\n",
      "penalty :3.3 accuracy:0.955334317027\n",
      "\n",
      "penalty :10.0 accuracy:0.955334328119\n",
      "\n",
      "penalty :33.3 accuracy:0.955334328119\n",
      "\n",
      "penalty :100.0 accuracy:0.955334328119\n",
      "\n"
     ]
    }
   ],
   "source": [
    "average_validation_acc_dict = {}\n",
    "\n",
    "penalty = 0.1\n",
    "val_acc = k_fold_cross_validation(10, penalty, train_valid_shuffled, 'flag', all_features)\n",
    "print 'penalty :' + str(penalty) + ' accuracy:' + str(val_acc) + '\\n'\n",
    "average_validation_acc_dict[penalty] = val_acc\n",
    "\n",
    "penalty = 0.3\n",
    "val_acc = k_fold_cross_validation(10, penalty, train_valid_shuffled, 'flag', all_features)\n",
    "print 'penalty :' + str(penalty) + ' accuracy:' + str(val_acc) + '\\n'\n",
    "average_validation_acc_dict[penalty] = val_acc\n",
    "\n",
    "penalty = 1.0\n",
    "val_acc = k_fold_cross_validation(10, penalty, train_valid_shuffled, 'flag', all_features)\n",
    "print 'penalty :' + str(penalty) + ' accuracy:' + str(val_acc) + '\\n'\n",
    "average_validation_acc_dict[penalty] = val_acc\n",
    "\n",
    "penalty = 3.3\n",
    "val_acc = k_fold_cross_validation(10, penalty, train_valid_shuffled, 'flag', all_features)\n",
    "print 'penalty :' + str(penalty) + ' accuracy:' + str(val_acc) + '\\n'\n",
    "average_validation_acc_dict[penalty] = val_acc\n",
    "\n",
    "penalty = 10.0\n",
    "val_acc = k_fold_cross_validation(10, penalty, train_valid_shuffled, 'flag', all_features)\n",
    "print 'penalty :' + str(penalty) + ' accuracy:' + str(val_acc) + '\\n'\n",
    "average_validation_acc_dict[penalty] = val_acc\n",
    "\n",
    "penalty = 33.3\n",
    "val_acc = k_fold_cross_validation(10, penalty, train_valid_shuffled, 'flag', all_features)\n",
    "print 'penalty :' + str(penalty) + ' accuracy:' + str(val_acc) + '\\n'\n",
    "average_validation_acc_dict[penalty] = val_acc\n",
    "\n",
    "penalty = 100.0\n",
    "val_acc = k_fold_cross_validation(10, penalty, train_valid_shuffled, 'flag', all_features)\n",
    "print 'penalty :' + str(penalty) + ' accuracy:' + str(val_acc) + '\\n'\n",
    "average_validation_acc_dict[penalty] = val_acc"
   ]
  },
  {
   "cell_type": "code",
   "execution_count": 17,
   "metadata": {
    "collapsed": false
   },
   "outputs": [
    {
     "name": "stdout",
     "output_type": "stream",
     "text": [
      "{1.0: 0.9555341837820187, 100.0: 0.9553343281191383, 0.1: 0.9555008948413345, 10.0: 0.9553343281191383, 0.3: 0.9553010502710704, 3.3: 0.955334317026522, 33.3: 0.9553343281191383}\n",
      "+---------+---------------------+\n",
      "| penalty | validation_accuracy |\n",
      "+---------+---------------------+\n",
      "|   1.0   |    0.955534183782   |\n",
      "|  100.0  |    0.955334328119   |\n",
      "|   0.1   |    0.955500894841   |\n",
      "|   10.0  |    0.955334328119   |\n",
      "|   0.3   |    0.955301050271   |\n",
      "|   3.3   |    0.955334317027   |\n",
      "|   33.3  |    0.955334328119   |\n",
      "+---------+---------------------+\n",
      "[7 rows x 2 columns]\n",
      "\n"
     ]
    },
    {
     "data": {
      "image/png": "[encoded data removed]",
      "text/plain": [
       "<matplotlib.figure.Figure at 0x7fdf2e2aead0>"
      ]
     },
     "metadata": {},
     "output_type": "display_data"
    }
   ],
   "source": [
    "# Plot the penalty in x axis and the cross-validation-accuracy in the y axis\n",
    "# using plt.xscale('log') will make your plot more intuitive\n",
    "print average_validation_acc_dict\n",
    "\n",
    "penalty = graphlab.SArray( average_validation_acc_dict.keys() )\n",
    "validation_accuracy = graphlab.SArray( average_validation_acc_dict.values() )\n",
    "\n",
    "sf = graphlab.SFrame({'penalty':penalty,'validation_accuracy':validation_accuracy})\n",
    "print sf \n",
    "\n",
    "plt.plot(sf['penalty'], sf['validation_accuracy'], 'k.')\n",
    "plt.xscale('log')\n"
   ]
  },
  {
   "cell_type": "markdown",
   "metadata": {},
   "source": [
    "# Building Model"
   ]
  },
  {
   "cell_type": "code",
   "execution_count": 14,
   "metadata": {
    "collapsed": false
   },
   "outputs": [
    {
     "data": {
      "text/html": [
       "<pre>WARNING: Detected extremely low variance for feature(s) 'len_question_content', 'num_question_tags' because all entries are nearly the same.\n",
       "Proceeding with model training using all features. If the model does not provide results of adequate quality, exclude the above mentioned feature(s) from the input dataset.</pre>"
      ],
      "text/plain": [
       "WARNING: Detected extremely low variance for feature(s) 'len_question_content', 'num_question_tags' because all entries are nearly the same.\n",
       "Proceeding with model training using all features. If the model does not provide results of adequate quality, exclude the above mentioned feature(s) from the input dataset."
      ]
     },
     "metadata": {},
     "output_type": "display_data"
    },
    {
     "data": {
      "text/html": [
       "<pre>SVM:</pre>"
      ],
      "text/plain": [
       "SVM:"
      ]
     },
     "metadata": {},
     "output_type": "display_data"
    },
    {
     "data": {
      "text/html": [
       "<pre>--------------------------------------------------------</pre>"
      ],
      "text/plain": [
       "--------------------------------------------------------"
      ]
     },
     "metadata": {},
     "output_type": "display_data"
    },
    {
     "data": {
      "text/html": [
       "<pre>Number of examples          : 30014</pre>"
      ],
      "text/plain": [
       "Number of examples          : 30014"
      ]
     },
     "metadata": {},
     "output_type": "display_data"
    },
    {
     "data": {
      "text/html": [
       "<pre>Number of classes           : 2</pre>"
      ],
      "text/plain": [
       "Number of classes           : 2"
      ]
     },
     "metadata": {},
     "output_type": "display_data"
    },
    {
     "data": {
      "text/html": [
       "<pre>Number of feature columns   : 116</pre>"
      ],
      "text/plain": [
       "Number of feature columns   : 116"
      ]
     },
     "metadata": {},
     "output_type": "display_data"
    },
    {
     "data": {
      "text/html": [
       "<pre>Number of unpacked features : 116</pre>"
      ],
      "text/plain": [
       "Number of unpacked features : 116"
      ]
     },
     "metadata": {},
     "output_type": "display_data"
    },
    {
     "data": {
      "text/html": [
       "<pre>Number of coefficients    : 117</pre>"
      ],
      "text/plain": [
       "Number of coefficients    : 117"
      ]
     },
     "metadata": {},
     "output_type": "display_data"
    },
    {
     "data": {
      "text/html": [
       "<pre>Starting L-BFGS</pre>"
      ],
      "text/plain": [
       "Starting L-BFGS"
      ]
     },
     "metadata": {},
     "output_type": "display_data"
    },
    {
     "data": {
      "text/html": [
       "<pre>--------------------------------------------------------</pre>"
      ],
      "text/plain": [
       "--------------------------------------------------------"
      ]
     },
     "metadata": {},
     "output_type": "display_data"
    },
    {
     "data": {
      "text/html": [
       "<pre>+-----------+----------+-----------+--------------+-------------------+</pre>"
      ],
      "text/plain": [
       "+-----------+----------+-----------+--------------+-------------------+"
      ]
     },
     "metadata": {},
     "output_type": "display_data"
    },
    {
     "data": {
      "text/html": [
       "<pre>| Iteration | Passes   | Step size | Elapsed Time | Training-accuracy |</pre>"
      ],
      "text/plain": [
       "| Iteration | Passes   | Step size | Elapsed Time | Training-accuracy |"
      ]
     },
     "metadata": {},
     "output_type": "display_data"
    },
    {
     "data": {
      "text/html": [
       "<pre>+-----------+----------+-----------+--------------+-------------------+</pre>"
      ],
      "text/plain": [
       "+-----------+----------+-----------+--------------+-------------------+"
      ]
     },
     "metadata": {},
     "output_type": "display_data"
    },
    {
     "data": {
      "text/html": [
       "<pre>| 1         | 3        | 0.000033  | 1.416440     | 0.968815          |</pre>"
      ],
      "text/plain": [
       "| 1         | 3        | 0.000033  | 1.416440     | 0.968815          |"
      ]
     },
     "metadata": {},
     "output_type": "display_data"
    },
    {
     "data": {
      "text/html": [
       "<pre>| 2         | 6        | 5.000000  | 1.938654     | 0.975878          |</pre>"
      ],
      "text/plain": [
       "| 2         | 6        | 5.000000  | 1.938654     | 0.975878          |"
      ]
     },
     "metadata": {},
     "output_type": "display_data"
    },
    {
     "data": {
      "text/html": [
       "<pre>| 3         | 7        | 5.000000  | 2.208879     | 0.912274          |</pre>"
      ],
      "text/plain": [
       "| 3         | 7        | 5.000000  | 2.208879     | 0.912274          |"
      ]
     },
     "metadata": {},
     "output_type": "display_data"
    },
    {
     "data": {
      "text/html": [
       "<pre>| 4         | 9        | 1.000000  | 2.563363     | 0.982008          |</pre>"
      ],
      "text/plain": [
       "| 4         | 9        | 1.000000  | 2.563363     | 0.982008          |"
      ]
     },
     "metadata": {},
     "output_type": "display_data"
    },
    {
     "data": {
      "text/html": [
       "<pre>| 5         | 10       | 1.000000  | 2.825826     | 0.982508          |</pre>"
      ],
      "text/plain": [
       "| 5         | 10       | 1.000000  | 2.825826     | 0.982508          |"
      ]
     },
     "metadata": {},
     "output_type": "display_data"
    },
    {
     "data": {
      "text/html": [
       "<pre>| 6         | 11       | 1.000000  | 3.099048     | 0.984574          |</pre>"
      ],
      "text/plain": [
       "| 6         | 11       | 1.000000  | 3.099048     | 0.984574          |"
      ]
     },
     "metadata": {},
     "output_type": "display_data"
    },
    {
     "data": {
      "text/html": [
       "<pre>| 10        | 15       | 1.000000  | 4.148428     | 0.988805          |</pre>"
      ],
      "text/plain": [
       "| 10        | 15       | 1.000000  | 4.148428     | 0.988805          |"
      ]
     },
     "metadata": {},
     "output_type": "display_data"
    },
    {
     "data": {
      "text/html": [
       "<pre>| 11        | 16       | 1.000000  | 4.474700     | 0.989005          |</pre>"
      ],
      "text/plain": [
       "| 11        | 16       | 1.000000  | 4.474700     | 0.989005          |"
      ]
     },
     "metadata": {},
     "output_type": "display_data"
    },
    {
     "data": {
      "text/html": [
       "<pre>| 15        | 20       | 1.000000  | 5.782578     | 0.989938          |</pre>"
      ],
      "text/plain": [
       "| 15        | 20       | 1.000000  | 5.782578     | 0.989938          |"
      ]
     },
     "metadata": {},
     "output_type": "display_data"
    },
    {
     "data": {
      "text/html": [
       "<pre>| 20        | 25       | 1.000000  | 7.364054     | 0.989971          |</pre>"
      ],
      "text/plain": [
       "| 20        | 25       | 1.000000  | 7.364054     | 0.989971          |"
      ]
     },
     "metadata": {},
     "output_type": "display_data"
    },
    {
     "data": {
      "text/html": [
       "<pre>| 25        | 30       | 1.000000  | 8.893498     | 0.989938          |</pre>"
      ],
      "text/plain": [
       "| 25        | 30       | 1.000000  | 8.893498     | 0.989938          |"
      ]
     },
     "metadata": {},
     "output_type": "display_data"
    },
    {
     "data": {
      "text/html": [
       "<pre>| 30        | 35       | 1.000000  | 10.496765    | 0.989838          |</pre>"
      ],
      "text/plain": [
       "| 30        | 35       | 1.000000  | 10.496765    | 0.989838          |"
      ]
     },
     "metadata": {},
     "output_type": "display_data"
    },
    {
     "data": {
      "text/html": [
       "<pre>| 35        | 40       | 1.000000  | 11.935007    | 0.989871          |</pre>"
      ],
      "text/plain": [
       "| 35        | 40       | 1.000000  | 11.935007    | 0.989871          |"
      ]
     },
     "metadata": {},
     "output_type": "display_data"
    },
    {
     "data": {
      "text/html": [
       "<pre>| 40        | 46       | 1.000000  | 13.574255    | 0.989938          |</pre>"
      ],
      "text/plain": [
       "| 40        | 46       | 1.000000  | 13.574255    | 0.989938          |"
      ]
     },
     "metadata": {},
     "output_type": "display_data"
    },
    {
     "data": {
      "text/html": [
       "<pre>| 45        | 54       | 1.000000  | 15.464333    | 0.989938          |</pre>"
      ],
      "text/plain": [
       "| 45        | 54       | 1.000000  | 15.464333    | 0.989938          |"
      ]
     },
     "metadata": {},
     "output_type": "display_data"
    },
    {
     "data": {
      "text/html": [
       "<pre>| 50        | 62       | 1.000000  | 17.309390    | 0.989938          |</pre>"
      ],
      "text/plain": [
       "| 50        | 62       | 1.000000  | 17.309390    | 0.989938          |"
      ]
     },
     "metadata": {},
     "output_type": "display_data"
    },
    {
     "data": {
      "text/html": [
       "<pre>+-----------+----------+-----------+--------------+-------------------+</pre>"
      ],
      "text/plain": [
       "+-----------+----------+-----------+--------------+-------------------+"
      ]
     },
     "metadata": {},
     "output_type": "display_data"
    },
    {
     "data": {
      "text/html": [
       "<pre>TERMINATED: Iteration limit reached.</pre>"
      ],
      "text/plain": [
       "TERMINATED: Iteration limit reached."
      ]
     },
     "metadata": {},
     "output_type": "display_data"
    },
    {
     "data": {
      "text/html": [
       "<pre>This model may not be optimal. To improve it, consider increasing `max_iterations`.</pre>"
      ],
      "text/plain": [
       "This model may not be optimal. To improve it, consider increasing `max_iterations`."
      ]
     },
     "metadata": {},
     "output_type": "display_data"
    }
   ],
   "source": [
    "final_model = graphlab.svm_classifier.create( train_valid_shuffled, \n",
    "                                              target = 'flag', \n",
    "                                              features = all_features,\n",
    "                                              penalty = 1.0,\n",
    "                                              validation_set = None, \n",
    "                                              max_iterations = 50)"
   ]
  },
  {
   "cell_type": "code",
   "execution_count": 15,
   "metadata": {
    "collapsed": false
   },
   "outputs": [
    {
     "name": "stdout",
     "output_type": "stream",
     "text": [
      "+----------------------------+-------+-------+------------------+\n",
      "|            name            | index | class |      value       |\n",
      "+----------------------------+-------+-------+------------------+\n",
      "|        (intercept)         |  None |   1   | -0.166996669423  |\n",
      "|     len_answer_content     |  None |   1   |  1.07941277025   |\n",
      "|       len_user_intro       |  None |   1   |  -1.54553257123  |\n",
      "|    len_question_content    |  None |   1   |       0.0        |\n",
      "|          user_exp          |  None |   1   | 0.0721469580653  |\n",
      "|        len_user_edu        |  None |   1   | -0.199231960895  |\n",
      "|      num_user_interst      |  None |   1   |  -1.39047875947  |\n",
      "|     num_user_followed      |  None |   1   | -0.0684090542534 |\n",
      "|     num_question_tags      |  None |   1   |       0.0        |\n",
      "|       num_user_saved       |  None |   1   | -0.0968767505763 |\n",
      "|      num_user_thanks       |  None |   1   |  0.889540483003  |\n",
      "|      num_user_agrees       |  None |   1   |  -3.59488916114  |\n",
      "|      num_user_helped       |  None |   1   |  1.45669453796   |\n",
      "|     num_user_recommend     |  None |   1   |  0.917632731698  |\n",
      "|  answer_question_overlap   |  None |   1   |  2.66956624509   |\n",
      "| question_uinterest_overlap |  None |   1   |  -2.38472512141  |\n",
      "|  uinterest_answer_overlap  |  None |   1   |  1.30079040648   |\n",
      "|           s2v_0            |  None |   1   |  2.40415166242   |\n",
      "|           s2v_1            |  None |   1   |  0.587158803544  |\n",
      "|           s2v_2            |  None |   1   |  -2.62572109208  |\n",
      "|           s2v_3            |  None |   1   |  -1.28945280156  |\n",
      "|           s2v_4            |  None |   1   | -0.897886604525  |\n",
      "|           s2v_5            |  None |   1   |  0.621771735178  |\n",
      "|           s2v_6            |  None |   1   |   1.0492473758   |\n",
      "|           s2v_7            |  None |   1   |  0.213177322676  |\n",
      "|           s2v_8            |  None |   1   |  -2.29223968119  |\n",
      "|           s2v_9            |  None |   1   |  1.47767171178   |\n",
      "|           s2v_10           |  None |   1   |  -0.67688695913  |\n",
      "|           s2v_11           |  None |   1   |  0.059067924181  |\n",
      "|           s2v_12           |  None |   1   |  0.717060450462  |\n",
      "|           s2v_13           |  None |   1   |  -1.74400307249  |\n",
      "|           s2v_14           |  None |   1   |  2.76080241816   |\n",
      "|           s2v_15           |  None |   1   |  -3.01166551324  |\n",
      "|           s2v_16           |  None |   1   |  2.33123130469   |\n",
      "|           s2v_17           |  None |   1   |  -2.23928845513  |\n",
      "|           s2v_18           |  None |   1   | -0.652946157515  |\n",
      "|           s2v_19           |  None |   1   |  1.97613560494   |\n",
      "|           s2v_20           |  None |   1   |  -2.67051415351  |\n",
      "|           s2v_21           |  None |   1   | -0.307832466185  |\n",
      "|           s2v_22           |  None |   1   |   1.983891894    |\n",
      "|           s2v_23           |  None |   1   |  2.12081421755   |\n",
      "|           s2v_24           |  None |   1   |  -0.45894682386  |\n",
      "|           s2v_25           |  None |   1   |  -1.89357450942  |\n",
      "|           s2v_26           |  None |   1   |  -1.92924281106  |\n",
      "|           s2v_27           |  None |   1   | -0.867405852405  |\n",
      "|           s2v_28           |  None |   1   |  -1.1135026154   |\n",
      "|           s2v_29           |  None |   1   |   1.2058741361   |\n",
      "|           s2v_30           |  None |   1   |  0.124514742436  |\n",
      "|           s2v_31           |  None |   1   |  3.58070468648   |\n",
      "|           s2v_32           |  None |   1   | -0.121320657876  |\n",
      "|           s2v_33           |  None |   1   |  1.39825707448   |\n",
      "|           s2v_34           |  None |   1   |  -1.56100171517  |\n",
      "|           s2v_35           |  None |   1   |  1.23069723789   |\n",
      "|           s2v_36           |  None |   1   |  1.77450366383   |\n",
      "|           s2v_37           |  None |   1   |  0.187464009241  |\n",
      "|           s2v_38           |  None |   1   |  0.735694173881  |\n",
      "|           s2v_39           |  None |   1   |  1.66437070431   |\n",
      "|           s2v_40           |  None |   1   |  -1.09999412653  |\n",
      "|           s2v_41           |  None |   1   | -0.0820180546827 |\n",
      "|           s2v_42           |  None |   1   |  2.25260575076   |\n",
      "|           s2v_43           |  None |   1   |  0.621708218171  |\n",
      "|           s2v_44           |  None |   1   |  -3.05674835181  |\n",
      "|           s2v_45           |  None |   1   |  0.172898440742  |\n",
      "|           s2v_46           |  None |   1   |  1.79799080906   |\n",
      "|           s2v_47           |  None |   1   |  3.20430762229   |\n",
      "|           s2v_48           |  None |   1   |  0.696504274566  |\n",
      "|           s2v_49           |  None |   1   |  2.02353833078   |\n",
      "|          topic_0           |  None |   1   |  -5.63317669932  |\n",
      "|          topic_1           |  None |   1   |  -4.46343531992  |\n",
      "|          topic_2           |  None |   1   |  -3.83402497472  |\n",
      "|          topic_3           |  None |   1   |  -3.13325387994  |\n",
      "|          topic_4           |  None |   1   |  -4.49971996349  |\n",
      "|          topic_5           |  None |   1   |  -5.48043152419  |\n",
      "|          topic_6           |  None |   1   |  -5.05385579292  |\n",
      "|          topic_7           |  None |   1   |  -5.34350443806  |\n",
      "|          topic_8           |  None |   1   |  -5.52670260332  |\n",
      "|          topic_9           |  None |   1   |  -4.2418166824   |\n",
      "|          topic_10          |  None |   1   |  -7.96685689609  |\n",
      "|          topic_11          |  None |   1   |  -5.27936100119  |\n",
      "|          topic_12          |  None |   1   |  -4.84995303907  |\n",
      "|          topic_13          |  None |   1   |  -6.04728509399  |\n",
      "|          topic_14          |  None |   1   |  -5.0340363534   |\n",
      "|          topic_15          |  None |   1   |  -2.88718595862  |\n",
      "|          topic_16          |  None |   1   |  -4.65394770079  |\n",
      "|          topic_17          |  None |   1   |  -4.5910245306   |\n",
      "|          topic_18          |  None |   1   |  -2.76279891872  |\n",
      "|          topic_19          |  None |   1   |  -6.67263843846  |\n",
      "|          topic_20          |  None |   1   |  -6.89374828723  |\n",
      "|          topic_21          |  None |   1   |  -3.0147789383   |\n",
      "|          topic_22          |  None |   1   |  -3.37667407718  |\n",
      "|          topic_23          |  None |   1   |  -4.74556911785  |\n",
      "|          topic_24          |  None |   1   |  -4.9463651746   |\n",
      "|          topic_25          |  None |   1   |  -7.59348819282  |\n",
      "|          topic_26          |  None |   1   |  -4.06965828405  |\n",
      "|          topic_27          |  None |   1   |  -4.20862504415  |\n",
      "|          topic_28          |  None |   1   |  -2.11855489363  |\n",
      "|          topic_29          |  None |   1   |  -2.41595244108  |\n",
      "|          topic_30          |  None |   1   |  -5.56559789015  |\n",
      "|          topic_31          |  None |   1   |  -7.48736673398  |\n",
      "|          topic_32          |  None |   1   |  -5.12669536817  |\n",
      "+----------------------------+-------+-------+------------------+\n",
      "[117 rows x 4 columns]\n",
      "\n"
     ]
    }
   ],
   "source": [
    "final_model.get('coefficients').print_rows(num_rows=100)"
   ]
  },
  {
   "cell_type": "code",
   "execution_count": 16,
   "metadata": {
    "collapsed": false
   },
   "outputs": [],
   "source": [
    "results = final_model.evaluate(test)"
   ]
  },
  {
   "cell_type": "code",
   "execution_count": 17,
   "metadata": {
    "collapsed": false
   },
   "outputs": [
    {
     "name": "stdout",
     "output_type": "stream",
     "text": [
      "{'f1_score': 0.9873198847262249, 'recall': 0.9873198847262248, 'confusion_matrix': Columns:\n",
      "\ttarget_label\tint\n",
      "\tpredicted_label\tint\n",
      "\tcount\tint\n",
      "\n",
      "Rows: 4\n",
      "\n",
      "Data:\n",
      "+--------------+-----------------+-------+\n",
      "| target_label | predicted_label | count |\n",
      "+--------------+-----------------+-------+\n",
      "|      -1      |        1        |   22  |\n",
      "|      1       |        -1       |   22  |\n",
      "|      -1      |        -1       |  1629 |\n",
      "|      1       |        1        |  1713 |\n",
      "+--------------+-----------------+-------+\n",
      "[4 rows x 3 columns]\n",
      ", 'precision': 0.9873198847262248, 'accuracy': 0.987005316007088}\n"
     ]
    }
   ],
   "source": [
    "print results"
   ]
  },
  {
   "cell_type": "code",
   "execution_count": 18,
   "metadata": {
    "collapsed": true
   },
   "outputs": [],
   "source": [
    "coefficients =  final_model.coefficients['value'].to_numpy()"
   ]
  },
  {
   "cell_type": "code",
   "execution_count": 19,
   "metadata": {
    "collapsed": false
   },
   "outputs": [],
   "source": [
    "from numpy import array\n",
    "# t0 = array( [1.] + test0.iloc[[0]].values.tolist()[0] )\n",
    "# t1 = array( [1.] + test0.iloc[[1]].values.tolist()[0] )\n",
    "# s0 = t0 - t1"
   ]
  },
  {
   "cell_type": "code",
   "execution_count": 20,
   "metadata": {
    "collapsed": false
   },
   "outputs": [],
   "source": [
    "# t0.shape"
   ]
  },
  {
   "cell_type": "code",
   "execution_count": 21,
   "metadata": {
    "collapsed": true
   },
   "outputs": [],
   "source": [
    "def score(coefficients, answer0, answer1):\n",
    "    sub = answer0 - answer1\n",
    "    score = sub.dot(coefficients)\n",
    "    if score >= 0:\n",
    "        return 1\n",
    "    else :\n",
    "        return -1"
   ]
  },
  {
   "cell_type": "code",
   "execution_count": 22,
   "metadata": {
    "collapsed": false
   },
   "outputs": [],
   "source": [
    "import operator\n",
    "import collections, math\n",
    "from collections import defaultdict\n",
    "# A_0_score = 0\n",
    "# print test0.icol[[30]]\n",
    "\n",
    "def Rank_List( AnswerList ):\n",
    "    Score_Map = collections.defaultdict(lambda : 0)\n",
    "    # print Score_Map\n",
    "    # Score_Map = {}\n",
    "    # Score_Map = defaultdict(lambda:0, Score_Map)\n",
    "    for i in range( len(AnswerList) - 1 ):\n",
    "\n",
    "        for j in range(i+1, len(AnswerList) ):\n",
    "\n",
    "            #print (i, j)\n",
    "\n",
    "            answer_i = array( [1.] + AnswerList.iloc[[i]].values.tolist()[0] )\n",
    "            answer_j = array( [1.] + AnswerList.iloc[[j]].values.tolist()[0] )\n",
    "\n",
    "            key_i = 'A_' + str(i) + '_score'\n",
    "            key_j = 'A_' + str(j) + '_score'\n",
    "\n",
    "            value_i = 0\n",
    "            value_j = 0\n",
    "            value_i += score(coefficients, answer_i, answer_j) \n",
    "            value_j -= score(coefficients, answer_i, answer_j)\n",
    "\n",
    "            Score_Map[key_i] += value_i\n",
    "            Score_Map[key_j] += value_j\n",
    "    \n",
    "    return Score_Map\n",
    "    # print Score_Map\n",
    "    # Sorted_scores = sorted(Score_Map.items(), key=operator.itemgetter(1), reverse=True)\n",
    "    # print Sorted_scores\n",
    "    # return Sorted_scores\n",
    "    "
   ]
  },
  {
   "cell_type": "code",
   "execution_count": 23,
   "metadata": {
    "collapsed": true
   },
   "outputs": [],
   "source": [
    "def writeDict(Dict, filename, sep):\n",
    "    with open(filename, \"w\") as f:\n",
    "#        for key in dict.keys():            \n",
    "#            f.write(str(key) + \":\" + str(dict[key]) + \"\\n\")\n",
    "        for key, value in sorted( Dict.items() ):\n",
    "            f.write( str(key) + sep + str(value) + '\\n' )\n",
    "\n",
    "def writeList(List, filename) :\n",
    "    with open(filename, 'w') as f:\n",
    "        for i in range( len(List) ) :\n",
    "            # print List[i][0]\n",
    "            # print List[i][1]\n",
    "            f.write( str(List[i][0]) + ':' + str(List[i][1]) + '\\n')\n",
    "            \n",
    "def readDict(filename, sep):\n",
    "    with open(filename, \"r\") as f:\n",
    "        dict = {}\n",
    "        for line in f:\n",
    "            values = line.split(sep)\n",
    "            key = values[0]\n",
    "            value = int(values[1])\n",
    "            #value = values[1].split(',')\n",
    "            #dict[values[0]] = {int(x) for x in values[1:len(values)]}\n",
    "            dict[key] = value\n",
    "        return dict "
   ]
  },
  {
   "cell_type": "code",
   "execution_count": 24,
   "metadata": {
    "collapsed": false
   },
   "outputs": [],
   "source": [
    "# Answer_Rank = []\n",
    "for i in range(50) :\n",
    "    input_file_name = 'test_' + str(i) + '.csv'\n",
    "    # print input_file_name\n",
    "    test_i = pd.read_csv('./SVM_Data/TEST/' + input_file_name )\n",
    "    test_i = test_i.fillna(0)\n",
    "    \n",
    "    output_file_name = 'test_' + str(i) + '_dict.txt'\n",
    "    \n",
    "    Ai_List = Rank_List(test_i)\n",
    "    # Ai_Sorted = sorted(Ai_List.items(), key=operator.itemgetter(1), reverse=True)\n",
    "    \n",
    "    writeDict( Ai_List , './SVM_Data/RANK/' + output_file_name, ':')\n",
    "    # print Rank_List(test_i) "
   ]
  },
  {
   "cell_type": "code",
   "execution_count": 25,
   "metadata": {
    "collapsed": false
   },
   "outputs": [],
   "source": [
    "import operator\n",
    "for i in range(50) :\n",
    "    input_file_name = 'test_' + str(i) + '_dict.txt'\n",
    "    output_file_name = 'test_' + str(i) + '_sorted.txt'\n",
    "    # print input_file_name\n",
    "    Ai_Dict = readDict('./SVM_Data/RANK/' + input_file_name, ':')\n",
    "    # print type(Ai_Dict)\n",
    "    Ai_Sorted = sorted(Ai_Dict.items(), key=operator.itemgetter(1), reverse=True)\n",
    "    # print Ai_Sorted\n",
    "    writeList(Ai_Sorted, './SVM_Data/RANK/' + output_file_name)\n",
    "    # writeDict(Ai_Sorted, './SVM_Data/RANK/' + output_file_name, ':')"
   ]
  },
  {
   "cell_type": "code",
   "execution_count": 26,
   "metadata": {
    "collapsed": true
   },
   "outputs": [],
   "source": [
    "def Get_Sum_Score( key ) :\n",
    "    sum_score = 0.0\n",
    "    for i in range(50) :\n",
    "        input_file_name = 'test_' + str(i) + '_dict.txt'\n",
    "        Ai_Dict = readDict('./SVM_Data/RANK/' + input_file_name, ':')\n",
    "        # print type(Ai_Dict[key])\n",
    "        # print Ai_Dict[key] \n",
    "        # if Ai_Dict[key] is None :\n",
    "            # Ai_Dict[key] = 0\n",
    "        if key in Ai_Dict :\n",
    "            # print Ai_Dict[key]\n",
    "            sum_score += Ai_Dict[key]\n",
    "    return sum_score"
   ]
  },
  {
   "cell_type": "code",
   "execution_count": 27,
   "metadata": {
    "collapsed": false
   },
   "outputs": [
    {
     "data": {
      "text/plain": [
       "478.0"
      ]
     },
     "execution_count": 27,
     "metadata": {},
     "output_type": "execute_result"
    }
   ],
   "source": [
    "Get_Sum_Score( 'A_0_score' )"
   ]
  },
  {
   "cell_type": "code",
   "execution_count": 30,
   "metadata": {
    "collapsed": false,
    "scrolled": true
   },
   "outputs": [],
   "source": [
    "Ave_List = {}\n",
    "for i in range(33) :\n",
    "    \n",
    "    key = 'A_' + str(i) + '_score'\n",
    "    \n",
    "    sum_score = Get_Sum_Score( key )\n",
    "    ave_score = float(sum_score) / 50.0\n",
    "    \n",
    "    Ave_List[key] = ave_score\n",
    "\n",
    "Ave_List = sorted(Ave_List.items(), key=operator.itemgetter(1), reverse=True)\n",
    "# print ave_score"
   ]
  },
  {
   "cell_type": "code",
   "execution_count": 31,
   "metadata": {
    "collapsed": false
   },
   "outputs": [
    {
     "data": {
      "text/plain": [
       "[('A_0_score', 10.391304347826088),\n",
       " ('A_1_score', 4.3478260869565215),\n",
       " ('A_16_score', 2.6956521739130435),\n",
       " ('A_15_score', 2.1739130434782608),\n",
       " ('A_28_score', 1.4130434782608696),\n",
       " ('A_6_score', 1.3043478260869565),\n",
       " ('A_3_score', 1.3043478260869565),\n",
       " ('A_5_score', 0.8260869565217391),\n",
       " ('A_7_score', 0.7391304347826086),\n",
       " ('A_13_score', 0.6086956521739131),\n",
       " ('A_31_score', 0.5434782608695652),\n",
       " ('A_29_score', 0.3695652173913043),\n",
       " ('A_23_score', 0.34782608695652173),\n",
       " ('A_20_score', 0.30434782608695654),\n",
       " ('A_26_score', 0.15217391304347827),\n",
       " ('A_27_score', 0.15217391304347827),\n",
       " ('A_32_score', 0.0),\n",
       " ('A_17_score', -0.08695652173913043),\n",
       " ('A_12_score', -0.17391304347826086),\n",
       " ('A_30_score', -0.2391304347826087),\n",
       " ('A_22_score', -0.2608695652173913),\n",
       " ('A_8_score', -0.5217391304347826),\n",
       " ('A_25_score', -0.6521739130434783),\n",
       " ('A_2_score', -0.8260869565217391),\n",
       " ('A_10_score', -1.1304347826086956),\n",
       " ('A_4_score', -1.3478260869565217),\n",
       " ('A_24_score', -1.5217391304347827),\n",
       " ('A_11_score', -1.7826086956521738),\n",
       " ('A_19_score', -2.4782608695652173),\n",
       " ('A_9_score', -3.130434782608696),\n",
       " ('A_14_score', -3.5217391304347827),\n",
       " ('A_21_score', -3.652173913043478),\n",
       " ('A_18_score', -6.3478260869565215)]"
      ]
     },
     "execution_count": 31,
     "metadata": {},
     "output_type": "execute_result"
    }
   ],
   "source": [
    "Ave_List"
   ]
  },
  {
   "cell_type": "code",
   "execution_count": 32,
   "metadata": {
    "collapsed": false
   },
   "outputs": [],
   "source": [
    "# len( Ave_List )"
   ]
  },
  {
   "cell_type": "code",
   "execution_count": 33,
   "metadata": {
    "collapsed": false
   },
   "outputs": [],
   "source": [
    "def hit_best( filename ):\n",
    "    hit = 0\n",
    "    with open('./SVM_Data/RANK/' + filename, \"r\") as f:\n",
    "        best_answer = f.readline()\n",
    "        values = best_answer.split(':')\n",
    "        best_id = values[0]\n",
    "        print best_id\n",
    "        if best_id == 'A_0_score' :\n",
    "            hit = 1\n",
    "        else :\n",
    "            hit = 0\n",
    "        return hit "
   ]
  },
  {
   "cell_type": "code",
   "execution_count": 34,
   "metadata": {
    "collapsed": false
   },
   "outputs": [
    {
     "name": "stdout",
     "output_type": "stream",
     "text": [
      "A_28_score\n",
      "A_1_score\n",
      "A_22_score\n",
      "A_6_score\n",
      "A_8_score\n",
      "A_0_score\n",
      "A_8_score\n",
      "A_13_score\n",
      "A_13_score\n",
      "A_0_score\n",
      "A_16_score\n",
      "A_0_score\n",
      "A_0_score\n",
      "A_18_score\n",
      "A_16_score\n",
      "A_2_score\n",
      "A_0_score\n",
      "A_15_score\n",
      "A_6_score\n",
      "A_8_score\n",
      "A_0_score\n",
      "A_19_score\n",
      "A_23_score\n",
      "A_13_score\n",
      "A_10_score\n",
      "A_3_score\n",
      "A_0_score\n",
      "A_1_score\n",
      "A_13_score\n",
      "A_0_score\n",
      "A_1_score\n",
      "A_22_score\n",
      "A_20_score\n",
      "A_18_score\n",
      "A_15_score\n",
      "A_16_score\n",
      "A_0_score\n",
      "A_23_score\n",
      "A_1_score\n",
      "A_20_score\n",
      "A_0_score\n",
      "A_2_score\n",
      "A_5_score\n",
      "A_6_score\n",
      "A_8_score\n",
      "A_5_score\n",
      "A_5_score\n",
      "A_15_score\n",
      "A_15_score\n",
      "A_6_score\n"
     ]
    }
   ],
   "source": [
    "svm_hit_best = 0\n",
    "for i in range(50) :\n",
    "    \n",
    "    input_file_name = 'test_' + str(i) + '_sorted.txt'\n",
    "    svm_hit_best += hit_best( input_file_name )\n",
    "# print svm_hit_best"
   ]
  },
  {
   "cell_type": "code",
   "execution_count": 35,
   "metadata": {
    "collapsed": false
   },
   "outputs": [
    {
     "name": "stdout",
     "output_type": "stream",
     "text": [
      "10\n"
     ]
    }
   ],
   "source": [
    "print svm_hit_best"
   ]
  },
  {
   "cell_type": "code",
   "execution_count": null,
   "metadata": {
    "collapsed": true
   },
   "outputs": [],
   "source": []
  }
 ],
 "metadata": {
  "kernelspec": {
   "display_name": "Python 2",
   "language": "python",
   "name": "python2"
  },
  "language_info": {
   "codemirror_mode": {
    "name": "ipython",
    "version": 2
   },
   "file_extension": ".py",
   "mimetype": "text/x-python",
   "name": "python",
   "nbconvert_exporter": "python",
   "pygments_lexer": "ipython2",
   "version": "2.7.10"
  }
 },
 "nbformat": 4,
 "nbformat_minor": 0
}
