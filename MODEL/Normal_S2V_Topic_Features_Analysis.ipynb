{
 "cells": [
  {
   "cell_type": "code",
   "execution_count": 1,
   "metadata": {
    "collapsed": false
   },
   "outputs": [
    {
     "name": "stderr",
     "output_type": "stream",
     "text": [
      "A newer version of GraphLab Create (v1.8.5) is available! Your current version is v1.7.1.\n",
      "\n",
      "You can use pip to upgrade the graphlab-create package. For more information see https://dato.com/products/create/upgrade.\n",
      "[INFO] \u001b[1;32m1460367101 : INFO:     (initialize_globals_from_environment:282): Setting configuration variable GRAPHLAB_FILEIO_ALTERNATIVE_SSL_CERT_FILE to /home/zpgao/anaconda2/lib/python2.7/site-packages/certifi/cacert.pem\n",
      "\u001b[0m\u001b[1;32m1460367101 : INFO:     (initialize_globals_from_environment:282): Setting configuration variable GRAPHLAB_FILEIO_ALTERNATIVE_SSL_CERT_DIR to \n",
      "\u001b[0mThis non-commercial license of GraphLab Create is assigned to beyond_acm@163.com and will expire on January 04, 2017. For commercial licensing options, visit https://dato.com/buy/.\n",
      "\n",
      "[INFO] Start server at: ipc:///tmp/graphlab_server-6925 - Server binary: /home/zpgao/anaconda2/lib/python2.7/site-packages/graphlab/unity_server - Server log: /tmp/graphlab_server_1460367101.log\n",
      "[INFO] GraphLab Server Version: 1.7.1\n"
     ]
    }
   ],
   "source": [
    "import graphlab\n",
    "import pandas as pd\n",
    "import matplotlib.pyplot as plt\n",
    "%matplotlib inline"
   ]
  },
  {
   "cell_type": "code",
   "execution_count": 2,
   "metadata": {
    "collapsed": false
   },
   "outputs": [],
   "source": [
    "match_best = pd.read_csv('./SVM_Data/match_best.csv')\n",
    "match_second = pd.read_csv('./SVM_Data/match_second.csv')\n",
    "match_third = pd.read_csv('./SVM_Data/match_third.csv')\n",
    "\n",
    "non_match_best = pd.read_csv('./SVM_Data/non_match_best.csv')\n",
    "non_match_second = pd.read_csv('./SVM_Data/non_match_second.csv')\n",
    "non_match_third = pd.read_csv('./SVM_Data/non_match_third.csv')"
   ]
  },
  {
   "cell_type": "code",
   "execution_count": 3,
   "metadata": {
    "collapsed": true
   },
   "outputs": [],
   "source": [
    "# match_best > match_third \n",
    "positive01 = match_best.sub(match_third)\n",
    "# match_second < match_best\n",
    "negative01 = match_second.sub(match_best)\n",
    "\n",
    "# match_second > non_match_best\n",
    "positive02 = match_second.sub(non_match_best)\n",
    "# non_match_best < match_thrid\n",
    "negative02 = non_match_best.sub(match_third)\n",
    "\n",
    "# match_best > non_match_best\n",
    "positive03 = match_best.sub(non_match_best)\n",
    "# non_match_third < match_best\n",
    "negative03 = non_match_third.sub(match_best)\n",
    "\n",
    "# match_best > non_match_second\n",
    "positive04 = match_best.sub(non_match_second)\n",
    "# non_match_second < match_second\n",
    "negative04 = non_match_second.sub(match_second)\n",
    "\n",
    "# match_third > non_match_second\n",
    "positive05 = match_third.sub(non_match_second)\n",
    "# non_match_third < match_second\n",
    "negative05 = non_match_third.sub(match_second)"
   ]
  },
  {
   "cell_type": "code",
   "execution_count": 4,
   "metadata": {
    "collapsed": true
   },
   "outputs": [],
   "source": [
    "positive01['flag'] = 1\n",
    "positive02['flag'] = 1\n",
    "positive03['flag'] = 1\n",
    "positive04['flag'] = 1\n",
    "positive05['flag'] = 1\n",
    "\n",
    "negative01['flag'] = -1\n",
    "negative02['flag'] = -1\n",
    "negative03['flag'] = -1\n",
    "negative04['flag'] = -1\n",
    "negative05['flag'] = -1"
   ]
  },
  {
   "cell_type": "code",
   "execution_count": 5,
   "metadata": {
    "collapsed": false
   },
   "outputs": [],
   "source": [
    "dataset = pd.concat([positive01, negative01, \n",
    "                     positive02, negative02,\n",
    "                     positive03, negative03, \n",
    "                     positive04, negative04,\n",
    "                     positive05, negative05\n",
    "                    ], ignore_index=True)"
   ]
  },
  {
   "cell_type": "code",
   "execution_count": 6,
   "metadata": {
    "collapsed": false
   },
   "outputs": [],
   "source": [
    "# dataset"
   ]
  },
  {
   "cell_type": "code",
   "execution_count": 7,
   "metadata": {
    "collapsed": true
   },
   "outputs": [],
   "source": [
    "dataset = dataset.dropna()"
   ]
  },
  {
   "cell_type": "code",
   "execution_count": 8,
   "metadata": {
    "collapsed": true
   },
   "outputs": [],
   "source": [
    "# dataset"
   ]
  },
  {
   "cell_type": "code",
   "execution_count": 9,
   "metadata": {
    "collapsed": false
   },
   "outputs": [],
   "source": [
    "dataset.to_csv('./raw_data.csv', encoding='utf-8', index = False)"
   ]
  },
  {
   "cell_type": "code",
   "execution_count": 10,
   "metadata": {
    "collapsed": false
   },
   "outputs": [
    {
     "name": "stdout",
     "output_type": "stream",
     "text": [
      "PROGRESS: Finished parsing file /home/zpgao/ML/Best_Answer/SVM_RANK/MODEL/raw_data.csv\n",
      "PROGRESS: Parsing completed. Parsed 100 lines in 1.02826 secs.\n",
      "------------------------------------------------------\n",
      "Inferred types from first line of file as \n",
      "column_type_hints=[float,float,float,float,float,float,float,float,float,float,float,float,float,float,float,float,float,float,float,float,float,float,float,float,float,float,float,float,float,float,float,float,float,float,float,float,float,float,float,float,float,float,float,float,float,float,float,float,float,float,float,float,float,float,float,float,float,float,float,float,float,float,float,float,float,float,float,float,float,float,float,float,float,float,float,float,float,float,float,float,float,float,float,float,float,float,float,float,float,float,float,float,float,float,float,float,float,float,float,float,float,float,float,float,float,float,float,float,float,float,float,float,float,float,float,float,int]\n",
      "If parsing fails due to incorrect types, you can correct\n",
      "the inferred type list above and pass it to read_csv in\n",
      "the column_type_hints argument\n",
      "------------------------------------------------------\n",
      "PROGRESS: Read 29244 lines. Lines per second: 26974.3\n",
      "PROGRESS: Finished parsing file /home/zpgao/ML/Best_Answer/SVM_RANK/MODEL/raw_data.csv\n",
      "PROGRESS: Parsing completed. Parsed 33400 lines in 1.1116 secs.\n"
     ]
    }
   ],
   "source": [
    "raw_data = graphlab.SFrame.read_csv('./raw_data.csv')"
   ]
  },
  {
   "cell_type": "code",
   "execution_count": 11,
   "metadata": {
    "collapsed": false
   },
   "outputs": [],
   "source": [
    "train_valid, test = raw_data.random_split(0.9, seed=0.3)\n",
    "train_valid_shuffled = graphlab.toolkits.cross_validation.shuffle(train_valid, random_seed=0.3)\n",
    "\n",
    "train_valid.save('./Train_valid.csv', format='csv')\n",
    "test.save('./Test.csv', format='csv')"
   ]
  },
  {
   "cell_type": "code",
   "execution_count": 12,
   "metadata": {
    "collapsed": false
   },
   "outputs": [],
   "source": [
    "# train_valid"
   ]
  },
  {
   "cell_type": "code",
   "execution_count": 13,
   "metadata": {
    "collapsed": false
   },
   "outputs": [
    {
     "name": "stdout",
     "output_type": "stream",
     "text": [
      "['len_answer_content', 'len_user_intro', 'len_question_content', 'user_exp', 'len_user_edu', 'num_user_interst', 'num_user_followed', 'num_question_tags', 'num_user_saved', 'num_user_thanks', 'num_user_agrees', 'num_user_helped', 'num_user_recommend', 'answer_question_overlap', 'question_uinterest_overlap', 'uinterest_answer_overlap', 's2v_0', 's2v_1', 's2v_2', 's2v_3', 's2v_4', 's2v_5', 's2v_6', 's2v_7', 's2v_8', 's2v_9', 's2v_10', 's2v_11', 's2v_12', 's2v_13', 's2v_14', 's2v_15', 's2v_16', 's2v_17', 's2v_18', 's2v_19', 's2v_20', 's2v_21', 's2v_22', 's2v_23', 's2v_24', 's2v_25', 's2v_26', 's2v_27', 's2v_28', 's2v_29', 's2v_30', 's2v_31', 's2v_32', 's2v_33', 's2v_34', 's2v_35', 's2v_36', 's2v_37', 's2v_38', 's2v_39', 's2v_40', 's2v_41', 's2v_42', 's2v_43', 's2v_44', 's2v_45', 's2v_46', 's2v_47', 's2v_48', 's2v_49', 'topic_0', 'topic_1', 'topic_2', 'topic_3', 'topic_4', 'topic_5', 'topic_6', 'topic_7', 'topic_8', 'topic_9', 'topic_10', 'topic_11', 'topic_12', 'topic_13', 'topic_14', 'topic_15', 'topic_16', 'topic_17', 'topic_18', 'topic_19', 'topic_20', 'topic_21', 'topic_22', 'topic_23', 'topic_24', 'topic_25', 'topic_26', 'topic_27', 'topic_28', 'topic_29', 'topic_30', 'topic_31', 'topic_32', 'topic_33', 'topic_34', 'topic_35', 'topic_36', 'topic_37', 'topic_38', 'topic_39', 'topic_40', 'topic_41', 'topic_42', 'topic_43', 'topic_44', 'topic_45', 'topic_46', 'topic_47', 'topic_48', 'topic_49', 'flag']\n",
      "['len_answer_content', 'len_user_intro', 'len_question_content', 'user_exp', 'len_user_edu', 'num_user_interst', 'num_user_followed', 'num_question_tags', 'num_user_saved', 'num_user_thanks', 'num_user_agrees', 'num_user_helped', 'num_user_recommend', 'answer_question_overlap', 'question_uinterest_overlap', 'uinterest_answer_overlap', 's2v_0', 's2v_1', 's2v_2', 's2v_3', 's2v_4', 's2v_5', 's2v_6', 's2v_7', 's2v_8', 's2v_9', 's2v_10', 's2v_11', 's2v_12', 's2v_13', 's2v_14', 's2v_15', 's2v_16', 's2v_17', 's2v_18', 's2v_19', 's2v_20', 's2v_21', 's2v_22', 's2v_23', 's2v_24', 's2v_25', 's2v_26', 's2v_27', 's2v_28', 's2v_29', 's2v_30', 's2v_31', 's2v_32', 's2v_33', 's2v_34', 's2v_35', 's2v_36', 's2v_37', 's2v_38', 's2v_39', 's2v_40', 's2v_41', 's2v_42', 's2v_43', 's2v_44', 's2v_45', 's2v_46', 's2v_47', 's2v_48', 's2v_49', 'topic_0', 'topic_1', 'topic_2', 'topic_3', 'topic_4', 'topic_5', 'topic_6', 'topic_7', 'topic_8', 'topic_9', 'topic_10', 'topic_11', 'topic_12', 'topic_13', 'topic_14', 'topic_15', 'topic_16', 'topic_17', 'topic_18', 'topic_19', 'topic_20', 'topic_21', 'topic_22', 'topic_23', 'topic_24', 'topic_25', 'topic_26', 'topic_27', 'topic_28', 'topic_29', 'topic_30', 'topic_31', 'topic_32', 'topic_33', 'topic_34', 'topic_35', 'topic_36', 'topic_37', 'topic_38', 'topic_39', 'topic_40', 'topic_41', 'topic_42', 'topic_43', 'topic_44', 'topic_45', 'topic_46', 'topic_47', 'topic_48', 'topic_49']\n",
      "116\n"
     ]
    }
   ],
   "source": [
    "# get all the features\n",
    "all_features = train_valid_shuffled.column_names()\n",
    "# need to pop and 'flag' \n",
    "print all_features\n",
    "all_features.pop(-1)\n",
    "print all_features\n",
    "all_features\n",
    "print len(all_features)"
   ]
  },
  {
   "cell_type": "markdown",
   "metadata": {},
   "source": [
    "# Selecting L1 penalty via the k cross validation "
   ]
  },
  {
   "cell_type": "code",
   "execution_count": 12,
   "metadata": {
    "collapsed": false
   },
   "outputs": [
    {
     "name": "stdout",
     "output_type": "stream",
     "text": [
      "0 (0, 3000)\n",
      "1 (3001, 6001)\n",
      "2 (6002, 9003)\n",
      "3 (9004, 12004)\n",
      "4 (12005, 15006)\n",
      "5 (15007, 18007)\n",
      "6 (18008, 21008)\n",
      "7 (21009, 24010)\n",
      "8 (24011, 27011)\n",
      "9 (27012, 30013)\n"
     ]
    }
   ],
   "source": [
    "n = len(train_valid_shuffled)\n",
    "k = 10 \n",
    "\n",
    "for i in xrange(k):\n",
    "    start = (n*i)/k\n",
    "    end = (n*(i+1))/k-1\n",
    "    print i, (start, end)"
   ]
  },
  {
   "cell_type": "markdown",
   "metadata": {},
   "source": [
    "After designating one of the k segments as the validation set, we train a model using the rest of the data. To choose the reaminder, we slice (0:start) && (end+1:n) of the data and paste them together. SFrame append() method can pastes together tow disjoint sets of rows originating from a common dataset."
   ]
  },
  {
   "cell_type": "code",
   "execution_count": 13,
   "metadata": {
    "collapsed": true
   },
   "outputs": [],
   "source": [
    "# implement the k-fold-cross-validation \n",
    "def k_fold_cross_validation(k, penalty, data, target, features_list):\n",
    "    sum_validation_accuracy = 0\n",
    "    n = len(data)\n",
    "    for i in xrange(k):\n",
    "        start = (n*i) / k\n",
    "        end = ( n*(i+1) ) / k\n",
    "        validation_set = data[start:end+1]\n",
    "        training_set = data[0:start].append( data[end+1:n] )\n",
    "        svm_model = graphlab.svm_classifier.create( training_set, \n",
    "                                                    target = target, \n",
    "                                                    features = features_list,\n",
    "                                                    penalty = penalty,\n",
    "                                                    validation_set = None, \n",
    "                                                    max_iterations = 20,\n",
    "                                                    verbose = False)\n",
    "        results = svm_model.evaluate(validation_set)\n",
    "        validation_acc = results['accuracy']\n",
    "        \n",
    "        sum_validation_accuracy = sum_validation_accuracy + validation_acc\n",
    "        \n",
    "    average_validation_accuracy = (sum_validation_accuracy) / k\n",
    "    return average_validation_accuracy"
   ]
  },
  {
   "cell_type": "markdown",
   "metadata": {},
   "source": [
    "We can write a loop to find the model that maximizes the average_validation_accuracy\n",
    "- For penalty in [10^1, 10^1.5, 10^2, 10^2.5, ..., 10^7]\n",
    "- Run the 10-fold corss-validation with the penalty"
   ]
  },
  {
   "cell_type": "code",
   "execution_count": 16,
   "metadata": {
    "collapsed": false
   },
   "outputs": [
    {
     "name": "stdout",
     "output_type": "stream",
     "text": [
      "penalty :0.1 accuracy:0.955500894841\n",
      "\n",
      "penalty :0.3 accuracy:0.955301050271\n",
      "\n",
      "penalty :1.0 accuracy:0.955534183782\n",
      "\n",
      "penalty :3.3 accuracy:0.955334317027\n",
      "\n",
      "penalty :10.0 accuracy:0.955334328119\n",
      "\n",
      "penalty :33.3 accuracy:0.955334328119\n",
      "\n",
      "penalty :100.0 accuracy:0.955334328119\n",
      "\n"
     ]
    }
   ],
   "source": [
    "average_validation_acc_dict = {}\n",
    "\n",
    "penalty = 0.1\n",
    "val_acc = k_fold_cross_validation(10, penalty, train_valid_shuffled, 'flag', all_features)\n",
    "print 'penalty :' + str(penalty) + ' accuracy:' + str(val_acc) + '\\n'\n",
    "average_validation_acc_dict[penalty] = val_acc\n",
    "\n",
    "penalty = 0.3\n",
    "val_acc = k_fold_cross_validation(10, penalty, train_valid_shuffled, 'flag', all_features)\n",
    "print 'penalty :' + str(penalty) + ' accuracy:' + str(val_acc) + '\\n'\n",
    "average_validation_acc_dict[penalty] = val_acc\n",
    "\n",
    "penalty = 1.0\n",
    "val_acc = k_fold_cross_validation(10, penalty, train_valid_shuffled, 'flag', all_features)\n",
    "print 'penalty :' + str(penalty) + ' accuracy:' + str(val_acc) + '\\n'\n",
    "average_validation_acc_dict[penalty] = val_acc\n",
    "\n",
    "penalty = 3.3\n",
    "val_acc = k_fold_cross_validation(10, penalty, train_valid_shuffled, 'flag', all_features)\n",
    "print 'penalty :' + str(penalty) + ' accuracy:' + str(val_acc) + '\\n'\n",
    "average_validation_acc_dict[penalty] = val_acc\n",
    "\n",
    "penalty = 10.0\n",
    "val_acc = k_fold_cross_validation(10, penalty, train_valid_shuffled, 'flag', all_features)\n",
    "print 'penalty :' + str(penalty) + ' accuracy:' + str(val_acc) + '\\n'\n",
    "average_validation_acc_dict[penalty] = val_acc\n",
    "\n",
    "penalty = 33.3\n",
    "val_acc = k_fold_cross_validation(10, penalty, train_valid_shuffled, 'flag', all_features)\n",
    "print 'penalty :' + str(penalty) + ' accuracy:' + str(val_acc) + '\\n'\n",
    "average_validation_acc_dict[penalty] = val_acc\n",
    "\n",
    "penalty = 100.0\n",
    "val_acc = k_fold_cross_validation(10, penalty, train_valid_shuffled, 'flag', all_features)\n",
    "print 'penalty :' + str(penalty) + ' accuracy:' + str(val_acc) + '\\n'\n",
    "average_validation_acc_dict[penalty] = val_acc"
   ]
  },
  {
   "cell_type": "code",
   "execution_count": 17,
   "metadata": {
    "collapsed": false
   },
   "outputs": [
    {
     "name": "stdout",
     "output_type": "stream",
     "text": [
      "{1.0: 0.9555341837820187, 100.0: 0.9553343281191383, 0.1: 0.9555008948413345, 10.0: 0.9553343281191383, 0.3: 0.9553010502710704, 3.3: 0.955334317026522, 33.3: 0.9553343281191383}\n",
      "+---------+---------------------+\n",
      "| penalty | validation_accuracy |\n",
      "+---------+---------------------+\n",
      "|   1.0   |    0.955534183782   |\n",
      "|  100.0  |    0.955334328119   |\n",
      "|   0.1   |    0.955500894841   |\n",
      "|   10.0  |    0.955334328119   |\n",
      "|   0.3   |    0.955301050271   |\n",
      "|   3.3   |    0.955334317027   |\n",
      "|   33.3  |    0.955334328119   |\n",
      "+---------+---------------------+\n",
      "[7 rows x 2 columns]\n",
      "\n"
     ]
    },
    {
     "data": {
      "image/png": "[encoded data removed]",
      "text/plain": [
       "<matplotlib.figure.Figure at 0x7fdf2e2aead0>"
      ]
     },
     "metadata": {},
     "output_type": "display_data"
    }
   ],
   "source": [
    "# Plot the penalty in x axis and the cross-validation-accuracy in the y axis\n",
    "# using plt.xscale('log') will make your plot more intuitive\n",
    "print average_validation_acc_dict\n",
    "\n",
    "penalty = graphlab.SArray( average_validation_acc_dict.keys() )\n",
    "validation_accuracy = graphlab.SArray( average_validation_acc_dict.values() )\n",
    "\n",
    "sf = graphlab.SFrame({'penalty':penalty,'validation_accuracy':validation_accuracy})\n",
    "print sf \n",
    "\n",
    "plt.plot(sf['penalty'], sf['validation_accuracy'], 'k.')\n",
    "plt.xscale('log')\n"
   ]
  },
  {
   "cell_type": "code",
   "execution_count": 14,
   "metadata": {
    "collapsed": false
   },
   "outputs": [
    {
     "name": "stdout",
     "output_type": "stream",
     "text": [
      "PROGRESS: WARNING: Detected extremely low variance for feature(s) 'len_question_content', 'num_question_tags' because all entries are nearly the same.\n",
      "Proceeding with model training using all features. If the model does not provide results of adequate quality, exclude the above mentioned feature(s) from the input dataset.\n",
      "PROGRESS: SVM:\n",
      "PROGRESS: --------------------------------------------------------\n",
      "PROGRESS: Number of examples          : 30014\n",
      "PROGRESS: Number of classes           : 2\n",
      "PROGRESS: Number of feature columns   : 116\n",
      "PROGRESS: Number of unpacked features : 116\n",
      "PROGRESS: Number of coefficients    : 117\n",
      "PROGRESS: Starting L-BFGS\n",
      "PROGRESS: --------------------------------------------------------\n",
      "PROGRESS: +-----------+----------+-----------+--------------+-------------------+\n",
      "PROGRESS: | Iteration | Passes   | Step size | Elapsed Time | Training-accuracy |\n",
      "PROGRESS: +-----------+----------+-----------+--------------+-------------------+\n",
      "PROGRESS: | 1         | 3        | 0.000033  | 1.124493     | 0.968815          |\n",
      "PROGRESS: | 2         | 6        | 5.000000  | 1.285639     | 0.975878          |\n",
      "PROGRESS: | 3         | 7        | 5.000000  | 1.364246     | 0.912274          |\n",
      "PROGRESS: | 4         | 9        | 1.000000  | 1.485255     | 0.982008          |\n",
      "PROGRESS: | 5         | 10       | 1.000000  | 1.563059     | 0.982508          |\n",
      "PROGRESS: | 6         | 11       | 1.000000  | 1.641285     | 0.984574          |\n",
      "PROGRESS: | 10        | 15       | 1.000000  | 1.965356     | 0.988805          |\n",
      "PROGRESS: | 11        | 16       | 1.000000  | 2.043154     | 0.989005          |\n",
      "PROGRESS: | 20        | 25       | 1.000000  | 2.745735     | 0.989971          |\n",
      "PROGRESS: | 30        | 35       | 1.000000  | 3.533366     | 0.989838          |\n",
      "PROGRESS: | 40        | 46       | 1.000000  | 4.363457     | 0.989938          |\n",
      "PROGRESS: | 50        | 62       | 1.000000  | 5.399637     | 0.989938          |\n",
      "PROGRESS: | 51        | 65       | 0.500000  | 5.561077     | 0.989938          |\n",
      "PROGRESS: | 60        | 77       | 1.000000  | 6.389643     | 0.989971          |\n",
      "PROGRESS: | 70        | 88       | 1.000000  | 7.207123     | 0.989971          |\n",
      "PROGRESS: +-----------+----------+-----------+--------------+-------------------+\n",
      "PROGRESS: SUCCESS: Optimal solution found.\n",
      "PROGRESS:\n"
     ]
    }
   ],
   "source": [
    "final_model = graphlab.svm_classifier.create( train_valid_shuffled, \n",
    "                                              target = 'flag', \n",
    "                                              features = all_features,\n",
    "                                              penalty = 1.0,\n",
    "                                              validation_set = None, \n",
    "                                              max_iterations = 100)"
   ]
  },
  {
   "cell_type": "code",
   "execution_count": 15,
   "metadata": {
    "collapsed": false
   },
   "outputs": [
    {
     "name": "stdout",
     "output_type": "stream",
     "text": [
      "+----------------------------+-------+-------+------------------+\n",
      "|            name            | index | class |      value       |\n",
      "+----------------------------+-------+-------+------------------+\n",
      "|        (intercept)         |  None |   1   | -0.167163382532  |\n",
      "|     len_answer_content     |  None |   1   |  1.07880795996   |\n",
      "|       len_user_intro       |  None |   1   |  -1.54570833382  |\n",
      "|    len_question_content    |  None |   1   |       0.0        |\n",
      "|          user_exp          |  None |   1   | 0.0721186498147  |\n",
      "|        len_user_edu        |  None |   1   | -0.198687700466  |\n",
      "|      num_user_interst      |  None |   1   |  -1.39082983474  |\n",
      "|     num_user_followed      |  None |   1   | -0.0685163434979 |\n",
      "|     num_question_tags      |  None |   1   |       0.0        |\n",
      "|       num_user_saved       |  None |   1   | -0.103110018837  |\n",
      "|      num_user_thanks       |  None |   1   |  0.886784140509  |\n",
      "|      num_user_agrees       |  None |   1   |  -3.59555609692  |\n",
      "|      num_user_helped       |  None |   1   |   1.4669121156   |\n",
      "|     num_user_recommend     |  None |   1   |  0.918168001243  |\n",
      "|  answer_question_overlap   |  None |   1   |   2.6701278085   |\n",
      "| question_uinterest_overlap |  None |   1   |  -2.38433957726  |\n",
      "|  uinterest_answer_overlap  |  None |   1   |  1.29982918566   |\n",
      "|           s2v_0            |  None |   1   |  2.40583355277   |\n",
      "|           s2v_1            |  None |   1   |  0.585158250956  |\n",
      "|           s2v_2            |  None |   1   |  -2.62688059687  |\n",
      "|           s2v_3            |  None |   1   |  -1.28862645737  |\n",
      "|           s2v_4            |  None |   1   | -0.899329385972  |\n",
      "|           s2v_5            |  None |   1   |  0.621530304941  |\n",
      "|           s2v_6            |  None |   1   |   1.0487390681   |\n",
      "|           s2v_7            |  None |   1   |  0.212546032201  |\n",
      "|           s2v_8            |  None |   1   |  -2.29256643963  |\n",
      "|           s2v_9            |  None |   1   |  1.47820541382   |\n",
      "|           s2v_10           |  None |   1   | -0.677156199342  |\n",
      "|           s2v_11           |  None |   1   | 0.0590258389786  |\n",
      "|           s2v_12           |  None |   1   |  0.716445269387  |\n",
      "|           s2v_13           |  None |   1   |  -1.74445239148  |\n",
      "|           s2v_14           |  None |   1   |  2.76190666906   |\n",
      "|           s2v_15           |  None |   1   |  -3.01222113547  |\n",
      "|           s2v_16           |  None |   1   |  2.33058241354   |\n",
      "|           s2v_17           |  None |   1   |  -2.24016507562  |\n",
      "|           s2v_18           |  None |   1   | -0.652338078697  |\n",
      "|           s2v_19           |  None |   1   |  1.97616373065   |\n",
      "|           s2v_20           |  None |   1   |  -2.67043919856  |\n",
      "|           s2v_21           |  None |   1   | -0.307800152998  |\n",
      "|           s2v_22           |  None |   1   |   1.9843682563   |\n",
      "|           s2v_23           |  None |   1   |   2.1213618092   |\n",
      "|           s2v_24           |  None |   1   | -0.458575440906  |\n",
      "|           s2v_25           |  None |   1   |  -1.89382121953  |\n",
      "|           s2v_26           |  None |   1   |  -1.92911124514  |\n",
      "|           s2v_27           |  None |   1   | -0.867480743535  |\n",
      "|           s2v_28           |  None |   1   |  -1.11361691972  |\n",
      "|           s2v_29           |  None |   1   |   1.2061010598   |\n",
      "|           s2v_30           |  None |   1   |  0.123887350808  |\n",
      "|           s2v_31           |  None |   1   |  3.58093708429   |\n",
      "|           s2v_32           |  None |   1   | -0.121104303276  |\n",
      "|           s2v_33           |  None |   1   |  1.39852303972   |\n",
      "|           s2v_34           |  None |   1   |  -1.56200798046  |\n",
      "|           s2v_35           |  None |   1   |  1.22963166047   |\n",
      "|           s2v_36           |  None |   1   |   1.7745706642   |\n",
      "|           s2v_37           |  None |   1   |  0.188537605889  |\n",
      "|           s2v_38           |  None |   1   |  0.736143404016  |\n",
      "|           s2v_39           |  None |   1   |  1.66366262767   |\n",
      "|           s2v_40           |  None |   1   |  -1.09978148872  |\n",
      "|           s2v_41           |  None |   1   | -0.0818485252355 |\n",
      "|           s2v_42           |  None |   1   |  2.25316209895   |\n",
      "|           s2v_43           |  None |   1   |  0.622440116137  |\n",
      "|           s2v_44           |  None |   1   |  -3.05715691216  |\n",
      "|           s2v_45           |  None |   1   |  0.173181836196  |\n",
      "|           s2v_46           |  None |   1   |  1.79718722954   |\n",
      "|           s2v_47           |  None |   1   |  3.20531909001   |\n",
      "|           s2v_48           |  None |   1   |  0.695976688142  |\n",
      "|           s2v_49           |  None |   1   |  2.02335773046   |\n",
      "|          topic_0           |  None |   1   |  -5.63487732914  |\n",
      "|          topic_1           |  None |   1   |  -4.46435010817  |\n",
      "|          topic_2           |  None |   1   |  -3.83670222649  |\n",
      "|          topic_3           |  None |   1   |  -3.13371578923  |\n",
      "|          topic_4           |  None |   1   |  -4.50069943995  |\n",
      "|          topic_5           |  None |   1   |  -5.48138630297  |\n",
      "|          topic_6           |  None |   1   |  -5.05548805753  |\n",
      "|          topic_7           |  None |   1   |  -5.34563024491  |\n",
      "|          topic_8           |  None |   1   |  -5.52930092033  |\n",
      "|          topic_9           |  None |   1   |  -4.24380424502  |\n",
      "|          topic_10          |  None |   1   |  -7.97041439768  |\n",
      "|          topic_11          |  None |   1   |  -5.28132372038  |\n",
      "|          topic_12          |  None |   1   |  -4.85111280757  |\n",
      "|          topic_13          |  None |   1   |  -6.04952174232  |\n",
      "|          topic_14          |  None |   1   |  -5.0363173018   |\n",
      "|          topic_15          |  None |   1   |  -2.88844803553  |\n",
      "|          topic_16          |  None |   1   |  -4.65597989529  |\n",
      "|          topic_17          |  None |   1   |  -4.59252331672  |\n",
      "|          topic_18          |  None |   1   |  -2.76334174003  |\n",
      "|          topic_19          |  None |   1   |  -6.67543360065  |\n",
      "|          topic_20          |  None |   1   |  -6.89652906026  |\n",
      "|          topic_21          |  None |   1   |  -3.01589380817  |\n",
      "|          topic_22          |  None |   1   |  -3.37785980088  |\n",
      "|          topic_23          |  None |   1   |  -4.74857572254  |\n",
      "|          topic_24          |  None |   1   |  -4.94745752516  |\n",
      "|          topic_25          |  None |   1   |  -7.59592113603  |\n",
      "|          topic_26          |  None |   1   |  -4.07188041062  |\n",
      "|          topic_27          |  None |   1   |  -4.21028741399  |\n",
      "|          topic_28          |  None |   1   |  -2.11944131053  |\n",
      "|          topic_29          |  None |   1   |  -2.41698282177  |\n",
      "|          topic_30          |  None |   1   |  -5.56754620446  |\n",
      "|          topic_31          |  None |   1   |  -7.48954316059  |\n",
      "|          topic_32          |  None |   1   |  -5.12861267063  |\n",
      "+----------------------------+-------+-------+------------------+\n",
      "[117 rows x 4 columns]\n",
      "\n"
     ]
    }
   ],
   "source": [
    "final_model.get('coefficients').print_rows(num_rows=100)"
   ]
  },
  {
   "cell_type": "code",
   "execution_count": 16,
   "metadata": {
    "collapsed": false
   },
   "outputs": [],
   "source": [
    "results = final_model.evaluate(test)"
   ]
  },
  {
   "cell_type": "code",
   "execution_count": 17,
   "metadata": {
    "collapsed": false
   },
   "outputs": [],
   "source": [
    "# test"
   ]
  },
  {
   "cell_type": "code",
   "execution_count": 18,
   "metadata": {
    "collapsed": false
   },
   "outputs": [
    {
     "name": "stdout",
     "output_type": "stream",
     "text": [
      "{'f1_score': 0.9873198847262249, 'recall': 0.9873198847262248, 'confusion_matrix': Columns:\n",
      "\ttarget_label\tint\n",
      "\tpredicted_label\tint\n",
      "\tcount\tint\n",
      "\n",
      "Rows: 4\n",
      "\n",
      "Data:\n",
      "+--------------+-----------------+-------+\n",
      "| target_label | predicted_label | count |\n",
      "+--------------+-----------------+-------+\n",
      "|      -1      |        1        |   22  |\n",
      "|      -1      |        -1       |  1629 |\n",
      "|      1       |        -1       |   22  |\n",
      "|      1       |        1        |  1713 |\n",
      "+--------------+-----------------+-------+\n",
      "[4 rows x 3 columns]\n",
      ", 'precision': 0.9873198847262248, 'accuracy': 0.987005316007088}\n"
     ]
    }
   ],
   "source": [
    "print results"
   ]
  },
  {
   "cell_type": "code",
   "execution_count": 19,
   "metadata": {
    "collapsed": true
   },
   "outputs": [],
   "source": [
    "coefficients =  final_model.coefficients['value'].to_numpy()"
   ]
  },
  {
   "cell_type": "code",
   "execution_count": 21,
   "metadata": {
    "collapsed": false
   },
   "outputs": [],
   "source": [
    "test0 = pd.read_csv('./SVM_Data/test0.csv')\n",
    "test1 = pd.read_csv('./SVM_Data/test1.csv')\n",
    "test2 = pd.read_csv('./SVM_Data/test2.csv')"
   ]
  },
  {
   "cell_type": "code",
   "execution_count": 22,
   "metadata": {
    "collapsed": false
   },
   "outputs": [
    {
     "data": {
      "text/plain": [
       "37"
      ]
     },
     "execution_count": 22,
     "metadata": {},
     "output_type": "execute_result"
    }
   ],
   "source": [
    "test0 = test0.fillna(0)\n",
    "test1 = test1.fillna(0)\n",
    "test2 = test2.fillna(0)\n",
    "# test : 3368 x 117\n",
    "len(test0)"
   ]
  },
  {
   "cell_type": "code",
   "execution_count": 23,
   "metadata": {
    "collapsed": false,
    "scrolled": true
   },
   "outputs": [],
   "source": [
    "# test0"
   ]
  },
  {
   "cell_type": "code",
   "execution_count": 24,
   "metadata": {
    "collapsed": false,
    "scrolled": true
   },
   "outputs": [],
   "source": [
    "# test0\n",
    "# test1\n",
    "# test2"
   ]
  },
  {
   "cell_type": "code",
   "execution_count": 25,
   "metadata": {
    "collapsed": false
   },
   "outputs": [],
   "source": [
    "from numpy import array\n",
    "# t0 = array( [1.] + test0.iloc[[0]].values.tolist()[0] )\n",
    "# t1 = array( [1.] + test0.iloc[[1]].values.tolist()[0] )\n",
    "# s0 = t0 - t1"
   ]
  },
  {
   "cell_type": "code",
   "execution_count": 26,
   "metadata": {
    "collapsed": false
   },
   "outputs": [],
   "source": [
    "# t0.shape"
   ]
  },
  {
   "cell_type": "code",
   "execution_count": 27,
   "metadata": {
    "collapsed": true
   },
   "outputs": [],
   "source": [
    "def score(coefficients, answer0, answer1):\n",
    "    sub = answer0 - answer1\n",
    "    score = sub.dot(coefficients)\n",
    "    if score >= 0:\n",
    "        return 1\n",
    "    else :\n",
    "        return -1"
   ]
  },
  {
   "cell_type": "code",
   "execution_count": 28,
   "metadata": {
    "collapsed": false
   },
   "outputs": [],
   "source": [
    "import operator\n",
    "import collections, math\n",
    "from collections import defaultdict\n",
    "# A_0_score = 0\n",
    "# print test0.icol[[30]]\n",
    "\n",
    "def Rank_List( AnswerList ):\n",
    "    Score_Map = collections.defaultdict(lambda : 0)\n",
    "    # print Score_Map\n",
    "    # Score_Map = {}\n",
    "    # Score_Map = defaultdict(lambda:0, Score_Map)\n",
    "    for i in range( len(AnswerList) - 1 ):\n",
    "\n",
    "        for j in range(i+1, len(AnswerList) ):\n",
    "\n",
    "            #print (i, j)\n",
    "\n",
    "            answer_i = array( [1.] + AnswerList.iloc[[i]].values.tolist()[0] )\n",
    "            answer_j = array( [1.] + AnswerList.iloc[[j]].values.tolist()[0] )\n",
    "\n",
    "            key_i = 'A_' + str(i) + '_score'\n",
    "            key_j = 'A_' + str(j) + '_score'\n",
    "\n",
    "            value_i = 0\n",
    "            value_j = 0\n",
    "            value_i += score(coefficients, answer_i, answer_j) \n",
    "            value_j -= score(coefficients, answer_i, answer_j)\n",
    "\n",
    "            Score_Map[key_i] += value_i\n",
    "            Score_Map[key_j] += value_j\n",
    "    \n",
    "    return Score_Map\n",
    "    # print Score_Map\n",
    "    # Sorted_scores = sorted(Score_Map.items(), key=operator.itemgetter(1), reverse=True)\n",
    "    # print Sorted_scores\n",
    "    # return Sorted_scores\n",
    "    "
   ]
  },
  {
   "cell_type": "code",
   "execution_count": 29,
   "metadata": {
    "collapsed": true
   },
   "outputs": [],
   "source": [
    "A0_List = Rank_List( test0 )\n",
    "A0_Sorted = sorted(A0_List.items(), key=operator.itemgetter(1), reverse=True)"
   ]
  },
  {
   "cell_type": "code",
   "execution_count": 30,
   "metadata": {
    "collapsed": false
   },
   "outputs": [
    {
     "data": {
      "text/plain": [
       "[('A_30_score', 36),\n",
       " ('A_9_score', 34),\n",
       " ('A_14_score', 32),\n",
       " ('A_1_score', 30),\n",
       " ('A_26_score', 28),\n",
       " ('A_31_score', 26),\n",
       " ('A_13_score', 24),\n",
       " ('A_0_score', 22),\n",
       " ('A_19_score', 20),\n",
       " ('A_24_score', 18),\n",
       " ('A_2_score', 16),\n",
       " ('A_20_score', 14),\n",
       " ('A_35_score', 12),\n",
       " ('A_22_score', 10),\n",
       " ('A_7_score', 8),\n",
       " ('A_25_score', 6),\n",
       " ('A_8_score', 4),\n",
       " ('A_6_score', 2),\n",
       " ('A_32_score', 0),\n",
       " ('A_17_score', -2),\n",
       " ('A_11_score', -4),\n",
       " ('A_33_score', -6),\n",
       " ('A_29_score', -8),\n",
       " ('A_36_score', -10),\n",
       " ('A_18_score', -12),\n",
       " ('A_28_score', -14),\n",
       " ('A_21_score', -16),\n",
       " ('A_34_score', -18),\n",
       " ('A_23_score', -20),\n",
       " ('A_10_score', -22),\n",
       " ('A_3_score', -24),\n",
       " ('A_4_score', -26),\n",
       " ('A_12_score', -28),\n",
       " ('A_27_score', -30),\n",
       " ('A_16_score', -32),\n",
       " ('A_15_score', -34),\n",
       " ('A_5_score', -36)]"
      ]
     },
     "execution_count": 30,
     "metadata": {},
     "output_type": "execute_result"
    }
   ],
   "source": [
    "A0_Sorted"
   ]
  },
  {
   "cell_type": "code",
   "execution_count": 31,
   "metadata": {
    "collapsed": false
   },
   "outputs": [],
   "source": [
    "# import operator\n",
    "# sorted_scores = sorted(Score_Map.items(), key=operator.itemgetter(1), reverse=True)\n",
    "\n",
    "A0_List = Rank_List( test0 )\n",
    "A1_List = Rank_List( test1 )\n",
    "A2_List = Rank_List( test2 )\n",
    "\n",
    "A0_Sorted = sorted(A0_List.items(), key=operator.itemgetter(1), reverse=True)\n",
    "A1_Sorted = sorted(A1_List.items(), key=operator.itemgetter(1), reverse=True)\n",
    "A2_Sorted = sorted(A2_List.items(), key=operator.itemgetter(1), reverse=True)\n",
    "# type(A0_List)"
   ]
  },
  {
   "cell_type": "code",
   "execution_count": 32,
   "metadata": {
    "collapsed": false
   },
   "outputs": [],
   "source": [
    "# A0_List['A_0_score']"
   ]
  },
  {
   "cell_type": "code",
   "execution_count": 33,
   "metadata": {
    "collapsed": false
   },
   "outputs": [
    {
     "data": {
      "text/plain": [
       "[('A_30_score', 36),\n",
       " ('A_9_score', 34),\n",
       " ('A_14_score', 32),\n",
       " ('A_1_score', 30),\n",
       " ('A_26_score', 28),\n",
       " ('A_31_score', 26),\n",
       " ('A_13_score', 24),\n",
       " ('A_0_score', 22),\n",
       " ('A_19_score', 20),\n",
       " ('A_24_score', 18),\n",
       " ('A_2_score', 16),\n",
       " ('A_20_score', 14),\n",
       " ('A_35_score', 12),\n",
       " ('A_22_score', 10),\n",
       " ('A_7_score', 8),\n",
       " ('A_25_score', 6),\n",
       " ('A_8_score', 4),\n",
       " ('A_6_score', 2),\n",
       " ('A_32_score', 0),\n",
       " ('A_17_score', -2),\n",
       " ('A_11_score', -4),\n",
       " ('A_33_score', -6),\n",
       " ('A_29_score', -8),\n",
       " ('A_36_score', -10),\n",
       " ('A_18_score', -12),\n",
       " ('A_28_score', -14),\n",
       " ('A_21_score', -16),\n",
       " ('A_34_score', -18),\n",
       " ('A_23_score', -20),\n",
       " ('A_10_score', -22),\n",
       " ('A_3_score', -24),\n",
       " ('A_4_score', -26),\n",
       " ('A_12_score', -28),\n",
       " ('A_27_score', -30),\n",
       " ('A_16_score', -32),\n",
       " ('A_15_score', -34),\n",
       " ('A_5_score', -36)]"
      ]
     },
     "execution_count": 33,
     "metadata": {},
     "output_type": "execute_result"
    }
   ],
   "source": [
    "A0_Sorted"
   ]
  },
  {
   "cell_type": "code",
   "execution_count": 34,
   "metadata": {
    "collapsed": false
   },
   "outputs": [
    {
     "data": {
      "text/plain": [
       "[('A_10_score', 31),\n",
       " ('A_16_score', 29),\n",
       " ('A_30_score', 27),\n",
       " ('A_7_score', 25),\n",
       " ('A_17_score', 23),\n",
       " ('A_28_score', 21),\n",
       " ('A_6_score', 19),\n",
       " ('A_15_score', 17),\n",
       " ('A_1_score', 15),\n",
       " ('A_5_score', 13),\n",
       " ('A_29_score', 11),\n",
       " ('A_26_score', 9),\n",
       " ('A_11_score', 7),\n",
       " ('A_3_score', 5),\n",
       " ('A_27_score', 3),\n",
       " ('A_19_score', 1),\n",
       " ('A_25_score', -1),\n",
       " ('A_4_score', -3),\n",
       " ('A_18_score', -5),\n",
       " ('A_0_score', -7),\n",
       " ('A_8_score', -9),\n",
       " ('A_12_score', -11),\n",
       " ('A_24_score', -13),\n",
       " ('A_22_score', -15),\n",
       " ('A_2_score', -17),\n",
       " ('A_14_score', -19),\n",
       " ('A_20_score', -21),\n",
       " ('A_9_score', -23),\n",
       " ('A_23_score', -25),\n",
       " ('A_13_score', -27),\n",
       " ('A_21_score', -29),\n",
       " ('A_31_score', -31)]"
      ]
     },
     "execution_count": 34,
     "metadata": {},
     "output_type": "execute_result"
    }
   ],
   "source": [
    "A1_Sorted"
   ]
  },
  {
   "cell_type": "code",
   "execution_count": 35,
   "metadata": {
    "collapsed": false
   },
   "outputs": [
    {
     "data": {
      "text/plain": [
       "[('A_3_score', 39),\n",
       " ('A_1_score', 37),\n",
       " ('A_0_score', 35),\n",
       " ('A_5_score', 33),\n",
       " ('A_19_score', 31),\n",
       " ('A_6_score', 29),\n",
       " ('A_18_score', 27),\n",
       " ('A_35_score', 25),\n",
       " ('A_17_score', 23),\n",
       " ('A_9_score', 21),\n",
       " ('A_10_score', 19),\n",
       " ('A_12_score', 17),\n",
       " ('A_36_score', 15),\n",
       " ('A_24_score', 13),\n",
       " ('A_23_score', 11),\n",
       " ('A_27_score', 9),\n",
       " ('A_22_score', 7),\n",
       " ('A_13_score', 5),\n",
       " ('A_15_score', 3),\n",
       " ('A_26_score', 1),\n",
       " ('A_21_score', -1),\n",
       " ('A_8_score', -3),\n",
       " ('A_33_score', -5),\n",
       " ('A_28_score', -7),\n",
       " ('A_16_score', -9),\n",
       " ('A_11_score', -11),\n",
       " ('A_14_score', -13),\n",
       " ('A_4_score', -15),\n",
       " ('A_30_score', -17),\n",
       " ('A_34_score', -19),\n",
       " ('A_39_score', -21),\n",
       " ('A_32_score', -23),\n",
       " ('A_31_score', -25),\n",
       " ('A_20_score', -27),\n",
       " ('A_2_score', -29),\n",
       " ('A_38_score', -31),\n",
       " ('A_25_score', -33),\n",
       " ('A_29_score', -35),\n",
       " ('A_7_score', -37),\n",
       " ('A_37_score', -39)]"
      ]
     },
     "execution_count": 35,
     "metadata": {},
     "output_type": "execute_result"
    }
   ],
   "source": [
    "A2_Sorted"
   ]
  },
  {
   "cell_type": "code",
   "execution_count": 36,
   "metadata": {
    "collapsed": false
   },
   "outputs": [],
   "source": [
    "Ave_List = {}\n",
    "for i in range(30) :\n",
    "    \n",
    "    key = 'A_' + str(i) + '_score'\n",
    "    \n",
    "    sum_score = A0_List[key] + A1_List[key] + A2_List[key]\n",
    "    ave_score = float(sum_score) / 3.0\n",
    "    \n",
    "    Ave_List[key] = ave_score\n",
    "    \n",
    "    # print ave_score"
   ]
  },
  {
   "cell_type": "code",
   "execution_count": 37,
   "metadata": {
    "collapsed": false
   },
   "outputs": [],
   "source": [
    "Ave_List = sorted(Ave_List.items(), key=operator.itemgetter(1), reverse=True)"
   ]
  },
  {
   "cell_type": "code",
   "execution_count": 39,
   "metadata": {
    "collapsed": false
   },
   "outputs": [
    {
     "data": {
      "text/plain": [
       "30"
      ]
     },
     "execution_count": 39,
     "metadata": {},
     "output_type": "execute_result"
    }
   ],
   "source": [
    "len( Ave_List )"
   ]
  },
  {
   "cell_type": "code",
   "execution_count": null,
   "metadata": {
    "collapsed": true
   },
   "outputs": [],
   "source": []
  }
 ],
 "metadata": {
  "kernelspec": {
   "display_name": "Python 2",
   "language": "python",
   "name": "python2"
  },
  "language_info": {
   "codemirror_mode": {
    "name": "ipython",
    "version": 2
   },
   "file_extension": ".py",
   "mimetype": "text/x-python",
   "name": "python",
   "nbconvert_exporter": "python",
   "pygments_lexer": "ipython2",
   "version": "2.7.11"
  }
 },
 "nbformat": 4,
 "nbformat_minor": 0
}
