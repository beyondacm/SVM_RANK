{
 "cells": [
  {
   "cell_type": "code",
   "execution_count": 1,
   "metadata": {
    "collapsed": true
   },
   "outputs": [],
   "source": [
    "import pandas as pd\n",
    "import numpy as np"
   ]
  },
  {
   "cell_type": "code",
   "execution_count": 2,
   "metadata": {
    "collapsed": true
   },
   "outputs": [],
   "source": [
    "def get_coefficients( File ) :\n",
    "    with open(File, 'r') as model :\n",
    "        for line in model :\n",
    "            performance = line.split(',')[0]\n",
    "            coefficients = line.split(',')[1:]\n",
    "    coefficients = [float(i) for i in coefficients]\n",
    "    return coefficients"
   ]
  },
  {
   "cell_type": "code",
   "execution_count": 3,
   "metadata": {
    "collapsed": false
   },
   "outputs": [],
   "source": [
    "svm_coefficients_01 = get_coefficients( '../../Model_Building/MODEL/SVM_11.txt' )"
   ]
  },
  {
   "cell_type": "code",
   "execution_count": 4,
   "metadata": {
    "collapsed": false
   },
   "outputs": [
    {
     "data": {
      "text/plain": [
       "float"
      ]
     },
     "execution_count": 4,
     "metadata": {},
     "output_type": "execute_result"
    }
   ],
   "source": [
    "type( svm_coefficients_01[0] )"
   ]
  },
  {
   "cell_type": "code",
   "execution_count": 5,
   "metadata": {
    "collapsed": false
   },
   "outputs": [],
   "source": [
    "# svm_coefficients_01"
   ]
  },
  {
   "cell_type": "code",
   "execution_count": 6,
   "metadata": {
    "collapsed": false
   },
   "outputs": [],
   "source": [
    "from numpy import array\n",
    "# t0 = array( [1.] + test0.iloc[[0]].values.tolist()[0] )\n",
    "# t1 = array( [1.] + test0.iloc[[1]].values.tolist()[0] )\n",
    "# s0 = t0 - t1"
   ]
  },
  {
   "cell_type": "code",
   "execution_count": 7,
   "metadata": {
    "collapsed": false
   },
   "outputs": [],
   "source": [
    "# t0.shape"
   ]
  },
  {
   "cell_type": "code",
   "execution_count": 8,
   "metadata": {
    "collapsed": true
   },
   "outputs": [],
   "source": [
    "def score(coefficients, answer0, answer1):\n",
    "    sub = answer0 - answer1\n",
    "    score = sub.dot(coefficients)\n",
    "    if score >= 0:\n",
    "        return 1\n",
    "    else :\n",
    "        return -1"
   ]
  },
  {
   "cell_type": "code",
   "execution_count": 9,
   "metadata": {
    "collapsed": false
   },
   "outputs": [],
   "source": [
    "import operator\n",
    "import collections, math\n",
    "from collections import defaultdict\n",
    "# A_0_score = 0\n",
    "# print test0.icol[[30]]\n",
    "\n",
    "def Rank_List( AnswerList, coefficients ):\n",
    "    Score_Map = collections.defaultdict(lambda : 0)\n",
    "    # print Score_Map\n",
    "    # Score_Map = {}\n",
    "    # Score_Map = defaultdict(lambda:0, Score_Map)\n",
    "    for i in range( len(AnswerList) - 1 ):\n",
    "\n",
    "        for j in range(i+1, len(AnswerList) ):\n",
    "\n",
    "            #print (i, j)\n",
    "\n",
    "            answer_i = array( [1.] + AnswerList.iloc[[i]].values.tolist()[0] )\n",
    "            answer_j = array( [1.] + AnswerList.iloc[[j]].values.tolist()[0] )\n",
    "\n",
    "            key_i = 'A_' + str(i) + '_score'\n",
    "            key_j = 'A_' + str(j) + '_score'\n",
    "\n",
    "            value_i = 0\n",
    "            value_j = 0\n",
    "            value_i += score(coefficients, answer_i, answer_j) \n",
    "            value_j -= score(coefficients, answer_i, answer_j)\n",
    "\n",
    "            Score_Map[key_i] += value_i\n",
    "            Score_Map[key_j] += value_j\n",
    "    \n",
    "    return Score_Map\n",
    "    # print Score_Map\n",
    "    # Sorted_scores = sorted(Score_Map.items(), key=operator.itemgetter(1), reverse=True)\n",
    "    # print Sorted_scores\n",
    "    # return Sorted_scores\n",
    "    "
   ]
  },
  {
   "cell_type": "code",
   "execution_count": 10,
   "metadata": {
    "collapsed": true
   },
   "outputs": [],
   "source": [
    "def writeDict(Dict, filename, sep):\n",
    "    with open(filename, \"w\") as f:\n",
    "#        for key in dict.keys():            \n",
    "#            f.write(str(key) + \":\" + str(dict[key]) + \"\\n\")\n",
    "        for key, value in sorted( Dict.items() ):\n",
    "            f.write( str(key) + sep + str(value) + '\\n' )\n",
    "\n",
    "def writeList(List, filename) :\n",
    "    with open(filename, 'w') as f:\n",
    "        for i in range( len(List) ) :\n",
    "            # print List[i][0]\n",
    "            # print List[i][1]\n",
    "            f.write( str(List[i][0]) + ':' + str(List[i][1]) + '\\n')\n",
    "            \n",
    "def readDict(filename, sep):\n",
    "    with open(filename, \"r\") as f:\n",
    "        dict = {}\n",
    "        for line in f:\n",
    "            values = line.split(sep)\n",
    "            key = values[0]\n",
    "            value = int(values[1])\n",
    "            #value = values[1].split(',')\n",
    "            #dict[values[0]] = {int(x) for x in values[1:len(values)]}\n",
    "            dict[key] = value\n",
    "        return dict "
   ]
  },
  {
   "cell_type": "code",
   "execution_count": 11,
   "metadata": {
    "collapsed": true
   },
   "outputs": [],
   "source": [
    "import os \n",
    "data_path = './SVM_Data/TEST/'\n",
    "file_list = os.listdir(data_path)"
   ]
  },
  {
   "cell_type": "code",
   "execution_count": 12,
   "metadata": {
    "collapsed": false
   },
   "outputs": [],
   "source": [
    "File_List_Len = len ( file_list )"
   ]
  },
  {
   "cell_type": "code",
   "execution_count": 13,
   "metadata": {
    "collapsed": false
   },
   "outputs": [
    {
     "data": {
      "text/plain": [
       "100"
      ]
     },
     "execution_count": 13,
     "metadata": {},
     "output_type": "execute_result"
    }
   ],
   "source": [
    "File_List_Len"
   ]
  },
  {
   "cell_type": "code",
   "execution_count": 14,
   "metadata": {
    "collapsed": true
   },
   "outputs": [],
   "source": [
    "# test0 = pd.read_csv('./SVM_Data/TEST/test_0.csv')"
   ]
  },
  {
   "cell_type": "code",
   "execution_count": 15,
   "metadata": {
    "collapsed": false
   },
   "outputs": [],
   "source": [
    "# Answer_Rank = []\n",
    "for i in range(File_List_Len) :\n",
    "    input_file_name = 'test_' + str(i) + '.csv'\n",
    "    # print input_file_name\n",
    "    test_i = pd.read_csv('./SVM_Data/TEST/' + input_file_name )\n",
    "    test_i = test_i.fillna(0)\n",
    "    \n",
    "    output_file_name = 'test_' + str(i) + '_dict.txt'\n",
    "    \n",
    "    # Rank test_i with given coefficients\n",
    "    Ai_List = Rank_List(test_i, svm_coefficients_01)\n",
    "    # Ai_Sorted = sorted(Ai_List.items(), key=operator.itemgetter(1), reverse=True)\n",
    "    \n",
    "    writeDict( Ai_List , './SVM_Data/RANK/' + output_file_name, ':')\n",
    "    # print Rank_List(test_i) "
   ]
  },
  {
   "cell_type": "code",
   "execution_count": 16,
   "metadata": {
    "collapsed": false
   },
   "outputs": [],
   "source": [
    "import operator\n",
    "for i in range(File_List_Len) :\n",
    "    input_file_name = 'test_' + str(i) + '_dict.txt'\n",
    "    output_file_name = 'test_' + str(i) + '_sorted.txt'\n",
    "    # print input_file_name\n",
    "    Ai_Dict = readDict('./SVM_Data/RANK/' + input_file_name, ':')\n",
    "    # print type(Ai_Dict)\n",
    "    Ai_Sorted = sorted(Ai_Dict.items(), key=operator.itemgetter(1), reverse=True)\n",
    "    # print Ai_Sorted\n",
    "    writeList(Ai_Sorted, './SVM_Data/RANK/' + output_file_name)\n",
    "    # writeDict(Ai_Sorted, './SVM_Data/RANK/' + output_file_name, ':')"
   ]
  },
  {
   "cell_type": "code",
   "execution_count": 17,
   "metadata": {
    "collapsed": true
   },
   "outputs": [],
   "source": [
    "def Get_Sum_Score( key ) :\n",
    "    sum_score = 0.0\n",
    "    for i in range(File_List_Len) :\n",
    "        input_file_name = 'test_' + str(i) + '_dict.txt'\n",
    "        Ai_Dict = readDict('./SVM_Data/RANK/' + input_file_name, ':')\n",
    "        # print type(Ai_Dict[key])\n",
    "        # print Ai_Dict[key] \n",
    "        # if Ai_Dict[key] is None :\n",
    "            # Ai_Dict[key] = 0\n",
    "        if key in Ai_Dict :\n",
    "            # print Ai_Dict[key]\n",
    "            sum_score += Ai_Dict[key]\n",
    "    return sum_score"
   ]
  },
  {
   "cell_type": "code",
   "execution_count": 18,
   "metadata": {
    "collapsed": false
   },
   "outputs": [
    {
     "data": {
      "text/plain": [
       "166.0"
      ]
     },
     "execution_count": 18,
     "metadata": {},
     "output_type": "execute_result"
    }
   ],
   "source": [
    "Get_Sum_Score( 'A_0_score' )"
   ]
  },
  {
   "cell_type": "code",
   "execution_count": 19,
   "metadata": {
    "collapsed": false,
    "scrolled": true
   },
   "outputs": [],
   "source": [
    "Ave_List = {}\n",
    "for i in range(10) :\n",
    "    \n",
    "    key = 'A_' + str(i) + '_score'\n",
    "    \n",
    "    sum_score = Get_Sum_Score( key )\n",
    "    ave_score = float(sum_score) / File_List_Len\n",
    "    \n",
    "    Ave_List[key] = ave_score\n",
    "\n",
    "Ave_List = sorted(Ave_List.items(), key=operator.itemgetter(1), reverse=True)\n",
    "# print ave_score"
   ]
  },
  {
   "cell_type": "code",
   "execution_count": 20,
   "metadata": {
    "collapsed": false
   },
   "outputs": [
    {
     "data": {
      "text/plain": [
       "[('A_0_score', 1.66),\n",
       " ('A_1_score', 1.04),\n",
       " ('A_9_score', 0.14),\n",
       " ('A_6_score', -0.02),\n",
       " ('A_4_score', -0.1),\n",
       " ('A_7_score', -0.12),\n",
       " ('A_8_score', -0.24),\n",
       " ('A_5_score', -0.58),\n",
       " ('A_3_score', -0.68),\n",
       " ('A_2_score', -1.02)]"
      ]
     },
     "execution_count": 20,
     "metadata": {},
     "output_type": "execute_result"
    }
   ],
   "source": [
    "Ave_List"
   ]
  },
  {
   "cell_type": "code",
   "execution_count": 21,
   "metadata": {
    "collapsed": false
   },
   "outputs": [],
   "source": [
    "# len( Ave_List )"
   ]
  },
  {
   "cell_type": "code",
   "execution_count": 22,
   "metadata": {
    "collapsed": true
   },
   "outputs": [],
   "source": [
    "# row 代表读取文件的第几行\n",
    "# rank 代表要匹配这一行的答案\n",
    "\n",
    "def hit( filename, row, rank ) :\n",
    "    # print type(rank)\n",
    "    hit = 0\n",
    "    with open('./SVM_Data/RANK/' + filename, 'r') as f:\n",
    "        \n",
    "        while( int(row) > 0) :\n",
    "            f.readline()\n",
    "            row = row - 1\n",
    "        \n",
    "        answer = f.readline()\n",
    "        answer_key = answer.split(':')[0]\n",
    "        # print answer_key\n",
    "        answer_rank = answer_key.split('_')[1]\n",
    "        # print answer_rank\n",
    "        if int(rank) == int(answer_rank) :\n",
    "                hit = 1\n",
    "        else :\n",
    "            hit = 0\n",
    "    return hit"
   ]
  },
  {
   "cell_type": "code",
   "execution_count": 26,
   "metadata": {
    "collapsed": false
   },
   "outputs": [
    {
     "name": "stdout",
     "output_type": "stream",
     "text": [
      "33 19 10 11 12\n"
     ]
    }
   ],
   "source": [
    "model_hit_best = 0\n",
    "model_hit_second = 0\n",
    "model_hit_third = 0 \n",
    "model_hit_4th = 0\n",
    "model_hit_5th = 0\n",
    "for i in range(File_List_Len) :\n",
    "    \n",
    "    input_file_name = 'test_' + str(i) + '_sorted.txt'\n",
    "    \n",
    "    model_hit_best += hit( input_file_name, 0, 0 )\n",
    "    \n",
    "    model_hit_second += hit( input_file_name, 0, 1 )\n",
    "    \n",
    "    model_hit_third += hit( input_file_name, 0, 2)\n",
    "    \n",
    "    model_hit_4th += hit( input_file_name, 0, 3)\n",
    "    \n",
    "    model_hit_5th += hit( input_file_name, 0, 4)\n",
    "    \n",
    "print model_hit_best, model_hit_second, model_hit_third, model_hit_4th, model_hit_5th\n",
    "    "
   ]
  },
  {
   "cell_type": "code",
   "execution_count": null,
   "metadata": {
    "collapsed": true
   },
   "outputs": [],
   "source": []
  }
 ],
 "metadata": {
  "kernelspec": {
   "display_name": "Python 2",
   "language": "python",
   "name": "python2"
  },
  "language_info": {
   "codemirror_mode": {
    "name": "ipython",
    "version": 2
   },
   "file_extension": ".py",
   "mimetype": "text/x-python",
   "name": "python",
   "nbconvert_exporter": "python",
   "pygments_lexer": "ipython2",
   "version": "2.7.10"
  }
 },
 "nbformat": 4,
 "nbformat_minor": 0
}
