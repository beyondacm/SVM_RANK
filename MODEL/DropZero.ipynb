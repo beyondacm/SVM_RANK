{
 "cells": [
  {
   "cell_type": "code",
   "execution_count": 1,
   "metadata": {
    "collapsed": true
   },
   "outputs": [],
   "source": [
    "import pandas as pd\n",
    "import numpy as np"
   ]
  },
  {
   "cell_type": "code",
   "execution_count": 2,
   "metadata": {
    "collapsed": false
   },
   "outputs": [],
   "source": [
    "match_best = pd.read_csv('./SVM_Data/match_best.csv')\n",
    "match_second = pd.read_csv('./SVM_Data/match_second.csv')\n",
    "match_third = pd.read_csv('./SVM_Data/match_third.csv')\n",
    "raw_data = pd.read_csv('./SVM_Data/raw_data.csv')\n",
    "training_data = pd.read_csv('./SVM_Data/Train_valid.csv')\n",
    "testing_data = pd.read_csv('./SVM_Data/Test.csv')\n",
    "\n",
    "#test0 = pd.read_csv('./SVM_Data/test0.csv')\n",
    "#test1 = pd.read_csv('./SVM_Data/test1.csv')\n",
    "#test2 = pd.read_csv('./SVM_Data/test2.csv')"
   ]
  },
  {
   "cell_type": "code",
   "execution_count": 3,
   "metadata": {
    "collapsed": false
   },
   "outputs": [],
   "source": [
    "# match_best"
   ]
  },
  {
   "cell_type": "code",
   "execution_count": 4,
   "metadata": {
    "collapsed": false
   },
   "outputs": [],
   "source": [
    "match_best.drop(match_best.columns[[2, 7]], inplace=True, axis=1)\n",
    "match_second.drop(match_second.columns[[2, 7]], inplace=True, axis=1)\n",
    "match_third.drop(match_third.columns[[2, 7]], inplace=True, axis=1)\n",
    "raw_data.drop(raw_data.columns[[2, 7]], inplace=True, axis=1)\n",
    "training_data.drop(training_data.columns[[2, 7]], inplace=True, axis=1)\n",
    "testing_data.drop(testing_data.columns[[2, 7]], inplace=True, axis=1)\n",
    "\n",
    "#test0.drop(match_best.columns[[2, 7]], inplace=True, axis=1)\n",
    "#test1.drop(match_best.columns[[2, 7]], inplace=True, axis=1)\n",
    "#test2.drop(match_best.columns[[2, 7]], inplace=True, axis=1)"
   ]
  },
  {
   "cell_type": "code",
   "execution_count": 5,
   "metadata": {
    "collapsed": false
   },
   "outputs": [],
   "source": [
    "# test0"
   ]
  },
  {
   "cell_type": "code",
   "execution_count": 6,
   "metadata": {
    "collapsed": false
   },
   "outputs": [],
   "source": [
    "match_best.to_csv('./MODEL_Data/match_best.csv', encoding='utf-8', index = False, header=False)\n",
    "match_second.to_csv('./MODEL_Data/match_second.csv', encoding='utf-8', index=False, header=False)\n",
    "match_third.to_csv('./MODEL_Data/match_third.csv', encoding='utf-8', index=False, header=False)\n",
    "raw_data.to_csv('./MODEL_Data/raw_data.csv', encoding='utf-8', index=False, header=False)\n",
    "training_data.to_csv('./MODEL_Data/training_data.csv', encoding='utf-8', index=False, header=False)\n",
    "testing_data.to_csv('./MODEL_Data/testing_data.csv', encoding='utf-8', index=False, header=False)\n",
    "\n",
    "#test0.to_csv('./Model_Data/test0.csv', encoding='utf-8', index=False)\n",
    "#test1.to_csv('./Model_Data/test1.csv', encoding='utf-8', index=False)\n",
    "#test2.to_csv('./Model_Data/test2.csv', encoding='utf-8', index=False)"
   ]
  },
  {
   "cell_type": "code",
   "execution_count": 7,
   "metadata": {
    "collapsed": false
   },
   "outputs": [],
   "source": [
    "for i in range(200) :\n",
    "    filename = 'test_' + str(i) + '.csv'\n",
    "    test_i = pd.read_csv('./SVM_Data/TEST/' + filename)\n",
    "    test_i.drop(test_i.columns[[2, 7]], inplace=True, axis=1)\n",
    "    test_i.to_csv('./MODEL_Data/TEST/' + filename , encoding='utf-8', index=False, header=False)"
   ]
  },
  {
   "cell_type": "code",
   "execution_count": null,
   "metadata": {
    "collapsed": true
   },
   "outputs": [],
   "source": []
  }
 ],
 "metadata": {
  "kernelspec": {
   "display_name": "Python 2",
   "language": "python",
   "name": "python2"
  },
  "language_info": {
   "codemirror_mode": {
    "name": "ipython",
    "version": 2
   },
   "file_extension": ".py",
   "mimetype": "text/x-python",
   "name": "python",
   "nbconvert_exporter": "python",
   "pygments_lexer": "ipython2",
   "version": "2.7.10"
  }
 },
 "nbformat": 4,
 "nbformat_minor": 0
}
