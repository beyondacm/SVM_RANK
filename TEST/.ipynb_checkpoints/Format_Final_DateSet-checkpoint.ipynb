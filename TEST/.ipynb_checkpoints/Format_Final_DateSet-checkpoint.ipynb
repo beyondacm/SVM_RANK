{
 "cells": [
  {
   "cell_type": "code",
   "execution_count": 1,
   "metadata": {
    "collapsed": true
   },
   "outputs": [],
   "source": [
    "import pandas as pd\n",
    "import numpy as np\n",
    "import operator\n",
    "import re"
   ]
  },
  {
   "cell_type": "code",
   "execution_count": 2,
   "metadata": {
    "collapsed": true
   },
   "outputs": [],
   "source": [
    "def readDict(filename, sep):\n",
    "    with open(filename, \"r\") as f:\n",
    "        dict = {}\n",
    "        for line in f:\n",
    "            values = line.split(sep)\n",
    "            key = values[0]\n",
    "            value = values[1].strip().split(',')\n",
    "            results = map(int, value)\n",
    "            #dict[values[0]] = {int(x) for x in values[1:len(values)]}\n",
    "            dict[key] = results\n",
    "        return(dict)"
   ]
  },
  {
   "cell_type": "code",
   "execution_count": 3,
   "metadata": {
    "collapsed": false
   },
   "outputs": [],
   "source": [
    "Total_Test = pd.read_csv('../Total_Test_AfterProcessing.csv')"
   ]
  },
  {
   "cell_type": "code",
   "execution_count": 4,
   "metadata": {
    "collapsed": false
   },
   "outputs": [],
   "source": [
    "# Total_Test   # 39569 rows × 18 columns"
   ]
  },
  {
   "cell_type": "code",
   "execution_count": 5,
   "metadata": {
    "collapsed": false
   },
   "outputs": [],
   "source": [
    "Similar_Index_List = readDict('../SIMILAR/Similar_Index_List.txt', ':')"
   ]
  },
  {
   "cell_type": "code",
   "execution_count": 8,
   "metadata": {
    "collapsed": false,
    "scrolled": true
   },
   "outputs": [
    {
     "data": {
      "text/plain": [
       "100"
      ]
     },
     "execution_count": 8,
     "metadata": {},
     "output_type": "execute_result"
    }
   ],
   "source": [
    "len( Similar_Index_List )"
   ]
  },
  {
   "cell_type": "code",
   "execution_count": 9,
   "metadata": {
    "collapsed": false
   },
   "outputs": [],
   "source": [
    "best_answer = pd.read_csv('./MATCH/best_answer.csv')\n",
    "second_answer = pd.read_csv('./MATCH/second_answer.csv')\n",
    "third_answer = pd.read_csv('./MATCH/third_answer.csv')\n",
    "\n",
    "best_similar_01 = pd.read_csv('./SIMILAR/best_similar_01.csv')\n",
    "best_similar_02 = pd.read_csv('./SIMILAR/best_similar_02.csv')\n",
    "best_similar_03 = pd.read_csv('./SIMILAR/best_similar_03.csv')\n",
    "\n",
    "second_similar_01 = pd.read_csv('./SIMILAR/second_similar_01.csv')\n",
    "second_similar_02 = pd.read_csv('./SIMILAR/second_similar_02.csv')\n",
    "second_similar_03 = pd.read_csv('./SIMILAR/second_similar_03.csv')\n",
    "\n",
    "third_similar_01 = pd.read_csv('./SIMILAR/third_similar_01.csv')\n",
    "third_similar_02 = pd.read_csv('./SIMILAR/third_similar_02.csv')\n",
    "third_similar_03 = pd.read_csv('./SIMILAR/third_similar_03.csv')\n",
    "\n",
    "best_non_match = pd.read_csv('./NON-MATCH/best_non_match.csv')\n",
    "second_non_match = pd.read_csv('./NON-MATCH/second_non_match.csv')\n",
    "third_non_match = pd.read_csv('./NON-MATCH/third_non_match.csv')\n",
    "\n",
    "\n",
    "Final_Test_Set = best_answer\n",
    "Final_Test_Set = Final_Test_Set.append(second_answer)\n",
    "Final_Test_Set = Final_Test_Set.append(third_answer)\n",
    "\n",
    "Final_Test_Set = Final_Test_Set.append(best_similar_01)\n",
    "Final_Test_Set = Final_Test_Set.append(second_similar_01)\n",
    "Final_Test_Set = Final_Test_Set.append(third_similar_01)\n",
    "\n",
    "Final_Test_Set = Final_Test_Set.append(best_similar_02)\n",
    "Final_Test_Set = Final_Test_Set.append(second_similar_02)\n",
    "Final_Test_Set = Final_Test_Set.append(third_similar_02)\n",
    "\n",
    "Final_Test_Set = Final_Test_Set.append(best_similar_03)\n",
    "Final_Test_Set = Final_Test_Set.append(second_similar_03)\n",
    "Final_Test_Set = Final_Test_Set.append(third_similar_03)\n",
    "\n",
    "Final_Test_Set = Final_Test_Set.append(best_non_match)\n",
    "Final_Test_Set = Final_Test_Set.append(second_non_match)\n",
    "Final_Test_Set = Final_Test_Set.append(third_non_match)"
   ]
  },
  {
   "cell_type": "code",
   "execution_count": 11,
   "metadata": {
    "collapsed": false
   },
   "outputs": [],
   "source": [
    "# Final_Test_Set  29385 rows × 18 columns"
   ]
  },
  {
   "cell_type": "code",
   "execution_count": 12,
   "metadata": {
    "collapsed": true
   },
   "outputs": [],
   "source": [
    "def Generate_Test_Set(Dataset, Index_List):\n",
    "    # get the dataframe according to the Index\n",
    "    Test = Dataset.iloc[Index_List]\n",
    "    TestSet = pd.DataFrame(Test)\n",
    "    \n",
    "    return TestSet"
   ]
  },
  {
   "cell_type": "code",
   "execution_count": 13,
   "metadata": {
    "collapsed": true
   },
   "outputs": [],
   "source": [
    "def Replace_QList(Data_Set, Q_IndexList) :\n",
    "    Q_Content = Total_Test.iloc[ [ Q_IndexList[0] ] ]['question_content'].all()\n",
    "    Q_Tags = Total_Test.iloc[ [ Q_IndexList[0] ] ]['question_tags'].all()\n",
    "    Data_Set['question_content'] = Q_Content\n",
    "    Data_Set['question_tags'] = Q_Tags\n",
    "    return Data_Set"
   ]
  },
  {
   "cell_type": "code",
   "execution_count": 14,
   "metadata": {
    "collapsed": false
   },
   "outputs": [
    {
     "name": "stdout",
     "output_type": "stream",
     "text": [
      "688\n"
     ]
    }
   ],
   "source": [
    "total_numOfTest = 0\n",
    "Test_Len = []\n",
    "for i in range( len(Similar_Index_List) ) :\n",
    "    key = 'Q' + str(i) + '_Similar_List'\n",
    "    value = Similar_Index_List[key]\n",
    "    # print len( value )\n",
    "    Test_Len.append( len(value) )\n",
    "    total_numOfTest += len(value)\n",
    "    \n",
    "    Qi_Test = Generate_Test_Set(Total_Test, value)\n",
    "    Qi_Test = Replace_QList( Qi_Test, value)\n",
    "    Final_Test_Set = Final_Test_Set.append(Qi_Test)\n",
    "print total_numOfTest"
   ]
  },
  {
   "cell_type": "code",
   "execution_count": 16,
   "metadata": {
    "collapsed": false
   },
   "outputs": [],
   "source": [
    "# Final_Test_Set 30073 rows × 18 columns"
   ]
  },
  {
   "cell_type": "code",
   "execution_count": 17,
   "metadata": {
    "collapsed": false
   },
   "outputs": [
    {
     "name": "stdout",
     "output_type": "stream",
     "text": [
      "[7, 6, 6, 6, 10, 7, 8, 10, 7, 5, 6, 7, 7, 7, 7, 6, 5, 7, 5, 6, 6, 6, 5, 7, 6, 10, 6, 7, 8, 6, 5, 6, 5, 10, 5, 8, 13, 18, 7, 6, 6, 8, 7, 8, 5, 5, 6, 10, 6, 10, 5, 6, 5, 6, 9, 7, 8, 6, 8, 6, 5, 7, 6, 8, 5, 6, 5, 8, 8, 5, 9, 10, 6, 6, 7, 7, 6, 9, 12, 8, 5, 8, 7, 6, 5, 9, 5, 6, 6, 6, 5, 6, 6, 5, 6, 5, 6, 6, 10, 5]\n"
     ]
    }
   ],
   "source": [
    "print Test_Len"
   ]
  },
  {
   "cell_type": "code",
   "execution_count": 18,
   "metadata": {
    "collapsed": false
   },
   "outputs": [],
   "source": [
    "# Final_Test_Set  # 11971 x 18\n",
    "# Final_Test_Set = Final_Test_Set[10020:]\n",
    "# Final_Test_Set"
   ]
  },
  {
   "cell_type": "code",
   "execution_count": 19,
   "metadata": {
    "collapsed": true
   },
   "outputs": [],
   "source": [
    "Final_Test_Set.to_csv('./Final_Test_Set.csv', encoding='utf-8', index = False)"
   ]
  },
  {
   "cell_type": "code",
   "execution_count": 20,
   "metadata": {
    "collapsed": false
   },
   "outputs": [],
   "source": [
    "# Final_Test_Set"
   ]
  },
  {
   "cell_type": "code",
   "execution_count": 21,
   "metadata": {
    "collapsed": true
   },
   "outputs": [],
   "source": [
    "Final_Test_Set = pd.read_csv('./Final_Test_Set.csv')"
   ]
  },
  {
   "cell_type": "code",
   "execution_count": 23,
   "metadata": {
    "collapsed": false,
    "scrolled": true
   },
   "outputs": [],
   "source": [
    "# Final_Test_Set   # 30073 rows × 18 columns"
   ]
  },
  {
   "cell_type": "code",
   "execution_count": null,
   "metadata": {
    "collapsed": true
   },
   "outputs": [],
   "source": []
  }
 ],
 "metadata": {
  "kernelspec": {
   "display_name": "Python 2",
   "language": "python",
   "name": "python2"
  },
  "language_info": {
   "codemirror_mode": {
    "name": "ipython",
    "version": 2
   },
   "file_extension": ".py",
   "mimetype": "text/x-python",
   "name": "python",
   "nbconvert_exporter": "python",
   "pygments_lexer": "ipython2",
   "version": "2.7.11"
  }
 },
 "nbformat": 4,
 "nbformat_minor": 0
}
