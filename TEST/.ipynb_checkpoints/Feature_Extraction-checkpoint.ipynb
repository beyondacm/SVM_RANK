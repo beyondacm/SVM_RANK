{
 "cells": [
  {
   "cell_type": "code",
   "execution_count": 1,
   "metadata": {
    "collapsed": true
   },
   "outputs": [],
   "source": [
    "import pandas as pd\n",
    "import numpy as np\n",
    "import operator\n",
    "import re\n",
    "import sys\n",
    "import os"
   ]
  },
  {
   "cell_type": "markdown",
   "metadata": {},
   "source": [
    "# Extract Features From MATCH / NON-MATCH"
   ]
  },
  {
   "cell_type": "code",
   "execution_count": 2,
   "metadata": {
    "collapsed": true
   },
   "outputs": [],
   "source": [
    "def extract_normal_features(path_in, path_normal): \n",
    "    m = pd.read_csv(path_in)\n",
    "\n",
    "    # calculate the features\n",
    "    # question_id :\n",
    "    question_id = m['question_id']\n",
    "    question_id.to_csv(path_normal+'/qid.txt')\n",
    "\n",
    "    # vote :\n",
    "    vote = m['answer_voted']\n",
    "    vote.to_csv(path_normal+'/vote.txt')\n",
    "\n",
    "    # feature1 : length of the answer_content \n",
    "    #answer_content = m[['answer_content','user_id']]\n",
    "    answer_content = m['answer_content']\n",
    "    # f1 : length of the answer_content\n",
    "    f1 = answer_content.str.len()\n",
    "    f1.to_csv(path_normal+'/f1.txt')\n",
    "    #print answer_content\n",
    "\n",
    "\n",
    "    # feature2 : length of the user_introduction\n",
    "    user_intro = m['user_intro']\n",
    "    #print user_intro\n",
    "    f2 = user_intro.str.len()\n",
    "    f2.to_csv(path_normal+'/f2.txt')\n",
    "    #print f2\n",
    "\n",
    "\n",
    "    # feature3 : length of the question_content\n",
    "    question_content = m['question_content']\n",
    "    f3 = question_content.str.len()\n",
    "    #print f3\n",
    "    f3.to_csv(path_normal+'/f3.txt')\n",
    "\n",
    "\n",
    "    # feature4: user's experience years\n",
    "    user_exp = m['user_exp']\n",
    "    f4 = m['user_exp']\n",
    "    f4 = f4.str.extract('([0-9]*)')\n",
    "    f4.to_csv(path_normal+'/f4.txt')\n",
    "    #print f4\n",
    "\n",
    "    # feature5 : length of the user's edu\n",
    "    user_edu = m['user_edu']\n",
    "    f5 = user_edu.str.len()\n",
    "    f5.to_csv(path_normal+'/f5.txt')\n",
    "    #print f5\n",
    "\n",
    "\n",
    "    # feature6 : number of topics of user's interest\n",
    "    user_interest = m['user_interest'].str.split(' ')\n",
    "    f6 = user_interest.str.len()\n",
    "    f6.to_csv(path_normal+'/f6.txt')\n",
    "    #print f6\n",
    "\n",
    "\n",
    "    # feature7 : number of the people user followed\n",
    "    user_followed = m['user_followed'].str.split(',')\n",
    "    f7 = user_followed.str.len()\n",
    "    f7.to_csv(path_normal+'/f7.txt')\n",
    "    #print f7\n",
    "\n",
    "    # feature8 : number of the question tags\n",
    "    question_tags = m['question_tags'].str.split(' ')\n",
    "    f8 = question_tags.str.len()\n",
    "    f8.to_csv(path_normal+'/f8.txt')\n",
    "    #print f8\n",
    "\n",
    "\n",
    "    # feature9 : number of saved lives\n",
    "    saved_lives = m['user_saved']\n",
    "    f9 = saved_lives\n",
    "    f9.to_csv(path_normal+'/f9.txt')\n",
    "    #print f9\n",
    "\n",
    "\n",
    "    # feature10 : number of recieved thanks\n",
    "    recieved_thanks = m['user_thanks']\n",
    "    #recieved_thanks = str(recieved_thanks)\n",
    "    f10 = recieved_thanks.str.replace(',','')\n",
    "    f10.to_csv(path_normal+'/f10.txt')\n",
    "    #print f10\n",
    "\n",
    "\n",
    "    # feature11 : number of agrees\n",
    "    recieved_agrees = m['user_agrees']\n",
    "    f11 = recieved_agrees.str.replace(',','')\n",
    "    f11.to_csv(path_normal+'/f11.txt')\n",
    "    #print f11\n",
    "\n",
    "\n",
    "    # feature12 : nuber of helped people\n",
    "    helped = m['user_helped']\n",
    "    f12 = helped.str.replace(',','')\n",
    "    f12.to_csv(path_normal+'/f12.txt')\n",
    "    #print f12\n",
    "\n",
    "\n",
    "    # feature13 : number of doctor recommend\n",
    "    recommend = m['user_recommends']\n",
    "    f13 = recommend.str.len()\n",
    "    f13.to_csv(path_normal+'/f13.txt')\n",
    "    #print f13\n",
    "\n",
    "\n",
    "# Extracting for the TEXT FEATRUES\n",
    "def extract_text_features(path_in, path_text):\n",
    "    \n",
    "    m = pd.read_csv(path_in)\n",
    "\n",
    "    # Process with the question_content\n",
    "    qc = m['question_content']\n",
    "    qc.to_csv(path_text+'/question_content.txt', encoding='utf-8', index = False)\n",
    "\n",
    "    # Process with the answer_content\n",
    "    ac = m['answer_content']\n",
    "    ac.to_csv(path_text+'/answer_content.txt', encoding='utf-8', index = False)\n",
    "\n",
    "    # Process with the user_recommends\n",
    "    ur = m['user_recommends'].astype(str)\n",
    "    ur.to_csv(path_text+'/user_recommends.txt', encoding='utf-8', index = False)\n",
    "\n",
    "    # Process with question_tags\n",
    "    qt = m['question_tags'].astype(str)\n",
    "    qt.to_csv(path_text+'/question_tags.txt', encoding='utf-8', index = False)\n",
    "\n",
    "    # Process with user_interest\n",
    "    ut = m['user_interest'].astype(str)\n",
    "    ut.to_csv(path_text+'/user_interest.txt', encoding='utf-8', index = False)\n",
    "\n",
    "    # Proecess with user_specialty\n",
    "    us = m['user_specialty'].astype(str)\n",
    "    us.to_csv(path_text+'/user_specialty.txt', encoding='utf-8', index = False)"
   ]
  },
  {
   "cell_type": "code",
   "execution_count": 3,
   "metadata": {
    "collapsed": false
   },
   "outputs": [],
   "source": [
    "from itertools import izip\n",
    "\n",
    "def unique(a):\n",
    "    return list(set(a))\n",
    "\n",
    "def intersect(a,b):\n",
    "    return list(set(a)&set(b))\n",
    "\n",
    "def union(a,b):\n",
    "    return list(set(a) | set(b))\n",
    "\n",
    "def write_overlap_file(fout, overlap_list, count):\n",
    "    num_overlap = len(overlap_list) \n",
    "    fout.write(str(count)+',')\n",
    "    fout.write(' '.join(overlap_list))\n",
    "    fout.write(','+str(num_overlap)+'\\n')   \n",
    "\n",
    "    \n",
    "# Run this code for best_answer_features\n",
    "# PATH_IN = 'DIVIDE/match/best_answer_features/OVER_LAP/'\n",
    "# PATH_OUT = 'DIVIDE/match/best_answer_features/OVER_LAP/'\n",
    "# PATH_FEATURES = 'DIVIDE/match/best_answer_features/'\n",
    "\n",
    "def extract_overlap_features(PATH_TEXT, PATH_OVERLAP, PATH_NORMAL) :\n",
    "    \n",
    "    f14 = open(PATH_NORMAL + 'f14.txt', 'w')\n",
    "    f15 = open(PATH_NORMAL + 'f15.txt', 'w')\n",
    "    f16 = open(PATH_NORMAL + 'f16.txt', 'w')\n",
    "    f17 = open(PATH_NORMAL + 'f17.txt', 'w')\n",
    "    f18 = open(PATH_NORMAL + 'f18.txt', 'w')\n",
    "    f19 = open(PATH_NORMAL + 'f19.txt', 'w')\n",
    "    \n",
    "    with open(PATH_TEXT + 'answer_content.txt' , 'r') as fin_1, \\\n",
    "        open(PATH_TEXT + 'question_content.txt', 'r') as fin_2, \\\n",
    "        open(PATH_TEXT + 'question_tags.txt' , 'r') as fin_3, \\\n",
    "        open(PATH_TEXT + 'user_interest.txt' , 'r') as fin_4, \\\n",
    "        open(PATH_OVERLAP + 'answerContent_questionContent.txt', 'w') as fout_1, \\\n",
    "        open(PATH_OVERLAP + 'answerContent_questionTags.txt', 'w') as fout_2, \\\n",
    "        open(PATH_OVERLAP + 'answerContent_userInterest.txt', 'w') as fout_3, \\\n",
    "        open(PATH_OVERLAP + 'questionContent_questionTags.txt', 'w') as fout_4, \\\n",
    "        open(PATH_OVERLAP + 'questionContent_userInterest.txt', 'w') as fout_5, \\\n",
    "        open(PATH_OVERLAP + 'questionTags_userInterest.txt', 'w') as fout_7 : \n",
    "            \n",
    "            count = 0\n",
    "\n",
    "            for line1, line2, line3, line4 in izip(fin_1, fin_2, fin_3, fin_4 ):\n",
    "                word_list1 = line1.strip().split(' ')\n",
    "                word_list2 = line2.strip().split(' ')\n",
    "                word_list3 = line3.strip().split(' ')\n",
    "                word_list4 = line4.strip().split(' ')\n",
    "                \n",
    "                over_lap1 = intersect(word_list1, word_list2)\n",
    "                over_lap2 = intersect(word_list1, word_list3)\n",
    "                over_lap3 = intersect(word_list1, word_list4)\n",
    "                over_lap4 = intersect(word_list2, word_list3)\n",
    "                over_lap5 = intersect(word_list2, word_list4)\n",
    "                # over_lap6 = intersect(word_list2, word_list5)\n",
    "                over_lap7 = intersect(word_list3, word_list4)\n",
    "                # over_lap8 = intersect(word_list3, word_list5)\n",
    "                \n",
    "                # '''\n",
    "                write_overlap_file(fout_1, over_lap1, count)\n",
    "                write_overlap_file(fout_2, over_lap2, count)\n",
    "                write_overlap_file(fout_3, over_lap3, count)\n",
    "                write_overlap_file(fout_4, over_lap4, count)\n",
    "                write_overlap_file(fout_5, over_lap5, count)\n",
    "                # write_overlap_file(fout_6, over_lap6, count)\n",
    "                write_overlap_file(fout_7, over_lap7, count)\n",
    "                # write_overlap_file(fout_8, over_lap8, count)\n",
    "               \n",
    "                f14.write(str(count) + ',' + str( len(over_lap1) ) + '\\n')\n",
    "                f15.write(str(count) + ',' + str( len(over_lap2) ) + '\\n')\n",
    "                f16.write(str(count) + ',' + str( len(over_lap3) ) + '\\n')\n",
    "                f17.write(str(count) + ',' + str( len(over_lap4) ) + '\\n')\n",
    "                f18.write(str(count) + ',' + str( len(over_lap5) ) + '\\n')\n",
    "                f19.write(str(count) + ',' + str( len(over_lap7) ) + '\\n')\n",
    "                \n",
    "                count = count + 1\n",
    "    \n",
    "    f14.close()\n",
    "    f15.close()\n",
    "    f16.close()\n",
    "    f17.close()\n",
    "    f18.close()\n",
    "    f19.close()"
   ]
  },
  {
   "cell_type": "code",
   "execution_count": 4,
   "metadata": {
    "collapsed": false
   },
   "outputs": [],
   "source": [
    "def lda_source(PATH_TEXT, PATH_LDA) :\n",
    "    \n",
    "    with open(PATH_TEXT + 'answer_content.txt' , 'r') as fin_1, \\\n",
    "        open(PATH_TEXT + 'question_content.txt', 'r') as fin_2, \\\n",
    "        open(PATH_TEXT + 'user_interest.txt' , 'r') as fin_3, \\\n",
    "        open(PATH_TEXT + 'question_tags.txt' , 'r') as fin_4, \\\n",
    "        open(PATH_LDA + 'LDA_SOURCE.txt', 'w') as fout :\n",
    "\n",
    "            for line1, line2, line3, line4 in izip(fin_1, fin_2, fin_3, fin_4) :\n",
    "                #line1 = f1.readline()\n",
    "                info1 = line1.strip()\n",
    "                # print info1\n",
    "                fout.write(info1)\n",
    "\n",
    "                #line2 = f2.readline()\n",
    "                info2 = line2.strip()\n",
    "                # print info2\n",
    "                fout.write(' '+info2)\n",
    "\n",
    "                info3 = line3.strip()\n",
    "                # print info3\n",
    "                fout.write(' '+info3)\n",
    "\n",
    "                info4 = line4.strip()\n",
    "                # print info4\n",
    "                fout.write(' '+info4 + '\\n')"
   ]
  },
  {
   "cell_type": "code",
   "execution_count": 5,
   "metadata": {
    "collapsed": true
   },
   "outputs": [],
   "source": [
    "def normalize( PATH_NORMAL ) :\n",
    "    # feature1 : length of the answer_content \n",
    "    f1 = pd.read_csv(PATH_NORMAL + 'f1.txt', names = ['index','len_answer_content'])\n",
    "\n",
    "    # feature2 : length of the user_introduction\n",
    "    f2 = pd.read_csv(PATH_NORMAL + 'f2.txt', names = ['index','len_user_intro'])\n",
    "    m = pd.merge(f1, f2, how='outer')\n",
    "    #print m\n",
    "\n",
    "    # feature3 : length of the question_content\n",
    "    f3 = pd.read_csv(PATH_NORMAL + 'f3.txt', names = ['index', 'len_question_content'])\n",
    "    m = pd.merge(m, f3, how='outer')\n",
    "\n",
    "    # feature4: user's experience years\n",
    "    f4 = pd.read_csv(PATH_NORMAL + 'f4.txt', names = ['index','user_exp'])\n",
    "    m = pd.merge(m, f4, how='outer')\n",
    "    #print m\n",
    "\n",
    "    # feature5 : length of the user's edu\n",
    "    f5 = pd.read_csv(PATH_NORMAL + 'f5.txt', names = ['index','len_user_edu'])\n",
    "    m = pd.merge(m, f5, how='outer')\n",
    "\n",
    "    # feature6 : number of topics of user's interest\n",
    "    f6 = pd.read_csv(PATH_NORMAL + 'f6.txt', names = ['index','num_user_interst'])\n",
    "    m = pd.merge(m, f6, how='outer')\n",
    "\n",
    "    # feature7 : number of the people user followed\n",
    "    f7 = pd.read_csv(PATH_NORMAL + 'f7.txt', names = ['index','num_user_followed'])\n",
    "    m = pd.merge(m, f7, how='outer')\n",
    "\n",
    "    # feature8 : number of the question tags\n",
    "    f8 = pd.read_csv(PATH_NORMAL + 'f8.txt', names = ['index', 'num_question_tags'])\n",
    "    m = pd.merge(m, f8, how='outer')\n",
    "\n",
    "    # feature9 : number of saved lives\n",
    "    f9 = pd.read_csv(PATH_NORMAL + 'f9.txt', names = ['index','num_user_saved'])\n",
    "    m = pd.merge(m, f9, how='outer')\n",
    "\n",
    "    # feature10 : number of recieved thanks\n",
    "    f10 = pd.read_csv(PATH_NORMAL + 'f10.txt', names = ['index','num_user_thanks'])\n",
    "    m = pd.merge(m, f10, how='outer')\n",
    "\n",
    "    # feature11 : number of agrees\n",
    "    f11 = pd.read_csv(PATH_NORMAL + 'f11.txt', names = ['index','num_user_agrees'])\n",
    "    m = pd.merge(m, f11, how='outer')\n",
    "\n",
    "    # feature12 : nuber of helped people\n",
    "    f12 = pd.read_csv(PATH_NORMAL + 'f12.txt', names = ['index','num_user_helped'])\n",
    "    m = pd.merge(m, f12, how='outer')\n",
    "\n",
    "    # feature13 : number of doctor recommend\n",
    "    f13 = pd.read_csv(PATH_NORMAL + 'f13.txt', names = ['index','num_user_recommend'])\n",
    "    m = pd.merge(m, f13, how='outer')\n",
    "\n",
    "    #####################################################################\n",
    "    \n",
    "    # feature14 : answerContent & questionContent overlap \n",
    "    f14 = pd.read_csv(PATH_NORMAL + 'f14.txt', names = ['index', 'ac_qc_overlap'] )\n",
    "    m = pd.merge(m, f14, how = 'outer')\n",
    "    \n",
    "    # feature15 : answerContent & questionTags overlap\n",
    "    f15 = pd.read_csv(PATH_NORMAL + 'f15.txt', names = ['index', 'ac_qt_overlap'])\n",
    "    m = pd.merge(m, f15, how = 'outer')\n",
    "\n",
    "    # feature16 : answerContent & userInterest overlap\n",
    "    f16 = pd.read_csv(PATH_NORMAL + 'f16.txt', names = ['index', 'ac_ui_overlap'])\n",
    "    m = pd.merge(m, f16, how = 'outer')\n",
    "\n",
    "    # feature17 : questionContent & questionTags overlap\n",
    "    f17 = pd.read_csv(PATH_NORMAL + 'f17.txt', names = ['index', 'qc_qt_overlap'])\n",
    "    m = pd.merge(m, f17, how = 'outer')\n",
    "\n",
    "    # feature18 : questionContent & userInterest overlap\n",
    "    f18 = pd.read_csv(PATH_NORMAL + 'f18.txt', names = ['index', 'qc_ui_overlap'])\n",
    "    m = pd.merge(m, f18, how = 'outer')\n",
    "    \n",
    "    # feature19 : questionTags & userInterest overlap\n",
    "    f19 = pd.read_csv(PATH_NORMAL + 'f19.txt', names = ['index', 'qt_ui_overlap'])\n",
    "    m = pd.merge(m, f19, how = 'outer')\n",
    "    \n",
    "    #######################################################################\n",
    "    Index = m.ix[:,0] \n",
    "    M = m.ix[:,1:]\n",
    "\n",
    "    M = (M - M.min()) / (M.max() - M.min())\n",
    "    M['index'] = Index\n",
    "\n",
    "    # question_id :\n",
    "    # qid = pd.read_csv(PATH_IN + 'qid.txt', names = ['index', 'question_id'])\n",
    "    # M = pd.merge(M, qid, how = 'outer')\n",
    "\n",
    "    # number_of_vote\n",
    "    # vote = pd.read_csv(PATH_IN + 'vote.txt', names = ['index', 'vote'])\n",
    "    # M = pd.merge(M, vote, how = 'outer')\n",
    "\n",
    "    M = M.drop('index', axis = 1)\n",
    "    M = M.fillna(0)\n",
    "    # print M\n",
    "\n",
    "    M.to_csv(PATH_NORMAL + 'Normal_Features.txt',  index = False)"
   ]
  },
  {
   "cell_type": "code",
   "execution_count": 6,
   "metadata": {
    "collapsed": true
   },
   "outputs": [],
   "source": [
    "PATH_IN = './Final_Test_Set.csv'\n",
    "PATH_NORMAL = './NORMAL/'\n",
    "PATH_TEXT = './TEXT/'\n",
    "PATH_OVERLAP = './OVERLAP/'\n",
    "PATH_LDA = './LDA/'\n",
    "\n",
    "extract_normal_features(PATH_IN, PATH_NORMAL)\n",
    "extract_text_features(PATH_IN, PATH_TEXT)\n",
    "extract_overlap_features(PATH_TEXT, PATH_OVERLAP, PATH_NORMAL)\n",
    "lda_source(PATH_TEXT, PATH_LDA)\n",
    "normalize(PATH_NORMAL)"
   ]
  },
  {
   "cell_type": "markdown",
   "metadata": {
    "collapsed": true
   },
   "source": [
    "# Format S2V & Topic Features"
   ]
  },
  {
   "cell_type": "code",
   "execution_count": 7,
   "metadata": {
    "collapsed": false
   },
   "outputs": [],
   "source": [
    "# format s2v features :\n",
    "s2v_list = []\n",
    "for i in range(50) :\n",
    "    col_name = 's2v_' + str(i) \n",
    "    s2v_list.append(col_name)\n",
    "# !!! before this , you should remove the first row of the Test_Source.txt.vec\n",
    "total_s2v = pd.read_table('./SENTENCE_VECTOR/LDA_SOURCE.txt.vec', sep = ' ', names = s2v_list)\n",
    "# test_s2v !!! very important : Normalization\n",
    "total_s2v = (total_s2v - total_s2v.min()) / (total_s2v.max() - total_s2v.min())\n",
    "# total_s2v # 11292 rows × 50 columns\n",
    "total_s2v.to_csv('./SENTENCE_VECTOR/Total_S2V.csv', encoding='utf-8', index = False)"
   ]
  },
  {
   "cell_type": "code",
   "execution_count": 8,
   "metadata": {
    "collapsed": true
   },
   "outputs": [],
   "source": [
    "# format the topic features\n",
    "topic_list = []\n",
    "for i in range(50) :\n",
    "    col_name = 'topic_' + str(i) \n",
    "    topic_list.append(col_name)\n",
    "\n",
    "total_topic = pd.read_table('./LDA/model-final.theta', sep = ' ', names = topic_list, index_col=False)\n",
    "# test_topic !!! very important : Normalization\n",
    "total_topic = (total_topic - total_topic.min()) / (total_topic.max() - total_topic.min())\n",
    "total_topic.to_csv('./LDA/Total_Topic.csv', encoding='utf-8', index=False)"
   ]
  },
  {
   "cell_type": "markdown",
   "metadata": {},
   "source": [
    "# Merge 3 types Features"
   ]
  },
  {
   "cell_type": "code",
   "execution_count": 9,
   "metadata": {
    "collapsed": false
   },
   "outputs": [],
   "source": [
    "Total_Normal = pd.read_csv('./NORMAL/Normal_Features.txt')\n",
    "Total_S2V = pd.read_csv('./SENTENCE_VECTOR/Total_S2V.csv')\n",
    "Total_Topic = pd.read_csv('./LDA/Total_Topic.csv')"
   ]
  },
  {
   "cell_type": "code",
   "execution_count": 13,
   "metadata": {
    "collapsed": false
   },
   "outputs": [],
   "source": [
    "# Total_Normal 30073 rows × 19 columns\n",
    "# Total_S2V 30073 rows × 50 columns\n",
    "# Total_Topic 30073 rows × 50 columns"
   ]
  },
  {
   "cell_type": "code",
   "execution_count": 14,
   "metadata": {
    "collapsed": true
   },
   "outputs": [],
   "source": [
    "Total_Normal_S2V = pd.merge(Total_Normal, Total_S2V, left_index=True, right_index=True)\n",
    "Total_Final = pd.merge(Total_Normal_S2V, Total_Topic, left_index=True, right_index=True)"
   ]
  },
  {
   "cell_type": "code",
   "execution_count": 16,
   "metadata": {
    "collapsed": false
   },
   "outputs": [],
   "source": [
    "# Total_Final 30073 rows × 119 columns"
   ]
  },
  {
   "cell_type": "code",
   "execution_count": 17,
   "metadata": {
    "collapsed": true
   },
   "outputs": [],
   "source": [
    "Total_Final.to_csv('./Total_Final_Feature.csv', encoding='utf-8', index=False)"
   ]
  },
  {
   "cell_type": "code",
   "execution_count": 12,
   "metadata": {
    "collapsed": false
   },
   "outputs": [],
   "source": [
    "# Total_Final"
   ]
  },
  {
   "cell_type": "code",
   "execution_count": 18,
   "metadata": {
    "collapsed": true
   },
   "outputs": [],
   "source": [
    "test_len = [7, 6, 6, 6, 10, 7, 8, 10, 7, 5, 6, 7, 7, 7, 7, 6, 5, 7, 5, 6, 6, 6, 5, 7, 6, 10, 6, 7, 8, 6, 5, 6, 5, 10, 5, 8, 13, 18, 7, 6, 6, 8, 7, 8, 5, 5, 6, 10, 6, 10, 5, 6, 5, 6, 9, 7, 8, 6, 8, 6, 5, 7, 6, 8, 5, 6, 5, 8, 8, 5, 9, 10, 6, 6, 7, 7, 6, 9, 12, 8, 5, 8, 7, 6, 5, 9, 5, 6, 6, 6, 5, 6, 6, 5, 6, 5, 6, 6, 10, 5]"
   ]
  },
  {
   "cell_type": "code",
   "execution_count": 37,
   "metadata": {
    "collapsed": false
   },
   "outputs": [],
   "source": [
    "# len(test_len)  100\n",
    "STEP_SIZE = 1959\n",
    "START = 0 \n",
    "END = START + STEP_SIZE"
   ]
  },
  {
   "cell_type": "code",
   "execution_count": 38,
   "metadata": {
    "collapsed": false
   },
   "outputs": [
    {
     "name": "stdout",
     "output_type": "stream",
     "text": [
      "(0, 1959)\n"
     ]
    }
   ],
   "source": [
    "print (START, END)\n",
    "match_best = Total_Final[START : END]\n",
    "match_best.to_csv('../TOTAL_DATA_FEATURES/TRAINING/match_best.csv', encoding='utf-8', index = False)"
   ]
  },
  {
   "cell_type": "code",
   "execution_count": 39,
   "metadata": {
    "collapsed": false
   },
   "outputs": [
    {
     "name": "stdout",
     "output_type": "stream",
     "text": [
      "(1959, 3918)\n"
     ]
    }
   ],
   "source": [
    "START = START + STEP_SIZE\n",
    "END = END + STEP_SIZE\n",
    "print (START, END)\n",
    "match_second = Total_Final[START : END]\n",
    "match_second.to_csv('../TOTAL_DATA_FEATURES/TRAINING/match_second.csv', encoding='utf-8', index = False)"
   ]
  },
  {
   "cell_type": "code",
   "execution_count": 40,
   "metadata": {
    "collapsed": false
   },
   "outputs": [
    {
     "name": "stdout",
     "output_type": "stream",
     "text": [
      "(3918, 5877)\n"
     ]
    }
   ],
   "source": [
    "START = START + STEP_SIZE\n",
    "END = END + STEP_SIZE\n",
    "print (START, END)\n",
    "match_third = Total_Final[START : END]\n",
    "match_third.to_csv('../TOTAL_DATA_FEATURES/TRAINING/match_third.csv', encoding='utf-8', index = False)"
   ]
  },
  {
   "cell_type": "code",
   "execution_count": 41,
   "metadata": {
    "collapsed": false
   },
   "outputs": [
    {
     "name": "stdout",
     "output_type": "stream",
     "text": [
      "(5877, 7836)\n"
     ]
    }
   ],
   "source": [
    "START = START + STEP_SIZE\n",
    "END = END + STEP_SIZE\n",
    "print (START, END)\n",
    "similar01_best = Total_Final[START : END]\n",
    "similar01_best.to_csv('../TOTAL_DATA_FEATURES/TRAINING/similar01_best.csv', encoding='utf-8', index = False)"
   ]
  },
  {
   "cell_type": "code",
   "execution_count": 42,
   "metadata": {
    "collapsed": false
   },
   "outputs": [
    {
     "name": "stdout",
     "output_type": "stream",
     "text": [
      "(7836, 9795)\n"
     ]
    }
   ],
   "source": [
    "START = START + STEP_SIZE\n",
    "END = END + STEP_SIZE\n",
    "print (START, END)\n",
    "similar01_second = Total_Final[START : END]\n",
    "similar01_second.to_csv('../TOTAL_DATA_FEATURES/TRAINING/similar01_second.csv', encoding='utf-8', index = False)"
   ]
  },
  {
   "cell_type": "code",
   "execution_count": 43,
   "metadata": {
    "collapsed": false
   },
   "outputs": [
    {
     "name": "stdout",
     "output_type": "stream",
     "text": [
      "(9795, 11754)\n"
     ]
    }
   ],
   "source": [
    "START = START + STEP_SIZE\n",
    "END = END + STEP_SIZE\n",
    "print (START, END)\n",
    "similar01_third = Total_Final[START : END]\n",
    "similar01_third.to_csv('../TOTAL_DATA_FEATURES/TRAINING/similar01_third.csv', encoding='utf-8', index = False)"
   ]
  },
  {
   "cell_type": "code",
   "execution_count": 44,
   "metadata": {
    "collapsed": false
   },
   "outputs": [
    {
     "name": "stdout",
     "output_type": "stream",
     "text": [
      "(11754, 13713)\n"
     ]
    }
   ],
   "source": [
    "START = START + STEP_SIZE\n",
    "END = END + STEP_SIZE\n",
    "print (START, END)\n",
    "similar02_best = Total_Final[START : END]\n",
    "similar02_best.to_csv('../TOTAL_DATA_FEATURES/TRAINING/similar02_best.csv', encoding='utf-8', index = False)"
   ]
  },
  {
   "cell_type": "code",
   "execution_count": 45,
   "metadata": {
    "collapsed": false
   },
   "outputs": [
    {
     "name": "stdout",
     "output_type": "stream",
     "text": [
      "(13713, 15672)\n"
     ]
    }
   ],
   "source": [
    "START = START + STEP_SIZE\n",
    "END = END + STEP_SIZE\n",
    "print (START, END)\n",
    "similar02_second = Total_Final[START : END]\n",
    "similar02_second.to_csv('../TOTAL_DATA_FEATURES/TRAINING/similar02_second.csv', encoding='utf-8', index = False)"
   ]
  },
  {
   "cell_type": "code",
   "execution_count": 46,
   "metadata": {
    "collapsed": false
   },
   "outputs": [
    {
     "name": "stdout",
     "output_type": "stream",
     "text": [
      "(15672, 17631)\n"
     ]
    }
   ],
   "source": [
    "START = START + STEP_SIZE\n",
    "END = END + STEP_SIZE\n",
    "print (START, END)\n",
    "similar02_third = Total_Final[START : END]\n",
    "similar02_third.to_csv('../TOTAL_DATA_FEATURES/TRAINING/similar02_third.csv', encoding='utf-8', index = False)"
   ]
  },
  {
   "cell_type": "code",
   "execution_count": 47,
   "metadata": {
    "collapsed": false
   },
   "outputs": [
    {
     "name": "stdout",
     "output_type": "stream",
     "text": [
      "(17631, 19590)\n"
     ]
    }
   ],
   "source": [
    "START = START + STEP_SIZE\n",
    "END = END + STEP_SIZE\n",
    "print (START, END)\n",
    "similar03_best = Total_Final[START : END]\n",
    "similar03_best.to_csv('../TOTAL_DATA_FEATURES/TRAINING/similar03_best.csv', encoding='utf-8', index = False)"
   ]
  },
  {
   "cell_type": "code",
   "execution_count": 48,
   "metadata": {
    "collapsed": false
   },
   "outputs": [
    {
     "name": "stdout",
     "output_type": "stream",
     "text": [
      "(19590, 21549)\n"
     ]
    }
   ],
   "source": [
    "START = START + STEP_SIZE\n",
    "END = END + STEP_SIZE\n",
    "print (START, END)\n",
    "similar03_second = Total_Final[START : END]\n",
    "similar03_second.to_csv('../TOTAL_DATA_FEATURES/TRAINING/similar03_second.csv', encoding='utf-8', index = False)"
   ]
  },
  {
   "cell_type": "code",
   "execution_count": 49,
   "metadata": {
    "collapsed": false
   },
   "outputs": [
    {
     "name": "stdout",
     "output_type": "stream",
     "text": [
      "(21549, 23508)\n"
     ]
    }
   ],
   "source": [
    "START = START + STEP_SIZE\n",
    "END = END + STEP_SIZE\n",
    "print (START, END)\n",
    "similar03_third = Total_Final[START : END]\n",
    "similar03_third.to_csv('../TOTAL_DATA_FEATURES/TRAINING/similar03_third.csv', encoding='utf-8', index = False)"
   ]
  },
  {
   "cell_type": "code",
   "execution_count": 50,
   "metadata": {
    "collapsed": false
   },
   "outputs": [
    {
     "name": "stdout",
     "output_type": "stream",
     "text": [
      "(23508, 25467)\n"
     ]
    }
   ],
   "source": [
    "START = START + STEP_SIZE\n",
    "END = END + STEP_SIZE\n",
    "print (START, END)\n",
    "non_match_best = Total_Final[START : END]\n",
    "non_match_best.to_csv('../TOTAL_DATA_FEATURES/TRAINING/non_match_best.csv', encoding='utf-8', index = False)"
   ]
  },
  {
   "cell_type": "code",
   "execution_count": 51,
   "metadata": {
    "collapsed": false
   },
   "outputs": [
    {
     "name": "stdout",
     "output_type": "stream",
     "text": [
      "(25467, 27426)\n"
     ]
    }
   ],
   "source": [
    "START = START + STEP_SIZE\n",
    "END = END + STEP_SIZE\n",
    "print (START, END)\n",
    "non_match_second = Total_Final[START : END]\n",
    "non_match_second.to_csv('../TOTAL_DATA_FEATURES/TRAINING/non_match_second.csv', encoding='utf-8', index = False)"
   ]
  },
  {
   "cell_type": "code",
   "execution_count": 52,
   "metadata": {
    "collapsed": false
   },
   "outputs": [
    {
     "name": "stdout",
     "output_type": "stream",
     "text": [
      "(27426, 29385)\n"
     ]
    }
   ],
   "source": [
    "START = START + STEP_SIZE\n",
    "END = END + STEP_SIZE\n",
    "print (START, END)\n",
    "non_match_third = Total_Final[START : END]\n",
    "non_match_third.to_csv('../TOTAL_DATA_FEATURES/TRAINING/non_match_third.csv', encoding='utf-8', index = False)"
   ]
  },
  {
   "cell_type": "code",
   "execution_count": 54,
   "metadata": {
    "collapsed": false
   },
   "outputs": [],
   "source": [
    "# END"
   ]
  },
  {
   "cell_type": "code",
   "execution_count": 56,
   "metadata": {
    "collapsed": true
   },
   "outputs": [],
   "source": [
    "TEST_START_INDEX = END"
   ]
  },
  {
   "cell_type": "code",
   "execution_count": 57,
   "metadata": {
    "collapsed": false
   },
   "outputs": [
    {
     "data": {
      "text/plain": [
       "29385"
      ]
     },
     "execution_count": 57,
     "metadata": {},
     "output_type": "execute_result"
    }
   ],
   "source": [
    "TEST_START_INDEX"
   ]
  },
  {
   "cell_type": "code",
   "execution_count": 58,
   "metadata": {
    "collapsed": false
   },
   "outputs": [
    {
     "name": "stdout",
     "output_type": "stream",
     "text": [
      "(0, 29385, 29392)\n",
      "(1, 29392, 29398)\n",
      "(2, 29398, 29404)\n",
      "(3, 29404, 29410)\n",
      "(4, 29410, 29420)\n",
      "(5, 29420, 29427)\n",
      "(6, 29427, 29435)\n",
      "(7, 29435, 29445)\n",
      "(8, 29445, 29452)\n",
      "(9, 29452, 29457)\n",
      "(10, 29457, 29463)\n",
      "(11, 29463, 29470)\n",
      "(12, 29470, 29477)\n",
      "(13, 29477, 29484)\n",
      "(14, 29484, 29491)\n",
      "(15, 29491, 29497)\n",
      "(16, 29497, 29502)\n",
      "(17, 29502, 29509)\n",
      "(18, 29509, 29514)\n",
      "(19, 29514, 29520)\n",
      "(20, 29520, 29526)\n",
      "(21, 29526, 29532)\n",
      "(22, 29532, 29537)\n",
      "(23, 29537, 29544)\n",
      "(24, 29544, 29550)\n",
      "(25, 29550, 29560)\n",
      "(26, 29560, 29566)\n",
      "(27, 29566, 29573)\n",
      "(28, 29573, 29581)\n",
      "(29, 29581, 29587)\n",
      "(30, 29587, 29592)\n",
      "(31, 29592, 29598)\n",
      "(32, 29598, 29603)\n",
      "(33, 29603, 29613)\n",
      "(34, 29613, 29618)\n",
      "(35, 29618, 29626)\n",
      "(36, 29626, 29639)\n",
      "(37, 29639, 29657)\n",
      "(38, 29657, 29664)\n",
      "(39, 29664, 29670)\n",
      "(40, 29670, 29676)\n",
      "(41, 29676, 29684)\n",
      "(42, 29684, 29691)\n",
      "(43, 29691, 29699)\n",
      "(44, 29699, 29704)\n",
      "(45, 29704, 29709)\n",
      "(46, 29709, 29715)\n",
      "(47, 29715, 29725)\n",
      "(48, 29725, 29731)\n",
      "(49, 29731, 29741)\n",
      "(50, 29741, 29746)\n",
      "(51, 29746, 29752)\n",
      "(52, 29752, 29757)\n",
      "(53, 29757, 29763)\n",
      "(54, 29763, 29772)\n",
      "(55, 29772, 29779)\n",
      "(56, 29779, 29787)\n",
      "(57, 29787, 29793)\n",
      "(58, 29793, 29801)\n",
      "(59, 29801, 29807)\n",
      "(60, 29807, 29812)\n",
      "(61, 29812, 29819)\n",
      "(62, 29819, 29825)\n",
      "(63, 29825, 29833)\n",
      "(64, 29833, 29838)\n",
      "(65, 29838, 29844)\n",
      "(66, 29844, 29849)\n",
      "(67, 29849, 29857)\n",
      "(68, 29857, 29865)\n",
      "(69, 29865, 29870)\n",
      "(70, 29870, 29879)\n",
      "(71, 29879, 29889)\n",
      "(72, 29889, 29895)\n",
      "(73, 29895, 29901)\n",
      "(74, 29901, 29908)\n",
      "(75, 29908, 29915)\n",
      "(76, 29915, 29921)\n",
      "(77, 29921, 29930)\n",
      "(78, 29930, 29942)\n",
      "(79, 29942, 29950)\n",
      "(80, 29950, 29955)\n",
      "(81, 29955, 29963)\n",
      "(82, 29963, 29970)\n",
      "(83, 29970, 29976)\n",
      "(84, 29976, 29981)\n",
      "(85, 29981, 29990)\n",
      "(86, 29990, 29995)\n",
      "(87, 29995, 30001)\n",
      "(88, 30001, 30007)\n",
      "(89, 30007, 30013)\n",
      "(90, 30013, 30018)\n",
      "(91, 30018, 30024)\n",
      "(92, 30024, 30030)\n",
      "(93, 30030, 30035)\n",
      "(94, 30035, 30041)\n",
      "(95, 30041, 30046)\n",
      "(96, 30046, 30052)\n",
      "(97, 30052, 30058)\n",
      "(98, 30058, 30068)\n",
      "(99, 30068, 30073)\n"
     ]
    }
   ],
   "source": [
    "# IMPORTANT THIS MAYBE CHANGE\n",
    "start = end = TEST_START_INDEX\n",
    "for i in range( len(test_len) ) :\n",
    "    end += test_len[i]\n",
    "    print (i, start, end)\n",
    "    test_i = Total_Final[start:end]\n",
    "    test_i.to_csv('../TOTAL_DATA_FEATURES/TEST/' + 'test_' + str(i) + '.csv', encoding='utf-8', index = False)\n",
    "    start += test_len[i]"
   ]
  },
  {
   "cell_type": "code",
   "execution_count": null,
   "metadata": {
    "collapsed": true
   },
   "outputs": [],
   "source": []
  }
 ],
 "metadata": {
  "kernelspec": {
   "display_name": "Python 2",
   "language": "python",
   "name": "python2"
  },
  "language_info": {
   "codemirror_mode": {
    "name": "ipython",
    "version": 2
   },
   "file_extension": ".py",
   "mimetype": "text/x-python",
   "name": "python",
   "nbconvert_exporter": "python",
   "pygments_lexer": "ipython2",
   "version": "2.7.11"
  }
 },
 "nbformat": 4,
 "nbformat_minor": 0
}
