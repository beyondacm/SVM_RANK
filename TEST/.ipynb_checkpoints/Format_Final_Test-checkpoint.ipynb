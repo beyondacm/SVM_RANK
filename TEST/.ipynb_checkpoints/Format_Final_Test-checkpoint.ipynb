{
 "cells": [
  {
   "cell_type": "code",
   "execution_count": 1,
   "metadata": {
    "collapsed": true
   },
   "outputs": [],
   "source": [
    "import pandas as pd\n",
    "import numpy as np\n",
    "import operator\n",
    "import re"
   ]
  },
  {
   "cell_type": "code",
   "execution_count": 2,
   "metadata": {
    "collapsed": true
   },
   "outputs": [],
   "source": [
    "def readDict(filename, sep):\n",
    "    with open(filename, \"r\") as f:\n",
    "        dict = {}\n",
    "        for line in f:\n",
    "            values = line.split(sep)\n",
    "            key = values[0]\n",
    "            value = values[1].strip().split(',')\n",
    "            results = map(int, value)\n",
    "            #dict[values[0]] = {int(x) for x in values[1:len(values)]}\n",
    "            dict[key] = results\n",
    "        return(dict)"
   ]
  },
  {
   "cell_type": "code",
   "execution_count": 3,
   "metadata": {
    "collapsed": false
   },
   "outputs": [
    {
     "name": "stderr",
     "output_type": "stream",
     "text": [
      "/Users/gaozhipeng/anaconda/envs/dato-env/lib/python2.7/site-packages/pandas/io/parsers.py:1170: DtypeWarning: Columns (1,2,3,4,13) have mixed types. Specify dtype option on import or set low_memory=False.\n",
      "  data = self._reader.read(nrows)\n"
     ]
    }
   ],
   "source": [
    "Total_Test = pd.read_csv('../Total_Test.csv')"
   ]
  },
  {
   "cell_type": "code",
   "execution_count": 4,
   "metadata": {
    "collapsed": false
   },
   "outputs": [],
   "source": [
    "# Total_Test   # 39569 rows × 18 columns"
   ]
  },
  {
   "cell_type": "code",
   "execution_count": 5,
   "metadata": {
    "collapsed": false
   },
   "outputs": [],
   "source": [
    "Similar_Index_List = readDict('../SIMILAR/Similar_Index_List.txt', ':')"
   ]
  },
  {
   "cell_type": "code",
   "execution_count": 6,
   "metadata": {
    "collapsed": false,
    "scrolled": true
   },
   "outputs": [],
   "source": [
    "# Similar_Index_List"
   ]
  },
  {
   "cell_type": "code",
   "execution_count": 7,
   "metadata": {
    "collapsed": false
   },
   "outputs": [],
   "source": [
    "best_answer = pd.read_csv('./MATCH/best_answer.csv')\n",
    "second_answer = pd.read_csv('./MATCH/second_answer.csv')\n",
    "third_answer = pd.read_csv('./MATCH/third_answer.csv')\n",
    "\n",
    "Final_Test_Set = best_answer.append(second_answer)\n",
    "Final_Test_Set = Final_Test_Set.append(third_answer)"
   ]
  },
  {
   "cell_type": "code",
   "execution_count": 8,
   "metadata": {
    "collapsed": true
   },
   "outputs": [],
   "source": [
    "def Generate_Test_Set(Dataset, Index_List):\n",
    "    # get the dataframe according to the Index\n",
    "    Test = Dataset.iloc[Index_List]\n",
    "    TestSet = pd.DataFrame(Test)\n",
    "    \n",
    "    return TestSet"
   ]
  },
  {
   "cell_type": "code",
   "execution_count": 9,
   "metadata": {
    "collapsed": true
   },
   "outputs": [],
   "source": [
    "def Replace_QList(Data_Set, Q_IndexList) :\n",
    "    Q_Content = Total_Test.iloc[ [ Q_IndexList[0] ] ]['question_content'].all()\n",
    "    Q_Tags = Total_Test.iloc[ [ Q_IndexList[0] ] ]['question_tags'].all()\n",
    "    Data_Set['question_content'] = Q_Content\n",
    "    Data_Set['question_tags'] = Q_Tags\n",
    "    return Data_Set"
   ]
  },
  {
   "cell_type": "code",
   "execution_count": 10,
   "metadata": {
    "collapsed": false
   },
   "outputs": [
    {
     "name": "stdout",
     "output_type": "stream",
     "text": [
      "32\n",
      "26\n",
      "23\n",
      "24\n",
      "28\n",
      "27\n",
      "28\n",
      "27\n",
      "21\n",
      "27\n",
      "27\n",
      "23\n",
      "21\n",
      "25\n",
      "27\n",
      "26\n",
      "26\n",
      "25\n",
      "26\n",
      "26\n",
      "25\n",
      "23\n",
      "29\n",
      "27\n",
      "29\n",
      "21\n",
      "25\n",
      "24\n",
      "25\n",
      "26\n",
      "27\n",
      "23\n",
      "25\n",
      "23\n",
      "28\n",
      "24\n",
      "26\n",
      "25\n",
      "26\n",
      "24\n",
      "25\n",
      "27\n",
      "22\n",
      "23\n",
      "28\n",
      "22\n",
      "26\n",
      "21\n",
      "27\n",
      "31\n",
      "1272\n"
     ]
    }
   ],
   "source": [
    "total_numOfTest = 0\n",
    "Test_Len = []\n",
    "for i in range( len(Similar_Index_List) ) :\n",
    "    key = 'Q' + str(i) + '_Similar_List'\n",
    "    value = Similar_Index_List[key]\n",
    "    print len( value )\n",
    "    Test_Len.append( len(value) )\n",
    "    total_numOfTest += len(value)\n",
    "    \n",
    "    Qi_Test = Generate_Test_Set(Total_Test, value)\n",
    "    Qi_Test = Replace_QList( Qi_Test, value)\n",
    "    Final_Test_Set = Final_Test_Set.append(Qi_Test)\n",
    "print total_numOfTest"
   ]
  },
  {
   "cell_type": "code",
   "execution_count": 11,
   "metadata": {
    "collapsed": false
   },
   "outputs": [
    {
     "name": "stdout",
     "output_type": "stream",
     "text": [
      "[32, 26, 23, 24, 28, 27, 28, 27, 21, 27, 27, 23, 21, 25, 27, 26, 26, 25, 26, 26, 25, 23, 29, 27, 29, 21, 25, 24, 25, 26, 27, 23, 25, 23, 28, 24, 26, 25, 26, 24, 25, 27, 22, 23, 28, 22, 26, 21, 27, 31]\n"
     ]
    }
   ],
   "source": [
    "print Test_Len"
   ]
  },
  {
   "cell_type": "code",
   "execution_count": 12,
   "metadata": {
    "collapsed": false
   },
   "outputs": [],
   "source": [
    "# Final_Test_Set  # 11971 x 18\n",
    "# Final_Test_Set = Final_Test_Set[10020:]\n",
    "# Final_Test_Set"
   ]
  },
  {
   "cell_type": "code",
   "execution_count": null,
   "metadata": {
    "collapsed": true
   },
   "outputs": [],
   "source": [
    "Final_Test_Set.to_csv('./Final_Test_Set.csv', encoding='utf-8', index = False)"
   ]
  },
  {
   "cell_type": "code",
   "execution_count": 18,
   "metadata": {
    "collapsed": false
   },
   "outputs": [],
   "source": [
    "# Final_Test_Set"
   ]
  },
  {
   "cell_type": "code",
   "execution_count": 19,
   "metadata": {
    "collapsed": true
   },
   "outputs": [],
   "source": [
    "Final_Test_Set = pd.read_csv('./Final_Test_Set.csv')"
   ]
  },
  {
   "cell_type": "code",
   "execution_count": 21,
   "metadata": {
    "collapsed": false,
    "scrolled": true
   },
   "outputs": [],
   "source": [
    "# Final_Test_Set   # 11912 rows × 18 columns"
   ]
  },
  {
   "cell_type": "code",
   "execution_count": null,
   "metadata": {
    "collapsed": true
   },
   "outputs": [],
   "source": []
  }
 ],
 "metadata": {
  "kernelspec": {
   "display_name": "Python 2",
   "language": "python",
   "name": "python2"
  },
  "language_info": {
   "codemirror_mode": {
    "name": "ipython",
    "version": 2
   },
   "file_extension": ".py",
   "mimetype": "text/x-python",
   "name": "python",
   "nbconvert_exporter": "python",
   "pygments_lexer": "ipython2",
   "version": "2.7.10"
  }
 },
 "nbformat": 4,
 "nbformat_minor": 0
}
