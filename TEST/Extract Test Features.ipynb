{
 "cells": [
  {
   "cell_type": "code",
   "execution_count": 1,
   "metadata": {
    "collapsed": true
   },
   "outputs": [],
   "source": [
    "import pandas as pd\n",
    "import numpy as np\n",
    "import operator\n",
    "import re\n",
    "import nltk\n",
    "import sys\n",
    "from nltk.corpus import stopwords\n",
    "from nltk.stem.porter import PorterStemmer\n",
    "from nltk.stem import SnowballStemmer"
   ]
  },
  {
   "cell_type": "markdown",
   "metadata": {},
   "source": [
    "# Extract Features From the Test.csv"
   ]
  },
  {
   "cell_type": "code",
   "execution_count": 9,
   "metadata": {
    "collapsed": true
   },
   "outputs": [],
   "source": [
    "Test = pd.read_csv('./Final_Test_Set.csv')"
   ]
  },
  {
   "cell_type": "code",
   "execution_count": 10,
   "metadata": {
    "collapsed": false
   },
   "outputs": [
    {
     "data": {
      "text/html": [
       "<div>\n",
       "<table border=\"1\" class=\"dataframe\">\n",
       "  <thead>\n",
       "    <tr style=\"text-align: right;\">\n",
       "      <th></th>\n",
       "      <th>answer_content</th>\n",
       "      <th>answer_id</th>\n",
       "      <th>answer_voted</th>\n",
       "      <th>question_id</th>\n",
       "      <th>user_id</th>\n",
       "      <th>user_agrees</th>\n",
       "      <th>user_edu</th>\n",
       "      <th>user_exp</th>\n",
       "      <th>user_followed</th>\n",
       "      <th>user_helped</th>\n",
       "      <th>user_interest</th>\n",
       "      <th>user_intro</th>\n",
       "      <th>user_recommends</th>\n",
       "      <th>user_saved</th>\n",
       "      <th>user_specialty</th>\n",
       "      <th>user_thanks</th>\n",
       "      <th>question_tags</th>\n",
       "      <th>question_content</th>\n",
       "    </tr>\n",
       "  </thead>\n",
       "  <tbody>\n",
       "    <tr>\n",
       "      <th>10020</th>\n",
       "      <td>ct scan of neck there is something going on se...</td>\n",
       "      <td>1444839</td>\n",
       "      <td>0</td>\n",
       "      <td>1025005</td>\n",
       "      <td>12463891</td>\n",
       "      <td>2,956</td>\n",
       "      <td>universidad de san andres  bolivia</td>\n",
       "      <td>50years</td>\n",
       "      <td>[11195338, 11827603, 11755506, 10049366, 11832...</td>\n",
       "      <td>5,705,696</td>\n",
       "      <td>polycystic ovarian syndrome  diabetes  endocri...</td>\n",
       "      <td>i was born in bolivia but i settled in new yor...</td>\n",
       "      <td>great doctor consistently gives thoughtful  in...</td>\n",
       "      <td>36</td>\n",
       "      <td>internal medicine</td>\n",
       "      <td>1,969</td>\n",
       "      <td>choking  ear nose and throat  choking feeling ...</td>\n",
       "      <td>rt ear face neck full puffy  asymmetrical  mor...</td>\n",
       "    </tr>\n",
       "  </tbody>\n",
       "</table>\n",
       "</div>"
      ],
      "text/plain": [
       "                                          answer_content  answer_id  \\\n",
       "10020  ct scan of neck there is something going on se...    1444839   \n",
       "\n",
       "       answer_voted  question_id   user_id user_agrees  \\\n",
       "10020             0      1025005  12463891       2,956   \n",
       "\n",
       "                                 user_edu user_exp  \\\n",
       "10020  universidad de san andres  bolivia  50years   \n",
       "\n",
       "                                           user_followed user_helped  \\\n",
       "10020  [11195338, 11827603, 11755506, 10049366, 11832...   5,705,696   \n",
       "\n",
       "                                           user_interest  \\\n",
       "10020  polycystic ovarian syndrome  diabetes  endocri...   \n",
       "\n",
       "                                              user_intro  \\\n",
       "10020  i was born in bolivia but i settled in new yor...   \n",
       "\n",
       "                                         user_recommends  user_saved  \\\n",
       "10020  great doctor consistently gives thoughtful  in...          36   \n",
       "\n",
       "          user_specialty user_thanks  \\\n",
       "10020  internal medicine       1,969   \n",
       "\n",
       "                                           question_tags  \\\n",
       "10020  choking  ear nose and throat  choking feeling ...   \n",
       "\n",
       "                                        question_content  \n",
       "10020  rt ear face neck full puffy  asymmetrical  mor...  "
      ]
     },
     "execution_count": 10,
     "metadata": {},
     "output_type": "execute_result"
    }
   ],
   "source": [
    "# Start of the Test_Set\n",
    "Test.iloc[[10020]]"
   ]
  },
  {
   "cell_type": "code",
   "execution_count": 11,
   "metadata": {
    "collapsed": true
   },
   "outputs": [],
   "source": [
    "def extract_normal_features(path_in, path_out): \n",
    "    m = pd.read_csv(path_in)\n",
    "\n",
    "    # calculate the features\n",
    "    # question_id :\n",
    "    question_id = m['question_id']\n",
    "    question_id.to_csv(path_out+'/qid.txt')\n",
    "\n",
    "    # vote :\n",
    "    vote = m['answer_voted']\n",
    "    vote.to_csv(path_out+'/vote.txt')\n",
    "\n",
    "    # feature1 : length of the answer_content \n",
    "    #answer_content = m[['answer_content','user_id']]\n",
    "    answer_content = m['answer_content']\n",
    "    # f1 : length of the answer_content\n",
    "    f1 = answer_content.str.len()\n",
    "    f1.to_csv(path_out+'/f1.txt')\n",
    "    #print answer_content\n",
    "\n",
    "\n",
    "    # feature2 : length of the user_introduction\n",
    "    user_intro = m['user_intro']\n",
    "    #print user_intro\n",
    "    f2 = user_intro.str.len()\n",
    "    f2.to_csv(path_out+'/f2.txt')\n",
    "    #print f2\n",
    "\n",
    "\n",
    "    # feature3 : length of the question_content\n",
    "    question_content = m['question_content']\n",
    "    f3 = question_content.str.len()\n",
    "    #print f3\n",
    "    f3.to_csv(path_out+'/f3.txt')\n",
    "\n",
    "\n",
    "    # feature4: user's experience years\n",
    "    user_exp = m['user_exp']\n",
    "    f4 = m['user_exp']\n",
    "    f4 = f4.str.extract('([0-9]*)')\n",
    "    f4.to_csv(path_out+'/f4.txt')\n",
    "    #print f4\n",
    "\n",
    "    # feature5 : length of the user's edu\n",
    "    user_edu = m['user_edu']\n",
    "    f5 = user_edu.str.len()\n",
    "    f5.to_csv(path_out+'/f5.txt')\n",
    "    #print f5\n",
    "\n",
    "\n",
    "    # feature6 : number of topics of user's interest\n",
    "    user_interest = m['user_interest']\n",
    "    f6 = user_interest.str.len()\n",
    "    f6.to_csv(path_out+'/f6.txt')\n",
    "    #print f6\n",
    "\n",
    "\n",
    "    # feature7 : number of the people user followed\n",
    "    user_followed = m['user_followed']\n",
    "    f7 = user_followed.str.len()\n",
    "    f7.to_csv(path_out+'/f7.txt')\n",
    "    #print f7\n",
    "\n",
    "    # feature8 : number of the question tags\n",
    "    question_tags = m['question_tags']\n",
    "    f8 = question_tags.str.len()\n",
    "    f8.to_csv(path_out+'/f8.txt')\n",
    "    #print f8\n",
    "\n",
    "\n",
    "    # feature9 : number of saved lives\n",
    "    saved_lives = m['user_saved']\n",
    "    f9 = saved_lives\n",
    "    f9.to_csv(path_out+'/f9.txt')\n",
    "    #print f9\n",
    "\n",
    "\n",
    "    # feature10 : number of recieved thanks\n",
    "    recieved_thanks = m['user_thanks']\n",
    "    #recieved_thanks = str(recieved_thanks)\n",
    "    f10 = recieved_thanks.str.replace(',','')\n",
    "    f10.to_csv(path_out+'/f10.txt')\n",
    "    #print f10\n",
    "\n",
    "\n",
    "    # feature11 : number of agrees\n",
    "    recieved_agrees = m['user_agrees']\n",
    "    f11 = recieved_agrees.str.replace(',','')\n",
    "    f11.to_csv(path_out+'/f11.txt')\n",
    "    #print f11\n",
    "\n",
    "\n",
    "    # feature12 : nuber of helped people\n",
    "    helped = m['user_helped']\n",
    "    f12 = helped.str.replace(',','')\n",
    "    f12.to_csv(path_out+'/f12.txt')\n",
    "    #print f12\n",
    "\n",
    "\n",
    "    # feature13 : number of doctor recommend\n",
    "    recommend = m['user_recommends']\n",
    "    f13 = recommend.str.len()\n",
    "    f13.to_csv(path_out+'/f13.txt')\n",
    "    #print f13\n",
    "\n",
    "    # feature14 : total length of the recommends\n",
    "    # recommend_str = m['user_recommends']\n",
    "    # recommend_str = ','.join(str(v) for v in recommend_str)\n",
    "    # f14 = recommend_str.to_string\n",
    "    # print f14\n",
    "    #f14.to_csv('f14.txt')\n",
    "\n",
    "\n",
    "# Extracting for the TEXT FEATRUES\n",
    "def extract_text_features(path_in, path_lda):\n",
    "    \n",
    "    m = pd.read_csv(path_in)\n",
    "\n",
    "    # Process with the question_content\n",
    "    qc = m['question_content']\n",
    "    #qc = str_strip(qc)\n",
    "    #print qc\n",
    "    qc.to_csv(path_lda+'/question_content.txt', encoding='utf-8')\n",
    "\n",
    "    # Process with the answer_content\n",
    "    ac = m['answer_content']\n",
    "    #ac = str_strip(ac)\n",
    "    ac.to_csv(path_lda+'/answer_content.txt', encoding='utf-8')\n",
    "\n",
    "    # Process with the user_recommends\n",
    "    ur = m['user_recommends'].astype(str)\n",
    "    #ur = str_strip(ur)\n",
    "    ur.to_csv(path_lda+'/user_recommends.txt', encoding='utf-8')\n",
    "\n",
    "    # Process with question_tags\n",
    "    qt = m['question_tags'].astype(str)\n",
    "    #qt = str_strip(qt)\n",
    "    #print qt\n",
    "    qt.to_csv(path_lda+'/question_tag.txt', encoding='utf-8')\n",
    "\n",
    "    # Process with user_interest\n",
    "    ut = m['user_interest'].astype(str)\n",
    "    #ut = str_strip(ut)\n",
    "    ut.to_csv(path_lda+'/user_interest.txt', encoding='utf-8')\n",
    "\n",
    "    # Proecess with user_specialty\n",
    "    us = m['user_specialty'].astype(str)\n",
    "    #us = str_strip(us)\n",
    "    us.to_csv(path_lda+'/user_specialty.txt', encoding='utf-8')"
   ]
  },
  {
   "cell_type": "code",
   "execution_count": 12,
   "metadata": {
    "collapsed": false
   },
   "outputs": [],
   "source": [
    "def remove_stop_words(fin, fout) :\n",
    "    for line in fin:\n",
    "        word_list = line.split(',')[1].strip().split(' ')\n",
    "        filtered_words = [word for word in word_list if word not in stopwords.words('english')]\n",
    "        print filtered_words\n",
    "        fout.write(' '.join(filtered_words))\n",
    "        fout.write('\\n')\n",
    "\n",
    "# do text - preprocessing \n",
    "# get tokens / remove stopwords / do stemming \n",
    "def text_processing(FIN, FOUT) :\n",
    "    for line in FIN :\n",
    "        stemmed = []\n",
    "\n",
    "        # do some strip to get tokens \n",
    "        word_str = line.split(',')[1]\n",
    "        word_str = word_str.replace('u\\'', '\\'')\n",
    "        word_str = word_str.replace(\"'\", \"\")\n",
    "        word_str = re.sub(r\"\\W+\", \" \", word_str)\n",
    "        word_list = word_str.strip().split(' ')\n",
    "        \n",
    "        # remove the stop words from tokens \n",
    "        filtered = [word for word in word_list if word not in stopwords.words('english')]\n",
    "        print filtered\n",
    "        # do stemming on the word \n",
    "        for word in filtered :\n",
    "            #stemmed.append(PorterStemmer().stem(word))\n",
    "            stemmed.append(SnowballStemmer(\"english\").stem(word))\n",
    "        FOUT.write(' '.join(stemmed))\n",
    "        FOUT.write('\\n')\n",
    "\n",
    "    return \n",
    "\n",
    "def process_text_features(PATH_IN, PATH_OUT) :\n",
    "    \n",
    "    reload(sys)\n",
    "    sys.setdefaultencoding('utf8')\n",
    "    try :\n",
    "        with open(PATH_IN+'question_content.txt','r') as f_in1,        \\\n",
    "            open(PATH_OUT+'question_content_pro.txt','w') as f_out1,   \\\n",
    "            open(PATH_IN+'answer_content.txt','r') as f_in2,           \\\n",
    "            open(PATH_OUT+'answer_content_pro.txt','w') as f_out2,     \\\n",
    "            open(PATH_IN+'user_interest.txt','r') as f_in3,            \\\n",
    "            open(PATH_OUT+'user_interest_pro.txt','w') as f_out3,      \\\n",
    "            open(PATH_IN+'question_tag.txt','r') as f_in4,             \\\n",
    "            open(PATH_OUT+'question_tag_pro.txt','w') as f_out4,       \\\n",
    "            open(PATH_IN+'user_recommends.txt','r') as f_in5,          \\\n",
    "            open(PATH_OUT+'user_recommends_pro.txt', 'w') as f_out5,   \\\n",
    "            open(PATH_IN+'user_specialty.txt', 'r') as f_in6,          \\\n",
    "            open(PATH_OUT+'user_specialty_pro.txt', 'w') as f_out6:    \n",
    "\n",
    "                text_processing(f_in1, f_out1)\n",
    "                text_processing(f_in2, f_out2)\n",
    "                text_processing(f_in3, f_out3)\n",
    "                text_processing(f_in4, f_out4)\n",
    "                text_processing(f_in5, f_out5)\n",
    "                text_processing(f_in6, f_out6)\n",
    "    except IOError as e:\n",
    "        print 'Operation failed: %s' % e.strerror"
   ]
  },
  {
   "cell_type": "code",
   "execution_count": 13,
   "metadata": {
    "collapsed": true
   },
   "outputs": [],
   "source": [
    "from itertools import izip\n",
    "\n",
    "def unique(a):\n",
    "    return list(set(a))\n",
    "\n",
    "def intersect(a,b):\n",
    "    return list(set(a)&set(b))\n",
    "\n",
    "def union(a,b):\n",
    "    return list(set(a) | set(b))\n",
    "\n",
    "# Run this code for best_answer_features\n",
    "# PATH_IN = 'DIVIDE/match/best_answer_features/OVER_LAP/'\n",
    "# PATH_OUT = 'DIVIDE/match/best_answer_features/OVER_LAP/'\n",
    "# PATH_FEATURES = 'DIVIDE/match/best_answer_features/'\n",
    "\n",
    "def extract_overlap_features(PATH_IN, PATH_OUT, PATH_FEATURES) :\n",
    "    fin_1 = open(PATH_IN + 'answer_content_pro.txt','r')\n",
    "    fin_2 = open(PATH_IN + 'question_content_pro.txt','r')\n",
    "    fin_3 = open(PATH_IN + 'user_interest_pro.txt')\n",
    "\n",
    "    fout_1 = open(PATH_OUT + 'q_a_overlap.txt','w')\n",
    "    fout_2 = open(PATH_OUT + 'q_u_overlap.txt','w')\n",
    "    fout_3 = open(PATH_OUT + 'a_u_overlap.txt','w')\n",
    "\n",
    "    f15 = open(PATH_FEATURES + 'f15.txt', 'w')\n",
    "    f16 = open(PATH_FEATURES + 'f16.txt', 'w')\n",
    "    f17 = open(PATH_FEATURES + 'f17.txt', 'w')\n",
    "\n",
    "    count = 0\n",
    "\n",
    "    for line1, line2, line3 in izip(fin_1, fin_2, fin_3):\n",
    "        word_list1 = line1.strip().split(' ')\n",
    "        word_list2 = line2.strip().split(' ')\n",
    "        word_list3 = line3.strip().split(' ')\n",
    "\n",
    "        over_lap1 = intersect(word_list1, word_list2)\n",
    "        over_lap2 = intersect(word_list1, word_list3)\n",
    "        over_lap3 = intersect(word_list2, word_list3)\n",
    "\n",
    "        len1 = len(over_lap1)\n",
    "        len2 = len(over_lap2)\n",
    "        len3 = len(over_lap3)\n",
    "\n",
    "        print over_lap1\n",
    "        fout_1.write(str(count)+',')\n",
    "        fout_1.write(' '.join(over_lap1))\n",
    "        fout_1.write(','+str(len1)+'\\n')\n",
    "\n",
    "        fout_2.write(str(count)+',')\n",
    "        fout_2.write(' '.join(over_lap2))\n",
    "        fout_2.write(','+str(len2)+'\\n')\n",
    "\n",
    "        fout_3.write(str(count)+',')\n",
    "        fout_3.write(' '.join(over_lap3))\n",
    "        fout_3.write(','+str(len3)+'\\n')\n",
    "\n",
    "\n",
    "        f15.write(str(count)+','+str(len1)+'\\n')\n",
    "        f16.write(str(count)+','+str(len2)+'\\n')\n",
    "        f17.write(str(count)+','+str(len3)+'\\n')\n",
    "\n",
    "        count = count + 1\n",
    "\n",
    "    fin_1.close()\n",
    "    fin_2.close()\n",
    "    fin_3.close()\n",
    "\n",
    "    fout_1.close()\n",
    "    fout_2.close()\n",
    "    fout_3.close()\n",
    "\n",
    "    f15.close()\n",
    "    f16.close()\n",
    "    f17.close()"
   ]
  },
  {
   "cell_type": "code",
   "execution_count": 14,
   "metadata": {
    "collapsed": true
   },
   "outputs": [],
   "source": [
    "def lda_source(PATH_IN, PATH_OUT) :\n",
    "\n",
    "    f1 = open(PATH_IN + 'question_content_pro.txt','r')\n",
    "    f2 = open(PATH_IN + 'answer_content_pro.txt','r')\n",
    "    f3 = open(PATH_IN + 'user_interest_pro.txt', 'r')\n",
    "    f4 = open(PATH_IN + 'question_tag_pro.txt', 'r')\n",
    "\n",
    "    fout = open(PATH_OUT + 'LDA_SOURCE.txt','w')\n",
    "\n",
    "    for line1, line2, line3, line4 in izip(f1, f2, f3, f4) :\n",
    "        #line1 = f1.readline()\n",
    "        info1 = line1.strip()\n",
    "        print info1\n",
    "        fout.write(info1)\n",
    "\n",
    "        #line2 = f2.readline()\n",
    "        info2 = line2.strip()\n",
    "        print info2\n",
    "        fout.write(' '+info2)\n",
    "\n",
    "        info3 = line3.strip()\n",
    "        print info3\n",
    "        fout.write(' '+info3)\n",
    "\n",
    "        info4 = line4.strip()\n",
    "        print info4\n",
    "        fout.write(' '+info4 + '\\n')\n",
    "\n",
    "    f1.close()\n",
    "    f2.close()\n",
    "    f3.close()\n",
    "    f4.close()\n",
    "    fout.close()"
   ]
  },
  {
   "cell_type": "code",
   "execution_count": 15,
   "metadata": {
    "collapsed": true
   },
   "outputs": [],
   "source": [
    "def normalize(PATH_IN, PATH_OUT) :\n",
    "    # feature1 : length of the answer_content \n",
    "    f1 = pd.read_csv(PATH_IN + 'f1.txt', names = ['index','len_answer_content'])\n",
    "\n",
    "    # feature2 : length of the user_introduction\n",
    "    f2 = pd.read_csv(PATH_IN + 'f2.txt', names = ['index','len_user_intro'])\n",
    "    m = pd.merge(f1, f2, how='outer')\n",
    "    #print m\n",
    "\n",
    "    # feature3 : length of the question_content\n",
    "    f3 = pd.read_csv(PATH_IN + 'f3.txt', names = ['index', 'len_question_content'])\n",
    "    m = pd.merge(m, f3, how='outer')\n",
    "\n",
    "    # feature4: user's experience years\n",
    "    f4 = pd.read_csv(PATH_IN + 'f4.txt', names = ['index','user_exp'])\n",
    "    m = pd.merge(m, f4, how='outer')\n",
    "    #print m\n",
    "\n",
    "    # feature5 : length of the user's edu\n",
    "    f5 = pd.read_csv(PATH_IN + 'f5.txt', names = ['index','len_user_edu'])\n",
    "    m = pd.merge(m, f5, how='outer')\n",
    "\n",
    "    # feature6 : number of topics of user's interest\n",
    "    f6 = pd.read_csv(PATH_IN + 'f6.txt', names = ['index','num_user_interst'])\n",
    "    m = pd.merge(m, f6, how='outer')\n",
    "\n",
    "    # feature7 : number of the people user followed\n",
    "    f7 = pd.read_csv(PATH_IN + 'f7.txt', names = ['index','num_user_followed'])\n",
    "    m = pd.merge(m, f7, how='outer')\n",
    "\n",
    "    # feature8 : number of the question tags\n",
    "    f8 = pd.read_csv(PATH_IN + 'f8.txt', names = ['index', 'num_question_tags'])\n",
    "    m = pd.merge(m, f8, how='outer')\n",
    "\n",
    "    # feature9 : number of saved lives\n",
    "    f9 = pd.read_csv(PATH_IN + 'f9.txt', names = ['index','num_user_saved'])\n",
    "    m = pd.merge(m, f9, how='outer')\n",
    "\n",
    "    # feature10 : number of recieved thanks\n",
    "    f10 = pd.read_csv(PATH_IN + 'f10.txt', names = ['index','num_user_thanks'])\n",
    "    m = pd.merge(m, f10, how='outer')\n",
    "\n",
    "    # feature11 : number of agrees\n",
    "    f11 = pd.read_csv(PATH_IN + 'f11.txt', names = ['index','num_user_agrees'])\n",
    "    m = pd.merge(m, f11, how='outer')\n",
    "\n",
    "    # feature12 : nuber of helped people\n",
    "    f12 = pd.read_csv(PATH_IN + 'f12.txt', names = ['index','num_user_helped'])\n",
    "    m = pd.merge(m, f12, how='outer')\n",
    "\n",
    "    # feature13 : number of doctor recommend\n",
    "    f13 = pd.read_csv(PATH_IN + 'f13.txt', names = ['index','num_user_recommend'])\n",
    "    m = pd.merge(m, f13, how='outer')\n",
    "\n",
    "    #####################################################################\n",
    "    # feature15 : number of answer_question overlap\n",
    "    f15 = pd.read_csv(PATH_IN + 'f15.txt', names = ['index', 'answer_question_overlap'])\n",
    "    m = pd.merge(m, f15, how='outer')\n",
    "\n",
    "\n",
    "    # feature16 : number of question_user_interest overlap\n",
    "    f16 = pd.read_csv(PATH_IN + 'f16.txt', names = ['index', 'question_uinterest_overlap'])\n",
    "    m = pd.merge(m, f16, how= 'outer')\n",
    "\n",
    "    # feature17 : number of user_interest_answer overlap\n",
    "    f17 = pd.read_csv(PATH_IN + 'f17.txt', names = ['index', 'uinterest_answer_overlap'])\n",
    "    m = pd.merge(m, f17, how= 'outer')\n",
    "\n",
    "    #######################################################################\n",
    "    Index = m.ix[:,0] \n",
    "    M = m.ix[:,1:]\n",
    "\n",
    "    M = (M - M.min()) / (M.max() - M.min())\n",
    "    M['index'] = Index\n",
    "\n",
    "\n",
    "    # question_id :\n",
    "    # qid = pd.read_csv(PATH_IN + 'qid.txt', names = ['index', 'question_id'])\n",
    "    # M = pd.merge(M, qid, how = 'outer')\n",
    "\n",
    "    # number_of_vote\n",
    "    # vote = pd.read_csv(PATH_IN + 'vote.txt', names = ['index', 'vote'])\n",
    "    # M = pd.merge(M, vote, how = 'outer')\n",
    "\n",
    "    M = M.drop('index', axis = 1)\n",
    "    M = M.fillna(0)\n",
    "    print M\n",
    "\n",
    "    M.to_csv(PATH_OUT + 'Normal_Features.txt',  index = False)\n",
    "\n",
    "    '''\n",
    "    m_norm = (m-m.mean()) / (m.max() - m.min())\n",
    "    print m_norm\n",
    "\n",
    "    print m.max()\n",
    "    print m.min()\n",
    "    print m.mean()\n",
    "    #print m.std()\n",
    "    '''\n",
    "\n",
    "    #M_norm.to_csv('Normaliztion.txt',  index = False)"
   ]
  },
  {
   "cell_type": "code",
   "execution_count": 16,
   "metadata": {
    "collapsed": true
   },
   "outputs": [],
   "source": [
    "PATH_IN = './Final_Test_Set.csv'\n",
    "PATH_NORMAL = './NORMAL/'\n",
    "PATH_OVERLAP = './OVERLAP/'\n",
    "PATH_TEXT = './TEXT/'\n",
    "PATH_LDA = './LDA/'"
   ]
  },
  {
   "cell_type": "code",
   "execution_count": 17,
   "metadata": {
    "collapsed": true
   },
   "outputs": [],
   "source": [
    "extract_normal_features(PATH_IN, PATH_NORMAL)"
   ]
  },
  {
   "cell_type": "code",
   "execution_count": 18,
   "metadata": {
    "collapsed": true
   },
   "outputs": [],
   "source": [
    "extract_text_features(PATH_IN, PATH_TEXT)"
   ]
  },
  {
   "cell_type": "code",
   "execution_count": 19,
   "metadata": {
    "collapsed": true
   },
   "outputs": [],
   "source": [
    "process_text_features(PATH_TEXT, PATH_OVERLAP)"
   ]
  },
  {
   "cell_type": "code",
   "execution_count": 20,
   "metadata": {
    "collapsed": false
   },
   "outputs": [],
   "source": [
    "extract_overlap_features(PATH_OVERLAP, PATH_OVERLAP, PATH_NORMAL)"
   ]
  },
  {
   "cell_type": "code",
   "execution_count": 21,
   "metadata": {
    "collapsed": true
   },
   "outputs": [],
   "source": [
    "lda_source(PATH_OVERLAP, PATH_LDA)"
   ]
  },
  {
   "cell_type": "code",
   "execution_count": 22,
   "metadata": {
    "collapsed": true
   },
   "outputs": [],
   "source": [
    "normalize(PATH_NORMAL, PATH_NORMAL)"
   ]
  },
  {
   "cell_type": "code",
   "execution_count": 32,
   "metadata": {
    "collapsed": false
   },
   "outputs": [],
   "source": [
    "# Format the S2V\n",
    "s2v_list = []\n",
    "for i in range(50) :\n",
    "    col_name = 's2v_' + str(i) \n",
    "    s2v_list.append(col_name)\n",
    "print s2v_list"
   ]
  },
  {
   "cell_type": "code",
   "execution_count": 33,
   "metadata": {
    "collapsed": false
   },
   "outputs": [],
   "source": [
    "test_s2v = pd.read_table('./SENTENCE_VECTOR/Test_Source.txt.vec', sep = ' ', names = s2v_list)"
   ]
  },
  {
   "cell_type": "code",
   "execution_count": 34,
   "metadata": {
    "collapsed": false
   },
   "outputs": [],
   "source": [
    "test_s2v.to_csv('./SENTENCE_VECTOR/test_s2v.csv', encoding='utf-8', index = False)"
   ]
  },
  {
   "cell_type": "code",
   "execution_count": 35,
   "metadata": {
    "collapsed": true
   },
   "outputs": [],
   "source": [
    "# T_s2v = pd.read_csv('TEST/SENTENCE_VECTOR/test_s2v.csv')"
   ]
  },
  {
   "cell_type": "code",
   "execution_count": 37,
   "metadata": {
    "collapsed": false
   },
   "outputs": [],
   "source": [
    "# T_s2v\n",
    "topic_list = []\n",
    "for i in range(50) :\n",
    "    col_name = 'topic_' + str(i) \n",
    "    topic_list.append(col_name)\n",
    "print topic_list"
   ]
  },
  {
   "cell_type": "code",
   "execution_count": 39,
   "metadata": {
    "collapsed": false
   },
   "outputs": [],
   "source": [
    "test_topic = pd.read_table('./LDA/model-final.theta', sep = ' ', names = topic_list, index_col=False)"
   ]
  },
  {
   "cell_type": "code",
   "execution_count": 41,
   "metadata": {
    "collapsed": false
   },
   "outputs": [],
   "source": [
    "# test_topic\n",
    "test_topic.to_csv('./LDA/test_topic.csv', encoding='utf-8', index=False)"
   ]
  },
  {
   "cell_type": "code",
   "execution_count": 2,
   "metadata": {
    "collapsed": false
   },
   "outputs": [],
   "source": [
    "# T_topic = pd.read_csv('TEST/LDA/test_topic.csv')\n",
    "# T_topic\n",
    "\n",
    "test_normal = pd.read_csv('./NORMAL/Normal_Features.txt')\n",
    "test_s2v = pd.read_csv('./SENTENCE_VECTOR/test_s2v.csv')\n",
    "test_topic = pd.read_csv('./LDA/test_topic.csv')"
   ]
  },
  {
   "cell_type": "code",
   "execution_count": 3,
   "metadata": {
    "collapsed": false
   },
   "outputs": [],
   "source": [
    "test_normal_s2v = pd.merge(test_normal, test_s2v, left_index=True, right_index=True)\n",
    "test_final = pd.merge(test_normal_s2v, test_topic, left_index=True, right_index=True)"
   ]
  },
  {
   "cell_type": "code",
   "execution_count": 4,
   "metadata": {
    "collapsed": false
   },
   "outputs": [],
   "source": [
    "test_final.to_csv('./Final_Test_Feature.csv', encoding='utf-8', index=False)"
   ]
  },
  {
   "cell_type": "code",
   "execution_count": 5,
   "metadata": {
    "collapsed": true
   },
   "outputs": [],
   "source": [
    "best_answer = test_final[:3340]\n",
    "second_answer = test_final[3340:6680]\n",
    "third_answer = test_final[6680:10020]"
   ]
  },
  {
   "cell_type": "code",
   "execution_count": 6,
   "metadata": {
    "collapsed": true
   },
   "outputs": [],
   "source": [
    "test0 = test_final[10020:10057]\n",
    "test1 = test_final[10057:10089]\n",
    "test2 = test_final[10089:10129]"
   ]
  },
  {
   "cell_type": "code",
   "execution_count": 7,
   "metadata": {
    "collapsed": true
   },
   "outputs": [],
   "source": [
    "test0.to_csv('../MODEL/SVM_Data/test0.csv', encoding='utf-8', index = False)\n",
    "test1.to_csv('../MODEL/SVM_Data/test1.csv', encoding='utf-8', index = False)\n",
    "test2.to_csv('../MODEL/SVM_Data/test2.csv', encoding='utf-8', index = False)"
   ]
  },
  {
   "cell_type": "code",
   "execution_count": 51,
   "metadata": {
    "collapsed": false
   },
   "outputs": [],
   "source": [
    "# test_final"
   ]
  },
  {
   "cell_type": "code",
   "execution_count": null,
   "metadata": {
    "collapsed": true
   },
   "outputs": [],
   "source": []
  }
 ],
 "metadata": {
  "kernelspec": {
   "display_name": "Python 2",
   "language": "python",
   "name": "python2"
  },
  "language_info": {
   "codemirror_mode": {
    "name": "ipython",
    "version": 2
   },
   "file_extension": ".py",
   "mimetype": "text/x-python",
   "name": "python",
   "nbconvert_exporter": "python",
   "pygments_lexer": "ipython2",
   "version": "2.7.11"
  }
 },
 "nbformat": 4,
 "nbformat_minor": 0
}
