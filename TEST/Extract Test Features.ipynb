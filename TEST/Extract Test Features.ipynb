{
 "cells": [
  {
   "cell_type": "code",
   "execution_count": 1,
   "metadata": {
    "collapsed": true
   },
   "outputs": [],
   "source": [
    "# nltk.download()\n",
    "import pandas as pd\n",
    "import numpy as np\n",
    "import operator\n",
    "import re\n",
    "import nltk\n",
    "import sys\n",
    "from nltk.corpus import stopwords\n",
    "from nltk.stem.porter import PorterStemmer\n",
    "from nltk.stem import SnowballStemmer"
   ]
  },
  {
   "cell_type": "markdown",
   "metadata": {},
   "source": [
    "# Extract Features From the Test.csv"
   ]
  },
  {
   "cell_type": "code",
   "execution_count": 2,
   "metadata": {
    "collapsed": true
   },
   "outputs": [],
   "source": [
    "Test = pd.read_csv('./Final_Test_Set.csv')"
   ]
  },
  {
   "cell_type": "code",
   "execution_count": 3,
   "metadata": {
    "collapsed": false
   },
   "outputs": [
    {
     "data": {
      "text/html": [
       "<div>\n",
       "<table border=\"1\" class=\"dataframe\">\n",
       "  <thead>\n",
       "    <tr style=\"text-align: right;\">\n",
       "      <th></th>\n",
       "      <th>answer_content</th>\n",
       "      <th>answer_id</th>\n",
       "      <th>answer_voted</th>\n",
       "      <th>question_id</th>\n",
       "      <th>user_id</th>\n",
       "      <th>user_agrees</th>\n",
       "      <th>user_edu</th>\n",
       "      <th>user_exp</th>\n",
       "      <th>user_followed</th>\n",
       "      <th>user_helped</th>\n",
       "      <th>user_interest</th>\n",
       "      <th>user_intro</th>\n",
       "      <th>user_recommends</th>\n",
       "      <th>user_saved</th>\n",
       "      <th>user_specialty</th>\n",
       "      <th>user_thanks</th>\n",
       "      <th>question_tags</th>\n",
       "      <th>question_content</th>\n",
       "    </tr>\n",
       "  </thead>\n",
       "  <tbody>\n",
       "    <tr>\n",
       "      <th>10020</th>\n",
       "      <td>yes a replaced knee is often more swollen than...</td>\n",
       "      <td>1433245</td>\n",
       "      <td>1</td>\n",
       "      <td>1000543</td>\n",
       "      <td>11168524</td>\n",
       "      <td>189</td>\n",
       "      <td>uc san francisco school of medicine  ca</td>\n",
       "      <td>24years</td>\n",
       "      <td>[11193858, 11828102, 12242507, 11202045, 11139...</td>\n",
       "      <td>177,202</td>\n",
       "      <td>total hip replacement  total knee replacement ...</td>\n",
       "      <td>i did my med school and residency at ucsf and ...</td>\n",
       "      <td>dr dearborn is an amazing doctor #nationaldoct...</td>\n",
       "      <td>NaN</td>\n",
       "      <td>orthopedic reconstructive surgery</td>\n",
       "      <td>111</td>\n",
       "      <td>nsaids  surgery  knee replacement</td>\n",
       "      <td>will swelling after knee replacement surgery g...</td>\n",
       "    </tr>\n",
       "  </tbody>\n",
       "</table>\n",
       "</div>"
      ],
      "text/plain": [
       "                                          answer_content  answer_id  \\\n",
       "10020  yes a replaced knee is often more swollen than...    1433245   \n",
       "\n",
       "       answer_voted  question_id   user_id user_agrees  \\\n",
       "10020             1      1000543  11168524         189   \n",
       "\n",
       "                                      user_edu user_exp  \\\n",
       "10020  uc san francisco school of medicine  ca  24years   \n",
       "\n",
       "                                           user_followed user_helped  \\\n",
       "10020  [11193858, 11828102, 12242507, 11202045, 11139...     177,202   \n",
       "\n",
       "                                           user_interest  \\\n",
       "10020  total hip replacement  total knee replacement ...   \n",
       "\n",
       "                                              user_intro  \\\n",
       "10020  i did my med school and residency at ucsf and ...   \n",
       "\n",
       "                                         user_recommends  user_saved  \\\n",
       "10020  dr dearborn is an amazing doctor #nationaldoct...         NaN   \n",
       "\n",
       "                          user_specialty user_thanks  \\\n",
       "10020  orthopedic reconstructive surgery         111   \n",
       "\n",
       "                           question_tags  \\\n",
       "10020  nsaids  surgery  knee replacement   \n",
       "\n",
       "                                        question_content  \n",
       "10020  will swelling after knee replacement surgery g...  "
      ]
     },
     "execution_count": 3,
     "metadata": {},
     "output_type": "execute_result"
    }
   ],
   "source": [
    "# Start of the Test_Set\n",
    "Test.iloc[[10020]]"
   ]
  },
  {
   "cell_type": "code",
   "execution_count": 4,
   "metadata": {
    "collapsed": true
   },
   "outputs": [],
   "source": [
    "def extract_normal_features(path_in, path_out): \n",
    "    m = pd.read_csv(path_in)\n",
    "\n",
    "    # calculate the features\n",
    "    # question_id :\n",
    "    question_id = m['question_id']\n",
    "    question_id.to_csv(path_out+'/qid.txt')\n",
    "\n",
    "    # vote :\n",
    "    vote = m['answer_voted']\n",
    "    vote.to_csv(path_out+'/vote.txt')\n",
    "\n",
    "    # feature1 : length of the answer_content \n",
    "    #answer_content = m[['answer_content','user_id']]\n",
    "    answer_content = m['answer_content']\n",
    "    # f1 : length of the answer_content\n",
    "    f1 = answer_content.str.len()\n",
    "    f1.to_csv(path_out+'/f1.txt')\n",
    "    #print answer_content\n",
    "\n",
    "\n",
    "    # feature2 : length of the user_introduction\n",
    "    user_intro = m['user_intro']\n",
    "    #print user_intro\n",
    "    f2 = user_intro.str.len()\n",
    "    f2.to_csv(path_out+'/f2.txt')\n",
    "    #print f2\n",
    "\n",
    "\n",
    "    # feature3 : length of the question_content\n",
    "    question_content = m['question_content']\n",
    "    f3 = question_content.str.len()\n",
    "    #print f3\n",
    "    f3.to_csv(path_out+'/f3.txt')\n",
    "\n",
    "\n",
    "    # feature4: user's experience years\n",
    "    user_exp = m['user_exp']\n",
    "    f4 = m['user_exp']\n",
    "    f4 = f4.str.extract('([0-9]*)')\n",
    "    f4.to_csv(path_out+'/f4.txt')\n",
    "    #print f4\n",
    "\n",
    "    # feature5 : length of the user's edu\n",
    "    user_edu = m['user_edu']\n",
    "    f5 = user_edu.str.len()\n",
    "    f5.to_csv(path_out+'/f5.txt')\n",
    "    #print f5\n",
    "\n",
    "\n",
    "    # feature6 : number of topics of user's interest\n",
    "    user_interest = m['user_interest']\n",
    "    f6 = user_interest.str.len()\n",
    "    f6.to_csv(path_out+'/f6.txt')\n",
    "    #print f6\n",
    "\n",
    "\n",
    "    # feature7 : number of the people user followed\n",
    "    user_followed = m['user_followed']\n",
    "    f7 = user_followed.str.len()\n",
    "    f7.to_csv(path_out+'/f7.txt')\n",
    "    #print f7\n",
    "\n",
    "    # feature8 : number of the question tags\n",
    "    question_tags = m['question_tags']\n",
    "    f8 = question_tags.str.len()\n",
    "    f8.to_csv(path_out+'/f8.txt')\n",
    "    #print f8\n",
    "\n",
    "\n",
    "    # feature9 : number of saved lives\n",
    "    saved_lives = m['user_saved']\n",
    "    f9 = saved_lives\n",
    "    f9.to_csv(path_out+'/f9.txt')\n",
    "    #print f9\n",
    "\n",
    "\n",
    "    # feature10 : number of recieved thanks\n",
    "    recieved_thanks = m['user_thanks']\n",
    "    #recieved_thanks = str(recieved_thanks)\n",
    "    f10 = recieved_thanks.str.replace(',','')\n",
    "    f10.to_csv(path_out+'/f10.txt')\n",
    "    #print f10\n",
    "\n",
    "\n",
    "    # feature11 : number of agrees\n",
    "    recieved_agrees = m['user_agrees']\n",
    "    f11 = recieved_agrees.str.replace(',','')\n",
    "    f11.to_csv(path_out+'/f11.txt')\n",
    "    #print f11\n",
    "\n",
    "\n",
    "    # feature12 : nuber of helped people\n",
    "    helped = m['user_helped']\n",
    "    f12 = helped.str.replace(',','')\n",
    "    f12.to_csv(path_out+'/f12.txt')\n",
    "    #print f12\n",
    "\n",
    "\n",
    "    # feature13 : number of doctor recommend\n",
    "    recommend = m['user_recommends']\n",
    "    f13 = recommend.str.len()\n",
    "    f13.to_csv(path_out+'/f13.txt')\n",
    "    #print f13\n",
    "\n",
    "    # feature14 : total length of the recommends\n",
    "    # recommend_str = m['user_recommends']\n",
    "    # recommend_str = ','.join(str(v) for v in recommend_str)\n",
    "    # f14 = recommend_str.to_string\n",
    "    # print f14\n",
    "    #f14.to_csv('f14.txt')\n",
    "\n",
    "\n",
    "# Extracting for the TEXT FEATRUES\n",
    "def extract_text_features(path_in, path_lda):\n",
    "    \n",
    "    m = pd.read_csv(path_in)\n",
    "\n",
    "    # Process with the question_content\n",
    "    qc = m['question_content']\n",
    "    #qc = str_strip(qc)\n",
    "    #print qc\n",
    "    qc.to_csv(path_lda+'/question_content.txt', encoding='utf-8')\n",
    "\n",
    "    # Process with the answer_content\n",
    "    ac = m['answer_content']\n",
    "    #ac = str_strip(ac)\n",
    "    ac.to_csv(path_lda+'/answer_content.txt', encoding='utf-8')\n",
    "\n",
    "    # Process with the user_recommends\n",
    "    ur = m['user_recommends'].astype(str)\n",
    "    #ur = str_strip(ur)\n",
    "    ur.to_csv(path_lda+'/user_recommends.txt', encoding='utf-8')\n",
    "\n",
    "    # Process with question_tags\n",
    "    qt = m['question_tags'].astype(str)\n",
    "    #qt = str_strip(qt)\n",
    "    #print qt\n",
    "    qt.to_csv(path_lda+'/question_tag.txt', encoding='utf-8')\n",
    "\n",
    "    # Process with user_interest\n",
    "    ut = m['user_interest'].astype(str)\n",
    "    #ut = str_strip(ut)\n",
    "    ut.to_csv(path_lda+'/user_interest.txt', encoding='utf-8')\n",
    "\n",
    "    # Proecess with user_specialty\n",
    "    us = m['user_specialty'].astype(str)\n",
    "    #us = str_strip(us)\n",
    "    us.to_csv(path_lda+'/user_specialty.txt', encoding='utf-8')"
   ]
  },
  {
   "cell_type": "code",
   "execution_count": 5,
   "metadata": {
    "collapsed": false
   },
   "outputs": [],
   "source": [
    "def remove_stop_words(fin, fout) :\n",
    "    for line in fin:\n",
    "        word_list = line.split(',')[1].strip().split(' ')\n",
    "        filtered_words = [word for word in word_list if word not in stopwords.words('english')]\n",
    "        print filtered_words\n",
    "        fout.write(' '.join(filtered_words))\n",
    "        fout.write('\\n')\n",
    "\n",
    "# do text - preprocessing \n",
    "# get tokens / remove stopwords / do stemming \n",
    "def text_processing(FIN, FOUT) :\n",
    "    for line in FIN :\n",
    "        stemmed = []\n",
    "\n",
    "        # do some strip to get tokens \n",
    "        word_str = line.split(',')[1]\n",
    "        word_str = word_str.replace('u\\'', '\\'')\n",
    "        word_str = word_str.replace(\"'\", \"\")\n",
    "        word_str = re.sub(r\"\\W+\", \" \", word_str)\n",
    "        word_list = word_str.strip().split(' ')\n",
    "        \n",
    "        # remove the stop words from tokens \n",
    "        filtered = [word for word in word_list if word not in stopwords.words('english')]\n",
    "        # print filtered\n",
    "        # do stemming on the word \n",
    "        # for word in filtered :\n",
    "            # stemmed.append(PorterStemmer().stem(word))\n",
    "            # stemmed.append(SnowballStemmer(\"english\").stem(word))\n",
    "        #FOUT.write(' '.join(stemmed))\n",
    "        FOUT.write(' '.join(filtered))\n",
    "        FOUT.write('\\n')\n",
    "\n",
    "    return \n",
    "\n",
    "def process_text_features(PATH_IN, PATH_OUT) :\n",
    "    \n",
    "    reload(sys)\n",
    "    sys.setdefaultencoding('utf8')\n",
    "    try :\n",
    "        with open(PATH_IN+'question_content.txt','r') as f_in1,        \\\n",
    "            open(PATH_OUT+'question_content_pro.txt','w') as f_out1,   \\\n",
    "            open(PATH_IN+'answer_content.txt','r') as f_in2,           \\\n",
    "            open(PATH_OUT+'answer_content_pro.txt','w') as f_out2,     \\\n",
    "            open(PATH_IN+'user_interest.txt','r') as f_in3,            \\\n",
    "            open(PATH_OUT+'user_interest_pro.txt','w') as f_out3,      \\\n",
    "            open(PATH_IN+'question_tag.txt','r') as f_in4,             \\\n",
    "            open(PATH_OUT+'question_tag_pro.txt','w') as f_out4,       \\\n",
    "            open(PATH_IN+'user_recommends.txt','r') as f_in5,          \\\n",
    "            open(PATH_OUT+'user_recommends_pro.txt', 'w') as f_out5,   \\\n",
    "            open(PATH_IN+'user_specialty.txt', 'r') as f_in6,          \\\n",
    "            open(PATH_OUT+'user_specialty_pro.txt', 'w') as f_out6:    \n",
    "\n",
    "                text_processing(f_in1, f_out1)\n",
    "                text_processing(f_in2, f_out2)\n",
    "                text_processing(f_in3, f_out3)\n",
    "                text_processing(f_in4, f_out4)\n",
    "                text_processing(f_in5, f_out5)\n",
    "                text_processing(f_in6, f_out6)\n",
    "    except IOError as e:\n",
    "        print 'Operation failed: %s' % e.strerror"
   ]
  },
  {
   "cell_type": "code",
   "execution_count": 6,
   "metadata": {
    "collapsed": true
   },
   "outputs": [],
   "source": [
    "from itertools import izip\n",
    "\n",
    "def unique(a):\n",
    "    return list(set(a))\n",
    "\n",
    "def intersect(a,b):\n",
    "    return list(set(a)&set(b))\n",
    "\n",
    "def union(a,b):\n",
    "    return list(set(a) | set(b))\n",
    "\n",
    "# Run this code for best_answer_features\n",
    "# PATH_IN = 'DIVIDE/match/best_answer_features/OVER_LAP/'\n",
    "# PATH_OUT = 'DIVIDE/match/best_answer_features/OVER_LAP/'\n",
    "# PATH_FEATURES = 'DIVIDE/match/best_answer_features/'\n",
    "\n",
    "def extract_overlap_features(PATH_IN, PATH_OUT, PATH_FEATURES) :\n",
    "    fin_1 = open(PATH_IN + 'answer_content_pro.txt','r')\n",
    "    fin_2 = open(PATH_IN + 'question_content_pro.txt','r')\n",
    "    fin_3 = open(PATH_IN + 'user_interest_pro.txt')\n",
    "\n",
    "    fout_1 = open(PATH_OUT + 'q_a_overlap.txt','w')\n",
    "    fout_2 = open(PATH_OUT + 'q_u_overlap.txt','w')\n",
    "    fout_3 = open(PATH_OUT + 'a_u_overlap.txt','w')\n",
    "\n",
    "    f15 = open(PATH_FEATURES + 'f15.txt', 'w')\n",
    "    f16 = open(PATH_FEATURES + 'f16.txt', 'w')\n",
    "    f17 = open(PATH_FEATURES + 'f17.txt', 'w')\n",
    "\n",
    "    count = 0\n",
    "\n",
    "    for line1, line2, line3 in izip(fin_1, fin_2, fin_3):\n",
    "        word_list1 = line1.strip().split(' ')\n",
    "        word_list2 = line2.strip().split(' ')\n",
    "        word_list3 = line3.strip().split(' ')\n",
    "\n",
    "        over_lap1 = intersect(word_list1, word_list2)\n",
    "        over_lap2 = intersect(word_list1, word_list3)\n",
    "        over_lap3 = intersect(word_list2, word_list3)\n",
    "\n",
    "        len1 = len(over_lap1)\n",
    "        len2 = len(over_lap2)\n",
    "        len3 = len(over_lap3)\n",
    "\n",
    "        print over_lap1\n",
    "        fout_1.write(str(count)+',')\n",
    "        fout_1.write(' '.join(over_lap1))\n",
    "        fout_1.write(','+str(len1)+'\\n')\n",
    "\n",
    "        fout_2.write(str(count)+',')\n",
    "        fout_2.write(' '.join(over_lap2))\n",
    "        fout_2.write(','+str(len2)+'\\n')\n",
    "\n",
    "        fout_3.write(str(count)+',')\n",
    "        fout_3.write(' '.join(over_lap3))\n",
    "        fout_3.write(','+str(len3)+'\\n')\n",
    "\n",
    "\n",
    "        f15.write(str(count)+','+str(len1)+'\\n')\n",
    "        f16.write(str(count)+','+str(len2)+'\\n')\n",
    "        f17.write(str(count)+','+str(len3)+'\\n')\n",
    "\n",
    "        count = count + 1\n",
    "\n",
    "    fin_1.close()\n",
    "    fin_2.close()\n",
    "    fin_3.close()\n",
    "\n",
    "    fout_1.close()\n",
    "    fout_2.close()\n",
    "    fout_3.close()\n",
    "\n",
    "    f15.close()\n",
    "    f16.close()\n",
    "    f17.close()"
   ]
  },
  {
   "cell_type": "code",
   "execution_count": 7,
   "metadata": {
    "collapsed": true
   },
   "outputs": [],
   "source": [
    "def lda_source(PATH_IN, PATH_OUT) :\n",
    "\n",
    "    f1 = open(PATH_IN + 'question_content_pro.txt','r')\n",
    "    f2 = open(PATH_IN + 'answer_content_pro.txt','r')\n",
    "    f3 = open(PATH_IN + 'user_interest_pro.txt', 'r')\n",
    "    f4 = open(PATH_IN + 'question_tag_pro.txt', 'r')\n",
    "\n",
    "    fout = open(PATH_OUT + 'TEST_SOURCE.txt','w')\n",
    "\n",
    "    for line1, line2, line3, line4 in izip(f1, f2, f3, f4) :\n",
    "        #line1 = f1.readline()\n",
    "        info1 = line1.strip()\n",
    "        print info1\n",
    "        fout.write(info1)\n",
    "\n",
    "        #line2 = f2.readline()\n",
    "        info2 = line2.strip()\n",
    "        print info2\n",
    "        fout.write(' '+info2)\n",
    "\n",
    "        info3 = line3.strip()\n",
    "        print info3\n",
    "        fout.write(' '+info3)\n",
    "\n",
    "        info4 = line4.strip()\n",
    "        print info4\n",
    "        fout.write(' '+info4 + '\\n')\n",
    "\n",
    "    f1.close()\n",
    "    f2.close()\n",
    "    f3.close()\n",
    "    f4.close()\n",
    "    fout.close()"
   ]
  },
  {
   "cell_type": "code",
   "execution_count": 8,
   "metadata": {
    "collapsed": true
   },
   "outputs": [],
   "source": [
    "def normalize(PATH_IN, PATH_OUT) :\n",
    "    # feature1 : length of the answer_content \n",
    "    f1 = pd.read_csv(PATH_IN + 'f1.txt', names = ['index','len_answer_content'])\n",
    "\n",
    "    # feature2 : length of the user_introduction\n",
    "    f2 = pd.read_csv(PATH_IN + 'f2.txt', names = ['index','len_user_intro'])\n",
    "    m = pd.merge(f1, f2, how='outer')\n",
    "    #print m\n",
    "\n",
    "    # feature3 : length of the question_content\n",
    "    f3 = pd.read_csv(PATH_IN + 'f3.txt', names = ['index', 'len_question_content'])\n",
    "    m = pd.merge(m, f3, how='outer')\n",
    "\n",
    "    # feature4: user's experience years\n",
    "    f4 = pd.read_csv(PATH_IN + 'f4.txt', names = ['index','user_exp'])\n",
    "    m = pd.merge(m, f4, how='outer')\n",
    "    #print m\n",
    "\n",
    "    # feature5 : length of the user's edu\n",
    "    f5 = pd.read_csv(PATH_IN + 'f5.txt', names = ['index','len_user_edu'])\n",
    "    m = pd.merge(m, f5, how='outer')\n",
    "\n",
    "    # feature6 : number of topics of user's interest\n",
    "    f6 = pd.read_csv(PATH_IN + 'f6.txt', names = ['index','num_user_interst'])\n",
    "    m = pd.merge(m, f6, how='outer')\n",
    "\n",
    "    # feature7 : number of the people user followed\n",
    "    f7 = pd.read_csv(PATH_IN + 'f7.txt', names = ['index','num_user_followed'])\n",
    "    m = pd.merge(m, f7, how='outer')\n",
    "\n",
    "    # feature8 : number of the question tags\n",
    "    f8 = pd.read_csv(PATH_IN + 'f8.txt', names = ['index', 'num_question_tags'])\n",
    "    m = pd.merge(m, f8, how='outer')\n",
    "\n",
    "    # feature9 : number of saved lives\n",
    "    f9 = pd.read_csv(PATH_IN + 'f9.txt', names = ['index','num_user_saved'])\n",
    "    m = pd.merge(m, f9, how='outer')\n",
    "\n",
    "    # feature10 : number of recieved thanks\n",
    "    f10 = pd.read_csv(PATH_IN + 'f10.txt', names = ['index','num_user_thanks'])\n",
    "    m = pd.merge(m, f10, how='outer')\n",
    "\n",
    "    # feature11 : number of agrees\n",
    "    f11 = pd.read_csv(PATH_IN + 'f11.txt', names = ['index','num_user_agrees'])\n",
    "    m = pd.merge(m, f11, how='outer')\n",
    "\n",
    "    # feature12 : nuber of helped people\n",
    "    f12 = pd.read_csv(PATH_IN + 'f12.txt', names = ['index','num_user_helped'])\n",
    "    m = pd.merge(m, f12, how='outer')\n",
    "\n",
    "    # feature13 : number of doctor recommend\n",
    "    f13 = pd.read_csv(PATH_IN + 'f13.txt', names = ['index','num_user_recommend'])\n",
    "    m = pd.merge(m, f13, how='outer')\n",
    "\n",
    "    #####################################################################\n",
    "    # feature15 : number of answer_question overlap\n",
    "    f15 = pd.read_csv(PATH_IN + 'f15.txt', names = ['index', 'answer_question_overlap'])\n",
    "    m = pd.merge(m, f15, how='outer')\n",
    "\n",
    "\n",
    "    # feature16 : number of question_user_interest overlap\n",
    "    f16 = pd.read_csv(PATH_IN + 'f16.txt', names = ['index', 'question_uinterest_overlap'])\n",
    "    m = pd.merge(m, f16, how= 'outer')\n",
    "\n",
    "    # feature17 : number of user_interest_answer overlap\n",
    "    f17 = pd.read_csv(PATH_IN + 'f17.txt', names = ['index', 'uinterest_answer_overlap'])\n",
    "    m = pd.merge(m, f17, how= 'outer')\n",
    "\n",
    "    #######################################################################\n",
    "    Index = m.ix[:,0] \n",
    "    M = m.ix[:,1:]\n",
    "\n",
    "    M = (M - M.min()) / (M.max() - M.min())\n",
    "    M['index'] = Index\n",
    "\n",
    "\n",
    "    # question_id :\n",
    "    # qid = pd.read_csv(PATH_IN + 'qid.txt', names = ['index', 'question_id'])\n",
    "    # M = pd.merge(M, qid, how = 'outer')\n",
    "\n",
    "    # number_of_vote\n",
    "    # vote = pd.read_csv(PATH_IN + 'vote.txt', names = ['index', 'vote'])\n",
    "    # M = pd.merge(M, vote, how = 'outer')\n",
    "\n",
    "    M = M.drop('index', axis = 1)\n",
    "    M = M.fillna(0)\n",
    "    # print M\n",
    "\n",
    "    # M.to_csv(PATH_OUT + 'Normal_Features.txt',  index = False)\n",
    "    M.to_csv(PATH_OUT + 'Total_Normal.txt',  index = False)\n",
    "    \n",
    "    '''\n",
    "    m_norm = (m-m.mean()) / (m.max() - m.min())\n",
    "    print m_norm\n",
    "\n",
    "    print m.max()\n",
    "    print m.min()\n",
    "    print m.mean()\n",
    "    #print m.std()\n",
    "    '''\n",
    "\n",
    "    #M_norm.to_csv('Normaliztion.txt',  index = False)"
   ]
  },
  {
   "cell_type": "code",
   "execution_count": 9,
   "metadata": {
    "collapsed": true
   },
   "outputs": [],
   "source": [
    "PATH_IN = './Final_Test_Set.csv'\n",
    "PATH_NORMAL = './NORMAL/'\n",
    "PATH_OVERLAP = './OVERLAP/'\n",
    "PATH_TEXT = './TEXT/'\n",
    "PATH_LDA = './LDA/'"
   ]
  },
  {
   "cell_type": "code",
   "execution_count": 10,
   "metadata": {
    "collapsed": true
   },
   "outputs": [],
   "source": [
    "extract_normal_features(PATH_IN, PATH_NORMAL)"
   ]
  },
  {
   "cell_type": "code",
   "execution_count": 11,
   "metadata": {
    "collapsed": true
   },
   "outputs": [],
   "source": [
    "extract_text_features(PATH_IN, PATH_TEXT)"
   ]
  },
  {
   "cell_type": "code",
   "execution_count": 12,
   "metadata": {
    "collapsed": false
   },
   "outputs": [],
   "source": [
    "process_text_features(PATH_TEXT, PATH_OVERLAP)"
   ]
  },
  {
   "cell_type": "code",
   "execution_count": 13,
   "metadata": {
    "collapsed": false
   },
   "outputs": [],
   "source": [
    "extract_overlap_features(PATH_OVERLAP, PATH_OVERLAP, PATH_NORMAL)"
   ]
  },
  {
   "cell_type": "code",
   "execution_count": null,
   "metadata": {
    "collapsed": true
   },
   "outputs": [],
   "source": [
    "lda_source(PATH_OVERLAP, PATH_LDA)"
   ]
  },
  {
   "cell_type": "code",
   "execution_count": 16,
   "metadata": {
    "collapsed": false,
    "scrolled": true
   },
   "outputs": [],
   "source": [
    "normalize(PATH_NORMAL, PATH_NORMAL)"
   ]
  },
  {
   "cell_type": "code",
   "execution_count": 17,
   "metadata": {
    "collapsed": false
   },
   "outputs": [
    {
     "data": {
      "text/plain": [
       "\"\\nimport os\\n\\ndata_path = './LDA/'\\nwith open('./LDA/LDA_SOURCE.txt', 'w') as outfile:\\n    for fname in os.listdir(data_path):\\n        if fname[0] == '.':\\n            continue\\n        path = os.path.join(data_path,fname)\\n        #print path\\n\\n        with open(path,'r') as infile :\\n            outfile.write(infile.read())\\n\""
      ]
     },
     "execution_count": 17,
     "metadata": {},
     "output_type": "execute_result"
    }
   ],
   "source": [
    "'''\n",
    "import os\n",
    "\n",
    "data_path = './LDA/'\n",
    "with open('./LDA/LDA_SOURCE.txt', 'w') as outfile:\n",
    "    for fname in os.listdir(data_path):\n",
    "        if fname[0] == '.':\n",
    "            continue\n",
    "        path = os.path.join(data_path,fname)\n",
    "        #print path\n",
    "\n",
    "        with open(path,'r') as infile :\n",
    "            outfile.write(infile.read())\n",
    "'''"
   ]
  },
  {
   "cell_type": "code",
   "execution_count": 2,
   "metadata": {
    "collapsed": false
   },
   "outputs": [],
   "source": [
    "# Format the S2V\n",
    "s2v_list = []\n",
    "for i in range(50) :\n",
    "    col_name = 's2v_' + str(i) \n",
    "    s2v_list.append(col_name)\n",
    "# print s2v_list"
   ]
  },
  {
   "cell_type": "code",
   "execution_count": 3,
   "metadata": {
    "collapsed": false
   },
   "outputs": [],
   "source": [
    "# !!! before this , you should remove the first row of the Test_Source.txt.vec\n",
    "total_s2v = pd.read_table('./SENTENCE_VECTOR/TEST_SOURCE.txt.vec', sep = ' ', names = s2v_list)"
   ]
  },
  {
   "cell_type": "code",
   "execution_count": 4,
   "metadata": {
    "collapsed": false
   },
   "outputs": [],
   "source": [
    "# test_s2v !!! very important : Normalization\n",
    "total_s2v = (total_s2v - total_s2v.min()) / (total_s2v.max() - total_s2v.min())"
   ]
  },
  {
   "cell_type": "code",
   "execution_count": 5,
   "metadata": {
    "collapsed": false
   },
   "outputs": [],
   "source": [
    "# total_s2v # 11292 rows × 50 columns"
   ]
  },
  {
   "cell_type": "code",
   "execution_count": 6,
   "metadata": {
    "collapsed": false
   },
   "outputs": [],
   "source": [
    "total_s2v.to_csv('./SENTENCE_VECTOR/Total_S2V.csv', encoding='utf-8', index = False)"
   ]
  },
  {
   "cell_type": "code",
   "execution_count": 7,
   "metadata": {
    "collapsed": false
   },
   "outputs": [
    {
     "name": "stdout",
     "output_type": "stream",
     "text": [
      "['topic_0', 'topic_1', 'topic_2', 'topic_3', 'topic_4', 'topic_5', 'topic_6', 'topic_7', 'topic_8', 'topic_9', 'topic_10', 'topic_11', 'topic_12', 'topic_13', 'topic_14', 'topic_15', 'topic_16', 'topic_17', 'topic_18', 'topic_19', 'topic_20', 'topic_21', 'topic_22', 'topic_23', 'topic_24', 'topic_25', 'topic_26', 'topic_27', 'topic_28', 'topic_29', 'topic_30', 'topic_31', 'topic_32', 'topic_33', 'topic_34', 'topic_35', 'topic_36', 'topic_37', 'topic_38', 'topic_39', 'topic_40', 'topic_41', 'topic_42', 'topic_43', 'topic_44', 'topic_45', 'topic_46', 'topic_47', 'topic_48', 'topic_49']\n"
     ]
    }
   ],
   "source": [
    "# T_s2v\n",
    "topic_list = []\n",
    "for i in range(50) :\n",
    "    col_name = 'topic_' + str(i) \n",
    "    topic_list.append(col_name)\n",
    "print topic_list"
   ]
  },
  {
   "cell_type": "code",
   "execution_count": 8,
   "metadata": {
    "collapsed": false
   },
   "outputs": [],
   "source": [
    "test_topic = pd.read_table('./LDA/model-final.theta', sep = ' ', names = topic_list, index_col=False)"
   ]
  },
  {
   "cell_type": "code",
   "execution_count": 9,
   "metadata": {
    "collapsed": false
   },
   "outputs": [],
   "source": [
    "# test_topic !!! very important : Normalization\n",
    "test_topic = (test_topic - test_topic.min()) / (test_topic.max() - test_topic.min())"
   ]
  },
  {
   "cell_type": "code",
   "execution_count": 10,
   "metadata": {
    "collapsed": false
   },
   "outputs": [],
   "source": [
    "# test_topic = test_topic[10020:]"
   ]
  },
  {
   "cell_type": "code",
   "execution_count": 11,
   "metadata": {
    "collapsed": false
   },
   "outputs": [],
   "source": [
    "# test_topic\n",
    "test_topic.to_csv('./LDA/Total_Topic.csv', encoding='utf-8', index=False)"
   ]
  },
  {
   "cell_type": "code",
   "execution_count": 12,
   "metadata": {
    "collapsed": false
   },
   "outputs": [],
   "source": [
    "# T_topic = pd.read_csv('TEST/LDA/test_topic.csv')\n",
    "# T_topic\n",
    "\n",
    "Total_Normal = pd.read_csv('./NORMAL/Total_Normal.txt')\n",
    "Total_S2V = pd.read_csv('./SENTENCE_VECTOR/Total_S2V.csv')\n",
    "Total_Topic = pd.read_csv('./LDA/Total_Topic.csv')"
   ]
  },
  {
   "cell_type": "code",
   "execution_count": 13,
   "metadata": {
    "collapsed": false
   },
   "outputs": [],
   "source": [
    "# test_normal\n",
    "# test_s2v\n",
    "# test_topic"
   ]
  },
  {
   "cell_type": "code",
   "execution_count": 14,
   "metadata": {
    "collapsed": false
   },
   "outputs": [],
   "source": [
    "Total_Normal_S2V = pd.merge(Total_Normal, Total_S2V, left_index=True, right_index=True)\n",
    "Total_Final = pd.merge(Total_Normal_S2V, Total_Topic, left_index=True, right_index=True)"
   ]
  },
  {
   "cell_type": "code",
   "execution_count": 15,
   "metadata": {
    "collapsed": true
   },
   "outputs": [],
   "source": [
    "# Total_Final # 11921 x 116 "
   ]
  },
  {
   "cell_type": "code",
   "execution_count": 16,
   "metadata": {
    "collapsed": false
   },
   "outputs": [],
   "source": [
    "Total_Final.to_csv('./Total_Final_Feature.csv', encoding='utf-8', index=False)"
   ]
  },
  {
   "cell_type": "code",
   "execution_count": 17,
   "metadata": {
    "collapsed": false
   },
   "outputs": [],
   "source": [
    "# Total_Final  # 11292 x 116 "
   ]
  },
  {
   "cell_type": "code",
   "execution_count": 18,
   "metadata": {
    "collapsed": true
   },
   "outputs": [],
   "source": [
    "test_len = [17, 15, 16, 14, 13, 10, 11, 16, 11, 15, 12, 12, 12, 12, 13, 12, 16, 15, 15, 11, 12, 14, 11, \\\n",
    "            15, 13, 10, 12, 13, 18, 15, 13, 12, 15, 13, 13, 13, 10, 14, 12, 16, 12, 14, 12, 14, 12, 14, \\\n",
    "            14, 12, 10, 14, 14, 12, 13, 12, 11, 14, 10, 13, 15, 16, 15, 12, 13, 14, 14, 13, 12, 11, 13, \\\n",
    "            11, 12, 13, 11, 10, 12, 13, 16, 12, 13, 12, 14, 13, 18, 15, 14, 12, 13, 13, 13, 11, 14, 12, \\\n",
    "            14, 10, 15, 17, 15, 15, 12, 14, 12, 11, 13, 14, 13, 11, 12, 11, 12, 17, 10, 10, 15, 14, 13, \\\n",
    "            10, 14, 13, 15, 15, 13, 14, 14, 14, 15, 17, 13, 16, 12, 14, 14, 13, 14, 12, 13, 13, 12, 10, \\\n",
    "            16, 11, 14, 13, 12, 13, 13, 12, 12, 15, 14, 14, 13, 12, 18, 14, 13, 11, 16, 17, 14, 13, 12, \\\n",
    "            11, 14, 13, 13, 10, 13, 12, 13, 14, 12, 11, 13, 15, 12, 10, 15, 12, 13, 13, 10, 14, 15, 12, \\\n",
    "            12, 14, 18, 14, 14, 12, 11, 12, 13, 14, 12, 13, 14, 15, 14, 12]"
   ]
  },
  {
   "cell_type": "code",
   "execution_count": 19,
   "metadata": {
    "collapsed": false
   },
   "outputs": [],
   "source": [
    "# len(test_len) 50 "
   ]
  },
  {
   "cell_type": "code",
   "execution_count": 20,
   "metadata": {
    "collapsed": false
   },
   "outputs": [
    {
     "name": "stdout",
     "output_type": "stream",
     "text": [
      "(10020, 10037)\n",
      "(10037, 10052)\n",
      "(10052, 10068)\n",
      "(10068, 10082)\n",
      "(10082, 10095)\n",
      "(10095, 10105)\n",
      "(10105, 10116)\n",
      "(10116, 10132)\n",
      "(10132, 10143)\n",
      "(10143, 10158)\n",
      "(10158, 10170)\n",
      "(10170, 10182)\n",
      "(10182, 10194)\n",
      "(10194, 10206)\n",
      "(10206, 10219)\n",
      "(10219, 10231)\n",
      "(10231, 10247)\n",
      "(10247, 10262)\n",
      "(10262, 10277)\n",
      "(10277, 10288)\n",
      "(10288, 10300)\n",
      "(10300, 10314)\n",
      "(10314, 10325)\n",
      "(10325, 10340)\n",
      "(10340, 10353)\n",
      "(10353, 10363)\n",
      "(10363, 10375)\n",
      "(10375, 10388)\n",
      "(10388, 10406)\n",
      "(10406, 10421)\n",
      "(10421, 10434)\n",
      "(10434, 10446)\n",
      "(10446, 10461)\n",
      "(10461, 10474)\n",
      "(10474, 10487)\n",
      "(10487, 10500)\n",
      "(10500, 10510)\n",
      "(10510, 10524)\n",
      "(10524, 10536)\n",
      "(10536, 10552)\n",
      "(10552, 10564)\n",
      "(10564, 10578)\n",
      "(10578, 10590)\n",
      "(10590, 10604)\n",
      "(10604, 10616)\n",
      "(10616, 10630)\n",
      "(10630, 10644)\n",
      "(10644, 10656)\n",
      "(10656, 10666)\n",
      "(10666, 10680)\n",
      "(10680, 10694)\n",
      "(10694, 10706)\n",
      "(10706, 10719)\n",
      "(10719, 10731)\n",
      "(10731, 10742)\n",
      "(10742, 10756)\n",
      "(10756, 10766)\n",
      "(10766, 10779)\n",
      "(10779, 10794)\n",
      "(10794, 10810)\n",
      "(10810, 10825)\n",
      "(10825, 10837)\n",
      "(10837, 10850)\n",
      "(10850, 10864)\n",
      "(10864, 10878)\n",
      "(10878, 10891)\n",
      "(10891, 10903)\n",
      "(10903, 10914)\n",
      "(10914, 10927)\n",
      "(10927, 10938)\n",
      "(10938, 10950)\n",
      "(10950, 10963)\n",
      "(10963, 10974)\n",
      "(10974, 10984)\n",
      "(10984, 10996)\n",
      "(10996, 11009)\n",
      "(11009, 11025)\n",
      "(11025, 11037)\n",
      "(11037, 11050)\n",
      "(11050, 11062)\n",
      "(11062, 11076)\n",
      "(11076, 11089)\n",
      "(11089, 11107)\n",
      "(11107, 11122)\n",
      "(11122, 11136)\n",
      "(11136, 11148)\n",
      "(11148, 11161)\n",
      "(11161, 11174)\n",
      "(11174, 11187)\n",
      "(11187, 11198)\n",
      "(11198, 11212)\n",
      "(11212, 11224)\n",
      "(11224, 11238)\n",
      "(11238, 11248)\n",
      "(11248, 11263)\n",
      "(11263, 11280)\n",
      "(11280, 11295)\n",
      "(11295, 11310)\n",
      "(11310, 11322)\n",
      "(11322, 11336)\n",
      "(11336, 11348)\n",
      "(11348, 11359)\n",
      "(11359, 11372)\n",
      "(11372, 11386)\n",
      "(11386, 11399)\n",
      "(11399, 11410)\n",
      "(11410, 11422)\n",
      "(11422, 11433)\n",
      "(11433, 11445)\n",
      "(11445, 11462)\n",
      "(11462, 11472)\n",
      "(11472, 11482)\n",
      "(11482, 11497)\n",
      "(11497, 11511)\n",
      "(11511, 11524)\n",
      "(11524, 11534)\n",
      "(11534, 11548)\n",
      "(11548, 11561)\n",
      "(11561, 11576)\n",
      "(11576, 11591)\n",
      "(11591, 11604)\n",
      "(11604, 11618)\n",
      "(11618, 11632)\n",
      "(11632, 11646)\n",
      "(11646, 11661)\n",
      "(11661, 11678)\n",
      "(11678, 11691)\n",
      "(11691, 11707)\n",
      "(11707, 11719)\n",
      "(11719, 11733)\n",
      "(11733, 11747)\n",
      "(11747, 11760)\n",
      "(11760, 11774)\n",
      "(11774, 11786)\n",
      "(11786, 11799)\n",
      "(11799, 11812)\n",
      "(11812, 11824)\n",
      "(11824, 11834)\n",
      "(11834, 11850)\n",
      "(11850, 11861)\n",
      "(11861, 11875)\n",
      "(11875, 11888)\n",
      "(11888, 11900)\n",
      "(11900, 11913)\n",
      "(11913, 11926)\n",
      "(11926, 11938)\n",
      "(11938, 11950)\n",
      "(11950, 11965)\n",
      "(11965, 11979)\n",
      "(11979, 11993)\n",
      "(11993, 12006)\n",
      "(12006, 12018)\n",
      "(12018, 12036)\n",
      "(12036, 12050)\n",
      "(12050, 12063)\n",
      "(12063, 12074)\n",
      "(12074, 12090)\n",
      "(12090, 12107)\n",
      "(12107, 12121)\n",
      "(12121, 12134)\n",
      "(12134, 12146)\n",
      "(12146, 12157)\n",
      "(12157, 12171)\n",
      "(12171, 12184)\n",
      "(12184, 12197)\n",
      "(12197, 12207)\n",
      "(12207, 12220)\n",
      "(12220, 12232)\n",
      "(12232, 12245)\n",
      "(12245, 12259)\n",
      "(12259, 12271)\n",
      "(12271, 12282)\n",
      "(12282, 12295)\n",
      "(12295, 12310)\n",
      "(12310, 12322)\n",
      "(12322, 12332)\n",
      "(12332, 12347)\n",
      "(12347, 12359)\n",
      "(12359, 12372)\n",
      "(12372, 12385)\n",
      "(12385, 12395)\n",
      "(12395, 12409)\n",
      "(12409, 12424)\n",
      "(12424, 12436)\n",
      "(12436, 12448)\n",
      "(12448, 12462)\n",
      "(12462, 12480)\n",
      "(12480, 12494)\n",
      "(12494, 12508)\n",
      "(12508, 12520)\n",
      "(12520, 12531)\n",
      "(12531, 12543)\n",
      "(12543, 12556)\n",
      "(12556, 12570)\n",
      "(12570, 12582)\n",
      "(12582, 12595)\n",
      "(12595, 12609)\n",
      "(12609, 12624)\n",
      "(12624, 12638)\n",
      "(12638, 12650)\n"
     ]
    }
   ],
   "source": [
    "start = end = 10020\n",
    "for i in range( len(test_len) ) :\n",
    "    end += test_len[i]\n",
    "    print (start, end)\n",
    "    test_i = Total_Final[start:end]\n",
    "    test_i.to_csv('../MODEL/SVM_Data/TEST/' + 'test_' + str(i) + '.csv', encoding='utf-8', index = False)\n",
    "    start += test_len[i]"
   ]
  },
  {
   "cell_type": "code",
   "execution_count": null,
   "metadata": {
    "collapsed": true
   },
   "outputs": [],
   "source": []
  }
 ],
 "metadata": {
  "kernelspec": {
   "display_name": "Python 2",
   "language": "python",
   "name": "python2"
  },
  "language_info": {
   "codemirror_mode": {
    "name": "ipython",
    "version": 2
   },
   "file_extension": ".py",
   "mimetype": "text/x-python",
   "name": "python",
   "nbconvert_exporter": "python",
   "pygments_lexer": "ipython2",
   "version": "2.7.10"
  }
 },
 "nbformat": 4,
 "nbformat_minor": 0
}
