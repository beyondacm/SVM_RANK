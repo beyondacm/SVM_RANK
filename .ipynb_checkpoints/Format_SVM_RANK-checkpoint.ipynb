{
 "cells": [
  {
   "cell_type": "code",
   "execution_count": 1,
   "metadata": {
    "collapsed": true
   },
   "outputs": [],
   "source": [
    "from itertools import izip"
   ]
  },
  {
   "cell_type": "code",
   "execution_count": 3,
   "metadata": {
    "collapsed": false
   },
   "outputs": [
    {
     "name": "stdout",
     "output_type": "stream",
     "text": [
      "done\n"
     ]
    }
   ],
   "source": [
    "def format(fout, target, qid, feature_list):\n",
    "    fout.write( str(target) + ' ' ) \n",
    "    fout.write('qid:'+ str(qid) + ' ')\n",
    "    for i,value in enumerate(feature_list):\n",
    "        fout.write(str(i+1)+':'+str(value)+' ')\n",
    "    fout.write('\\n')\n",
    "\n",
    "fout = open('Format.csv', 'w')\n",
    "\n",
    "with open(\"RAW/match_best.csv\") as best, open(\"RAW/match_second.csv\") as second, open(\"RAW/match_third.csv\") as third: \n",
    "    best.readline()\n",
    "    second.readline()\n",
    "    third.readline()\n",
    "    qid = 1\n",
    "        \n",
    "    for line1, line2, line3 in izip(best, second, third):\n",
    "        \n",
    "        best_answer = line1.strip().split(',')\n",
    "        second_answer = line2.strip().split(',')\n",
    "        third_answer = line3.strip().split(',')\n",
    "        \n",
    "        # write best answer \n",
    "        format(fout, 3, qid, best_answer)\n",
    "        # write second answer \n",
    "        format(fout, 2, qid, second_answer)\n",
    "        # write third answer\n",
    "        format(fout, 1, qid, third_answer)\n",
    "        \n",
    "        qid = qid + 1\n",
    "    \n",
    "    print 'done'\n",
    "\n",
    "fout.close()\n",
    "        "
   ]
  },
  {
   "cell_type": "code",
   "execution_count": null,
   "metadata": {
    "collapsed": true
   },
   "outputs": [],
   "source": []
  }
 ],
 "metadata": {
  "kernelspec": {
   "display_name": "Python 2",
   "language": "python",
   "name": "python2"
  },
  "language_info": {
   "codemirror_mode": {
    "name": "ipython",
    "version": 2
   },
   "file_extension": ".py",
   "mimetype": "text/x-python",
   "name": "python",
   "nbconvert_exporter": "python",
   "pygments_lexer": "ipython2",
   "version": "2.7.11"
  }
 },
 "nbformat": 4,
 "nbformat_minor": 0
}
