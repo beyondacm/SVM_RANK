{
 "cells": [
  {
   "cell_type": "code",
   "execution_count": 7,
   "metadata": {
    "collapsed": true
   },
   "outputs": [],
   "source": [
    "import pandas as pd\n",
    "import numpy as np\n",
    "import operator\n",
    "import re"
   ]
  },
  {
   "cell_type": "code",
   "execution_count": 8,
   "metadata": {
    "collapsed": false
   },
   "outputs": [
    {
     "name": "stderr",
     "output_type": "stream",
     "text": [
      "/home/zpgao/anaconda2/lib/python2.7/site-packages/IPython/core/interactiveshell.py:2902: DtypeWarning: Columns (1,2,3,4,13) have mixed types. Specify dtype option on import or set low_memory=False.\n",
      "  interactivity=interactivity, compiler=compiler, result=result)\n"
     ]
    }
   ],
   "source": [
    "Total_Test = pd.read_csv('./Total_Test.csv')"
   ]
  },
  {
   "cell_type": "code",
   "execution_count": 1,
   "metadata": {
    "collapsed": true
   },
   "outputs": [],
   "source": [
    "def Generate_Test_Set(Dataset, Index_List):\n",
    "    # get the dataframe according to the Index\n",
    "    Test = Dataset.iloc[Index_List]\n",
    "    TestSet = pd.DataFrame(Test)\n",
    "    \n",
    "    return TestSet"
   ]
  },
  {
   "cell_type": "code",
   "execution_count": 71,
   "metadata": {
    "collapsed": true
   },
   "outputs": [],
   "source": [
    "def Replace_QList(Data_Set, Q_IndexList) :\n",
    "    Q_Content = Total_Test.iloc[ [ Q_IndexList[0] ] ]['question_content'].all()\n",
    "    Q_Tags = Total_Test.iloc[ [ Q_IndexList[0] ] ]['question_tags'].all()\n",
    "    Data_Set['question_content'] = Q_Content\n",
    "    Data_Set['question_tags'] = Q_Tags\n",
    "    return Data_Set"
   ]
  },
  {
   "cell_type": "code",
   "execution_count": 72,
   "metadata": {
    "collapsed": false
   },
   "outputs": [],
   "source": [
    "Q0_Index_List = [122, 8160, 16866, 16867, 31174, 9379, 36227, 1158, 12683, 10270, 28972, \\\n",
    "                 33673, 1821, 26995, 20952, 37922, 7129, 7130, 26551, 14706, 20737, 20738, \\\n",
    "                 28522, 2604, 4509, 4510, 17417, 19360, 20263, 20264, 24116, 34702, 3256, \\\n",
    "                 9311, 24754, 24755, 35815]"
   ]
  },
  {
   "cell_type": "code",
   "execution_count": 73,
   "metadata": {
    "collapsed": true
   },
   "outputs": [],
   "source": [
    "Q1_Index_List = [1249, 23254, 25090, 34665, 14389, 2586, 25511, 30912, 33550, 19872, 30997,   \\\n",
    "                 7837, 32554, 15087, 17608, 1194, 1195, 4007, 8190, 32637, 31301, 31302, 5913, \\\n",
    "                 9217, 27989, 28261, 31476, 7268, 20768, 22747, 14446, 25335]"
   ]
  },
  {
   "cell_type": "code",
   "execution_count": 74,
   "metadata": {
    "collapsed": true
   },
   "outputs": [],
   "source": [
    "Q2_Index_List = [12635, 12158, 34174, 12713, 14979, 22321, 22322, 37451, 21118, 2171, 2172, \\\n",
    "                 12562, 12563, 28854, 28855, 3479, 3480, 27698, 14714, 11973, 22992, 24691, \\\n",
    "                 34172, 2668, 11786, 19129, 22482, 22483, 23677, 5942, 37545, 37546, 28383, \\\n",
    "                 7095, 24328, 24329, 33307, 20802, 20803, 13462]"
   ]
  },
  {
   "cell_type": "code",
   "execution_count": 75,
   "metadata": {
    "collapsed": true
   },
   "outputs": [],
   "source": [
    "Q0_Test = Generate_Test_Set(Total_Test, Q0_Index_List)\n",
    "Q1_Test = Generate_Test_Set(Total_Test, Q1_Index_List)\n",
    "Q2_Test = Generate_Test_Set(Total_Test, Q2_Index_List)"
   ]
  },
  {
   "cell_type": "code",
   "execution_count": 76,
   "metadata": {
    "collapsed": false
   },
   "outputs": [],
   "source": [
    "# Q1_Test"
   ]
  },
  {
   "cell_type": "code",
   "execution_count": 77,
   "metadata": {
    "collapsed": true
   },
   "outputs": [],
   "source": [
    "Q0_Test = Replace_QList( Q0_Test, Q0_Index_List )\n",
    "Q1_Test = Replace_QList( Q1_Test, Q1_Index_List )\n",
    "Q2_Test = Replace_QList( Q2_Test, Q2_Index_List )"
   ]
  },
  {
   "cell_type": "code",
   "execution_count": 94,
   "metadata": {
    "collapsed": false
   },
   "outputs": [
    {
     "name": "stdout",
     "output_type": "stream",
     "text": [
      "37\n",
      "32\n",
      "40\n"
     ]
    }
   ],
   "source": [
    "print len(Q0_Test)\n",
    "print len(Q1_Test)\n",
    "print len(Q2_Test)"
   ]
  },
  {
   "cell_type": "code",
   "execution_count": 84,
   "metadata": {
    "collapsed": false
   },
   "outputs": [],
   "source": [
    "# Q2_Test\n",
    "# len( Q2_Test )"
   ]
  },
  {
   "cell_type": "code",
   "execution_count": 85,
   "metadata": {
    "collapsed": true
   },
   "outputs": [],
   "source": [
    "best_answer = pd.read_csv('./TEST/MATCH/best_answer.csv')\n",
    "second_answer = pd.read_csv('./TEST/MATCH/second_answer.csv')\n",
    "third_answer = pd.read_csv('./TEST/MATCH/third_answer.csv')"
   ]
  },
  {
   "cell_type": "code",
   "execution_count": 87,
   "metadata": {
    "collapsed": true
   },
   "outputs": [],
   "source": [
    "Final_Test_Set = best_answer.append(second_answer)\n",
    "Final_Test_Set = Final_Test_Set.append(third_answer)\n",
    "Final_Test_Set = Final_Test_Set.append(Q0_Test)\n",
    "Final_Test_Set = Final_Test_Set.append(Q1_Test)\n",
    "Final_Test_Set = Final_Test_Set.append(Q2_Test)"
   ]
  },
  {
   "cell_type": "code",
   "execution_count": 90,
   "metadata": {
    "collapsed": true
   },
   "outputs": [],
   "source": [
    "Final_Test_Set.to_csv('./TEST/Final_Test_Set.csv', encoding='utf-8', index = False)"
   ]
  },
  {
   "cell_type": "code",
   "execution_count": 91,
   "metadata": {
    "collapsed": false
   },
   "outputs": [],
   "source": [
    "# Final_Test_Set"
   ]
  },
  {
   "cell_type": "code",
   "execution_count": 92,
   "metadata": {
    "collapsed": true
   },
   "outputs": [],
   "source": [
    "Final_Test_Set = pd.read_csv('./TEST/Final_Test_Set.csv')"
   ]
  },
  {
   "cell_type": "code",
   "execution_count": 95,
   "metadata": {
    "collapsed": false,
    "scrolled": true
   },
   "outputs": [],
   "source": [
    "# Final_Test_Set"
   ]
  },
  {
   "cell_type": "code",
   "execution_count": null,
   "metadata": {
    "collapsed": true
   },
   "outputs": [],
   "source": []
  }
 ],
 "metadata": {
  "kernelspec": {
   "display_name": "Python 2",
   "language": "python",
   "name": "python2"
  },
  "language_info": {
   "codemirror_mode": {
    "name": "ipython",
    "version": 2
   },
   "file_extension": ".py",
   "mimetype": "text/x-python",
   "name": "python",
   "nbconvert_exporter": "python",
   "pygments_lexer": "ipython2",
   "version": "2.7.11"
  }
 },
 "nbformat": 4,
 "nbformat_minor": 0
}
