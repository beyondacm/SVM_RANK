{
 "cells": [
  {
   "cell_type": "code",
   "execution_count": 1,
   "metadata": {
    "collapsed": false
   },
   "outputs": [
    {
     "name": "stderr",
     "output_type": "stream",
     "text": [
      "A newer version of GraphLab Create (v1.8.5) is available! Your current version is v1.7.1.\n",
      "\n",
      "You can use pip to upgrade the graphlab-create package. For more information see https://dato.com/products/create/upgrade.\n"
     ]
    }
   ],
   "source": [
    "import graphlab\n",
    "import numpy as np\n",
    "import pandas as pd\n",
    "# import matplotlib "
   ]
  },
  {
   "cell_type": "code",
   "execution_count": 2,
   "metadata": {
    "collapsed": false
   },
   "outputs": [],
   "source": [
    "# Drop the duplicates \n",
    "Total_Test = pd.read_csv(\"../Total_Test_AfterProcessing.csv\")\n",
    "Total_Test = Total_Test.drop_duplicates('answer_id')\n",
    "Total_Test = Total_Test.fillna(0)\n",
    "Total_Test['question_id'] = Total_Test['question_id'].astype(str)\n",
    "Total_Test['answer_voted'] = Total_Test['answer_voted'].astype(float)\n",
    "# Total_Test # 42512 rows × 18 columns"
   ]
  },
  {
   "cell_type": "code",
   "execution_count": 3,
   "metadata": {
    "collapsed": false
   },
   "outputs": [],
   "source": [
    "Total_Test.to_csv('./Total_Test.csv', encoding='utf-8', index = False)\n",
    "Total_Test= pd.read_csv('./Total_Test.csv')\n",
    "# Total_Test  # 42512 rows × 18 columns"
   ]
  },
  {
   "cell_type": "code",
   "execution_count": 4,
   "metadata": {
    "collapsed": false,
    "scrolled": true
   },
   "outputs": [],
   "source": [
    "# Total_Test  # 42512 rows × 18 columns\n",
    "been_voted = Total_Test[ Total_Test['answer_voted'] > 0 ]\n",
    "un_voted = Total_Test[ Total_Test['answer_voted'] == 0 ]\n",
    "been_voted = been_voted.drop_duplicates('question_id')\n",
    "been_voted.to_csv('./Been_Voted.csv', encoding='utf-8', index = False)\n",
    "# been_voted  # 17039 rows × 18 columns\n",
    "# un_voted    # 14823 rows × 18 columns"
   ]
  },
  {
   "cell_type": "code",
   "execution_count": 5,
   "metadata": {
    "collapsed": false
   },
   "outputs": [],
   "source": [
    "been_voted = pd.read_csv('./Been_Voted.csv')\n",
    "been_voted_qid = been_voted['question_id']\n",
    "# len(been_voted_qid)   # 17039\n",
    "# type(been_voted_qid)  # Series\n",
    "# been_voted_qid[10]"
   ]
  },
  {
   "cell_type": "code",
   "execution_count": 6,
   "metadata": {
    "collapsed": false
   },
   "outputs": [],
   "source": [
    "# been_voted_qid"
   ]
  },
  {
   "cell_type": "code",
   "execution_count": 7,
   "metadata": {
    "collapsed": false
   },
   "outputs": [],
   "source": [
    "# Our Strategy is Select Qid in Voted Question List, \n",
    "# Select Similar Question From Total Test Set "
   ]
  },
  {
   "cell_type": "code",
   "execution_count": 8,
   "metadata": {
    "collapsed": true
   },
   "outputs": [],
   "source": [
    "question_content = Total_Test[['question_id','question_content','question_tags']]\n",
    "# question_content  # 42512 rows × 3 columns\n",
    "question_content = question_content.drop_duplicates('question_id')\n",
    "# question_content # 31862 rows × 3 columns\n",
    "question_content.to_csv('./Question_Content.csv', encoding='utf-8', index = False)"
   ]
  },
  {
   "cell_type": "code",
   "execution_count": 9,
   "metadata": {
    "collapsed": false
   },
   "outputs": [
    {
     "name": "stderr",
     "output_type": "stream",
     "text": [
      "[INFO] \u001b[1;32m1461143637 : INFO:     (initialize_globals_from_environment:282): Setting configuration variable GRAPHLAB_FILEIO_ALTERNATIVE_SSL_CERT_FILE to /home/zpgao/anaconda2/lib/python2.7/site-packages/certifi/cacert.pem\n",
      "\u001b[0m\u001b[1;32m1461143637 : INFO:     (initialize_globals_from_environment:282): Setting configuration variable GRAPHLAB_FILEIO_ALTERNATIVE_SSL_CERT_DIR to \n",
      "\u001b[0mThis non-commercial license of GraphLab Create is assigned to beyond_acm@163.com and will expire on January 04, 2017. For commercial licensing options, visit https://dato.com/buy/.\n",
      "\n",
      "[INFO] Start server at: ipc:///tmp/graphlab_server-8480 - Server binary: /home/zpgao/anaconda2/lib/python2.7/site-packages/graphlab/unity_server - Server log: /tmp/graphlab_server_1461143637.log\n",
      "[INFO] GraphLab Server Version: 1.7.1\n"
     ]
    },
    {
     "name": "stdout",
     "output_type": "stream",
     "text": [
      "PROGRESS: Finished parsing file /home/zpgao/ML/Best_Answer/SVM_RANK/SIMILAR/Question_Content.csv\n",
      "PROGRESS: Parsing completed. Parsed 100 lines in 0.133862 secs.\n",
      "------------------------------------------------------\n",
      "Inferred types from first line of file as \n",
      "column_type_hints=[int,str,str]\n",
      "If parsing fails due to incorrect types, you can correct\n",
      "the inferred type list above and pass it to read_csv in\n",
      "the column_type_hints argument\n",
      "------------------------------------------------------\n",
      "PROGRESS: Finished parsing file /home/zpgao/ML/Best_Answer/SVM_RANK/SIMILAR/Question_Content.csv\n",
      "PROGRESS: Parsing completed. Parsed 31862 lines in 0.05849 secs.\n"
     ]
    }
   ],
   "source": [
    "question_content = graphlab.SFrame.read_csv('./Question_Content.csv')\n",
    "# question_content  # 31862 rows x 3 columns"
   ]
  },
  {
   "cell_type": "code",
   "execution_count": 10,
   "metadata": {
    "collapsed": false
   },
   "outputs": [],
   "source": [
    "# add 'text' && 'word_count' && 'tfidf' features\n",
    "question_content['text'] = question_content['question_tags'] + question_content['question_content']\n",
    "question_content['word_count'] = graphlab.text_analytics.count_words(question_content['text'])"
   ]
  },
  {
   "cell_type": "code",
   "execution_count": 11,
   "metadata": {
    "collapsed": false
   },
   "outputs": [],
   "source": [
    "tfidf = graphlab.text_analytics.tf_idf(question_content['word_count'])"
   ]
  },
  {
   "cell_type": "code",
   "execution_count": 12,
   "metadata": {
    "collapsed": true
   },
   "outputs": [],
   "source": [
    "question_content['tfidf'] = tfidf"
   ]
  },
  {
   "cell_type": "code",
   "execution_count": 13,
   "metadata": {
    "collapsed": false
   },
   "outputs": [
    {
     "data": {
      "text/plain": [
       "numpy.int64"
      ]
     },
     "execution_count": 13,
     "metadata": {},
     "output_type": "execute_result"
    }
   ],
   "source": [
    "# been_voted_qid\n",
    "type ( been_voted_qid[99] )"
   ]
  },
  {
   "cell_type": "code",
   "execution_count": 14,
   "metadata": {
    "collapsed": false
   },
   "outputs": [],
   "source": [
    "# question_content[ question_content['question_id'] == been_voted_qid[5] ]"
   ]
  },
  {
   "cell_type": "code",
   "execution_count": 16,
   "metadata": {
    "collapsed": false
   },
   "outputs": [],
   "source": [
    "# question_content\n",
    "# len(been_voted)  17039"
   ]
  },
  {
   "cell_type": "code",
   "execution_count": 17,
   "metadata": {
    "collapsed": false
   },
   "outputs": [],
   "source": [
    "def Select_Question( num_question ):\n",
    "    # Initial selected_question\n",
    "    selected_question = question_content[ question_content['question_id'] == been_voted_qid[7] ]\n",
    "    for i in range(num_question) :\n",
    "        # Random Select Index \n",
    "        selected_qid = been_voted_qid[i*134 + 77]\n",
    "        selected_content = question_content[ question_content['question_id'] == selected_qid ]\n",
    "        selected_question = selected_question.append(selected_content)\n",
    "    return selected_question"
   ]
  },
  {
   "cell_type": "code",
   "execution_count": 18,
   "metadata": {
    "collapsed": false
   },
   "outputs": [],
   "source": [
    "# Random Select 50 voted / Unvoted Question\n",
    "selected = Select_Question(99)"
   ]
  },
  {
   "cell_type": "code",
   "execution_count": 19,
   "metadata": {
    "collapsed": false
   },
   "outputs": [],
   "source": [
    "# len( selected )\n",
    "# selected "
   ]
  },
  {
   "cell_type": "code",
   "execution_count": 20,
   "metadata": {
    "collapsed": false
   },
   "outputs": [
    {
     "name": "stdout",
     "output_type": "stream",
     "text": [
      "PROGRESS: Starting brute force nearest neighbors model training.\n"
     ]
    }
   ],
   "source": [
    "knn_model = graphlab.nearest_neighbors.create(question_content, features=['tfidf'], label='question_id')"
   ]
  },
  {
   "cell_type": "code",
   "execution_count": 21,
   "metadata": {
    "collapsed": true
   },
   "outputs": [
    {
     "name": "stdout",
     "output_type": "stream",
     "text": [
      "PROGRESS: Starting pairwise querying.\n",
      "PROGRESS: +--------------+---------+-------------+--------------+\n",
      "PROGRESS: | Query points | # Pairs | % Complete. | Elapsed Time |\n",
      "PROGRESS: +--------------+---------+-------------+--------------+\n",
      "PROGRESS: | 0            | 1       | 0.00313853  | 2.777ms      |\n",
      "PROGRESS: | Done         |         | 100         | 24.675ms     |\n",
      "PROGRESS: +--------------+---------+-------------+--------------+\n",
      "PROGRESS: Starting pairwise querying.\n",
      "PROGRESS: +--------------+---------+-------------+--------------+\n",
      "PROGRESS: | Query points | # Pairs | % Complete. | Elapsed Time |\n",
      "PROGRESS: +--------------+---------+-------------+--------------+\n",
      "PROGRESS: | 0            | 1       | 0.00313853  | 2.468ms      |\n",
      "PROGRESS: | Done         |         | 100         | 23.92ms      |\n",
      "PROGRESS: +--------------+---------+-------------+--------------+\n",
      "PROGRESS: Starting pairwise querying.\n",
      "PROGRESS: +--------------+---------+-------------+--------------+\n",
      "PROGRESS: | Query points | # Pairs | % Complete. | Elapsed Time |\n",
      "PROGRESS: +--------------+---------+-------------+--------------+\n",
      "PROGRESS: | 0            | 1       | 0.00313853  | 2.578ms      |\n",
      "PROGRESS: | Done         |         | 100         | 23.576ms     |\n",
      "PROGRESS: +--------------+---------+-------------+--------------+\n",
      "PROGRESS: Starting pairwise querying.\n",
      "PROGRESS: +--------------+---------+-------------+--------------+\n",
      "PROGRESS: | Query points | # Pairs | % Complete. | Elapsed Time |\n",
      "PROGRESS: +--------------+---------+-------------+--------------+\n",
      "PROGRESS: | 0            | 1       | 0.00313853  | 2.585ms      |\n",
      "PROGRESS: | Done         |         | 100         | 22.578ms     |\n",
      "PROGRESS: +--------------+---------+-------------+--------------+\n",
      "PROGRESS: Starting pairwise querying.\n",
      "PROGRESS: +--------------+---------+-------------+--------------+\n",
      "PROGRESS: | Query points | # Pairs | % Complete. | Elapsed Time |\n",
      "PROGRESS: +--------------+---------+-------------+--------------+\n",
      "PROGRESS: | 0            | 1       | 0.00313853  | 2.48ms       |\n",
      "PROGRESS: | Done         |         | 100         | 22.158ms     |\n",
      "PROGRESS: +--------------+---------+-------------+--------------+\n",
      "PROGRESS: Starting pairwise querying.\n",
      "PROGRESS: +--------------+---------+-------------+--------------+\n",
      "PROGRESS: | Query points | # Pairs | % Complete. | Elapsed Time |\n",
      "PROGRESS: +--------------+---------+-------------+--------------+\n",
      "PROGRESS: | 0            | 1       | 0.00313853  | 2.431ms      |\n",
      "PROGRESS: | Done         |         | 100         | 24.969ms     |\n",
      "PROGRESS: +--------------+---------+-------------+--------------+\n",
      "PROGRESS: Starting pairwise querying.\n",
      "PROGRESS: +--------------+---------+-------------+--------------+\n",
      "PROGRESS: | Query points | # Pairs | % Complete. | Elapsed Time |\n",
      "PROGRESS: +--------------+---------+-------------+--------------+\n",
      "PROGRESS: | 0            | 1       | 0.00313853  | 2.235ms      |\n",
      "PROGRESS: | Done         |         | 100         | 25.016ms     |\n",
      "PROGRESS: +--------------+---------+-------------+--------------+\n",
      "PROGRESS: Starting pairwise querying.\n",
      "PROGRESS: +--------------+---------+-------------+--------------+\n",
      "PROGRESS: | Query points | # Pairs | % Complete. | Elapsed Time |\n",
      "PROGRESS: +--------------+---------+-------------+--------------+\n",
      "PROGRESS: | 0            | 1       | 0.00313853  | 2.863ms      |\n",
      "PROGRESS: | Done         |         | 100         | 32.001ms     |\n",
      "PROGRESS: +--------------+---------+-------------+--------------+\n",
      "PROGRESS: Starting pairwise querying.\n",
      "PROGRESS: +--------------+---------+-------------+--------------+\n",
      "PROGRESS: | Query points | # Pairs | % Complete. | Elapsed Time |\n",
      "PROGRESS: +--------------+---------+-------------+--------------+\n",
      "PROGRESS: | 0            | 1       | 0.00313853  | 3.722ms      |\n",
      "PROGRESS: | Done         |         | 100         | 30.375ms     |\n",
      "PROGRESS: +--------------+---------+-------------+--------------+\n",
      "PROGRESS: Starting pairwise querying.\n",
      "PROGRESS: +--------------+---------+-------------+--------------+\n",
      "PROGRESS: | Query points | # Pairs | % Complete. | Elapsed Time |\n",
      "PROGRESS: +--------------+---------+-------------+--------------+\n",
      "PROGRESS: | 0            | 1       | 0.00313853  | 3.783ms      |\n",
      "PROGRESS: | Done         |         | 100         | 28.263ms     |\n",
      "PROGRESS: +--------------+---------+-------------+--------------+\n",
      "PROGRESS: Starting pairwise querying.\n",
      "PROGRESS: +--------------+---------+-------------+--------------+\n",
      "PROGRESS: | Query points | # Pairs | % Complete. | Elapsed Time |\n",
      "PROGRESS: +--------------+---------+-------------+--------------+\n",
      "PROGRESS: | 0            | 1       | 0.00313853  | 2.088ms      |\n",
      "PROGRESS: | Done         |         | 100         | 27.428ms     |\n",
      "PROGRESS: +--------------+---------+-------------+--------------+\n",
      "PROGRESS: Starting pairwise querying.\n",
      "PROGRESS: +--------------+---------+-------------+--------------+\n",
      "PROGRESS: | Query points | # Pairs | % Complete. | Elapsed Time |\n",
      "PROGRESS: +--------------+---------+-------------+--------------+\n",
      "PROGRESS: | 0            | 1       | 0.00313853  | 2.227ms      |\n",
      "PROGRESS: | Done         |         | 100         | 27.681ms     |\n",
      "PROGRESS: +--------------+---------+-------------+--------------+\n",
      "PROGRESS: Starting pairwise querying.\n",
      "PROGRESS: +--------------+---------+-------------+--------------+\n",
      "PROGRESS: | Query points | # Pairs | % Complete. | Elapsed Time |\n",
      "PROGRESS: +--------------+---------+-------------+--------------+\n",
      "PROGRESS: | 0            | 1       | 0.00313853  | 2.433ms      |\n",
      "PROGRESS: | Done         |         | 100         | 29.203ms     |\n",
      "PROGRESS: +--------------+---------+-------------+--------------+\n",
      "PROGRESS: Starting pairwise querying.\n",
      "PROGRESS: +--------------+---------+-------------+--------------+\n",
      "PROGRESS: | Query points | # Pairs | % Complete. | Elapsed Time |\n",
      "PROGRESS: +--------------+---------+-------------+--------------+\n",
      "PROGRESS: | 0            | 1       | 0.00313853  | 2.441ms      |\n",
      "PROGRESS: | Done         |         | 100         | 27.682ms     |\n",
      "PROGRESS: +--------------+---------+-------------+--------------+\n",
      "PROGRESS: Starting pairwise querying.\n",
      "PROGRESS: +--------------+---------+-------------+--------------+\n",
      "PROGRESS: | Query points | # Pairs | % Complete. | Elapsed Time |\n",
      "PROGRESS: +--------------+---------+-------------+--------------+\n",
      "PROGRESS: | 0            | 1       | 0.00313853  | 2.92ms       |\n",
      "PROGRESS: | Done         |         | 100         | 28.284ms     |\n",
      "PROGRESS: +--------------+---------+-------------+--------------+\n",
      "PROGRESS: Starting pairwise querying.\n",
      "PROGRESS: +--------------+---------+-------------+--------------+\n",
      "PROGRESS: | Query points | # Pairs | % Complete. | Elapsed Time |\n",
      "PROGRESS: +--------------+---------+-------------+--------------+\n",
      "PROGRESS: | 0            | 1       | 0.00313853  | 3.717ms      |\n",
      "PROGRESS: | Done         |         | 100         | 26.131ms     |\n",
      "PROGRESS: +--------------+---------+-------------+--------------+\n",
      "PROGRESS: Starting pairwise querying.\n",
      "PROGRESS: +--------------+---------+-------------+--------------+\n",
      "PROGRESS: | Query points | # Pairs | % Complete. | Elapsed Time |\n",
      "PROGRESS: +--------------+---------+-------------+--------------+\n",
      "PROGRESS: | 0            | 1       | 0.00313853  | 2.698ms      |\n",
      "PROGRESS: | Done         |         | 100         | 23.932ms     |\n",
      "PROGRESS: +--------------+---------+-------------+--------------+\n",
      "PROGRESS: Starting pairwise querying.\n",
      "PROGRESS: +--------------+---------+-------------+--------------+\n",
      "PROGRESS: | Query points | # Pairs | % Complete. | Elapsed Time |\n",
      "PROGRESS: +--------------+---------+-------------+--------------+\n",
      "PROGRESS: | 0            | 1       | 0.00313853  | 2.416ms      |\n",
      "PROGRESS: | Done         |         | 100         | 26.925ms     |\n",
      "PROGRESS: +--------------+---------+-------------+--------------+\n",
      "PROGRESS: Starting pairwise querying.\n",
      "PROGRESS: +--------------+---------+-------------+--------------+\n",
      "PROGRESS: | Query points | # Pairs | % Complete. | Elapsed Time |\n",
      "PROGRESS: +--------------+---------+-------------+--------------+\n",
      "PROGRESS: | 0            | 1       | 0.00313853  | 2.56ms       |\n",
      "PROGRESS: | Done         |         | 100         | 28.317ms     |\n",
      "PROGRESS: +--------------+---------+-------------+--------------+\n",
      "PROGRESS: Starting pairwise querying.\n",
      "PROGRESS: +--------------+---------+-------------+--------------+\n",
      "PROGRESS: | Query points | # Pairs | % Complete. | Elapsed Time |\n",
      "PROGRESS: +--------------+---------+-------------+--------------+\n",
      "PROGRESS: | 0            | 1       | 0.00313853  | 2.48ms       |\n",
      "PROGRESS: | Done         |         | 100         | 21.937ms     |\n",
      "PROGRESS: +--------------+---------+-------------+--------------+\n",
      "PROGRESS: Starting pairwise querying.\n",
      "PROGRESS: +--------------+---------+-------------+--------------+\n",
      "PROGRESS: | Query points | # Pairs | % Complete. | Elapsed Time |\n",
      "PROGRESS: +--------------+---------+-------------+--------------+\n",
      "PROGRESS: | 0            | 1       | 0.00313853  | 3.221ms      |\n",
      "PROGRESS: | Done         |         | 100         | 25.108ms     |\n",
      "PROGRESS: +--------------+---------+-------------+--------------+\n",
      "PROGRESS: Starting pairwise querying.\n",
      "PROGRESS: +--------------+---------+-------------+--------------+\n",
      "PROGRESS: | Query points | # Pairs | % Complete. | Elapsed Time |\n",
      "PROGRESS: +--------------+---------+-------------+--------------+\n",
      "PROGRESS: | 0            | 1       | 0.00313853  | 2.455ms      |\n",
      "PROGRESS: | Done         |         | 100         | 27.659ms     |\n",
      "PROGRESS: +--------------+---------+-------------+--------------+\n",
      "PROGRESS: Starting pairwise querying.\n",
      "PROGRESS: +--------------+---------+-------------+--------------+\n",
      "PROGRESS: | Query points | # Pairs | % Complete. | Elapsed Time |\n",
      "PROGRESS: +--------------+---------+-------------+--------------+\n",
      "PROGRESS: | 0            | 1       | 0.00313853  | 3.888ms      |\n",
      "PROGRESS: | Done         |         | 100         | 28.982ms     |\n",
      "PROGRESS: +--------------+---------+-------------+--------------+\n",
      "PROGRESS: Starting pairwise querying.\n",
      "PROGRESS: +--------------+---------+-------------+--------------+\n",
      "PROGRESS: | Query points | # Pairs | % Complete. | Elapsed Time |\n",
      "PROGRESS: +--------------+---------+-------------+--------------+\n",
      "PROGRESS: | 0            | 1       | 0.00313853  | 3.812ms      |\n",
      "PROGRESS: | Done         |         | 100         | 32.203ms     |\n",
      "PROGRESS: +--------------+---------+-------------+--------------+\n",
      "PROGRESS: Starting pairwise querying.\n",
      "PROGRESS: +--------------+---------+-------------+--------------+\n",
      "PROGRESS: | Query points | # Pairs | % Complete. | Elapsed Time |\n",
      "PROGRESS: +--------------+---------+-------------+--------------+\n",
      "PROGRESS: | 0            | 1       | 0.00313853  | 3.837ms      |\n",
      "PROGRESS: | Done         |         | 100         | 76.729ms     |\n",
      "PROGRESS: +--------------+---------+-------------+--------------+\n",
      "PROGRESS: Starting pairwise querying.\n",
      "PROGRESS: +--------------+---------+-------------+--------------+\n",
      "PROGRESS: | Query points | # Pairs | % Complete. | Elapsed Time |\n",
      "PROGRESS: +--------------+---------+-------------+--------------+\n",
      "PROGRESS: | 0            | 1       | 0.00313853  | 6.468ms      |\n",
      "PROGRESS: | Done         |         | 100         | 94.835ms     |\n",
      "PROGRESS: +--------------+---------+-------------+--------------+\n",
      "PROGRESS: Starting pairwise querying.\n",
      "PROGRESS: +--------------+---------+-------------+--------------+\n",
      "PROGRESS: | Query points | # Pairs | % Complete. | Elapsed Time |\n",
      "PROGRESS: +--------------+---------+-------------+--------------+\n",
      "PROGRESS: | 0            | 1       | 0.00313853  | 11.283ms     |\n",
      "PROGRESS: | Done         |         | 100         | 77.097ms     |\n",
      "PROGRESS: +--------------+---------+-------------+--------------+\n",
      "PROGRESS: Starting pairwise querying.\n",
      "PROGRESS: +--------------+---------+-------------+--------------+\n",
      "PROGRESS: | Query points | # Pairs | % Complete. | Elapsed Time |\n",
      "PROGRESS: +--------------+---------+-------------+--------------+\n",
      "PROGRESS: | 0            | 1       | 0.00313853  | 6.649ms      |\n",
      "PROGRESS: | Done         |         | 100         | 41.466ms     |\n",
      "PROGRESS: +--------------+---------+-------------+--------------+\n",
      "PROGRESS: Starting pairwise querying.\n",
      "PROGRESS: +--------------+---------+-------------+--------------+\n",
      "PROGRESS: | Query points | # Pairs | % Complete. | Elapsed Time |\n",
      "PROGRESS: +--------------+---------+-------------+--------------+\n",
      "PROGRESS: | 0            | 1       | 0.00313853  | 2.514ms      |\n",
      "PROGRESS: | Done         |         | 100         | 34.249ms     |\n",
      "PROGRESS: +--------------+---------+-------------+--------------+\n",
      "PROGRESS: Starting pairwise querying.\n",
      "PROGRESS: +--------------+---------+-------------+--------------+\n",
      "PROGRESS: | Query points | # Pairs | % Complete. | Elapsed Time |\n",
      "PROGRESS: +--------------+---------+-------------+--------------+\n",
      "PROGRESS: | 0            | 1       | 0.00313853  | 2.646ms      |\n",
      "PROGRESS: | Done         |         | 100         | 23.929ms     |\n",
      "PROGRESS: +--------------+---------+-------------+--------------+\n",
      "PROGRESS: Starting pairwise querying.\n",
      "PROGRESS: +--------------+---------+-------------+--------------+\n",
      "PROGRESS: | Query points | # Pairs | % Complete. | Elapsed Time |\n",
      "PROGRESS: +--------------+---------+-------------+--------------+\n",
      "PROGRESS: | 0            | 1       | 0.00313853  | 2.584ms      |\n",
      "PROGRESS: | Done         |         | 100         | 23.645ms     |\n",
      "PROGRESS: +--------------+---------+-------------+--------------+\n",
      "PROGRESS: Starting pairwise querying.\n",
      "PROGRESS: +--------------+---------+-------------+--------------+\n",
      "PROGRESS: | Query points | # Pairs | % Complete. | Elapsed Time |\n",
      "PROGRESS: +--------------+---------+-------------+--------------+\n",
      "PROGRESS: | 0            | 1       | 0.00313853  | 2.576ms      |\n",
      "PROGRESS: | Done         |         | 100         | 24.6ms       |\n",
      "PROGRESS: +--------------+---------+-------------+--------------+\n",
      "PROGRESS: Starting pairwise querying.\n",
      "PROGRESS: +--------------+---------+-------------+--------------+\n",
      "PROGRESS: | Query points | # Pairs | % Complete. | Elapsed Time |\n",
      "PROGRESS: +--------------+---------+-------------+--------------+\n",
      "PROGRESS: | 0            | 1       | 0.00313853  | 2.5ms        |\n",
      "PROGRESS: | Done         |         | 100         | 24.927ms     |\n",
      "PROGRESS: +--------------+---------+-------------+--------------+\n",
      "PROGRESS: Starting pairwise querying.\n",
      "PROGRESS: +--------------+---------+-------------+--------------+\n",
      "PROGRESS: | Query points | # Pairs | % Complete. | Elapsed Time |\n",
      "PROGRESS: +--------------+---------+-------------+--------------+\n",
      "PROGRESS: | 0            | 1       | 0.00313853  | 2.61ms       |\n",
      "PROGRESS: | Done         |         | 100         | 27.716ms     |\n",
      "PROGRESS: +--------------+---------+-------------+--------------+\n",
      "PROGRESS: Starting pairwise querying.\n",
      "PROGRESS: +--------------+---------+-------------+--------------+\n",
      "PROGRESS: | Query points | # Pairs | % Complete. | Elapsed Time |\n",
      "PROGRESS: +--------------+---------+-------------+--------------+\n",
      "PROGRESS: | 0            | 1       | 0.00313853  | 2.529ms      |\n",
      "PROGRESS: | Done         |         | 100         | 30.89ms      |\n",
      "PROGRESS: +--------------+---------+-------------+--------------+\n",
      "PROGRESS: Starting pairwise querying.\n",
      "PROGRESS: +--------------+---------+-------------+--------------+\n",
      "PROGRESS: | Query points | # Pairs | % Complete. | Elapsed Time |\n",
      "PROGRESS: +--------------+---------+-------------+--------------+\n",
      "PROGRESS: | 0            | 1       | 0.00313853  | 6.338ms      |\n",
      "PROGRESS: | Done         |         | 100         | 90.941ms     |\n",
      "PROGRESS: +--------------+---------+-------------+--------------+\n",
      "PROGRESS: Starting pairwise querying.\n",
      "PROGRESS: +--------------+---------+-------------+--------------+\n",
      "PROGRESS: | Query points | # Pairs | % Complete. | Elapsed Time |\n",
      "PROGRESS: +--------------+---------+-------------+--------------+\n",
      "PROGRESS: | 0            | 1       | 0.00313853  | 2.634ms      |\n",
      "PROGRESS: | Done         |         | 100         | 93.876ms     |\n",
      "PROGRESS: +--------------+---------+-------------+--------------+\n",
      "PROGRESS: Starting pairwise querying.\n",
      "PROGRESS: +--------------+---------+-------------+--------------+\n",
      "PROGRESS: | Query points | # Pairs | % Complete. | Elapsed Time |\n",
      "PROGRESS: +--------------+---------+-------------+--------------+\n",
      "PROGRESS: | 0            | 1       | 0.00313853  | 2.594ms      |\n",
      "PROGRESS: | Done         |         | 100         | 38.862ms     |\n",
      "PROGRESS: +--------------+---------+-------------+--------------+\n",
      "PROGRESS: Starting pairwise querying.\n",
      "PROGRESS: +--------------+---------+-------------+--------------+\n",
      "PROGRESS: | Query points | # Pairs | % Complete. | Elapsed Time |\n",
      "PROGRESS: +--------------+---------+-------------+--------------+\n",
      "PROGRESS: | 0            | 1       | 0.00313853  | 2.492ms      |\n",
      "PROGRESS: | Done         |         | 100         | 40.171ms     |\n",
      "PROGRESS: +--------------+---------+-------------+--------------+\n",
      "PROGRESS: Starting pairwise querying.\n",
      "PROGRESS: +--------------+---------+-------------+--------------+\n",
      "PROGRESS: | Query points | # Pairs | % Complete. | Elapsed Time |\n",
      "PROGRESS: +--------------+---------+-------------+--------------+\n",
      "PROGRESS: | 0            | 1       | 0.00313853  | 2.573ms      |\n",
      "PROGRESS: | Done         |         | 100         | 21.635ms     |\n",
      "PROGRESS: +--------------+---------+-------------+--------------+\n",
      "PROGRESS: Starting pairwise querying.\n",
      "PROGRESS: +--------------+---------+-------------+--------------+\n",
      "PROGRESS: | Query points | # Pairs | % Complete. | Elapsed Time |\n",
      "PROGRESS: +--------------+---------+-------------+--------------+\n",
      "PROGRESS: | 0            | 1       | 0.00313853  | 2.499ms      |\n",
      "PROGRESS: | Done         |         | 100         | 26.79ms      |\n",
      "PROGRESS: +--------------+---------+-------------+--------------+\n",
      "PROGRESS: Starting pairwise querying.\n",
      "PROGRESS: +--------------+---------+-------------+--------------+\n",
      "PROGRESS: | Query points | # Pairs | % Complete. | Elapsed Time |\n",
      "PROGRESS: +--------------+---------+-------------+--------------+\n",
      "PROGRESS: | 0            | 1       | 0.00313853  | 2.947ms      |\n",
      "PROGRESS: | Done         |         | 100         | 46.168ms     |\n",
      "PROGRESS: +--------------+---------+-------------+--------------+\n",
      "PROGRESS: Starting pairwise querying.\n",
      "PROGRESS: +--------------+---------+-------------+--------------+\n",
      "PROGRESS: | Query points | # Pairs | % Complete. | Elapsed Time |\n",
      "PROGRESS: +--------------+---------+-------------+--------------+\n",
      "PROGRESS: | 0            | 1       | 0.00313853  | 10.876ms     |\n",
      "PROGRESS: | Done         |         | 100         | 100.092ms    |\n",
      "PROGRESS: +--------------+---------+-------------+--------------+\n",
      "PROGRESS: Starting pairwise querying.\n",
      "PROGRESS: +--------------+---------+-------------+--------------+\n",
      "PROGRESS: | Query points | # Pairs | % Complete. | Elapsed Time |\n",
      "PROGRESS: +--------------+---------+-------------+--------------+\n",
      "PROGRESS: | 0            | 1       | 0.00313853  | 9.22ms       |\n",
      "PROGRESS: | Done         |         | 100         | 93.177ms     |\n",
      "PROGRESS: +--------------+---------+-------------+--------------+\n",
      "PROGRESS: Starting pairwise querying.\n",
      "PROGRESS: +--------------+---------+-------------+--------------+\n",
      "PROGRESS: | Query points | # Pairs | % Complete. | Elapsed Time |\n",
      "PROGRESS: +--------------+---------+-------------+--------------+\n",
      "PROGRESS: | 0            | 1       | 0.00313853  | 2.624ms      |\n",
      "PROGRESS: | Done         |         | 100         | 49.16ms      |\n",
      "PROGRESS: +--------------+---------+-------------+--------------+\n",
      "PROGRESS: Starting pairwise querying.\n",
      "PROGRESS: +--------------+---------+-------------+--------------+\n",
      "PROGRESS: | Query points | # Pairs | % Complete. | Elapsed Time |\n",
      "PROGRESS: +--------------+---------+-------------+--------------+\n",
      "PROGRESS: | 0            | 1       | 0.00313853  | 4.928ms      |\n",
      "PROGRESS: | Done         |         | 100         | 27.829ms     |\n",
      "PROGRESS: +--------------+---------+-------------+--------------+\n",
      "PROGRESS: Starting pairwise querying.\n",
      "PROGRESS: +--------------+---------+-------------+--------------+\n",
      "PROGRESS: | Query points | # Pairs | % Complete. | Elapsed Time |\n",
      "PROGRESS: +--------------+---------+-------------+--------------+\n",
      "PROGRESS: | 0            | 1       | 0.00313853  | 2.996ms      |\n",
      "PROGRESS: | Done         |         | 100         | 35.071ms     |\n",
      "PROGRESS: +--------------+---------+-------------+--------------+\n",
      "PROGRESS: Starting pairwise querying.\n",
      "PROGRESS: +--------------+---------+-------------+--------------+\n",
      "PROGRESS: | Query points | # Pairs | % Complete. | Elapsed Time |\n",
      "PROGRESS: +--------------+---------+-------------+--------------+\n",
      "PROGRESS: | 0            | 1       | 0.00313853  | 2.626ms      |\n",
      "PROGRESS: | Done         |         | 100         | 29.164ms     |\n",
      "PROGRESS: +--------------+---------+-------------+--------------+\n",
      "PROGRESS: Starting pairwise querying.\n",
      "PROGRESS: +--------------+---------+-------------+--------------+\n",
      "PROGRESS: | Query points | # Pairs | % Complete. | Elapsed Time |\n",
      "PROGRESS: +--------------+---------+-------------+--------------+\n",
      "PROGRESS: | 0            | 1       | 0.00313853  | 2.738ms      |\n",
      "PROGRESS: | Done         |         | 100         | 72.26ms      |\n",
      "PROGRESS: +--------------+---------+-------------+--------------+\n",
      "PROGRESS: Starting pairwise querying.\n",
      "PROGRESS: +--------------+---------+-------------+--------------+\n",
      "PROGRESS: | Query points | # Pairs | % Complete. | Elapsed Time |\n",
      "PROGRESS: +--------------+---------+-------------+--------------+\n",
      "PROGRESS: | 0            | 1       | 0.00313853  | 11.708ms     |\n",
      "PROGRESS: | Done         |         | 100         | 83.9ms       |\n",
      "PROGRESS: +--------------+---------+-------------+--------------+\n",
      "PROGRESS: Starting pairwise querying.\n",
      "PROGRESS: +--------------+---------+-------------+--------------+\n",
      "PROGRESS: | Query points | # Pairs | % Complete. | Elapsed Time |\n",
      "PROGRESS: +--------------+---------+-------------+--------------+\n",
      "PROGRESS: | 0            | 1       | 0.00313853  | 2.582ms      |\n",
      "PROGRESS: | Done         |         | 100         | 50.249ms     |\n",
      "PROGRESS: +--------------+---------+-------------+--------------+\n",
      "PROGRESS: Starting pairwise querying.\n",
      "PROGRESS: +--------------+---------+-------------+--------------+\n",
      "PROGRESS: | Query points | # Pairs | % Complete. | Elapsed Time |\n",
      "PROGRESS: +--------------+---------+-------------+--------------+\n",
      "PROGRESS: | 0            | 1       | 0.00313853  | 2.777ms      |\n",
      "PROGRESS: | Done         |         | 100         | 34.276ms     |\n",
      "PROGRESS: +--------------+---------+-------------+--------------+\n",
      "PROGRESS: Starting pairwise querying.\n",
      "PROGRESS: +--------------+---------+-------------+--------------+\n",
      "PROGRESS: | Query points | # Pairs | % Complete. | Elapsed Time |\n",
      "PROGRESS: +--------------+---------+-------------+--------------+\n",
      "PROGRESS: | 0            | 1       | 0.00313853  | 2.497ms      |\n",
      "PROGRESS: | Done         |         | 100         | 23.203ms     |\n",
      "PROGRESS: +--------------+---------+-------------+--------------+\n",
      "PROGRESS: Starting pairwise querying.\n",
      "PROGRESS: +--------------+---------+-------------+--------------+\n",
      "PROGRESS: | Query points | # Pairs | % Complete. | Elapsed Time |\n",
      "PROGRESS: +--------------+---------+-------------+--------------+\n",
      "PROGRESS: | 0            | 1       | 0.00313853  | 2.549ms      |\n",
      "PROGRESS: | Done         |         | 100         | 24.563ms     |\n",
      "PROGRESS: +--------------+---------+-------------+--------------+\n",
      "PROGRESS: Starting pairwise querying.\n",
      "PROGRESS: +--------------+---------+-------------+--------------+\n",
      "PROGRESS: | Query points | # Pairs | % Complete. | Elapsed Time |\n",
      "PROGRESS: +--------------+---------+-------------+--------------+\n",
      "PROGRESS: | 0            | 1       | 0.00313853  | 2.607ms      |\n",
      "PROGRESS: | Done         |         | 100         | 26.939ms     |\n",
      "PROGRESS: +--------------+---------+-------------+--------------+\n",
      "PROGRESS: Starting pairwise querying.\n",
      "PROGRESS: +--------------+---------+-------------+--------------+\n",
      "PROGRESS: | Query points | # Pairs | % Complete. | Elapsed Time |\n",
      "PROGRESS: +--------------+---------+-------------+--------------+\n",
      "PROGRESS: | 0            | 1       | 0.00313853  | 2.526ms      |\n",
      "PROGRESS: | Done         |         | 100         | 31.364ms     |\n",
      "PROGRESS: +--------------+---------+-------------+--------------+\n",
      "PROGRESS: Starting pairwise querying.\n",
      "PROGRESS: +--------------+---------+-------------+--------------+\n",
      "PROGRESS: | Query points | # Pairs | % Complete. | Elapsed Time |\n",
      "PROGRESS: +--------------+---------+-------------+--------------+\n",
      "PROGRESS: | 0            | 1       | 0.00313853  | 3.073ms      |\n",
      "PROGRESS: | Done         |         | 100         | 64.729ms     |\n",
      "PROGRESS: +--------------+---------+-------------+--------------+\n",
      "PROGRESS: Starting pairwise querying.\n",
      "PROGRESS: +--------------+---------+-------------+--------------+\n",
      "PROGRESS: | Query points | # Pairs | % Complete. | Elapsed Time |\n",
      "PROGRESS: +--------------+---------+-------------+--------------+\n",
      "PROGRESS: | 0            | 1       | 0.00313853  | 4.565ms      |\n",
      "PROGRESS: | Done         |         | 100         | 87.311ms     |\n",
      "PROGRESS: +--------------+---------+-------------+--------------+\n",
      "PROGRESS: Starting pairwise querying.\n",
      "PROGRESS: +--------------+---------+-------------+--------------+\n",
      "PROGRESS: | Query points | # Pairs | % Complete. | Elapsed Time |\n",
      "PROGRESS: +--------------+---------+-------------+--------------+\n",
      "PROGRESS: | 0            | 1       | 0.00313853  | 15.174ms     |\n",
      "PROGRESS: | Done         |         | 100         | 66.435ms     |\n",
      "PROGRESS: +--------------+---------+-------------+--------------+\n",
      "PROGRESS: Starting pairwise querying.\n",
      "PROGRESS: +--------------+---------+-------------+--------------+\n",
      "PROGRESS: | Query points | # Pairs | % Complete. | Elapsed Time |\n",
      "PROGRESS: +--------------+---------+-------------+--------------+\n",
      "PROGRESS: | 0            | 1       | 0.00313853  | 2.648ms      |\n",
      "PROGRESS: | Done         |         | 100         | 94.874ms     |\n",
      "PROGRESS: +--------------+---------+-------------+--------------+\n",
      "PROGRESS: Starting pairwise querying.\n",
      "PROGRESS: +--------------+---------+-------------+--------------+\n",
      "PROGRESS: | Query points | # Pairs | % Complete. | Elapsed Time |\n",
      "PROGRESS: +--------------+---------+-------------+--------------+\n",
      "PROGRESS: | 0            | 1       | 0.00313853  | 19.998ms     |\n",
      "PROGRESS: | Done         |         | 100         | 108.761ms    |\n",
      "PROGRESS: +--------------+---------+-------------+--------------+\n",
      "PROGRESS: Starting pairwise querying.\n",
      "PROGRESS: +--------------+---------+-------------+--------------+\n",
      "PROGRESS: | Query points | # Pairs | % Complete. | Elapsed Time |\n",
      "PROGRESS: +--------------+---------+-------------+--------------+\n",
      "PROGRESS: | 0            | 1       | 0.00313853  | 3.069ms      |\n",
      "PROGRESS: | Done         |         | 100         | 80.913ms     |\n",
      "PROGRESS: +--------------+---------+-------------+--------------+\n",
      "PROGRESS: Starting pairwise querying.\n",
      "PROGRESS: +--------------+---------+-------------+--------------+\n",
      "PROGRESS: | Query points | # Pairs | % Complete. | Elapsed Time |\n",
      "PROGRESS: +--------------+---------+-------------+--------------+\n",
      "PROGRESS: | 0            | 1       | 0.00313853  | 5.516ms      |\n",
      "PROGRESS: | Done         |         | 100         | 90.023ms     |\n",
      "PROGRESS: +--------------+---------+-------------+--------------+\n",
      "PROGRESS: Starting pairwise querying.\n",
      "PROGRESS: +--------------+---------+-------------+--------------+\n",
      "PROGRESS: | Query points | # Pairs | % Complete. | Elapsed Time |\n",
      "PROGRESS: +--------------+---------+-------------+--------------+\n",
      "PROGRESS: | 0            | 1       | 0.00313853  | 2.616ms      |\n",
      "PROGRESS: | Done         |         | 100         | 68.153ms     |\n",
      "PROGRESS: +--------------+---------+-------------+--------------+\n",
      "PROGRESS: Starting pairwise querying.\n",
      "PROGRESS: +--------------+---------+-------------+--------------+\n",
      "PROGRESS: | Query points | # Pairs | % Complete. | Elapsed Time |\n",
      "PROGRESS: +--------------+---------+-------------+--------------+\n",
      "PROGRESS: | 0            | 1       | 0.00313853  | 2.507ms      |\n",
      "PROGRESS: | Done         |         | 100         | 83.772ms     |\n",
      "PROGRESS: +--------------+---------+-------------+--------------+\n",
      "PROGRESS: Starting pairwise querying.\n",
      "PROGRESS: +--------------+---------+-------------+--------------+\n",
      "PROGRESS: | Query points | # Pairs | % Complete. | Elapsed Time |\n",
      "PROGRESS: +--------------+---------+-------------+--------------+\n",
      "PROGRESS: | 0            | 1       | 0.00313853  | 7.292ms      |\n",
      "PROGRESS: | Done         |         | 100         | 102.108ms    |\n",
      "PROGRESS: +--------------+---------+-------------+--------------+\n",
      "PROGRESS: Starting pairwise querying.\n",
      "PROGRESS: +--------------+---------+-------------+--------------+\n",
      "PROGRESS: | Query points | # Pairs | % Complete. | Elapsed Time |\n",
      "PROGRESS: +--------------+---------+-------------+--------------+\n",
      "PROGRESS: | 0            | 1       | 0.00313853  | 6.639ms      |\n",
      "PROGRESS: | Done         |         | 100         | 63.35ms      |\n",
      "PROGRESS: +--------------+---------+-------------+--------------+\n",
      "PROGRESS: Starting pairwise querying.\n",
      "PROGRESS: +--------------+---------+-------------+--------------+\n",
      "PROGRESS: | Query points | # Pairs | % Complete. | Elapsed Time |\n",
      "PROGRESS: +--------------+---------+-------------+--------------+\n",
      "PROGRESS: | 0            | 1       | 0.00313853  | 2.554ms      |\n",
      "PROGRESS: | Done         |         | 100         | 32.61ms      |\n",
      "PROGRESS: +--------------+---------+-------------+--------------+\n",
      "PROGRESS: Starting pairwise querying.\n",
      "PROGRESS: +--------------+---------+-------------+--------------+\n",
      "PROGRESS: | Query points | # Pairs | % Complete. | Elapsed Time |\n",
      "PROGRESS: +--------------+---------+-------------+--------------+\n",
      "PROGRESS: | 0            | 1       | 0.00313853  | 2.688ms      |\n",
      "PROGRESS: | Done         |         | 100         | 25.342ms     |\n",
      "PROGRESS: +--------------+---------+-------------+--------------+\n",
      "PROGRESS: Starting pairwise querying.\n",
      "PROGRESS: +--------------+---------+-------------+--------------+\n",
      "PROGRESS: | Query points | # Pairs | % Complete. | Elapsed Time |\n",
      "PROGRESS: +--------------+---------+-------------+--------------+\n",
      "PROGRESS: | 0            | 1       | 0.00313853  | 2.538ms      |\n",
      "PROGRESS: | Done         |         | 100         | 23.275ms     |\n",
      "PROGRESS: +--------------+---------+-------------+--------------+\n",
      "PROGRESS: Starting pairwise querying.\n",
      "PROGRESS: +--------------+---------+-------------+--------------+\n",
      "PROGRESS: | Query points | # Pairs | % Complete. | Elapsed Time |\n",
      "PROGRESS: +--------------+---------+-------------+--------------+\n",
      "PROGRESS: | 0            | 1       | 0.00313853  | 2.651ms      |\n",
      "PROGRESS: | Done         |         | 100         | 24.544ms     |\n",
      "PROGRESS: +--------------+---------+-------------+--------------+\n",
      "PROGRESS: Starting pairwise querying.\n",
      "PROGRESS: +--------------+---------+-------------+--------------+\n",
      "PROGRESS: | Query points | # Pairs | % Complete. | Elapsed Time |\n",
      "PROGRESS: +--------------+---------+-------------+--------------+\n",
      "PROGRESS: | 0            | 1       | 0.00313853  | 2.531ms      |\n",
      "PROGRESS: | Done         |         | 100         | 24.819ms     |\n",
      "PROGRESS: +--------------+---------+-------------+--------------+\n",
      "PROGRESS: Starting pairwise querying.\n",
      "PROGRESS: +--------------+---------+-------------+--------------+\n",
      "PROGRESS: | Query points | # Pairs | % Complete. | Elapsed Time |\n",
      "PROGRESS: +--------------+---------+-------------+--------------+\n",
      "PROGRESS: | 0            | 1       | 0.00313853  | 2.537ms      |\n",
      "PROGRESS: | Done         |         | 100         | 21.596ms     |\n",
      "PROGRESS: +--------------+---------+-------------+--------------+\n",
      "PROGRESS: Starting pairwise querying.\n",
      "PROGRESS: +--------------+---------+-------------+--------------+\n",
      "PROGRESS: | Query points | # Pairs | % Complete. | Elapsed Time |\n",
      "PROGRESS: +--------------+---------+-------------+--------------+\n",
      "PROGRESS: | 0            | 1       | 0.00313853  | 2.549ms      |\n",
      "PROGRESS: | Done         |         | 100         | 23.917ms     |\n",
      "PROGRESS: +--------------+---------+-------------+--------------+\n",
      "PROGRESS: Starting pairwise querying.\n",
      "PROGRESS: +--------------+---------+-------------+--------------+\n",
      "PROGRESS: | Query points | # Pairs | % Complete. | Elapsed Time |\n",
      "PROGRESS: +--------------+---------+-------------+--------------+\n",
      "PROGRESS: | 0            | 1       | 0.00313853  | 2.604ms      |\n",
      "PROGRESS: | Done         |         | 100         | 35.204ms     |\n",
      "PROGRESS: +--------------+---------+-------------+--------------+\n",
      "PROGRESS: Starting pairwise querying.\n",
      "PROGRESS: +--------------+---------+-------------+--------------+\n",
      "PROGRESS: | Query points | # Pairs | % Complete. | Elapsed Time |\n",
      "PROGRESS: +--------------+---------+-------------+--------------+\n",
      "PROGRESS: | 0            | 1       | 0.00313853  | 2.579ms      |\n",
      "PROGRESS: | Done         |         | 100         | 23.866ms     |\n",
      "PROGRESS: +--------------+---------+-------------+--------------+\n",
      "PROGRESS: Starting pairwise querying.\n",
      "PROGRESS: +--------------+---------+-------------+--------------+\n",
      "PROGRESS: | Query points | # Pairs | % Complete. | Elapsed Time |\n",
      "PROGRESS: +--------------+---------+-------------+--------------+\n",
      "PROGRESS: | 0            | 1       | 0.00313853  | 2.572ms      |\n",
      "PROGRESS: | Done         |         | 100         | 23.151ms     |\n",
      "PROGRESS: +--------------+---------+-------------+--------------+\n",
      "PROGRESS: Starting pairwise querying.\n",
      "PROGRESS: +--------------+---------+-------------+--------------+\n",
      "PROGRESS: | Query points | # Pairs | % Complete. | Elapsed Time |\n",
      "PROGRESS: +--------------+---------+-------------+--------------+\n",
      "PROGRESS: | 0            | 1       | 0.00313853  | 3.003ms      |\n",
      "PROGRESS: | Done         |         | 100         | 27.683ms     |\n",
      "PROGRESS: +--------------+---------+-------------+--------------+\n",
      "PROGRESS: Starting pairwise querying.\n",
      "PROGRESS: +--------------+---------+-------------+--------------+\n",
      "PROGRESS: | Query points | # Pairs | % Complete. | Elapsed Time |\n",
      "PROGRESS: +--------------+---------+-------------+--------------+\n",
      "PROGRESS: | 0            | 1       | 0.00313853  | 2.818ms      |\n",
      "PROGRESS: | Done         |         | 100         | 26.038ms     |\n",
      "PROGRESS: +--------------+---------+-------------+--------------+\n",
      "PROGRESS: Starting pairwise querying.\n",
      "PROGRESS: +--------------+---------+-------------+--------------+\n",
      "PROGRESS: | Query points | # Pairs | % Complete. | Elapsed Time |\n",
      "PROGRESS: +--------------+---------+-------------+--------------+\n",
      "PROGRESS: | 0            | 1       | 0.00313853  | 2.669ms      |\n",
      "PROGRESS: | Done         |         | 100         | 27.068ms     |\n",
      "PROGRESS: +--------------+---------+-------------+--------------+\n",
      "PROGRESS: Starting pairwise querying.\n",
      "PROGRESS: +--------------+---------+-------------+--------------+\n",
      "PROGRESS: | Query points | # Pairs | % Complete. | Elapsed Time |\n",
      "PROGRESS: +--------------+---------+-------------+--------------+\n",
      "PROGRESS: | 0            | 1       | 0.00313853  | 3.565ms      |\n",
      "PROGRESS: | Done         |         | 100         | 24.477ms     |\n",
      "PROGRESS: +--------------+---------+-------------+--------------+\n",
      "PROGRESS: Starting pairwise querying.\n",
      "PROGRESS: +--------------+---------+-------------+--------------+\n",
      "PROGRESS: | Query points | # Pairs | % Complete. | Elapsed Time |\n",
      "PROGRESS: +--------------+---------+-------------+--------------+\n",
      "PROGRESS: | 0            | 1       | 0.00313853  | 2.813ms      |\n",
      "PROGRESS: | Done         |         | 100         | 24.983ms     |\n",
      "PROGRESS: +--------------+---------+-------------+--------------+\n",
      "PROGRESS: Starting pairwise querying.\n",
      "PROGRESS: +--------------+---------+-------------+--------------+\n",
      "PROGRESS: | Query points | # Pairs | % Complete. | Elapsed Time |\n",
      "PROGRESS: +--------------+---------+-------------+--------------+\n",
      "PROGRESS: | 0            | 1       | 0.00313853  | 2.745ms      |\n",
      "PROGRESS: | Done         |         | 100         | 37.495ms     |\n",
      "PROGRESS: +--------------+---------+-------------+--------------+\n",
      "PROGRESS: Starting pairwise querying.\n",
      "PROGRESS: +--------------+---------+-------------+--------------+\n",
      "PROGRESS: | Query points | # Pairs | % Complete. | Elapsed Time |\n",
      "PROGRESS: +--------------+---------+-------------+--------------+\n",
      "PROGRESS: | 0            | 1       | 0.00313853  | 2.915ms      |\n",
      "PROGRESS: | Done         |         | 100         | 35.065ms     |\n",
      "PROGRESS: +--------------+---------+-------------+--------------+\n",
      "PROGRESS: Starting pairwise querying.\n",
      "PROGRESS: +--------------+---------+-------------+--------------+\n",
      "PROGRESS: | Query points | # Pairs | % Complete. | Elapsed Time |\n",
      "PROGRESS: +--------------+---------+-------------+--------------+\n",
      "PROGRESS: | 0            | 1       | 0.00313853  | 2.826ms      |\n",
      "PROGRESS: | Done         |         | 100         | 27.735ms     |\n",
      "PROGRESS: +--------------+---------+-------------+--------------+\n",
      "PROGRESS: Starting pairwise querying.\n",
      "PROGRESS: +--------------+---------+-------------+--------------+\n",
      "PROGRESS: | Query points | # Pairs | % Complete. | Elapsed Time |\n",
      "PROGRESS: +--------------+---------+-------------+--------------+\n",
      "PROGRESS: | 0            | 1       | 0.00313853  | 2.883ms      |\n",
      "PROGRESS: | Done         |         | 100         | 26.935ms     |\n",
      "PROGRESS: +--------------+---------+-------------+--------------+\n",
      "PROGRESS: Starting pairwise querying.\n",
      "PROGRESS: +--------------+---------+-------------+--------------+\n",
      "PROGRESS: | Query points | # Pairs | % Complete. | Elapsed Time |\n",
      "PROGRESS: +--------------+---------+-------------+--------------+\n",
      "PROGRESS: | 0            | 1       | 0.00313853  | 2.651ms      |\n",
      "PROGRESS: | Done         |         | 100         | 26.244ms     |\n",
      "PROGRESS: +--------------+---------+-------------+--------------+\n",
      "PROGRESS: Starting pairwise querying.\n",
      "PROGRESS: +--------------+---------+-------------+--------------+\n",
      "PROGRESS: | Query points | # Pairs | % Complete. | Elapsed Time |\n",
      "PROGRESS: +--------------+---------+-------------+--------------+\n",
      "PROGRESS: | 0            | 1       | 0.00313853  | 4.709ms      |\n",
      "PROGRESS: | Done         |         | 100         | 26.431ms     |\n",
      "PROGRESS: +--------------+---------+-------------+--------------+\n",
      "PROGRESS: Starting pairwise querying.\n",
      "PROGRESS: +--------------+---------+-------------+--------------+\n",
      "PROGRESS: | Query points | # Pairs | % Complete. | Elapsed Time |\n",
      "PROGRESS: +--------------+---------+-------------+--------------+\n",
      "PROGRESS: | 0            | 1       | 0.00313853  | 2.563ms      |\n",
      "PROGRESS: | Done         |         | 100         | 23.05ms      |\n",
      "PROGRESS: +--------------+---------+-------------+--------------+\n",
      "PROGRESS: Starting pairwise querying.\n",
      "PROGRESS: +--------------+---------+-------------+--------------+\n",
      "PROGRESS: | Query points | # Pairs | % Complete. | Elapsed Time |\n",
      "PROGRESS: +--------------+---------+-------------+--------------+\n",
      "PROGRESS: | 0            | 1       | 0.00313853  | 2.852ms      |\n",
      "PROGRESS: | Done         |         | 100         | 29.862ms     |\n",
      "PROGRESS: +--------------+---------+-------------+--------------+\n",
      "PROGRESS: Starting pairwise querying.\n",
      "PROGRESS: +--------------+---------+-------------+--------------+\n",
      "PROGRESS: | Query points | # Pairs | % Complete. | Elapsed Time |\n",
      "PROGRESS: +--------------+---------+-------------+--------------+\n",
      "PROGRESS: | 0            | 1       | 0.00313853  | 2.567ms      |\n",
      "PROGRESS: | Done         |         | 100         | 27.886ms     |\n",
      "PROGRESS: +--------------+---------+-------------+--------------+\n",
      "PROGRESS: Starting pairwise querying.\n",
      "PROGRESS: +--------------+---------+-------------+--------------+\n",
      "PROGRESS: | Query points | # Pairs | % Complete. | Elapsed Time |\n",
      "PROGRESS: +--------------+---------+-------------+--------------+\n",
      "PROGRESS: | 0            | 1       | 0.00313853  | 2.573ms      |\n",
      "PROGRESS: | Done         |         | 100         | 25.76ms      |\n",
      "PROGRESS: +--------------+---------+-------------+--------------+\n",
      "PROGRESS: Starting pairwise querying.\n",
      "PROGRESS: +--------------+---------+-------------+--------------+\n",
      "PROGRESS: | Query points | # Pairs | % Complete. | Elapsed Time |\n",
      "PROGRESS: +--------------+---------+-------------+--------------+\n",
      "PROGRESS: | 0            | 1       | 0.00313853  | 3.756ms      |\n",
      "PROGRESS: | Done         |         | 100         | 26.793ms     |\n",
      "PROGRESS: +--------------+---------+-------------+--------------+\n",
      "PROGRESS: Starting pairwise querying.\n",
      "PROGRESS: +--------------+---------+-------------+--------------+\n",
      "PROGRESS: | Query points | # Pairs | % Complete. | Elapsed Time |\n",
      "PROGRESS: +--------------+---------+-------------+--------------+\n",
      "PROGRESS: | 0            | 1       | 0.00313853  | 2.509ms      |\n",
      "PROGRESS: | Done         |         | 100         | 25.552ms     |\n",
      "PROGRESS: +--------------+---------+-------------+--------------+\n",
      "PROGRESS: Starting pairwise querying.\n",
      "PROGRESS: +--------------+---------+-------------+--------------+\n",
      "PROGRESS: | Query points | # Pairs | % Complete. | Elapsed Time |\n",
      "PROGRESS: +--------------+---------+-------------+--------------+\n",
      "PROGRESS: | 0            | 1       | 0.00313853  | 2.603ms      |\n",
      "PROGRESS: | Done         |         | 100         | 24.656ms     |\n",
      "PROGRESS: +--------------+---------+-------------+--------------+\n",
      "PROGRESS: Starting pairwise querying.\n",
      "PROGRESS: +--------------+---------+-------------+--------------+\n",
      "PROGRESS: | Query points | # Pairs | % Complete. | Elapsed Time |\n",
      "PROGRESS: +--------------+---------+-------------+--------------+\n",
      "PROGRESS: | 0            | 1       | 0.00313853  | 2.737ms      |\n",
      "PROGRESS: | Done         |         | 100         | 27.443ms     |\n",
      "PROGRESS: +--------------+---------+-------------+--------------+\n",
      "PROGRESS: Starting pairwise querying.\n",
      "PROGRESS: +--------------+---------+-------------+--------------+\n",
      "PROGRESS: | Query points | # Pairs | % Complete. | Elapsed Time |\n",
      "PROGRESS: +--------------+---------+-------------+--------------+\n",
      "PROGRESS: | 0            | 1       | 0.00313853  | 2.636ms      |\n",
      "PROGRESS: | Done         |         | 100         | 25.057ms     |\n",
      "PROGRESS: +--------------+---------+-------------+--------------+\n",
      "PROGRESS: Starting pairwise querying.\n",
      "PROGRESS: +--------------+---------+-------------+--------------+\n",
      "PROGRESS: | Query points | # Pairs | % Complete. | Elapsed Time |\n",
      "PROGRESS: +--------------+---------+-------------+--------------+\n",
      "PROGRESS: | 0            | 1       | 0.00313853  | 2.597ms      |\n",
      "PROGRESS: | Done         |         | 100         | 23.902ms     |\n",
      "PROGRESS: +--------------+---------+-------------+--------------+\n",
      "PROGRESS: Starting pairwise querying.\n",
      "PROGRESS: +--------------+---------+-------------+--------------+\n",
      "PROGRESS: | Query points | # Pairs | % Complete. | Elapsed Time |\n",
      "PROGRESS: +--------------+---------+-------------+--------------+\n",
      "PROGRESS: | 0            | 1       | 0.00313853  | 2.719ms      |\n",
      "PROGRESS: | Done         |         | 100         | 23.271ms     |\n",
      "PROGRESS: +--------------+---------+-------------+--------------+\n",
      "PROGRESS: Starting pairwise querying.\n",
      "PROGRESS: +--------------+---------+-------------+--------------+\n",
      "PROGRESS: | Query points | # Pairs | % Complete. | Elapsed Time |\n",
      "PROGRESS: +--------------+---------+-------------+--------------+\n",
      "PROGRESS: | 0            | 1       | 0.00313853  | 2.58ms       |\n",
      "PROGRESS: | Done         |         | 100         | 22.643ms     |\n",
      "PROGRESS: +--------------+---------+-------------+--------------+\n"
     ]
    }
   ],
   "source": [
    "Similar_Qid_List = {}\n",
    "for i in range( len(selected) ) :\n",
    "    key = 'Q' + str(i) + '_Similar_List'\n",
    "    Q_i = selected[i:i+1]\n",
    "    value = knn_model.query(Q_i, k=5)['reference_label']\n",
    "    Similar_Qid_List[key] = value"
   ]
  },
  {
   "cell_type": "code",
   "execution_count": 25,
   "metadata": {
    "collapsed": false
   },
   "outputs": [],
   "source": [
    "# been_voted_qid[134 + 77]"
   ]
  },
  {
   "cell_type": "code",
   "execution_count": 26,
   "metadata": {
    "collapsed": false
   },
   "outputs": [],
   "source": [
    "# Similar_Qid_List"
   ]
  },
  {
   "cell_type": "code",
   "execution_count": 27,
   "metadata": {
    "collapsed": true
   },
   "outputs": [],
   "source": [
    "def Get_Index_QuestionID(qid) :\n",
    "    return Total_Test[ Total_Test['question_id'] == qid].index.values"
   ]
  },
  {
   "cell_type": "code",
   "execution_count": 28,
   "metadata": {
    "collapsed": false
   },
   "outputs": [],
   "source": [
    "# print Get_Index_QuestionID( 1006907 )"
   ]
  },
  {
   "cell_type": "code",
   "execution_count": 29,
   "metadata": {
    "collapsed": true
   },
   "outputs": [],
   "source": [
    "def Get_IndexList(Q_List) :\n",
    "    IndexList = []\n",
    "    for qid in Q_List:\n",
    "        indexes = Get_Index_QuestionID( qid )\n",
    "        if len(indexes) == 0:\n",
    "            indexes = Get_Index_QuestionID( qid )\n",
    "        # print qid, indexes\n",
    "        for index in indexes:\n",
    "            IndexList.append(index)\n",
    "            # print len( IndexList )\n",
    "    return IndexList"
   ]
  },
  {
   "cell_type": "code",
   "execution_count": 30,
   "metadata": {
    "collapsed": false
   },
   "outputs": [],
   "source": [
    "# Similar_Qid_List"
   ]
  },
  {
   "cell_type": "code",
   "execution_count": 31,
   "metadata": {
    "collapsed": false
   },
   "outputs": [],
   "source": [
    "# From Similar Qid List Found Similar Index \n",
    "Similar_Index_List = {}\n",
    "for i in range( len(Similar_Qid_List) ) :\n",
    "    key = 'Q' + str(i) + '_Similar_List'\n",
    "    # value is a list of similar qid\n",
    "    Qid_List = Similar_Qid_List[key]\n",
    "    Index_List = Get_IndexList(Qid_List)\n",
    "    Similar_Index_List[key]  = Index_List    "
   ]
  },
  {
   "cell_type": "code",
   "execution_count": 32,
   "metadata": {
    "collapsed": false
   },
   "outputs": [],
   "source": [
    "# Similar_Index_List\n",
    "# len( Similar_Index_List )  # 50"
   ]
  },
  {
   "cell_type": "code",
   "execution_count": 33,
   "metadata": {
    "collapsed": false
   },
   "outputs": [],
   "source": [
    "# import json\n",
    "# import pickle\n",
    "\n",
    "def writeDict(dict, filename, sep):\n",
    "    with open(filename, \"w\") as f:\n",
    "#        for key in dict.keys():            \n",
    "#            f.write(str(key) + \":\" + str(dict[key]) + \"\\n\")\n",
    "        for key, value in sorted( dict.items() ):\n",
    "            f.write( str(key) + sep + ','.join(str(x) for x in value) + '\\n' )"
   ]
  },
  {
   "cell_type": "code",
   "execution_count": 34,
   "metadata": {
    "collapsed": true
   },
   "outputs": [],
   "source": [
    "def readDict(filename, sep):\n",
    "    with open(filename, \"r\") as f:\n",
    "        dict = {}\n",
    "        for line in f:\n",
    "            values = line.split(sep)\n",
    "            key = values[0]\n",
    "            value = values[1].split(',')\n",
    "            #dict[values[0]] = {int(x) for x in values[1:len(values)]}\n",
    "            dict[key] = value\n",
    "        return(dict)"
   ]
  },
  {
   "cell_type": "code",
   "execution_count": 35,
   "metadata": {
    "collapsed": true
   },
   "outputs": [],
   "source": [
    "writeDict(Similar_Qid_List, './Similar_Qid_List.txt', ':')\n",
    "writeDict(Similar_Index_List, './Similar_Index_List.txt', ':')"
   ]
  },
  {
   "cell_type": "code",
   "execution_count": 36,
   "metadata": {
    "collapsed": false
   },
   "outputs": [],
   "source": [
    "test = readDict('./Similar_Qid_List.txt', ':')"
   ]
  },
  {
   "cell_type": "code",
   "execution_count": 37,
   "metadata": {
    "collapsed": false
   },
   "outputs": [
    {
     "data": {
      "text/plain": [
       "True"
      ]
     },
     "execution_count": 37,
     "metadata": {},
     "output_type": "execute_result"
    }
   ],
   "source": [
    "test == Similar_Qid_List"
   ]
  },
  {
   "cell_type": "code",
   "execution_count": null,
   "metadata": {
    "collapsed": true
   },
   "outputs": [],
   "source": []
  }
 ],
 "metadata": {
  "kernelspec": {
   "display_name": "Python 2",
   "language": "python",
   "name": "python2"
  },
  "language_info": {
   "codemirror_mode": {
    "name": "ipython",
    "version": 2
   },
   "file_extension": ".py",
   "mimetype": "text/x-python",
   "name": "python",
   "nbconvert_exporter": "python",
   "pygments_lexer": "ipython2",
   "version": "2.7.11"
  }
 },
 "nbformat": 4,
 "nbformat_minor": 0
}
