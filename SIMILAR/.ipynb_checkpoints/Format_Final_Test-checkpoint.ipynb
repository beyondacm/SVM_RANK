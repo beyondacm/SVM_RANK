{
 "cells": [
  {
   "cell_type": "code",
   "execution_count": 1,
   "metadata": {
    "collapsed": true
   },
   "outputs": [],
   "source": [
    "import pandas as pd\n",
    "import numpy as np\n",
    "import operator\n",
    "import re"
   ]
  },
  {
   "cell_type": "code",
   "execution_count": 2,
   "metadata": {
    "collapsed": true
   },
   "outputs": [],
   "source": [
    "def readDict(filename, sep):\n",
    "    with open(filename, \"r\") as f:\n",
    "        dict = {}\n",
    "        for line in f:\n",
    "            values = line.split(sep)\n",
    "            key = values[0]\n",
    "            value = values[1].strip().split(',')\n",
    "            results = map(int, value)\n",
    "            #dict[values[0]] = {int(x) for x in values[1:len(values)]}\n",
    "            dict[key] = results\n",
    "        return(dict)"
   ]
  },
  {
   "cell_type": "code",
   "execution_count": 3,
   "metadata": {
    "collapsed": false
   },
   "outputs": [
    {
     "name": "stderr",
     "output_type": "stream",
     "text": [
      "/home/zpgao/anaconda2/lib/python2.7/site-packages/IPython/core/interactiveshell.py:2902: DtypeWarning: Columns (1,2,3,4,13) have mixed types. Specify dtype option on import or set low_memory=False.\n",
      "  interactivity=interactivity, compiler=compiler, result=result)\n"
     ]
    }
   ],
   "source": [
    "Total_Test = pd.read_csv('../Total_Test.csv')"
   ]
  },
  {
   "cell_type": "code",
   "execution_count": 4,
   "metadata": {
    "collapsed": true
   },
   "outputs": [],
   "source": [
    "Similar_Index_List = readDict('./Similar_Index_List.txt', ':')"
   ]
  },
  {
   "cell_type": "code",
   "execution_count": 5,
   "metadata": {
    "collapsed": true
   },
   "outputs": [],
   "source": [
    "# Similar_Index_List"
   ]
  },
  {
   "cell_type": "code",
   "execution_count": 6,
   "metadata": {
    "collapsed": false
   },
   "outputs": [],
   "source": [
    "best_answer = pd.read_csv('../TEST/MATCH/best_answer.csv')\n",
    "second_answer = pd.read_csv('../TEST/MATCH/second_answer.csv')\n",
    "third_answer = pd.read_csv('../TEST/MATCH/third_answer.csv')\n",
    "Final_Test_Set = best_answer.append(second_answer)\n",
    "Final_Test_Set = Final_Test_Set.append(third_answer)"
   ]
  },
  {
   "cell_type": "code",
   "execution_count": 7,
   "metadata": {
    "collapsed": true
   },
   "outputs": [],
   "source": [
    "def Generate_Test_Set(Dataset, Index_List):\n",
    "    # get the dataframe according to the Index\n",
    "    Test = Dataset.iloc[Index_List]\n",
    "    TestSet = pd.DataFrame(Test)\n",
    "    \n",
    "    return TestSet"
   ]
  },
  {
   "cell_type": "code",
   "execution_count": 8,
   "metadata": {
    "collapsed": true
   },
   "outputs": [],
   "source": [
    "def Replace_QList(Data_Set, Q_IndexList) :\n",
    "    Q_Content = Total_Test.iloc[ [ Q_IndexList[0] ] ]['question_content'].all()\n",
    "    Q_Tags = Total_Test.iloc[ [ Q_IndexList[0] ] ]['question_tags'].all()\n",
    "    Data_Set['question_content'] = Q_Content\n",
    "    Data_Set['question_tags'] = Q_Tags\n",
    "    return Data_Set"
   ]
  },
  {
   "cell_type": "code",
   "execution_count": 9,
   "metadata": {
    "collapsed": false
   },
   "outputs": [
    {
     "name": "stdout",
     "output_type": "stream",
     "text": [
      "40\n",
      "45\n",
      "37\n",
      "42\n",
      "40\n",
      "38\n",
      "37\n",
      "39\n",
      "42\n",
      "36\n",
      "39\n",
      "43\n",
      "43\n",
      "33\n",
      "37\n",
      "40\n",
      "42\n",
      "40\n",
      "41\n",
      "39\n",
      "37\n",
      "34\n",
      "43\n",
      "36\n",
      "42\n",
      "47\n",
      "36\n",
      "34\n",
      "36\n",
      "40\n",
      "39\n",
      "38\n",
      "38\n",
      "35\n",
      "43\n",
      "37\n",
      "38\n",
      "33\n",
      "33\n",
      "37\n",
      "34\n",
      "37\n",
      "46\n",
      "43\n",
      "37\n",
      "40\n",
      "42\n",
      "41\n",
      "35\n",
      "42\n",
      "1946\n"
     ]
    }
   ],
   "source": [
    "total_numOfTest = 0\n",
    "for i in range( len(Similar_Index_List) ) :\n",
    "    key = 'Q' + str(i) + '_Similar_List'\n",
    "    value = Similar_Index_List[key]\n",
    "    print len( value )\n",
    "    total_numOfTest += len(value)\n",
    "    \n",
    "    Qi_Test = Generate_Test_Set(Total_Test, value)\n",
    "    Qi_Test = Replace_QList( Qi_Test, value)\n",
    "    Final_Test_Set = Final_Test_Set.append(Qi_Test)\n",
    "print total_numOfTest"
   ]
  },
  {
   "cell_type": "code",
   "execution_count": 11,
   "metadata": {
    "collapsed": false
   },
   "outputs": [],
   "source": [
    "# Final_Test_Set  # 119966 x 18"
   ]
  },
  {
   "cell_type": "code",
   "execution_count": 12,
   "metadata": {
    "collapsed": true
   },
   "outputs": [],
   "source": [
    "Final_Test_Set.to_csv('../TEST/Final_Test_Set.csv', encoding='utf-8', index = False)"
   ]
  },
  {
   "cell_type": "code",
   "execution_count": 13,
   "metadata": {
    "collapsed": false
   },
   "outputs": [],
   "source": [
    "# Final_Test_Set"
   ]
  },
  {
   "cell_type": "code",
   "execution_count": 14,
   "metadata": {
    "collapsed": true
   },
   "outputs": [],
   "source": [
    "Final_Test_Set = pd.read_csv('../TEST/Final_Test_Set.csv')"
   ]
  },
  {
   "cell_type": "code",
   "execution_count": 16,
   "metadata": {
    "collapsed": false,
    "scrolled": true
   },
   "outputs": [],
   "source": [
    "# Final_Test_Set"
   ]
  }
 ],
 "metadata": {
  "kernelspec": {
   "display_name": "Python 2",
   "language": "python",
   "name": "python2"
  },
  "language_info": {
   "codemirror_mode": {
    "name": "ipython",
    "version": 2
   },
   "file_extension": ".py",
   "mimetype": "text/x-python",
   "name": "python",
   "nbconvert_exporter": "python",
   "pygments_lexer": "ipython2",
   "version": "2.7.11"
  }
 },
 "nbformat": 4,
 "nbformat_minor": 0
}
