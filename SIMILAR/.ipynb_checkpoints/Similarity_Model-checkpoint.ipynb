{
 "cells": [
  {
   "cell_type": "code",
   "execution_count": 1,
   "metadata": {
    "collapsed": false
   },
   "outputs": [
    {
     "name": "stderr",
     "output_type": "stream",
     "text": [
      "A newer version of GraphLab Create (v1.8.5) is available! Your current version is v1.7.1.\n",
      "\n",
      "You can use pip to upgrade the graphlab-create package. For more information see https://dato.com/products/create/upgrade.\n"
     ]
    }
   ],
   "source": [
    "import graphlab\n",
    "import numpy as np\n",
    "import pandas as pd\n",
    "# import matplotlib "
   ]
  },
  {
   "cell_type": "code",
   "execution_count": 2,
   "metadata": {
    "collapsed": false
   },
   "outputs": [],
   "source": [
    "# Drop the duplicates \n",
    "Total_Test = pd.read_csv(\"../Total_Test_AfterProcessing.csv\")\n",
    "Total_Test = Total_Test.drop_duplicates('answer_id')\n",
    "Total_Test = Total_Test.fillna(0)\n",
    "Total_Test['question_id'] = Total_Test['question_id'].astype(str)\n",
    "Total_Test['answer_voted'] = Total_Test['answer_voted'].astype(float)\n",
    "# Total_Test # 42512 rows × 18 columns"
   ]
  },
  {
   "cell_type": "code",
   "execution_count": 3,
   "metadata": {
    "collapsed": false
   },
   "outputs": [],
   "source": [
    "Total_Test.to_csv('./Total_Test.csv', encoding='utf-8', index = False)\n",
    "Total_Test= pd.read_csv('./Total_Test.csv')\n",
    "# Total_Test  # 42512 rows × 18 columns"
   ]
  },
  {
   "cell_type": "code",
   "execution_count": 4,
   "metadata": {
    "collapsed": false,
    "scrolled": true
   },
   "outputs": [],
   "source": [
    "# Total_Test  # 42512 rows × 18 columns\n",
    "been_voted = Total_Test[ Total_Test['answer_voted'] > 0 ]\n",
    "un_voted = Total_Test[ Total_Test['answer_voted'] == 0 ]\n",
    "been_voted = been_voted.drop_duplicates('question_id')\n",
    "been_voted.to_csv('./Been_Voted.csv', encoding='utf-8', index = False)\n",
    "# been_voted  # 17039 rows × 18 columns\n",
    "# un_voted    # 14823 rows × 18 columns"
   ]
  },
  {
   "cell_type": "code",
   "execution_count": 5,
   "metadata": {
    "collapsed": false
   },
   "outputs": [],
   "source": [
    "been_voted = pd.read_csv('./Been_Voted.csv')\n",
    "been_voted_qid = been_voted['question_id']\n",
    "# len(been_voted_qid)   # 17039\n",
    "# type(been_voted_qid)  # Series\n",
    "# been_voted_qid[10]"
   ]
  },
  {
   "cell_type": "code",
   "execution_count": 6,
   "metadata": {
    "collapsed": false
   },
   "outputs": [],
   "source": [
    "# been_voted_qid"
   ]
  },
  {
   "cell_type": "code",
   "execution_count": 7,
   "metadata": {
    "collapsed": false
   },
   "outputs": [],
   "source": [
    "# Our Strategy is Select Qid in Voted Question List, \n",
    "# Select Similar Question From Total Test Set "
   ]
  },
  {
   "cell_type": "code",
   "execution_count": 8,
   "metadata": {
    "collapsed": true
   },
   "outputs": [],
   "source": [
    "question_content = Total_Test[['question_id','question_content','question_tags']]\n",
    "# question_content  # 42512 rows × 3 columns\n",
    "question_content = question_content.drop_duplicates('question_id')\n",
    "# question_content # 31862 rows × 3 columns\n",
    "question_content.to_csv('./Question_Content.csv', encoding='utf-8', index = False)"
   ]
  },
  {
   "cell_type": "code",
   "execution_count": 9,
   "metadata": {
    "collapsed": false
   },
   "outputs": [
    {
     "name": "stderr",
     "output_type": "stream",
     "text": [
      "[INFO] \u001b[1;32m1461037916 : INFO:     (initialize_globals_from_environment:282): Setting configuration variable GRAPHLAB_FILEIO_ALTERNATIVE_SSL_CERT_FILE to /home/zpgao/anaconda2/lib/python2.7/site-packages/certifi/cacert.pem\n",
      "\u001b[0m\u001b[1;32m1461037916 : INFO:     (initialize_globals_from_environment:282): Setting configuration variable GRAPHLAB_FILEIO_ALTERNATIVE_SSL_CERT_DIR to \n",
      "\u001b[0mThis non-commercial license of GraphLab Create is assigned to beyond_acm@163.com and will expire on January 04, 2017. For commercial licensing options, visit https://dato.com/buy/.\n",
      "\n",
      "[INFO] Start server at: ipc:///tmp/graphlab_server-3686 - Server binary: /home/zpgao/anaconda2/lib/python2.7/site-packages/graphlab/unity_server - Server log: /tmp/graphlab_server_1461037916.log\n",
      "[INFO] GraphLab Server Version: 1.7.1\n"
     ]
    },
    {
     "name": "stdout",
     "output_type": "stream",
     "text": [
      "PROGRESS: Finished parsing file /home/zpgao/ML/Best_Answer/SVM_RANK/SIMILAR/Question_Content.csv\n",
      "PROGRESS: Parsing completed. Parsed 100 lines in 0.304523 secs.\n",
      "------------------------------------------------------\n",
      "Inferred types from first line of file as \n",
      "column_type_hints=[int,str,str]\n",
      "If parsing fails due to incorrect types, you can correct\n",
      "the inferred type list above and pass it to read_csv in\n",
      "the column_type_hints argument\n",
      "------------------------------------------------------\n",
      "PROGRESS: Finished parsing file /home/zpgao/ML/Best_Answer/SVM_RANK/SIMILAR/Question_Content.csv\n",
      "PROGRESS: Parsing completed. Parsed 31862 lines in 0.066291 secs.\n"
     ]
    }
   ],
   "source": [
    "question_content = graphlab.SFrame.read_csv('./Question_Content.csv')\n",
    "# question_content  # 31862 rows x 3 columns"
   ]
  },
  {
   "cell_type": "code",
   "execution_count": 10,
   "metadata": {
    "collapsed": false
   },
   "outputs": [],
   "source": [
    "# add 'text' && 'word_count' && 'tfidf' features\n",
    "question_content['text'] = question_content['question_tags'] + question_content['question_content']\n",
    "question_content['word_count'] = graphlab.text_analytics.count_words(question_content['text'])"
   ]
  },
  {
   "cell_type": "code",
   "execution_count": 11,
   "metadata": {
    "collapsed": false
   },
   "outputs": [],
   "source": [
    "tfidf = graphlab.text_analytics.tf_idf(question_content['word_count'])"
   ]
  },
  {
   "cell_type": "code",
   "execution_count": 12,
   "metadata": {
    "collapsed": true
   },
   "outputs": [],
   "source": [
    "question_content['tfidf'] = tfidf"
   ]
  },
  {
   "cell_type": "code",
   "execution_count": 13,
   "metadata": {
    "collapsed": false
   },
   "outputs": [
    {
     "data": {
      "text/plain": [
       "numpy.int64"
      ]
     },
     "execution_count": 13,
     "metadata": {},
     "output_type": "execute_result"
    }
   ],
   "source": [
    "# been_voted_qid\n",
    "type ( been_voted_qid[99] )"
   ]
  },
  {
   "cell_type": "code",
   "execution_count": 14,
   "metadata": {
    "collapsed": false
   },
   "outputs": [],
   "source": [
    "# question_content[ question_content['question_id'] == been_voted_qid[5] ]"
   ]
  },
  {
   "cell_type": "code",
   "execution_count": 15,
   "metadata": {
    "collapsed": false
   },
   "outputs": [],
   "source": [
    "# question_content"
   ]
  },
  {
   "cell_type": "code",
   "execution_count": 16,
   "metadata": {
    "collapsed": false
   },
   "outputs": [],
   "source": [
    "def Select_Question( num_question ):\n",
    "    # Initial selected_question\n",
    "    selected_question = question_content[ question_content['question_id'] == been_voted_qid[7] ]\n",
    "    for i in range(num_question) :\n",
    "        # Random Select Index \n",
    "        selected_qid = been_voted_qid[i*40 + 66]\n",
    "        selected_content = question_content[ question_content['question_id'] == selected_qid ]\n",
    "        selected_question = selected_question.append(selected_content)\n",
    "    return selected_question"
   ]
  },
  {
   "cell_type": "code",
   "execution_count": 17,
   "metadata": {
    "collapsed": false
   },
   "outputs": [],
   "source": [
    "# Random Select 50 voted / Unvoted Question\n",
    "selected = Select_Question(49)"
   ]
  },
  {
   "cell_type": "code",
   "execution_count": 18,
   "metadata": {
    "collapsed": false
   },
   "outputs": [],
   "source": [
    "# len( selected )\n",
    "# selected "
   ]
  },
  {
   "cell_type": "code",
   "execution_count": 19,
   "metadata": {
    "collapsed": false
   },
   "outputs": [
    {
     "name": "stdout",
     "output_type": "stream",
     "text": [
      "PROGRESS: Starting brute force nearest neighbors model training.\n"
     ]
    }
   ],
   "source": [
    "knn_model = graphlab.nearest_neighbors.create(question_content, features=['tfidf'], label='question_id')"
   ]
  },
  {
   "cell_type": "code",
   "execution_count": 20,
   "metadata": {
    "collapsed": true
   },
   "outputs": [
    {
     "name": "stdout",
     "output_type": "stream",
     "text": [
      "PROGRESS: Starting pairwise querying.\n",
      "PROGRESS: +--------------+---------+-------------+--------------+\n",
      "PROGRESS: | Query points | # Pairs | % Complete. | Elapsed Time |\n",
      "PROGRESS: +--------------+---------+-------------+--------------+\n",
      "PROGRESS: | 0            | 1       | 0.00313853  | 2.731ms      |\n",
      "PROGRESS: | Done         |         | 100         | 23.112ms     |\n",
      "PROGRESS: +--------------+---------+-------------+--------------+\n",
      "PROGRESS: Starting pairwise querying.\n",
      "PROGRESS: +--------------+---------+-------------+--------------+\n",
      "PROGRESS: | Query points | # Pairs | % Complete. | Elapsed Time |\n",
      "PROGRESS: +--------------+---------+-------------+--------------+\n",
      "PROGRESS: | 0            | 1       | 0.00313853  | 2.807ms      |\n",
      "PROGRESS: | Done         |         | 100         | 23.069ms     |\n",
      "PROGRESS: +--------------+---------+-------------+--------------+\n",
      "PROGRESS: Starting pairwise querying.\n",
      "PROGRESS: +--------------+---------+-------------+--------------+\n",
      "PROGRESS: | Query points | # Pairs | % Complete. | Elapsed Time |\n",
      "PROGRESS: +--------------+---------+-------------+--------------+\n",
      "PROGRESS: | 0            | 1       | 0.00313853  | 2.514ms      |\n",
      "PROGRESS: | Done         |         | 100         | 26.118ms     |\n",
      "PROGRESS: +--------------+---------+-------------+--------------+\n",
      "PROGRESS: Starting pairwise querying.\n",
      "PROGRESS: +--------------+---------+-------------+--------------+\n",
      "PROGRESS: | Query points | # Pairs | % Complete. | Elapsed Time |\n",
      "PROGRESS: +--------------+---------+-------------+--------------+\n",
      "PROGRESS: | 0            | 1       | 0.00313853  | 3.226ms      |\n",
      "PROGRESS: | Done         |         | 100         | 26.652ms     |\n",
      "PROGRESS: +--------------+---------+-------------+--------------+\n",
      "PROGRESS: Starting pairwise querying.\n",
      "PROGRESS: +--------------+---------+-------------+--------------+\n",
      "PROGRESS: | Query points | # Pairs | % Complete. | Elapsed Time |\n",
      "PROGRESS: +--------------+---------+-------------+--------------+\n",
      "PROGRESS: | 0            | 1       | 0.00313853  | 2.539ms      |\n",
      "PROGRESS: | Done         |         | 100         | 19.966ms     |\n",
      "PROGRESS: +--------------+---------+-------------+--------------+\n",
      "PROGRESS: Starting pairwise querying.\n",
      "PROGRESS: +--------------+---------+-------------+--------------+\n",
      "PROGRESS: | Query points | # Pairs | % Complete. | Elapsed Time |\n",
      "PROGRESS: +--------------+---------+-------------+--------------+\n",
      "PROGRESS: | 0            | 1       | 0.00313853  | 2.228ms      |\n",
      "PROGRESS: | Done         |         | 100         | 21.296ms     |\n",
      "PROGRESS: +--------------+---------+-------------+--------------+\n",
      "PROGRESS: Starting pairwise querying.\n",
      "PROGRESS: +--------------+---------+-------------+--------------+\n",
      "PROGRESS: | Query points | # Pairs | % Complete. | Elapsed Time |\n",
      "PROGRESS: +--------------+---------+-------------+--------------+\n",
      "PROGRESS: | 0            | 1       | 0.00313853  | 2.336ms      |\n",
      "PROGRESS: | Done         |         | 100         | 24.24ms      |\n",
      "PROGRESS: +--------------+---------+-------------+--------------+\n",
      "PROGRESS: Starting pairwise querying.\n",
      "PROGRESS: +--------------+---------+-------------+--------------+\n",
      "PROGRESS: | Query points | # Pairs | % Complete. | Elapsed Time |\n",
      "PROGRESS: +--------------+---------+-------------+--------------+\n",
      "PROGRESS: | 0            | 1       | 0.00313853  | 2.503ms      |\n",
      "PROGRESS: | Done         |         | 100         | 23.305ms     |\n",
      "PROGRESS: +--------------+---------+-------------+--------------+\n",
      "PROGRESS: Starting pairwise querying.\n",
      "PROGRESS: +--------------+---------+-------------+--------------+\n",
      "PROGRESS: | Query points | # Pairs | % Complete. | Elapsed Time |\n",
      "PROGRESS: +--------------+---------+-------------+--------------+\n",
      "PROGRESS: | 0            | 1       | 0.00313853  | 5.484ms      |\n",
      "PROGRESS: | Done         |         | 100         | 58.395ms     |\n",
      "PROGRESS: +--------------+---------+-------------+--------------+\n",
      "PROGRESS: Starting pairwise querying.\n",
      "PROGRESS: +--------------+---------+-------------+--------------+\n",
      "PROGRESS: | Query points | # Pairs | % Complete. | Elapsed Time |\n",
      "PROGRESS: +--------------+---------+-------------+--------------+\n",
      "PROGRESS: | 0            | 1       | 0.00313853  | 2.579ms      |\n",
      "PROGRESS: | Done         |         | 100         | 21.669ms     |\n",
      "PROGRESS: +--------------+---------+-------------+--------------+\n",
      "PROGRESS: Starting pairwise querying.\n",
      "PROGRESS: +--------------+---------+-------------+--------------+\n",
      "PROGRESS: | Query points | # Pairs | % Complete. | Elapsed Time |\n",
      "PROGRESS: +--------------+---------+-------------+--------------+\n",
      "PROGRESS: | 0            | 1       | 0.00313853  | 2.713ms      |\n",
      "PROGRESS: | Done         |         | 100         | 24.015ms     |\n",
      "PROGRESS: +--------------+---------+-------------+--------------+\n",
      "PROGRESS: Starting pairwise querying.\n",
      "PROGRESS: +--------------+---------+-------------+--------------+\n",
      "PROGRESS: | Query points | # Pairs | % Complete. | Elapsed Time |\n",
      "PROGRESS: +--------------+---------+-------------+--------------+\n",
      "PROGRESS: | 0            | 1       | 0.00313853  | 2.45ms       |\n",
      "PROGRESS: | Done         |         | 100         | 25.938ms     |\n",
      "PROGRESS: +--------------+---------+-------------+--------------+\n",
      "PROGRESS: Starting pairwise querying.\n",
      "PROGRESS: +--------------+---------+-------------+--------------+\n",
      "PROGRESS: | Query points | # Pairs | % Complete. | Elapsed Time |\n",
      "PROGRESS: +--------------+---------+-------------+--------------+\n",
      "PROGRESS: | 0            | 1       | 0.00313853  | 3.596ms      |\n",
      "PROGRESS: | Done         |         | 100         | 26.024ms     |\n",
      "PROGRESS: +--------------+---------+-------------+--------------+\n",
      "PROGRESS: Starting pairwise querying.\n",
      "PROGRESS: +--------------+---------+-------------+--------------+\n",
      "PROGRESS: | Query points | # Pairs | % Complete. | Elapsed Time |\n",
      "PROGRESS: +--------------+---------+-------------+--------------+\n",
      "PROGRESS: | 0            | 1       | 0.00313853  | 3.054ms      |\n",
      "PROGRESS: | Done         |         | 100         | 24.746ms     |\n",
      "PROGRESS: +--------------+---------+-------------+--------------+\n",
      "PROGRESS: Starting pairwise querying.\n",
      "PROGRESS: +--------------+---------+-------------+--------------+\n",
      "PROGRESS: | Query points | # Pairs | % Complete. | Elapsed Time |\n",
      "PROGRESS: +--------------+---------+-------------+--------------+\n",
      "PROGRESS: | 0            | 1       | 0.00313853  | 2.536ms      |\n",
      "PROGRESS: | Done         |         | 100         | 25.372ms     |\n",
      "PROGRESS: +--------------+---------+-------------+--------------+\n",
      "PROGRESS: Starting pairwise querying.\n",
      "PROGRESS: +--------------+---------+-------------+--------------+\n",
      "PROGRESS: | Query points | # Pairs | % Complete. | Elapsed Time |\n",
      "PROGRESS: +--------------+---------+-------------+--------------+\n",
      "PROGRESS: | 0            | 1       | 0.00313853  | 2.534ms      |\n",
      "PROGRESS: | Done         |         | 100         | 27.2ms       |\n",
      "PROGRESS: +--------------+---------+-------------+--------------+\n",
      "PROGRESS: Starting pairwise querying.\n",
      "PROGRESS: +--------------+---------+-------------+--------------+\n",
      "PROGRESS: | Query points | # Pairs | % Complete. | Elapsed Time |\n",
      "PROGRESS: +--------------+---------+-------------+--------------+\n",
      "PROGRESS: | 0            | 1       | 0.00313853  | 3.102ms      |\n",
      "PROGRESS: | Done         |         | 100         | 26.262ms     |\n",
      "PROGRESS: +--------------+---------+-------------+--------------+\n",
      "PROGRESS: Starting pairwise querying.\n",
      "PROGRESS: +--------------+---------+-------------+--------------+\n",
      "PROGRESS: | Query points | # Pairs | % Complete. | Elapsed Time |\n",
      "PROGRESS: +--------------+---------+-------------+--------------+\n",
      "PROGRESS: | 0            | 1       | 0.00313853  | 2.313ms      |\n",
      "PROGRESS: | Done         |         | 100         | 25.484ms     |\n",
      "PROGRESS: +--------------+---------+-------------+--------------+\n",
      "PROGRESS: Starting pairwise querying.\n",
      "PROGRESS: +--------------+---------+-------------+--------------+\n",
      "PROGRESS: | Query points | # Pairs | % Complete. | Elapsed Time |\n",
      "PROGRESS: +--------------+---------+-------------+--------------+\n",
      "PROGRESS: | 0            | 1       | 0.00313853  | 2.841ms      |\n",
      "PROGRESS: | Done         |         | 100         | 26.801ms     |\n",
      "PROGRESS: +--------------+---------+-------------+--------------+\n",
      "PROGRESS: Starting pairwise querying.\n",
      "PROGRESS: +--------------+---------+-------------+--------------+\n",
      "PROGRESS: | Query points | # Pairs | % Complete. | Elapsed Time |\n",
      "PROGRESS: +--------------+---------+-------------+--------------+\n",
      "PROGRESS: | 0            | 1       | 0.00313853  | 2.563ms      |\n",
      "PROGRESS: | Done         |         | 100         | 26.341ms     |\n",
      "PROGRESS: +--------------+---------+-------------+--------------+\n",
      "PROGRESS: Starting pairwise querying.\n",
      "PROGRESS: +--------------+---------+-------------+--------------+\n",
      "PROGRESS: | Query points | # Pairs | % Complete. | Elapsed Time |\n",
      "PROGRESS: +--------------+---------+-------------+--------------+\n",
      "PROGRESS: | 0            | 1       | 0.00313853  | 3.651ms      |\n",
      "PROGRESS: | Done         |         | 100         | 27.45ms      |\n",
      "PROGRESS: +--------------+---------+-------------+--------------+\n",
      "PROGRESS: Starting pairwise querying.\n",
      "PROGRESS: +--------------+---------+-------------+--------------+\n",
      "PROGRESS: | Query points | # Pairs | % Complete. | Elapsed Time |\n",
      "PROGRESS: +--------------+---------+-------------+--------------+\n",
      "PROGRESS: | 0            | 1       | 0.00313853  | 2.877ms      |\n",
      "PROGRESS: | Done         |         | 100         | 27.187ms     |\n",
      "PROGRESS: +--------------+---------+-------------+--------------+\n",
      "PROGRESS: Starting pairwise querying.\n",
      "PROGRESS: +--------------+---------+-------------+--------------+\n",
      "PROGRESS: | Query points | # Pairs | % Complete. | Elapsed Time |\n",
      "PROGRESS: +--------------+---------+-------------+--------------+\n",
      "PROGRESS: | 0            | 1       | 0.00313853  | 2.922ms      |\n",
      "PROGRESS: | Done         |         | 100         | 27.373ms     |\n",
      "PROGRESS: +--------------+---------+-------------+--------------+\n",
      "PROGRESS: Starting pairwise querying.\n",
      "PROGRESS: +--------------+---------+-------------+--------------+\n",
      "PROGRESS: | Query points | # Pairs | % Complete. | Elapsed Time |\n",
      "PROGRESS: +--------------+---------+-------------+--------------+\n",
      "PROGRESS: | 0            | 1       | 0.00313853  | 2.65ms       |\n",
      "PROGRESS: | Done         |         | 100         | 40.669ms     |\n",
      "PROGRESS: +--------------+---------+-------------+--------------+\n",
      "PROGRESS: Starting pairwise querying.\n",
      "PROGRESS: +--------------+---------+-------------+--------------+\n",
      "PROGRESS: | Query points | # Pairs | % Complete. | Elapsed Time |\n",
      "PROGRESS: +--------------+---------+-------------+--------------+\n",
      "PROGRESS: | 0            | 1       | 0.00313853  | 2.835ms      |\n",
      "PROGRESS: | Done         |         | 100         | 31.347ms     |\n",
      "PROGRESS: +--------------+---------+-------------+--------------+\n",
      "PROGRESS: Starting pairwise querying.\n",
      "PROGRESS: +--------------+---------+-------------+--------------+\n",
      "PROGRESS: | Query points | # Pairs | % Complete. | Elapsed Time |\n",
      "PROGRESS: +--------------+---------+-------------+--------------+\n",
      "PROGRESS: | 0            | 1       | 0.00313853  | 2.975ms      |\n",
      "PROGRESS: | Done         |         | 100         | 23.868ms     |\n",
      "PROGRESS: +--------------+---------+-------------+--------------+\n",
      "PROGRESS: Starting pairwise querying.\n",
      "PROGRESS: +--------------+---------+-------------+--------------+\n",
      "PROGRESS: | Query points | # Pairs | % Complete. | Elapsed Time |\n",
      "PROGRESS: +--------------+---------+-------------+--------------+\n",
      "PROGRESS: | 0            | 1       | 0.00313853  | 2.177ms      |\n",
      "PROGRESS: | Done         |         | 100         | 23.724ms     |\n",
      "PROGRESS: +--------------+---------+-------------+--------------+\n",
      "PROGRESS: Starting pairwise querying.\n",
      "PROGRESS: +--------------+---------+-------------+--------------+\n",
      "PROGRESS: | Query points | # Pairs | % Complete. | Elapsed Time |\n",
      "PROGRESS: +--------------+---------+-------------+--------------+\n",
      "PROGRESS: | 0            | 1       | 0.00313853  | 5.169ms      |\n",
      "PROGRESS: | Done         |         | 100         | 26.145ms     |\n",
      "PROGRESS: +--------------+---------+-------------+--------------+\n",
      "PROGRESS: Starting pairwise querying.\n",
      "PROGRESS: +--------------+---------+-------------+--------------+\n",
      "PROGRESS: | Query points | # Pairs | % Complete. | Elapsed Time |\n",
      "PROGRESS: +--------------+---------+-------------+--------------+\n",
      "PROGRESS: | 0            | 1       | 0.00313853  | 2.253ms      |\n",
      "PROGRESS: | Done         |         | 100         | 25.393ms     |\n",
      "PROGRESS: +--------------+---------+-------------+--------------+\n",
      "PROGRESS: Starting pairwise querying.\n",
      "PROGRESS: +--------------+---------+-------------+--------------+\n",
      "PROGRESS: | Query points | # Pairs | % Complete. | Elapsed Time |\n",
      "PROGRESS: +--------------+---------+-------------+--------------+\n",
      "PROGRESS: | 0            | 1       | 0.00313853  | 4.774ms      |\n",
      "PROGRESS: | Done         |         | 100         | 27.11ms      |\n",
      "PROGRESS: +--------------+---------+-------------+--------------+\n",
      "PROGRESS: Starting pairwise querying.\n",
      "PROGRESS: +--------------+---------+-------------+--------------+\n",
      "PROGRESS: | Query points | # Pairs | % Complete. | Elapsed Time |\n",
      "PROGRESS: +--------------+---------+-------------+--------------+\n",
      "PROGRESS: | 0            | 1       | 0.00313853  | 2.392ms      |\n",
      "PROGRESS: | Done         |         | 100         | 25.47ms      |\n",
      "PROGRESS: +--------------+---------+-------------+--------------+\n",
      "PROGRESS: Starting pairwise querying.\n",
      "PROGRESS: +--------------+---------+-------------+--------------+\n",
      "PROGRESS: | Query points | # Pairs | % Complete. | Elapsed Time |\n",
      "PROGRESS: +--------------+---------+-------------+--------------+\n",
      "PROGRESS: | 0            | 1       | 0.00313853  | 2.534ms      |\n",
      "PROGRESS: | Done         |         | 100         | 24.296ms     |\n",
      "PROGRESS: +--------------+---------+-------------+--------------+\n",
      "PROGRESS: Starting pairwise querying.\n",
      "PROGRESS: +--------------+---------+-------------+--------------+\n",
      "PROGRESS: | Query points | # Pairs | % Complete. | Elapsed Time |\n",
      "PROGRESS: +--------------+---------+-------------+--------------+\n",
      "PROGRESS: | 0            | 1       | 0.00313853  | 2.756ms      |\n",
      "PROGRESS: | Done         |         | 100         | 25.168ms     |\n",
      "PROGRESS: +--------------+---------+-------------+--------------+\n",
      "PROGRESS: Starting pairwise querying.\n",
      "PROGRESS: +--------------+---------+-------------+--------------+\n",
      "PROGRESS: | Query points | # Pairs | % Complete. | Elapsed Time |\n",
      "PROGRESS: +--------------+---------+-------------+--------------+\n",
      "PROGRESS: | 0            | 1       | 0.00313853  | 2.674ms      |\n",
      "PROGRESS: | Done         |         | 100         | 24.007ms     |\n",
      "PROGRESS: +--------------+---------+-------------+--------------+\n",
      "PROGRESS: Starting pairwise querying.\n",
      "PROGRESS: +--------------+---------+-------------+--------------+\n",
      "PROGRESS: | Query points | # Pairs | % Complete. | Elapsed Time |\n",
      "PROGRESS: +--------------+---------+-------------+--------------+\n",
      "PROGRESS: | 0            | 1       | 0.00313853  | 2.767ms      |\n",
      "PROGRESS: | Done         |         | 100         | 26.089ms     |\n",
      "PROGRESS: +--------------+---------+-------------+--------------+\n",
      "PROGRESS: Starting pairwise querying.\n",
      "PROGRESS: +--------------+---------+-------------+--------------+\n",
      "PROGRESS: | Query points | # Pairs | % Complete. | Elapsed Time |\n",
      "PROGRESS: +--------------+---------+-------------+--------------+\n",
      "PROGRESS: | 0            | 1       | 0.00313853  | 2.71ms       |\n",
      "PROGRESS: | Done         |         | 100         | 25.276ms     |\n",
      "PROGRESS: +--------------+---------+-------------+--------------+\n",
      "PROGRESS: Starting pairwise querying.\n",
      "PROGRESS: +--------------+---------+-------------+--------------+\n",
      "PROGRESS: | Query points | # Pairs | % Complete. | Elapsed Time |\n",
      "PROGRESS: +--------------+---------+-------------+--------------+\n",
      "PROGRESS: | 0            | 1       | 0.00313853  | 2.576ms      |\n",
      "PROGRESS: | Done         |         | 100         | 27.749ms     |\n",
      "PROGRESS: +--------------+---------+-------------+--------------+\n",
      "PROGRESS: Starting pairwise querying.\n",
      "PROGRESS: +--------------+---------+-------------+--------------+\n",
      "PROGRESS: | Query points | # Pairs | % Complete. | Elapsed Time |\n",
      "PROGRESS: +--------------+---------+-------------+--------------+\n",
      "PROGRESS: | 0            | 1       | 0.00313853  | 3.01ms       |\n",
      "PROGRESS: | Done         |         | 100         | 25.027ms     |\n",
      "PROGRESS: +--------------+---------+-------------+--------------+\n",
      "PROGRESS: Starting pairwise querying.\n",
      "PROGRESS: +--------------+---------+-------------+--------------+\n",
      "PROGRESS: | Query points | # Pairs | % Complete. | Elapsed Time |\n",
      "PROGRESS: +--------------+---------+-------------+--------------+\n",
      "PROGRESS: | 0            | 1       | 0.00313853  | 3.027ms      |\n",
      "PROGRESS: | Done         |         | 100         | 52.742ms     |\n",
      "PROGRESS: +--------------+---------+-------------+--------------+\n",
      "PROGRESS: Starting pairwise querying.\n",
      "PROGRESS: +--------------+---------+-------------+--------------+\n",
      "PROGRESS: | Query points | # Pairs | % Complete. | Elapsed Time |\n",
      "PROGRESS: +--------------+---------+-------------+--------------+\n",
      "PROGRESS: | 0            | 1       | 0.00313853  | 2.582ms      |\n",
      "PROGRESS: | Done         |         | 100         | 26.958ms     |\n",
      "PROGRESS: +--------------+---------+-------------+--------------+\n",
      "PROGRESS: Starting pairwise querying.\n",
      "PROGRESS: +--------------+---------+-------------+--------------+\n",
      "PROGRESS: | Query points | # Pairs | % Complete. | Elapsed Time |\n",
      "PROGRESS: +--------------+---------+-------------+--------------+\n",
      "PROGRESS: | 0            | 1       | 0.00313853  | 4.552ms      |\n",
      "PROGRESS: | Done         |         | 100         | 26.929ms     |\n",
      "PROGRESS: +--------------+---------+-------------+--------------+\n",
      "PROGRESS: Starting pairwise querying.\n",
      "PROGRESS: +--------------+---------+-------------+--------------+\n",
      "PROGRESS: | Query points | # Pairs | % Complete. | Elapsed Time |\n",
      "PROGRESS: +--------------+---------+-------------+--------------+\n",
      "PROGRESS: | 0            | 1       | 0.00313853  | 2.495ms      |\n",
      "PROGRESS: | Done         |         | 100         | 23.672ms     |\n",
      "PROGRESS: +--------------+---------+-------------+--------------+\n",
      "PROGRESS: Starting pairwise querying.\n",
      "PROGRESS: +--------------+---------+-------------+--------------+\n",
      "PROGRESS: | Query points | # Pairs | % Complete. | Elapsed Time |\n",
      "PROGRESS: +--------------+---------+-------------+--------------+\n",
      "PROGRESS: | 0            | 1       | 0.00313853  | 2.682ms      |\n",
      "PROGRESS: | Done         |         | 100         | 26.116ms     |\n",
      "PROGRESS: +--------------+---------+-------------+--------------+\n",
      "PROGRESS: Starting pairwise querying.\n",
      "PROGRESS: +--------------+---------+-------------+--------------+\n",
      "PROGRESS: | Query points | # Pairs | % Complete. | Elapsed Time |\n",
      "PROGRESS: +--------------+---------+-------------+--------------+\n",
      "PROGRESS: | 0            | 1       | 0.00313853  | 2.812ms      |\n",
      "PROGRESS: | Done         |         | 100         | 25.701ms     |\n",
      "PROGRESS: +--------------+---------+-------------+--------------+\n",
      "PROGRESS: Starting pairwise querying.\n",
      "PROGRESS: +--------------+---------+-------------+--------------+\n",
      "PROGRESS: | Query points | # Pairs | % Complete. | Elapsed Time |\n",
      "PROGRESS: +--------------+---------+-------------+--------------+\n",
      "PROGRESS: | 0            | 1       | 0.00313853  | 2.668ms      |\n",
      "PROGRESS: | Done         |         | 100         | 24.039ms     |\n",
      "PROGRESS: +--------------+---------+-------------+--------------+\n",
      "PROGRESS: Starting pairwise querying.\n",
      "PROGRESS: +--------------+---------+-------------+--------------+\n",
      "PROGRESS: | Query points | # Pairs | % Complete. | Elapsed Time |\n",
      "PROGRESS: +--------------+---------+-------------+--------------+\n",
      "PROGRESS: | 0            | 1       | 0.00313853  | 2.747ms      |\n",
      "PROGRESS: | Done         |         | 100         | 26.942ms     |\n",
      "PROGRESS: +--------------+---------+-------------+--------------+\n",
      "PROGRESS: Starting pairwise querying.\n",
      "PROGRESS: +--------------+---------+-------------+--------------+\n",
      "PROGRESS: | Query points | # Pairs | % Complete. | Elapsed Time |\n",
      "PROGRESS: +--------------+---------+-------------+--------------+\n",
      "PROGRESS: | 0            | 1       | 0.00313853  | 11.561ms     |\n",
      "PROGRESS: | Done         |         | 100         | 57.188ms     |\n",
      "PROGRESS: +--------------+---------+-------------+--------------+\n",
      "PROGRESS: Starting pairwise querying.\n",
      "PROGRESS: +--------------+---------+-------------+--------------+\n",
      "PROGRESS: | Query points | # Pairs | % Complete. | Elapsed Time |\n",
      "PROGRESS: +--------------+---------+-------------+--------------+\n",
      "PROGRESS: | 0            | 1       | 0.00313853  | 2.832ms      |\n",
      "PROGRESS: | Done         |         | 100         | 24.29ms      |\n",
      "PROGRESS: +--------------+---------+-------------+--------------+\n",
      "PROGRESS: Starting pairwise querying.\n",
      "PROGRESS: +--------------+---------+-------------+--------------+\n",
      "PROGRESS: | Query points | # Pairs | % Complete. | Elapsed Time |\n",
      "PROGRESS: +--------------+---------+-------------+--------------+\n",
      "PROGRESS: | 0            | 1       | 0.00313853  | 2.606ms      |\n",
      "PROGRESS: | Done         |         | 100         | 24.181ms     |\n",
      "PROGRESS: +--------------+---------+-------------+--------------+\n",
      "PROGRESS: Starting pairwise querying.\n",
      "PROGRESS: +--------------+---------+-------------+--------------+\n",
      "PROGRESS: | Query points | # Pairs | % Complete. | Elapsed Time |\n",
      "PROGRESS: +--------------+---------+-------------+--------------+\n",
      "PROGRESS: | 0            | 1       | 0.00313853  | 2.562ms      |\n",
      "PROGRESS: | Done         |         | 100         | 24.513ms     |\n",
      "PROGRESS: +--------------+---------+-------------+--------------+\n"
     ]
    }
   ],
   "source": [
    "Similar_Qid_List = {}\n",
    "for i in range( len(selected) ) :\n",
    "    key = 'Q' + str(i) + '_Similar_List'\n",
    "    Q_i = selected[i:i+1]\n",
    "    value = knn_model.query(Q_i, k=5)['reference_label']\n",
    "    Similar_Qid_List[key] = value"
   ]
  },
  {
   "cell_type": "code",
   "execution_count": 22,
   "metadata": {
    "collapsed": false
   },
   "outputs": [],
   "source": [
    "# Similar_Qid_List"
   ]
  },
  {
   "cell_type": "code",
   "execution_count": 23,
   "metadata": {
    "collapsed": true
   },
   "outputs": [],
   "source": [
    "def Get_Index_QuestionID(qid) :\n",
    "    return Total_Test[ Total_Test['question_id'] == qid].index.values"
   ]
  },
  {
   "cell_type": "code",
   "execution_count": 24,
   "metadata": {
    "collapsed": false
   },
   "outputs": [],
   "source": [
    "# print Get_Index_QuestionID( 1006907 )"
   ]
  },
  {
   "cell_type": "code",
   "execution_count": 25,
   "metadata": {
    "collapsed": true
   },
   "outputs": [],
   "source": [
    "def Get_IndexList(Q_List) :\n",
    "    IndexList = []\n",
    "    for qid in Q_List:\n",
    "        indexes = Get_Index_QuestionID( qid )\n",
    "        if len(indexes) == 0:\n",
    "            indexes = Get_Index_QuestionID( qid )\n",
    "        # print qid, indexes\n",
    "        for index in indexes:\n",
    "            IndexList.append(index)\n",
    "            # print len( IndexList )\n",
    "    return IndexList"
   ]
  },
  {
   "cell_type": "code",
   "execution_count": 26,
   "metadata": {
    "collapsed": false
   },
   "outputs": [],
   "source": [
    "# Similar_Qid_List"
   ]
  },
  {
   "cell_type": "code",
   "execution_count": 27,
   "metadata": {
    "collapsed": false
   },
   "outputs": [],
   "source": [
    "# From Similar Qid List Found Similar Index \n",
    "Similar_Index_List = {}\n",
    "for i in range( len(Similar_Qid_List) ) :\n",
    "    key = 'Q' + str(i) + '_Similar_List'\n",
    "    # value is a list of similar qid\n",
    "    Qid_List = Similar_Qid_List[key]\n",
    "    Index_List = Get_IndexList(Qid_List)\n",
    "    Similar_Index_List[key]  = Index_List    "
   ]
  },
  {
   "cell_type": "code",
   "execution_count": 31,
   "metadata": {
    "collapsed": false
   },
   "outputs": [],
   "source": [
    "# Similar_Index_List\n",
    "# len( Similar_Index_List )  # 50"
   ]
  },
  {
   "cell_type": "code",
   "execution_count": 32,
   "metadata": {
    "collapsed": false
   },
   "outputs": [],
   "source": [
    "# import json\n",
    "# import pickle\n",
    "\n",
    "def writeDict(dict, filename, sep):\n",
    "    with open(filename, \"w\") as f:\n",
    "#        for key in dict.keys():            \n",
    "#            f.write(str(key) + \":\" + str(dict[key]) + \"\\n\")\n",
    "        for key, value in sorted( dict.items() ):\n",
    "            f.write( str(key) + sep + ','.join(str(x) for x in value) + '\\n' )"
   ]
  },
  {
   "cell_type": "code",
   "execution_count": 33,
   "metadata": {
    "collapsed": true
   },
   "outputs": [],
   "source": [
    "def readDict(filename, sep):\n",
    "    with open(filename, \"r\") as f:\n",
    "        dict = {}\n",
    "        for line in f:\n",
    "            values = line.split(sep)\n",
    "            key = values[0]\n",
    "            value = values[1].split(',')\n",
    "            #dict[values[0]] = {int(x) for x in values[1:len(values)]}\n",
    "            dict[key] = value\n",
    "        return(dict)"
   ]
  },
  {
   "cell_type": "code",
   "execution_count": 34,
   "metadata": {
    "collapsed": true
   },
   "outputs": [],
   "source": [
    "writeDict(Similar_Qid_List, './Similar_Qid_List.txt', ':')\n",
    "writeDict(Similar_Index_List, './Similar_Index_List.txt', ':')"
   ]
  },
  {
   "cell_type": "code",
   "execution_count": 35,
   "metadata": {
    "collapsed": false
   },
   "outputs": [],
   "source": [
    "test = readDict('./Similar_Qid_List.txt', ':')"
   ]
  },
  {
   "cell_type": "code",
   "execution_count": 36,
   "metadata": {
    "collapsed": false
   },
   "outputs": [
    {
     "data": {
      "text/plain": [
       "True"
      ]
     },
     "execution_count": 36,
     "metadata": {},
     "output_type": "execute_result"
    }
   ],
   "source": [
    "test == Similar_Qid_List"
   ]
  },
  {
   "cell_type": "code",
   "execution_count": null,
   "metadata": {
    "collapsed": true
   },
   "outputs": [],
   "source": []
  }
 ],
 "metadata": {
  "kernelspec": {
   "display_name": "Python 2",
   "language": "python",
   "name": "python2"
  },
  "language_info": {
   "codemirror_mode": {
    "name": "ipython",
    "version": 2
   },
   "file_extension": ".py",
   "mimetype": "text/x-python",
   "name": "python",
   "nbconvert_exporter": "python",
   "pygments_lexer": "ipython2",
   "version": "2.7.11"
  }
 },
 "nbformat": 4,
 "nbformat_minor": 0
}
