{
 "cells": [
  {
   "cell_type": "code",
   "execution_count": 1,
   "metadata": {
    "collapsed": false
   },
   "outputs": [
    {
     "name": "stderr",
     "output_type": "stream",
     "text": [
      "A newer version of GraphLab Create (v1.8.5) is available! Your current version is v1.7.1.\n",
      "\n",
      "You can use pip to upgrade the graphlab-create package. For more information see https://dato.com/products/create/upgrade.\n"
     ]
    }
   ],
   "source": [
    "import graphlab\n",
    "import numpy as np\n",
    "import pandas as pd\n",
    "import matplotlib "
   ]
  },
  {
   "cell_type": "code",
   "execution_count": 2,
   "metadata": {
    "collapsed": false
   },
   "outputs": [
    {
     "name": "stderr",
     "output_type": "stream",
     "text": [
      "/home/zpgao/anaconda2/lib/python2.7/site-packages/IPython/core/interactiveshell.py:2902: DtypeWarning: Columns (1,2,3,4,13) have mixed types. Specify dtype option on import or set low_memory=False.\n",
      "  interactivity=interactivity, compiler=compiler, result=result)\n"
     ]
    }
   ],
   "source": [
    "# Drop the duplicates \n",
    "Total_Test = pd.read_csv(\"../Total_Test.csv\")\n",
    "Total_Test = Total_Test.drop_duplicates()\n",
    "Total_Test['question_id'] = Total_Test['question_id'].astype(str)\n",
    "Total_Test.to_csv('../Total_Test.csv', encoding='utf-8', index = False)"
   ]
  },
  {
   "cell_type": "code",
   "execution_count": 3,
   "metadata": {
    "collapsed": true
   },
   "outputs": [],
   "source": [
    "Total_Test = pd.read_csv(\"../Total_Test.csv\")"
   ]
  },
  {
   "cell_type": "code",
   "execution_count": 4,
   "metadata": {
    "collapsed": true
   },
   "outputs": [],
   "source": [
    "def Format_Voted():\n",
    "    answer_voted = Total_Test[['question_id','question_content','question_tags','answer_voted' ]]\n",
    "    answer_voted.to_csv('./Answer_Voted.csv', encoding='utf-8', index = False)\n",
    "    \n",
    "    voted = graphlab.SFrame.read_csv('./Answer_Voted.csv')\n",
    "    been_voted =  voted[ voted['answer_voted'] > 0 ] \n",
    "    un_voted = voted[ voted['answer_voted'] == 0 ]\n",
    "    \n",
    "    # been_voted = been_voted.remove_column('answer_voted') # 18134\n",
    "    # un_voted = un_voted.remove_column('answer_voted')  # 18123\n",
    "    \n",
    "    # No drop duplicates save as 'been_voted.csv' & 'un_voted.csv' \n",
    "    been_voted.save('./been_voted.csv', format='csv')\n",
    "    un_voted.save('./un_voted.csv', format='csv')\n",
    "    \n",
    "    # Dorp duplicates save as 'Been_Voted.csv' & 'Un_Voted.csv'\n",
    "    Been_Voted = pd.read_csv('./been_voted.csv')\n",
    "    Un_Voted = pd.read_csv('./un_voted.csv')\n",
    "    \n",
    "    Been_Voted = Been_Voted.drop('answer_voted', 1)\n",
    "    Un_Voted = Un_Voted.drop('answer_voted', 1)\n",
    "    Been_Voted = Been_Voted.drop_duplicates()\n",
    "    Un_Voted = Un_Voted.drop_duplicates()\n",
    "    Been_Voted.to_csv('./Been_voted.csv', encoding='utf-8', index = False )\n",
    "    Un_Voted.to_csv('./Un_voted.csv', encoding='utf-8', index = False )"
   ]
  },
  {
   "cell_type": "code",
   "execution_count": 5,
   "metadata": {
    "collapsed": false
   },
   "outputs": [
    {
     "name": "stderr",
     "output_type": "stream",
     "text": [
      "[INFO] \u001b[1;32m1460455135 : INFO:     (initialize_globals_from_environment:282): Setting configuration variable GRAPHLAB_FILEIO_ALTERNATIVE_SSL_CERT_FILE to /home/zpgao/anaconda2/lib/python2.7/site-packages/certifi/cacert.pem\n",
      "\u001b[0m\u001b[1;32m1460455135 : INFO:     (initialize_globals_from_environment:282): Setting configuration variable GRAPHLAB_FILEIO_ALTERNATIVE_SSL_CERT_DIR to \n",
      "\u001b[0mThis non-commercial license of GraphLab Create is assigned to beyond_acm@163.com and will expire on January 04, 2017. For commercial licensing options, visit https://dato.com/buy/.\n",
      "\n",
      "[INFO] Start server at: ipc:///tmp/graphlab_server-5242 - Server binary: /home/zpgao/anaconda2/lib/python2.7/site-packages/graphlab/unity_server - Server log: /tmp/graphlab_server_1460455135.log\n",
      "[INFO] GraphLab Server Version: 1.7.1\n"
     ]
    },
    {
     "name": "stdout",
     "output_type": "stream",
     "text": [
      "PROGRESS: Finished parsing file /home/zpgao/ML/Best_Answer/SVM_RANK/SIMILAR/Answer_Voted.csv\n",
      "PROGRESS: Parsing completed. Parsed 100 lines in 0.157899 secs.\n",
      "------------------------------------------------------\n",
      "Inferred types from first line of file as \n",
      "column_type_hints=[int,str,str,int]\n",
      "If parsing fails due to incorrect types, you can correct\n",
      "the inferred type list above and pass it to read_csv in\n",
      "the column_type_hints argument\n",
      "------------------------------------------------------\n",
      "PROGRESS: Unable to parse line \"question_id,question_content,question_tags,answer_voted\"\n",
      "PROGRESS: 1 lines failed to parse correctly\n",
      "PROGRESS: Finished parsing file /home/zpgao/ML/Best_Answer/SVM_RANK/SIMILAR/Answer_Voted.csv\n",
      "PROGRESS: Parsing completed. Parsed 39568 lines in 0.087875 secs.\n"
     ]
    }
   ],
   "source": [
    "Format_Voted()"
   ]
  },
  {
   "cell_type": "code",
   "execution_count": 6,
   "metadata": {
    "collapsed": false
   },
   "outputs": [],
   "source": [
    "# Total_Test"
   ]
  },
  {
   "cell_type": "code",
   "execution_count": 7,
   "metadata": {
    "collapsed": false
   },
   "outputs": [],
   "source": [
    "question_content = Total_Test[['question_id','question_content','question_tags']]\n",
    "question_content = question_content.drop_duplicates()\n",
    "question_content.to_csv('../Question_Content.csv', encoding='utf-8', index = False)"
   ]
  },
  {
   "cell_type": "code",
   "execution_count": 8,
   "metadata": {
    "collapsed": false
   },
   "outputs": [
    {
     "name": "stdout",
     "output_type": "stream",
     "text": [
      "PROGRESS: Finished parsing file /home/zpgao/ML/Best_Answer/SVM_RANK/Question_Content.csv\n",
      "PROGRESS: Parsing completed. Parsed 100 lines in 0.195528 secs.\n",
      "------------------------------------------------------\n",
      "Inferred types from first line of file as \n",
      "column_type_hints=[int,str,str]\n",
      "If parsing fails due to incorrect types, you can correct\n",
      "the inferred type list above and pass it to read_csv in\n",
      "the column_type_hints argument\n",
      "------------------------------------------------------\n",
      "PROGRESS: Unable to parse line \"question_id,question_content,question_tags\"\n",
      "PROGRESS: 1 lines failed to parse correctly\n",
      "PROGRESS: Finished parsing file /home/zpgao/ML/Best_Answer/SVM_RANK/Question_Content.csv\n",
      "PROGRESS: Parsing completed. Parsed 31012 lines in 0.070604 secs.\n"
     ]
    }
   ],
   "source": [
    "question_content = graphlab.SFrame.read_csv('../Question_Content.csv')"
   ]
  },
  {
   "cell_type": "code",
   "execution_count": 9,
   "metadata": {
    "collapsed": false
   },
   "outputs": [],
   "source": [
    "# question_content   # 31012 x 3"
   ]
  },
  {
   "cell_type": "code",
   "execution_count": 10,
   "metadata": {
    "collapsed": false
   },
   "outputs": [],
   "source": [
    "# question_content"
   ]
  },
  {
   "cell_type": "code",
   "execution_count": 11,
   "metadata": {
    "collapsed": false
   },
   "outputs": [],
   "source": [
    "# best_answer[0]\n",
    "# question_content = question_content.remove_column('answer_voted')\n",
    "question_content['text'] = question_content['question_tags'] + question_content['question_content']\n",
    "question_content['word_count'] = graphlab.text_analytics.count_words(question_content['text'])"
   ]
  },
  {
   "cell_type": "code",
   "execution_count": 12,
   "metadata": {
    "collapsed": false
   },
   "outputs": [],
   "source": [
    "# len( question_content )     # 36257\n",
    "# question_content.unique()"
   ]
  },
  {
   "cell_type": "code",
   "execution_count": 13,
   "metadata": {
    "collapsed": false
   },
   "outputs": [],
   "source": [
    "tfidf = graphlab.text_analytics.tf_idf(question_content['word_count'])"
   ]
  },
  {
   "cell_type": "code",
   "execution_count": 14,
   "metadata": {
    "collapsed": false
   },
   "outputs": [],
   "source": [
    "# tfidf"
   ]
  },
  {
   "cell_type": "code",
   "execution_count": 15,
   "metadata": {
    "collapsed": true
   },
   "outputs": [],
   "source": [
    "question_content['tfidf'] = tfidf"
   ]
  },
  {
   "cell_type": "code",
   "execution_count": 16,
   "metadata": {
    "collapsed": false
   },
   "outputs": [],
   "source": [
    "# question_content  # 31012 x 6"
   ]
  },
  {
   "cell_type": "code",
   "execution_count": 17,
   "metadata": {
    "collapsed": false
   },
   "outputs": [
    {
     "name": "stdout",
     "output_type": "stream",
     "text": [
      "PROGRESS: Finished parsing file /home/zpgao/ML/Best_Answer/SVM_RANK/SIMILAR/Been_voted.csv\n",
      "PROGRESS: Parsing completed. Parsed 100 lines in 0.144733 secs.\n",
      "------------------------------------------------------\n",
      "Inferred types from first line of file as \n",
      "column_type_hints=[int,str,str]\n",
      "If parsing fails due to incorrect types, you can correct\n",
      "the inferred type list above and pass it to read_csv in\n",
      "the column_type_hints argument\n",
      "------------------------------------------------------\n",
      "PROGRESS: Finished parsing file /home/zpgao/ML/Best_Answer/SVM_RANK/SIMILAR/Been_voted.csv\n",
      "PROGRESS: Parsing completed. Parsed 16358 lines in 0.040058 secs.\n",
      "PROGRESS: Finished parsing file /home/zpgao/ML/Best_Answer/SVM_RANK/SIMILAR/Un_voted.csv\n",
      "PROGRESS: Parsing completed. Parsed 100 lines in 0.071741 secs.\n",
      "------------------------------------------------------\n",
      "Inferred types from first line of file as \n",
      "column_type_hints=[int,str,str]\n",
      "If parsing fails due to incorrect types, you can correct\n",
      "the inferred type list above and pass it to read_csv in\n",
      "the column_type_hints argument\n",
      "------------------------------------------------------\n",
      "PROGRESS: Finished parsing file /home/zpgao/ML/Best_Answer/SVM_RANK/SIMILAR/Un_voted.csv\n",
      "PROGRESS: Parsing completed. Parsed 18063 lines in 0.078523 secs.\n"
     ]
    }
   ],
   "source": [
    "been_voted = graphlab.SFrame.read_csv('./Been_voted.csv')\n",
    "un_voted = graphlab.SFrame.read_csv('./Un_voted.csv')"
   ]
  },
  {
   "cell_type": "code",
   "execution_count": 18,
   "metadata": {
    "collapsed": false
   },
   "outputs": [],
   "source": [
    "# len(been_voted)\n",
    "# been_voted"
   ]
  },
  {
   "cell_type": "code",
   "execution_count": 19,
   "metadata": {
    "collapsed": false
   },
   "outputs": [],
   "source": [
    "# sid = been_voted[100]['question_id']\n",
    "# question_content[ question_content['question_id'] == sid ]"
   ]
  },
  {
   "cell_type": "code",
   "execution_count": 20,
   "metadata": {
    "collapsed": false
   },
   "outputs": [],
   "source": [
    "def Select_Question( num_question ):\n",
    "    # selected_question = been_voted[6:7]\n",
    "    selected_question = question_content[6:7]\n",
    "    for i in range(num_question) :\n",
    "        # selected_question = selected_question.append(been_voted[i*100:i*100+1])\n",
    "        selected_qid = been_voted[i*100]['question_id']\n",
    "        selected_content = question_content[ question_content['question_id'] == selected_qid ]\n",
    "        selected_question = selected_question.append(selected_content)\n",
    "    return selected_question"
   ]
  },
  {
   "cell_type": "code",
   "execution_count": 21,
   "metadata": {
    "collapsed": false
   },
   "outputs": [],
   "source": [
    "# been_voted[6:7].append(been_voted[0:1])\n",
    "# selected_question = been_voted[6:7]\n",
    "# selected_question.append(been_voted[0:1])\n",
    "# Random Select 50 voted Question\n",
    "selected = Select_Question(49)"
   ]
  },
  {
   "cell_type": "code",
   "execution_count": 22,
   "metadata": {
    "collapsed": false,
    "scrolled": true
   },
   "outputs": [],
   "source": [
    "# len( selected )\n",
    "# selected"
   ]
  },
  {
   "cell_type": "code",
   "execution_count": 23,
   "metadata": {
    "collapsed": false
   },
   "outputs": [
    {
     "name": "stdout",
     "output_type": "stream",
     "text": [
      "PROGRESS: Starting brute force nearest neighbors model training.\n"
     ]
    }
   ],
   "source": [
    "knn_model = graphlab.nearest_neighbors.create(question_content, features=['tfidf'], label='question_id')"
   ]
  },
  {
   "cell_type": "code",
   "execution_count": 24,
   "metadata": {
    "collapsed": true
   },
   "outputs": [
    {
     "name": "stdout",
     "output_type": "stream",
     "text": [
      "PROGRESS: Starting pairwise querying.\n",
      "PROGRESS: +--------------+---------+-------------+--------------+\n",
      "PROGRESS: | Query points | # Pairs | % Complete. | Elapsed Time |\n",
      "PROGRESS: +--------------+---------+-------------+--------------+\n",
      "PROGRESS: | 0            | 1       | 0.00322456  | 3.473ms      |\n",
      "PROGRESS: | Done         |         | 100         | 30.118ms     |\n",
      "PROGRESS: +--------------+---------+-------------+--------------+\n",
      "PROGRESS: Starting pairwise querying.\n",
      "PROGRESS: +--------------+---------+-------------+--------------+\n",
      "PROGRESS: | Query points | # Pairs | % Complete. | Elapsed Time |\n",
      "PROGRESS: +--------------+---------+-------------+--------------+\n",
      "PROGRESS: | 0            | 1       | 0.00322456  | 3.167ms      |\n",
      "PROGRESS: | Done         |         | 100         | 36.381ms     |\n",
      "PROGRESS: +--------------+---------+-------------+--------------+\n",
      "PROGRESS: Starting pairwise querying.\n",
      "PROGRESS: +--------------+---------+-------------+--------------+\n",
      "PROGRESS: | Query points | # Pairs | % Complete. | Elapsed Time |\n",
      "PROGRESS: +--------------+---------+-------------+--------------+\n",
      "PROGRESS: | 0            | 1       | 0.00322456  | 7.081ms      |\n",
      "PROGRESS: | Done         |         | 100         | 34.983ms     |\n",
      "PROGRESS: +--------------+---------+-------------+--------------+\n",
      "PROGRESS: Starting pairwise querying.\n",
      "PROGRESS: +--------------+---------+-------------+--------------+\n",
      "PROGRESS: | Query points | # Pairs | % Complete. | Elapsed Time |\n",
      "PROGRESS: +--------------+---------+-------------+--------------+\n",
      "PROGRESS: | 0            | 1       | 0.00322456  | 3.388ms      |\n",
      "PROGRESS: | Done         |         | 100         | 30.647ms     |\n",
      "PROGRESS: +--------------+---------+-------------+--------------+\n",
      "PROGRESS: Starting pairwise querying.\n",
      "PROGRESS: +--------------+---------+-------------+--------------+\n",
      "PROGRESS: | Query points | # Pairs | % Complete. | Elapsed Time |\n",
      "PROGRESS: +--------------+---------+-------------+--------------+\n",
      "PROGRESS: | 0            | 1       | 0.00322456  | 3.281ms      |\n",
      "PROGRESS: | Done         |         | 100         | 31.688ms     |\n",
      "PROGRESS: +--------------+---------+-------------+--------------+\n",
      "PROGRESS: Starting pairwise querying.\n",
      "PROGRESS: +--------------+---------+-------------+--------------+\n",
      "PROGRESS: | Query points | # Pairs | % Complete. | Elapsed Time |\n",
      "PROGRESS: +--------------+---------+-------------+--------------+\n",
      "PROGRESS: | 0            | 1       | 0.00322456  | 3.722ms      |\n",
      "PROGRESS: | Done         |         | 100         | 32.448ms     |\n",
      "PROGRESS: +--------------+---------+-------------+--------------+\n",
      "PROGRESS: Starting pairwise querying.\n",
      "PROGRESS: +--------------+---------+-------------+--------------+\n",
      "PROGRESS: | Query points | # Pairs | % Complete. | Elapsed Time |\n",
      "PROGRESS: +--------------+---------+-------------+--------------+\n",
      "PROGRESS: | 0            | 1       | 0.00322456  | 3.336ms      |\n",
      "PROGRESS: | Done         |         | 100         | 32.41ms      |\n",
      "PROGRESS: +--------------+---------+-------------+--------------+\n",
      "PROGRESS: Starting pairwise querying.\n",
      "PROGRESS: +--------------+---------+-------------+--------------+\n",
      "PROGRESS: | Query points | # Pairs | % Complete. | Elapsed Time |\n",
      "PROGRESS: +--------------+---------+-------------+--------------+\n",
      "PROGRESS: | 0            | 1       | 0.00322456  | 3.616ms      |\n",
      "PROGRESS: | Done         |         | 100         | 32.487ms     |\n",
      "PROGRESS: +--------------+---------+-------------+--------------+\n",
      "PROGRESS: Starting pairwise querying.\n",
      "PROGRESS: +--------------+---------+-------------+--------------+\n",
      "PROGRESS: | Query points | # Pairs | % Complete. | Elapsed Time |\n",
      "PROGRESS: +--------------+---------+-------------+--------------+\n",
      "PROGRESS: | 0            | 1       | 0.00322456  | 3.449ms      |\n",
      "PROGRESS: | Done         |         | 100         | 32.359ms     |\n",
      "PROGRESS: +--------------+---------+-------------+--------------+\n",
      "PROGRESS: Starting pairwise querying.\n",
      "PROGRESS: +--------------+---------+-------------+--------------+\n",
      "PROGRESS: | Query points | # Pairs | % Complete. | Elapsed Time |\n",
      "PROGRESS: +--------------+---------+-------------+--------------+\n",
      "PROGRESS: | 0            | 1       | 0.00322456  | 3.161ms      |\n",
      "PROGRESS: | Done         |         | 100         | 31.852ms     |\n",
      "PROGRESS: +--------------+---------+-------------+--------------+\n",
      "PROGRESS: Starting pairwise querying.\n",
      "PROGRESS: +--------------+---------+-------------+--------------+\n",
      "PROGRESS: | Query points | # Pairs | % Complete. | Elapsed Time |\n",
      "PROGRESS: +--------------+---------+-------------+--------------+\n",
      "PROGRESS: | 0            | 1       | 0.00322456  | 3.258ms      |\n",
      "PROGRESS: | Done         |         | 100         | 45.697ms     |\n",
      "PROGRESS: +--------------+---------+-------------+--------------+\n",
      "PROGRESS: Starting pairwise querying.\n",
      "PROGRESS: +--------------+---------+-------------+--------------+\n",
      "PROGRESS: | Query points | # Pairs | % Complete. | Elapsed Time |\n",
      "PROGRESS: +--------------+---------+-------------+--------------+\n",
      "PROGRESS: | 0            | 1       | 0.00322456  | 6.847ms      |\n",
      "PROGRESS: | Done         |         | 100         | 37.072ms     |\n",
      "PROGRESS: +--------------+---------+-------------+--------------+\n",
      "PROGRESS: Starting pairwise querying.\n",
      "PROGRESS: +--------------+---------+-------------+--------------+\n",
      "PROGRESS: | Query points | # Pairs | % Complete. | Elapsed Time |\n",
      "PROGRESS: +--------------+---------+-------------+--------------+\n",
      "PROGRESS: | 0            | 1       | 0.00322456  | 3.284ms      |\n",
      "PROGRESS: | Done         |         | 100         | 33.523ms     |\n",
      "PROGRESS: +--------------+---------+-------------+--------------+\n",
      "PROGRESS: Starting pairwise querying.\n",
      "PROGRESS: +--------------+---------+-------------+--------------+\n",
      "PROGRESS: | Query points | # Pairs | % Complete. | Elapsed Time |\n",
      "PROGRESS: +--------------+---------+-------------+--------------+\n",
      "PROGRESS: | 0            | 1       | 0.00322456  | 3.416ms      |\n",
      "PROGRESS: | Done         |         | 100         | 34.195ms     |\n",
      "PROGRESS: +--------------+---------+-------------+--------------+\n",
      "PROGRESS: Starting pairwise querying.\n",
      "PROGRESS: +--------------+---------+-------------+--------------+\n",
      "PROGRESS: | Query points | # Pairs | % Complete. | Elapsed Time |\n",
      "PROGRESS: +--------------+---------+-------------+--------------+\n",
      "PROGRESS: | 0            | 1       | 0.00322456  | 3.252ms      |\n",
      "PROGRESS: | Done         |         | 100         | 31.126ms     |\n",
      "PROGRESS: +--------------+---------+-------------+--------------+\n",
      "PROGRESS: Starting pairwise querying.\n",
      "PROGRESS: +--------------+---------+-------------+--------------+\n",
      "PROGRESS: | Query points | # Pairs | % Complete. | Elapsed Time |\n",
      "PROGRESS: +--------------+---------+-------------+--------------+\n",
      "PROGRESS: | 0            | 1       | 0.00322456  | 3.531ms      |\n",
      "PROGRESS: | Done         |         | 100         | 32.53ms      |\n",
      "PROGRESS: +--------------+---------+-------------+--------------+\n",
      "PROGRESS: Starting pairwise querying.\n",
      "PROGRESS: +--------------+---------+-------------+--------------+\n",
      "PROGRESS: | Query points | # Pairs | % Complete. | Elapsed Time |\n",
      "PROGRESS: +--------------+---------+-------------+--------------+\n",
      "PROGRESS: | 0            | 1       | 0.00322456  | 3.664ms      |\n",
      "PROGRESS: | Done         |         | 100         | 32.911ms     |\n",
      "PROGRESS: +--------------+---------+-------------+--------------+\n",
      "PROGRESS: Starting pairwise querying.\n",
      "PROGRESS: +--------------+---------+-------------+--------------+\n",
      "PROGRESS: | Query points | # Pairs | % Complete. | Elapsed Time |\n",
      "PROGRESS: +--------------+---------+-------------+--------------+\n",
      "PROGRESS: | 0            | 1       | 0.00322456  | 3.163ms      |\n",
      "PROGRESS: | Done         |         | 100         | 33.412ms     |\n",
      "PROGRESS: +--------------+---------+-------------+--------------+\n",
      "PROGRESS: Starting pairwise querying.\n",
      "PROGRESS: +--------------+---------+-------------+--------------+\n",
      "PROGRESS: | Query points | # Pairs | % Complete. | Elapsed Time |\n",
      "PROGRESS: +--------------+---------+-------------+--------------+\n",
      "PROGRESS: | 0            | 1       | 0.00322456  | 3.682ms      |\n",
      "PROGRESS: | Done         |         | 100         | 32.308ms     |\n",
      "PROGRESS: +--------------+---------+-------------+--------------+\n",
      "PROGRESS: Starting pairwise querying.\n",
      "PROGRESS: +--------------+---------+-------------+--------------+\n",
      "PROGRESS: | Query points | # Pairs | % Complete. | Elapsed Time |\n",
      "PROGRESS: +--------------+---------+-------------+--------------+\n",
      "PROGRESS: | 0            | 1       | 0.00322456  | 3.885ms      |\n",
      "PROGRESS: | Done         |         | 100         | 33.194ms     |\n",
      "PROGRESS: +--------------+---------+-------------+--------------+\n",
      "PROGRESS: Starting pairwise querying.\n",
      "PROGRESS: +--------------+---------+-------------+--------------+\n",
      "PROGRESS: | Query points | # Pairs | % Complete. | Elapsed Time |\n",
      "PROGRESS: +--------------+---------+-------------+--------------+\n",
      "PROGRESS: | 0            | 1       | 0.00322456  | 4.17ms       |\n",
      "PROGRESS: | Done         |         | 100         | 31.631ms     |\n",
      "PROGRESS: +--------------+---------+-------------+--------------+\n",
      "PROGRESS: Starting pairwise querying.\n",
      "PROGRESS: +--------------+---------+-------------+--------------+\n",
      "PROGRESS: | Query points | # Pairs | % Complete. | Elapsed Time |\n",
      "PROGRESS: +--------------+---------+-------------+--------------+\n",
      "PROGRESS: | 0            | 1       | 0.00322456  | 3.533ms      |\n",
      "PROGRESS: | Done         |         | 100         | 31.086ms     |\n",
      "PROGRESS: +--------------+---------+-------------+--------------+\n",
      "PROGRESS: Starting pairwise querying.\n",
      "PROGRESS: +--------------+---------+-------------+--------------+\n",
      "PROGRESS: | Query points | # Pairs | % Complete. | Elapsed Time |\n",
      "PROGRESS: +--------------+---------+-------------+--------------+\n",
      "PROGRESS: | 0            | 1       | 0.00322456  | 3.352ms      |\n",
      "PROGRESS: | Done         |         | 100         | 29.793ms     |\n",
      "PROGRESS: +--------------+---------+-------------+--------------+\n",
      "PROGRESS: Starting pairwise querying.\n",
      "PROGRESS: +--------------+---------+-------------+--------------+\n",
      "PROGRESS: | Query points | # Pairs | % Complete. | Elapsed Time |\n",
      "PROGRESS: +--------------+---------+-------------+--------------+\n",
      "PROGRESS: | 0            | 1       | 0.00322456  | 3.296ms      |\n",
      "PROGRESS: | Done         |         | 100         | 52.808ms     |\n",
      "PROGRESS: +--------------+---------+-------------+--------------+\n",
      "PROGRESS: Starting pairwise querying.\n",
      "PROGRESS: +--------------+---------+-------------+--------------+\n",
      "PROGRESS: | Query points | # Pairs | % Complete. | Elapsed Time |\n",
      "PROGRESS: +--------------+---------+-------------+--------------+\n",
      "PROGRESS: | 0            | 1       | 0.00322456  | 4.223ms      |\n",
      "PROGRESS: | Done         |         | 100         | 35.331ms     |\n",
      "PROGRESS: +--------------+---------+-------------+--------------+\n",
      "PROGRESS: Starting pairwise querying.\n",
      "PROGRESS: +--------------+---------+-------------+--------------+\n",
      "PROGRESS: | Query points | # Pairs | % Complete. | Elapsed Time |\n",
      "PROGRESS: +--------------+---------+-------------+--------------+\n",
      "PROGRESS: | 0            | 1       | 0.00322456  | 3.491ms      |\n",
      "PROGRESS: | Done         |         | 100         | 34.772ms     |\n",
      "PROGRESS: +--------------+---------+-------------+--------------+\n",
      "PROGRESS: Starting pairwise querying.\n",
      "PROGRESS: +--------------+---------+-------------+--------------+\n",
      "PROGRESS: | Query points | # Pairs | % Complete. | Elapsed Time |\n",
      "PROGRESS: +--------------+---------+-------------+--------------+\n",
      "PROGRESS: | 0            | 1       | 0.00322456  | 3.391ms      |\n",
      "PROGRESS: | Done         |         | 100         | 34.47ms      |\n",
      "PROGRESS: +--------------+---------+-------------+--------------+\n",
      "PROGRESS: Starting pairwise querying.\n",
      "PROGRESS: +--------------+---------+-------------+--------------+\n",
      "PROGRESS: | Query points | # Pairs | % Complete. | Elapsed Time |\n",
      "PROGRESS: +--------------+---------+-------------+--------------+\n",
      "PROGRESS: | 0            | 1       | 0.00322456  | 3.273ms      |\n",
      "PROGRESS: | Done         |         | 100         | 31.162ms     |\n",
      "PROGRESS: +--------------+---------+-------------+--------------+\n",
      "PROGRESS: Starting pairwise querying.\n",
      "PROGRESS: +--------------+---------+-------------+--------------+\n",
      "PROGRESS: | Query points | # Pairs | % Complete. | Elapsed Time |\n",
      "PROGRESS: +--------------+---------+-------------+--------------+\n",
      "PROGRESS: | 0            | 1       | 0.00322456  | 4.069ms      |\n",
      "PROGRESS: | Done         |         | 100         | 33.952ms     |\n",
      "PROGRESS: +--------------+---------+-------------+--------------+\n",
      "PROGRESS: Starting pairwise querying.\n",
      "PROGRESS: +--------------+---------+-------------+--------------+\n",
      "PROGRESS: | Query points | # Pairs | % Complete. | Elapsed Time |\n",
      "PROGRESS: +--------------+---------+-------------+--------------+\n",
      "PROGRESS: | 0            | 1       | 0.00322456  | 3.325ms      |\n",
      "PROGRESS: | Done         |         | 100         | 34.679ms     |\n",
      "PROGRESS: +--------------+---------+-------------+--------------+\n",
      "PROGRESS: Starting pairwise querying.\n",
      "PROGRESS: +--------------+---------+-------------+--------------+\n",
      "PROGRESS: | Query points | # Pairs | % Complete. | Elapsed Time |\n",
      "PROGRESS: +--------------+---------+-------------+--------------+\n",
      "PROGRESS: | 0            | 1       | 0.00322456  | 3.572ms      |\n",
      "PROGRESS: | Done         |         | 100         | 35.578ms     |\n",
      "PROGRESS: +--------------+---------+-------------+--------------+\n",
      "PROGRESS: Starting pairwise querying.\n",
      "PROGRESS: +--------------+---------+-------------+--------------+\n",
      "PROGRESS: | Query points | # Pairs | % Complete. | Elapsed Time |\n",
      "PROGRESS: +--------------+---------+-------------+--------------+\n",
      "PROGRESS: | 0            | 1       | 0.00322456  | 3.373ms      |\n",
      "PROGRESS: | Done         |         | 100         | 31.697ms     |\n",
      "PROGRESS: +--------------+---------+-------------+--------------+\n",
      "PROGRESS: Starting pairwise querying.\n",
      "PROGRESS: +--------------+---------+-------------+--------------+\n",
      "PROGRESS: | Query points | # Pairs | % Complete. | Elapsed Time |\n",
      "PROGRESS: +--------------+---------+-------------+--------------+\n",
      "PROGRESS: | 0            | 1       | 0.00322456  | 3.281ms      |\n",
      "PROGRESS: | Done         |         | 100         | 33.131ms     |\n",
      "PROGRESS: +--------------+---------+-------------+--------------+\n",
      "PROGRESS: Starting pairwise querying.\n",
      "PROGRESS: +--------------+---------+-------------+--------------+\n",
      "PROGRESS: | Query points | # Pairs | % Complete. | Elapsed Time |\n",
      "PROGRESS: +--------------+---------+-------------+--------------+\n",
      "PROGRESS: | 0            | 1       | 0.00322456  | 3.768ms      |\n",
      "PROGRESS: | Done         |         | 100         | 34.598ms     |\n",
      "PROGRESS: +--------------+---------+-------------+--------------+\n",
      "PROGRESS: Starting pairwise querying.\n",
      "PROGRESS: +--------------+---------+-------------+--------------+\n",
      "PROGRESS: | Query points | # Pairs | % Complete. | Elapsed Time |\n",
      "PROGRESS: +--------------+---------+-------------+--------------+\n",
      "PROGRESS: | 0            | 1       | 0.00322456  | 3.621ms      |\n",
      "PROGRESS: | Done         |         | 100         | 32.358ms     |\n",
      "PROGRESS: +--------------+---------+-------------+--------------+\n",
      "PROGRESS: Starting pairwise querying.\n",
      "PROGRESS: +--------------+---------+-------------+--------------+\n",
      "PROGRESS: | Query points | # Pairs | % Complete. | Elapsed Time |\n",
      "PROGRESS: +--------------+---------+-------------+--------------+\n",
      "PROGRESS: | 0            | 1       | 0.00322456  | 3.422ms      |\n",
      "PROGRESS: | Done         |         | 100         | 29.393ms     |\n",
      "PROGRESS: +--------------+---------+-------------+--------------+\n",
      "PROGRESS: Starting pairwise querying.\n",
      "PROGRESS: +--------------+---------+-------------+--------------+\n",
      "PROGRESS: | Query points | # Pairs | % Complete. | Elapsed Time |\n",
      "PROGRESS: +--------------+---------+-------------+--------------+\n",
      "PROGRESS: | 0            | 1       | 0.00322456  | 3.723ms      |\n",
      "PROGRESS: | Done         |         | 100         | 57.302ms     |\n",
      "PROGRESS: +--------------+---------+-------------+--------------+\n",
      "PROGRESS: Starting pairwise querying.\n",
      "PROGRESS: +--------------+---------+-------------+--------------+\n",
      "PROGRESS: | Query points | # Pairs | % Complete. | Elapsed Time |\n",
      "PROGRESS: +--------------+---------+-------------+--------------+\n",
      "PROGRESS: | 0            | 1       | 0.00322456  | 3.561ms      |\n",
      "PROGRESS: | Done         |         | 100         | 34.125ms     |\n",
      "PROGRESS: +--------------+---------+-------------+--------------+\n",
      "PROGRESS: Starting pairwise querying.\n",
      "PROGRESS: +--------------+---------+-------------+--------------+\n",
      "PROGRESS: | Query points | # Pairs | % Complete. | Elapsed Time |\n",
      "PROGRESS: +--------------+---------+-------------+--------------+\n",
      "PROGRESS: | 0            | 1       | 0.00322456  | 3.328ms      |\n",
      "PROGRESS: | Done         |         | 100         | 32.737ms     |\n",
      "PROGRESS: +--------------+---------+-------------+--------------+\n",
      "PROGRESS: Starting pairwise querying.\n",
      "PROGRESS: +--------------+---------+-------------+--------------+\n",
      "PROGRESS: | Query points | # Pairs | % Complete. | Elapsed Time |\n",
      "PROGRESS: +--------------+---------+-------------+--------------+\n",
      "PROGRESS: | 0            | 1       | 0.00322456  | 3.86ms       |\n",
      "PROGRESS: | Done         |         | 100         | 31.904ms     |\n",
      "PROGRESS: +--------------+---------+-------------+--------------+\n",
      "PROGRESS: Starting pairwise querying.\n",
      "PROGRESS: +--------------+---------+-------------+--------------+\n",
      "PROGRESS: | Query points | # Pairs | % Complete. | Elapsed Time |\n",
      "PROGRESS: +--------------+---------+-------------+--------------+\n",
      "PROGRESS: | 0            | 1       | 0.00322456  | 3.603ms      |\n",
      "PROGRESS: | Done         |         | 100         | 33.685ms     |\n",
      "PROGRESS: +--------------+---------+-------------+--------------+\n",
      "PROGRESS: Starting pairwise querying.\n",
      "PROGRESS: +--------------+---------+-------------+--------------+\n",
      "PROGRESS: | Query points | # Pairs | % Complete. | Elapsed Time |\n",
      "PROGRESS: +--------------+---------+-------------+--------------+\n",
      "PROGRESS: | 0            | 1       | 0.00322456  | 4.023ms      |\n",
      "PROGRESS: | Done         |         | 100         | 33.428ms     |\n",
      "PROGRESS: +--------------+---------+-------------+--------------+\n",
      "PROGRESS: Starting pairwise querying.\n",
      "PROGRESS: +--------------+---------+-------------+--------------+\n",
      "PROGRESS: | Query points | # Pairs | % Complete. | Elapsed Time |\n",
      "PROGRESS: +--------------+---------+-------------+--------------+\n",
      "PROGRESS: | 0            | 1       | 0.00322456  | 3.282ms      |\n",
      "PROGRESS: | Done         |         | 100         | 29.514ms     |\n",
      "PROGRESS: +--------------+---------+-------------+--------------+\n",
      "PROGRESS: Starting pairwise querying.\n",
      "PROGRESS: +--------------+---------+-------------+--------------+\n",
      "PROGRESS: | Query points | # Pairs | % Complete. | Elapsed Time |\n",
      "PROGRESS: +--------------+---------+-------------+--------------+\n",
      "PROGRESS: | 0            | 1       | 0.00322456  | 3.558ms      |\n",
      "PROGRESS: | Done         |         | 100         | 33.021ms     |\n",
      "PROGRESS: +--------------+---------+-------------+--------------+\n",
      "PROGRESS: Starting pairwise querying.\n",
      "PROGRESS: +--------------+---------+-------------+--------------+\n",
      "PROGRESS: | Query points | # Pairs | % Complete. | Elapsed Time |\n",
      "PROGRESS: +--------------+---------+-------------+--------------+\n",
      "PROGRESS: | 0            | 1       | 0.00322456  | 3.243ms      |\n",
      "PROGRESS: | Done         |         | 100         | 31.663ms     |\n",
      "PROGRESS: +--------------+---------+-------------+--------------+\n",
      "PROGRESS: Starting pairwise querying.\n",
      "PROGRESS: +--------------+---------+-------------+--------------+\n",
      "PROGRESS: | Query points | # Pairs | % Complete. | Elapsed Time |\n",
      "PROGRESS: +--------------+---------+-------------+--------------+\n",
      "PROGRESS: | 0            | 1       | 0.00322456  | 3.955ms      |\n",
      "PROGRESS: | Done         |         | 100         | 34.227ms     |\n",
      "PROGRESS: +--------------+---------+-------------+--------------+\n",
      "PROGRESS: Starting pairwise querying.\n",
      "PROGRESS: +--------------+---------+-------------+--------------+\n",
      "PROGRESS: | Query points | # Pairs | % Complete. | Elapsed Time |\n",
      "PROGRESS: +--------------+---------+-------------+--------------+\n",
      "PROGRESS: | 0            | 1       | 0.00322456  | 5.801ms      |\n",
      "PROGRESS: | Done         |         | 100         | 31.799ms     |\n",
      "PROGRESS: +--------------+---------+-------------+--------------+\n",
      "PROGRESS: Starting pairwise querying.\n",
      "PROGRESS: +--------------+---------+-------------+--------------+\n",
      "PROGRESS: | Query points | # Pairs | % Complete. | Elapsed Time |\n",
      "PROGRESS: +--------------+---------+-------------+--------------+\n",
      "PROGRESS: | 0            | 1       | 0.00322456  | 3.365ms      |\n",
      "PROGRESS: | Done         |         | 100         | 32.209ms     |\n",
      "PROGRESS: +--------------+---------+-------------+--------------+\n",
      "PROGRESS: Starting pairwise querying.\n",
      "PROGRESS: +--------------+---------+-------------+--------------+\n",
      "PROGRESS: | Query points | # Pairs | % Complete. | Elapsed Time |\n",
      "PROGRESS: +--------------+---------+-------------+--------------+\n",
      "PROGRESS: | 0            | 1       | 0.00322456  | 7.201ms      |\n",
      "PROGRESS: | Done         |         | 100         | 62.07ms      |\n",
      "PROGRESS: +--------------+---------+-------------+--------------+\n",
      "PROGRESS: Starting pairwise querying.\n",
      "PROGRESS: +--------------+---------+-------------+--------------+\n",
      "PROGRESS: | Query points | # Pairs | % Complete. | Elapsed Time |\n",
      "PROGRESS: +--------------+---------+-------------+--------------+\n",
      "PROGRESS: | 0            | 1       | 0.00322456  | 3.712ms      |\n",
      "PROGRESS: | Done         |         | 100         | 31.365ms     |\n",
      "PROGRESS: +--------------+---------+-------------+--------------+\n"
     ]
    }
   ],
   "source": [
    "Similar_Qid_List = {}\n",
    "for i in range( len(selected) ) :\n",
    "    key = 'Q' + str(i) + '_Similar_List'\n",
    "    Q_i = selected[i:i+1]\n",
    "    value = knn_model.query(Q_i, k=30)['reference_label']\n",
    "    Similar_Qid_List[key] = value"
   ]
  },
  {
   "cell_type": "code",
   "execution_count": 25,
   "metadata": {
    "collapsed": true
   },
   "outputs": [],
   "source": [
    "def Get_Index_QuestionID(qid) :\n",
    "    return Total_Test[ Total_Test['question_id'] == qid].index.values"
   ]
  },
  {
   "cell_type": "code",
   "execution_count": 26,
   "metadata": {
    "collapsed": true
   },
   "outputs": [],
   "source": [
    "def Get_IndexList(Q_List) :\n",
    "    IndexList = []\n",
    "    for qid in Q_List:\n",
    "        indexes = Get_Index_QuestionID( str(qid) )\n",
    "        if len(indexes) == 0:\n",
    "            indexes = Get_Index_QuestionID( qid )\n",
    "        # print qid, indexes\n",
    "        for index in indexes:\n",
    "            IndexList.append(index)\n",
    "            # print len( IndexList )\n",
    "    return IndexList"
   ]
  },
  {
   "cell_type": "code",
   "execution_count": 27,
   "metadata": {
    "collapsed": true
   },
   "outputs": [],
   "source": [
    "# From Similar Qid List Found Similar Index \n",
    "Similar_Index_List = {}\n",
    "for i in range( len(Similar_Qid_List) ) :\n",
    "    key = 'Q' + str(i) + '_Similar_List'\n",
    "    # value is a list of similar qid\n",
    "    Qid_List = Similar_Qid_List[key]\n",
    "    Index_List = Get_IndexList(Qid_List)\n",
    "    Similar_Index_List[key]  = Index_List    "
   ]
  },
  {
   "cell_type": "code",
   "execution_count": 28,
   "metadata": {
    "collapsed": false
   },
   "outputs": [],
   "source": [
    "# len( Similar_Index_List )"
   ]
  },
  {
   "cell_type": "code",
   "execution_count": 29,
   "metadata": {
    "collapsed": false
   },
   "outputs": [],
   "source": [
    "# import json\n",
    "# import pickle\n",
    "\n",
    "def writeDict(dict, filename, sep):\n",
    "    with open(filename, \"w\") as f:\n",
    "#        for key in dict.keys():            \n",
    "#            f.write(str(key) + \":\" + str(dict[key]) + \"\\n\")\n",
    "        for key, value in sorted( dict.items() ):\n",
    "            f.write( str(key) + sep + ','.join(str(x) for x in value) + '\\n' )"
   ]
  },
  {
   "cell_type": "code",
   "execution_count": 30,
   "metadata": {
    "collapsed": true
   },
   "outputs": [],
   "source": [
    "def readDict(filename, sep):\n",
    "    with open(filename, \"r\") as f:\n",
    "        dict = {}\n",
    "        for line in f:\n",
    "            values = line.split(sep)\n",
    "            key = values[0]\n",
    "            value = values[1].split(',')\n",
    "            #dict[values[0]] = {int(x) for x in values[1:len(values)]}\n",
    "            dict[key] = value\n",
    "        return(dict)"
   ]
  },
  {
   "cell_type": "code",
   "execution_count": 31,
   "metadata": {
    "collapsed": true
   },
   "outputs": [],
   "source": [
    "writeDict(Similar_Qid_List, './Similar_Qid_List.txt', ':')\n",
    "writeDict(Similar_Index_List, './Similar_Index_List.txt', ':')"
   ]
  },
  {
   "cell_type": "code",
   "execution_count": 32,
   "metadata": {
    "collapsed": false
   },
   "outputs": [],
   "source": [
    "test = readDict('./Similar_Qid_List.txt', ':')"
   ]
  },
  {
   "cell_type": "code",
   "execution_count": 33,
   "metadata": {
    "collapsed": false
   },
   "outputs": [
    {
     "data": {
      "text/plain": [
       "True"
      ]
     },
     "execution_count": 33,
     "metadata": {},
     "output_type": "execute_result"
    }
   ],
   "source": [
    "test == Similar_Qid_List"
   ]
  }
 ],
 "metadata": {
  "kernelspec": {
   "display_name": "Python 2",
   "language": "python",
   "name": "python2"
  },
  "language_info": {
   "codemirror_mode": {
    "name": "ipython",
    "version": 2
   },
   "file_extension": ".py",
   "mimetype": "text/x-python",
   "name": "python",
   "nbconvert_exporter": "python",
   "pygments_lexer": "ipython2",
   "version": "2.7.11"
  }
 },
 "nbformat": 4,
 "nbformat_minor": 0
}
