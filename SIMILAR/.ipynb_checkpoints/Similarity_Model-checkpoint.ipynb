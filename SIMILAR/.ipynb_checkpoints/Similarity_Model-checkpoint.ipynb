{
 "cells": [
  {
   "cell_type": "code",
   "execution_count": 1,
   "metadata": {
    "collapsed": false
   },
   "outputs": [
    {
     "name": "stderr",
     "output_type": "stream",
     "text": [
      "A newer version of GraphLab Create (v1.8.5) is available! Your current version is v1.7.1.\n",
      "\n",
      "You can use pip to upgrade the graphlab-create package. For more information see https://dato.com/products/create/upgrade.\n"
     ]
    }
   ],
   "source": [
    "import graphlab\n",
    "import numpy as np\n",
    "import pandas as pd\n",
    "import matplotlib "
   ]
  },
  {
   "cell_type": "code",
   "execution_count": 2,
   "metadata": {
    "collapsed": false
   },
   "outputs": [
    {
     "name": "stderr",
     "output_type": "stream",
     "text": [
      "/home/zpgao/anaconda2/lib/python2.7/site-packages/IPython/core/interactiveshell.py:2902: DtypeWarning: Columns (1,2,3,4,13) have mixed types. Specify dtype option on import or set low_memory=False.\n",
      "  interactivity=interactivity, compiler=compiler, result=result)\n"
     ]
    }
   ],
   "source": [
    "# Drop the duplicates \n",
    "Total_Test = pd.read_csv(\"../Total_Test.csv\")\n",
    "Total_Test = Total_Test.drop_duplicates()\n",
    "Total_Test['question_id'] = Total_Test['question_id'].astype(str)\n",
    "Total_Test.to_csv('../Total_Test.csv', encoding='utf-8', index = False)"
   ]
  },
  {
   "cell_type": "code",
   "execution_count": 3,
   "metadata": {
    "collapsed": false
   },
   "outputs": [],
   "source": [
    "# Total_Test"
   ]
  },
  {
   "cell_type": "code",
   "execution_count": 4,
   "metadata": {
    "collapsed": false
   },
   "outputs": [],
   "source": [
    "# Total_Test = pd.read_csv(\"../Total_Test.csv\")\n",
    "question_content = Total_Test[['question_id','question_content','question_tags']]\n",
    "question_content = question_content.drop_duplicates()\n",
    "question_content.to_csv('../Question_Content.csv', encoding='utf-8', index = False)"
   ]
  },
  {
   "cell_type": "code",
   "execution_count": 5,
   "metadata": {
    "collapsed": false
   },
   "outputs": [],
   "source": [
    "# question_content"
   ]
  },
  {
   "cell_type": "code",
   "execution_count": 6,
   "metadata": {
    "collapsed": false
   },
   "outputs": [
    {
     "name": "stderr",
     "output_type": "stream",
     "text": [
      "[INFO] \u001b[1;32m1460351488 : INFO:     (initialize_globals_from_environment:282): Setting configuration variable GRAPHLAB_FILEIO_ALTERNATIVE_SSL_CERT_FILE to /home/zpgao/anaconda2/lib/python2.7/site-packages/certifi/cacert.pem\n",
      "\u001b[0m\u001b[1;32m1460351488 : INFO:     (initialize_globals_from_environment:282): Setting configuration variable GRAPHLAB_FILEIO_ALTERNATIVE_SSL_CERT_DIR to \n",
      "\u001b[0mThis non-commercial license of GraphLab Create is assigned to beyond_acm@163.com and will expire on January 04, 2017. For commercial licensing options, visit https://dato.com/buy/.\n",
      "\n",
      "[INFO] Start server at: ipc:///tmp/graphlab_server-3807 - Server binary: /home/zpgao/anaconda2/lib/python2.7/site-packages/graphlab/unity_server - Server log: /tmp/graphlab_server_1460351488.log\n",
      "[INFO] GraphLab Server Version: 1.7.1\n"
     ]
    },
    {
     "name": "stdout",
     "output_type": "stream",
     "text": [
      "PROGRESS: Finished parsing file /home/zpgao/ML/Best_Answer/SVM_RANK/Question_Content.csv\n",
      "PROGRESS: Parsing completed. Parsed 100 lines in 0.122155 secs.\n",
      "------------------------------------------------------\n",
      "Inferred types from first line of file as \n",
      "column_type_hints=[int,str,str]\n",
      "If parsing fails due to incorrect types, you can correct\n",
      "the inferred type list above and pass it to read_csv in\n",
      "the column_type_hints argument\n",
      "------------------------------------------------------\n",
      "PROGRESS: Unable to parse line \"question_id,question_content,question_tags\"\n",
      "PROGRESS: 1 lines failed to parse correctly\n",
      "PROGRESS: Finished parsing file /home/zpgao/ML/Best_Answer/SVM_RANK/Question_Content.csv\n",
      "PROGRESS: Parsing completed. Parsed 30909 lines in 0.071003 secs.\n"
     ]
    }
   ],
   "source": [
    "question_content = graphlab.SFrame.read_csv('../Question_Content.csv')"
   ]
  },
  {
   "cell_type": "code",
   "execution_count": 7,
   "metadata": {
    "collapsed": false
   },
   "outputs": [],
   "source": [
    "# question_content"
   ]
  },
  {
   "cell_type": "code",
   "execution_count": 8,
   "metadata": {
    "collapsed": false
   },
   "outputs": [],
   "source": [
    "# best_answer[0]\n",
    "question_content['text'] = question_content['question_tags'] + question_content['question_content']\n",
    "question_content['word_count'] = graphlab.text_analytics.count_words(question_content['text'])"
   ]
  },
  {
   "cell_type": "code",
   "execution_count": 9,
   "metadata": {
    "collapsed": false
   },
   "outputs": [],
   "source": [
    "tfidf = graphlab.text_analytics.tf_idf(question_content['word_count'])"
   ]
  },
  {
   "cell_type": "code",
   "execution_count": 10,
   "metadata": {
    "collapsed": false
   },
   "outputs": [],
   "source": [
    "# tfidf"
   ]
  },
  {
   "cell_type": "code",
   "execution_count": 11,
   "metadata": {
    "collapsed": true
   },
   "outputs": [],
   "source": [
    "question_content['tfidf'] = tfidf"
   ]
  },
  {
   "cell_type": "code",
   "execution_count": 12,
   "metadata": {
    "collapsed": false
   },
   "outputs": [
    {
     "name": "stdout",
     "output_type": "stream",
     "text": [
      "1025005 1184609 1163976\n"
     ]
    }
   ],
   "source": [
    "Qid99 = question_content[99]['question_id']\n",
    "Qid999 = question_content[999]['question_id']\n",
    "Qid9999 = question_content[9999]['question_id']\n",
    "print Qid99, Qid999, Qid9999"
   ]
  },
  {
   "cell_type": "code",
   "execution_count": 13,
   "metadata": {
    "collapsed": false
   },
   "outputs": [
    {
     "name": "stdout",
     "output_type": "stream",
     "text": [
      "PROGRESS: Starting brute force nearest neighbors model training.\n"
     ]
    }
   ],
   "source": [
    "knn_model = graphlab.nearest_neighbors.create(question_content, features=['tfidf'], label='question_id')"
   ]
  },
  {
   "cell_type": "code",
   "execution_count": 14,
   "metadata": {
    "collapsed": false
   },
   "outputs": [],
   "source": [
    "# a0 = best_answer[ best_answer['question_id'] == 1015574 ]\n",
    "Q0 = question_content[ question_content['question_id'] == Qid99  ]\n",
    "Q1 = question_content[ question_content['question_id'] == Qid999 ]\n",
    "Q2 = question_content[ question_content['question_id'] == Qid9999]"
   ]
  },
  {
   "cell_type": "code",
   "execution_count": 15,
   "metadata": {
    "collapsed": false
   },
   "outputs": [],
   "source": [
    "# print Q0"
   ]
  },
  {
   "cell_type": "code",
   "execution_count": 41,
   "metadata": {
    "collapsed": false
   },
   "outputs": [
    {
     "name": "stdout",
     "output_type": "stream",
     "text": [
      "PROGRESS: Starting pairwise querying.\n",
      "PROGRESS: +--------------+---------+-------------+--------------+\n",
      "PROGRESS: | Query points | # Pairs | % Complete. | Elapsed Time |\n",
      "PROGRESS: +--------------+---------+-------------+--------------+\n",
      "PROGRESS: | 0            | 1       | 0.0032353   | 4.813ms      |\n",
      "PROGRESS: | Done         |         | 100         | 80.675ms     |\n",
      "PROGRESS: +--------------+---------+-------------+--------------+\n",
      "PROGRESS: Starting pairwise querying.\n",
      "PROGRESS: +--------------+---------+-------------+--------------+\n",
      "PROGRESS: | Query points | # Pairs | % Complete. | Elapsed Time |\n",
      "PROGRESS: +--------------+---------+-------------+--------------+\n",
      "PROGRESS: | 0            | 1       | 0.0032353   | 6.678ms      |\n",
      "PROGRESS: | Done         |         | 100         | 72.042ms     |\n",
      "PROGRESS: +--------------+---------+-------------+--------------+\n",
      "PROGRESS: Starting pairwise querying.\n",
      "PROGRESS: +--------------+---------+-------------+--------------+\n",
      "PROGRESS: | Query points | # Pairs | % Complete. | Elapsed Time |\n",
      "PROGRESS: +--------------+---------+-------------+--------------+\n",
      "PROGRESS: | 0            | 1       | 0.0032353   | 8.054ms      |\n",
      "PROGRESS: | Done         |         | 100         | 38.856ms     |\n",
      "PROGRESS: +--------------+---------+-------------+--------------+\n"
     ]
    }
   ],
   "source": [
    "Q0_model = knn_model.query(Q0, k=30)\n",
    "Q1_model = knn_model.query(Q1, k=30)\n",
    "Q2_model = knn_model.query(Q2, k=30)"
   ]
  },
  {
   "cell_type": "code",
   "execution_count": 42,
   "metadata": {
    "collapsed": false
   },
   "outputs": [],
   "source": [
    "Q0_Similar_List = Q0_model['reference_label']"
   ]
  },
  {
   "cell_type": "code",
   "execution_count": 43,
   "metadata": {
    "collapsed": false
   },
   "outputs": [
    {
     "data": {
      "text/plain": [
       "dtype: int\n",
       "Rows: 30\n",
       "[1025005, 6646280, 356498, 1011149, 676136, 563166, 1170863, 764736, 6713486, 1450862, 1246057, 489524, 813961, 6759143, 563931, 362844, 1452359, 768780, 6658452, 1356635, 1544292, 496097, 6706891, 68052, 1378606, 169599, 1421075, 6756589, 1464056, 486752]"
      ]
     },
     "execution_count": 43,
     "metadata": {},
     "output_type": "execute_result"
    }
   ],
   "source": [
    "Q0_Similar_List"
   ]
  },
  {
   "cell_type": "code",
   "execution_count": 44,
   "metadata": {
    "collapsed": false
   },
   "outputs": [
    {
     "name": "stdout",
     "output_type": "stream",
     "text": [
      "['rt ear face neck full puffy  asymmetrical  more sx almost 2 yrs  diff swallowing  now choking feeling lump rt side of neck  but not in throat', ... ]\n",
      "+-------------+-------------------------------+-------------------------------+\n",
      "| question_id |        question_content       |         question_tags         |\n",
      "+-------------+-------------------------------+-------------------------------+\n",
      "|    563166   | sudden pain in head and fe... | dizziness  headache  nause... |\n",
      "+-------------+-------------------------------+-------------------------------+\n",
      "+-------------------------------+-------------------------------+\n",
      "|              text             |           word_count          |\n",
      "+-------------------------------+-------------------------------+\n",
      "| dizziness  headache  nause... | {'and': 3, 'almost': 1, 'h... |\n",
      "+-------------------------------+-------------------------------+\n",
      "+-------------------------------+\n",
      "|             tfidf             |\n",
      "+-------------------------------+\n",
      "| {'and': 1.7860995546758294... |\n",
      "+-------------------------------+\n",
      "[? rows x 6 columns]\n",
      "Note: Only the head of the SFrame is printed. This SFrame is lazily evaluated.\n",
      "You can use len(sf) to force materialization.\n"
     ]
    }
   ],
   "source": [
    "print question_content[ question_content['question_id'] == 1025005 ]['question_content']\n",
    "# print question_content[ question_content['question_id'] == 6713486 ]['question_content']\n",
    "print question_content[ question_content['question_id'] ==  563166 ]"
   ]
  },
  {
   "cell_type": "code",
   "execution_count": 45,
   "metadata": {
    "collapsed": false
   },
   "outputs": [],
   "source": [
    "# Q1_model.print_rows(20)\n",
    "# Q2_model.print_rows(20)"
   ]
  },
  {
   "cell_type": "code",
   "execution_count": 46,
   "metadata": {
    "collapsed": true
   },
   "outputs": [],
   "source": [
    "# Q0_Similar_List = Q0_model['reference_label']"
   ]
  },
  {
   "cell_type": "code",
   "execution_count": 47,
   "metadata": {
    "collapsed": true
   },
   "outputs": [],
   "source": [
    "Q1_Similar_List = Q1_model['reference_label']"
   ]
  },
  {
   "cell_type": "code",
   "execution_count": 48,
   "metadata": {
    "collapsed": false
   },
   "outputs": [],
   "source": [
    "Q2_Similar_List = Q2_model['reference_label']"
   ]
  },
  {
   "cell_type": "code",
   "execution_count": 49,
   "metadata": {
    "collapsed": false
   },
   "outputs": [
    {
     "name": "stdout",
     "output_type": "stream",
     "text": [
      "[1025005, 6646280, 356498, 1011149, 676136, 563166, 1170863, 764736, 6713486, 1450862, 1246057, 489524, 813961, 6759143, 563931, 362844, 1452359, 768780, 6658452, 1356635, 1544292, 496097, 6706891, 68052, 1378606, 169599, 1421075, 6756589, 1464056, 486752]\n"
     ]
    }
   ],
   "source": [
    "# len( Q0_Similar_List )\n",
    "print Q0_Similar_List"
   ]
  },
  {
   "cell_type": "code",
   "execution_count": 50,
   "metadata": {
    "collapsed": false
   },
   "outputs": [
    {
     "name": "stdout",
     "output_type": "stream",
     "text": [
      "[1184609, 1229655, 1510461, 1606095, 1414194, 1354179, 1575349, 944467, 1434648, 676013, 961331, 6612509, 1272697, 1492324, 521359, 1179128, 1487179, 6649311, 1289121, 1038600, 354766, 674869, 644557, 6633090, 1070497, 583333, 772460, 1153229, 1424955, 1545476]\n"
     ]
    }
   ],
   "source": [
    "# len(Q1_Similar_List)\n",
    "print Q1_Similar_List"
   ]
  },
  {
   "cell_type": "code",
   "execution_count": 51,
   "metadata": {
    "collapsed": false
   },
   "outputs": [
    {
     "name": "stdout",
     "output_type": "stream",
     "text": [
      "[1163976, 1087689, 1522753, 1174526, 1481746, 1068081, 6700922, 842804, 1290109, 1156334, 6698482, 1440394, 60032, 1453499, 1059922, 1190420, 1455815, 1522681, 1364135, 1033400, 6680356, 1094847, 1303149, 358019, 6711404, 6644278, 559236, 1405034, 786042, 1286473]\n"
     ]
    }
   ],
   "source": [
    "# len(Q2_Similar_List)\n",
    "print Q2_Similar_List"
   ]
  },
  {
   "cell_type": "code",
   "execution_count": 52,
   "metadata": {
    "collapsed": true
   },
   "outputs": [],
   "source": [
    "def Get_Index_QuestionID(qid) :\n",
    "    return Total_Test[ Total_Test['question_id'] == qid].index.values"
   ]
  },
  {
   "cell_type": "code",
   "execution_count": 69,
   "metadata": {
    "collapsed": true
   },
   "outputs": [],
   "source": [
    "def Get_IndexList(Q_List) :\n",
    "    IndexList = []\n",
    "    for qid in Q_List:\n",
    "        indexes = Get_Index_QuestionID( str(qid) )\n",
    "        for index in indexes:\n",
    "            IndexList.append(index)\n",
    "    return IndexList"
   ]
  },
  {
   "cell_type": "code",
   "execution_count": 74,
   "metadata": {
    "collapsed": true
   },
   "outputs": [],
   "source": [
    "Q0_Index_List = Get_IndexList(Q0_Similar_List)\n",
    "Q1_Index_List = Get_IndexList(Q1_Similar_List)\n",
    "Q2_Index_List = Get_IndexList(Q2_Similar_List)"
   ]
  },
  {
   "cell_type": "code",
   "execution_count": 73,
   "metadata": {
    "collapsed": false
   },
   "outputs": [
    {
     "name": "stdout",
     "output_type": "stream",
     "text": [
      "[122, 8160, 16866, 16867, 31174, 9379, 36227, 1158, 12683, 10270, 28972, 33673, 1821, 26995, 20952, 37922, 7129, 7130, 26551, 14706, 20737, 20738, 28522, 2604, 4509, 4510, 17417, 19360, 20263, 20264, 24116, 34702, 3256, 9311, 24754, 24755, 35815]\n",
      "37\n"
     ]
    }
   ],
   "source": [
    "print Q0_Index_List\n",
    "print len(Q0_Index_List)"
   ]
  },
  {
   "cell_type": "code",
   "execution_count": 75,
   "metadata": {
    "collapsed": false
   },
   "outputs": [
    {
     "name": "stdout",
     "output_type": "stream",
     "text": [
      "[1249, 23254, 25090, 34665, 14389, 2586, 25511, 30912, 33550, 19872, 30997, 7837, 32554, 15087, 17608, 1194, 1195, 4007, 8190, 32637, 31301, 31302, 5913, 9217, 27989, 28261, 31476, 7268, 20768, 22747, 14446, 25335]\n",
      "32\n"
     ]
    }
   ],
   "source": [
    "print Q1_Index_List\n",
    "print len(Q1_Index_List)"
   ]
  },
  {
   "cell_type": "code",
   "execution_count": 76,
   "metadata": {
    "collapsed": false
   },
   "outputs": [
    {
     "name": "stdout",
     "output_type": "stream",
     "text": [
      "[12635, 12158, 34174, 12713, 14979, 22321, 22322, 37451, 21118, 2171, 2172, 12562, 12563, 28854, 28855, 3479, 3480, 27698, 14714, 11973, 22992, 24691, 34172, 2668, 11786, 19129, 22482, 22483, 23677, 5942, 37545, 37546, 28383, 7095, 24328, 24329, 33307, 20802, 20803, 13462]\n",
      "40\n"
     ]
    }
   ],
   "source": [
    "print Q2_Index_List\n",
    "print len(Q2_Index_List)"
   ]
  },
  {
   "cell_type": "code",
   "execution_count": null,
   "metadata": {
    "collapsed": true
   },
   "outputs": [],
   "source": []
  }
 ],
 "metadata": {
  "kernelspec": {
   "display_name": "Python 2",
   "language": "python",
   "name": "python2"
  },
  "language_info": {
   "codemirror_mode": {
    "name": "ipython",
    "version": 2
   },
   "file_extension": ".py",
   "mimetype": "text/x-python",
   "name": "python",
   "nbconvert_exporter": "python",
   "pygments_lexer": "ipython2",
   "version": "2.7.11"
  }
 },
 "nbformat": 4,
 "nbformat_minor": 0
}
